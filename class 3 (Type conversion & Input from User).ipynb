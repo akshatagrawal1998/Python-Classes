{
 "cells": [
  {
   "cell_type": "markdown",
   "id": "69dd4d86",
   "metadata": {},
   "source": [
    "## Class 3 Notes:"
   ]
  },
  {
   "cell_type": "markdown",
   "id": "73796c88",
   "metadata": {},
   "source": [
    "### Type conversion and taking Input from user - dynamic programs"
   ]
  },
  {
   "cell_type": "code",
   "execution_count": 5,
   "id": "4c35ac7a",
   "metadata": {},
   "outputs": [
    {
     "name": "stdout",
     "output_type": "stream",
     "text": [
      "5\n",
      "<class 'int'>\n",
      "5\n",
      "<class 'str'>\n"
     ]
    }
   ],
   "source": [
    "x = 5\n",
    "print(x)\n",
    "print(type(x))\n",
    "\n",
    "y = str(x)\n",
    "print(y)\n",
    "print(type(y))"
   ]
  },
  {
   "cell_type": "code",
   "execution_count": 4,
   "id": "53370445",
   "metadata": {},
   "outputs": [
    {
     "ename": "ValueError",
     "evalue": "invalid literal for int() with base 10: 'Python'",
     "output_type": "error",
     "traceback": [
      "\u001b[1;31m---------------------------------------------------------------------------\u001b[0m",
      "\u001b[1;31mValueError\u001b[0m                                Traceback (most recent call last)",
      "Cell \u001b[1;32mIn[4], line 2\u001b[0m\n\u001b[0;32m      1\u001b[0m x \u001b[38;5;241m=\u001b[39m \u001b[38;5;124m'\u001b[39m\u001b[38;5;124mPython\u001b[39m\u001b[38;5;124m'\u001b[39m\n\u001b[1;32m----> 2\u001b[0m \u001b[38;5;28mint\u001b[39m(x)\n",
      "\u001b[1;31mValueError\u001b[0m: invalid literal for int() with base 10: 'Python'"
     ]
    }
   ],
   "source": [
    "x = 'Python'\n",
    "int(x)"
   ]
  },
  {
   "cell_type": "code",
   "execution_count": null,
   "id": "d669d225",
   "metadata": {},
   "outputs": [],
   "source": []
  },
  {
   "cell_type": "code",
   "execution_count": 15,
   "id": "d54b4943",
   "metadata": {},
   "outputs": [
    {
     "name": "stdout",
     "output_type": "stream",
     "text": [
      "Enter first number \n",
      "5.7\n",
      "Enter second number\n",
      "4\n",
      "<class 'float'>\n",
      "Sum of 5.7 and 4 is 9.7\n"
     ]
    }
   ],
   "source": [
    "x = float(input(\"Enter first number \\n\"))\n",
    "y = int(input(\"Enter second number\\n\"))\n",
    "\n",
    "print(type(x))\n",
    "\n",
    "sum = x+y\n",
    "print(f\"Sum of {x} and {y} is {sum}\")"
   ]
  },
  {
   "cell_type": "code",
   "execution_count": null,
   "id": "92f0e85b",
   "metadata": {},
   "outputs": [],
   "source": []
  },
  {
   "cell_type": "code",
   "execution_count": null,
   "id": "78560167",
   "metadata": {},
   "outputs": [],
   "source": []
  },
  {
   "cell_type": "code",
   "execution_count": 9,
   "id": "1b853ef2",
   "metadata": {},
   "outputs": [
    {
     "name": "stdout",
     "output_type": "stream",
     "text": [
      "Enter your nameDotun\n",
      "Welcome Dotun, I hope you're doing well\n"
     ]
    }
   ],
   "source": [
    "name = input(\"Enter your name\")\n",
    "\n",
    "print(f\"Welcome {name}, I hope you're doing well\")"
   ]
  },
  {
   "cell_type": "code",
   "execution_count": null,
   "id": "66df0acd",
   "metadata": {},
   "outputs": [],
   "source": []
  },
  {
   "cell_type": "code",
   "execution_count": 1,
   "id": "32335343",
   "metadata": {},
   "outputs": [
    {
     "name": "stdout",
     "output_type": "stream",
     "text": [
      "11\n"
     ]
    }
   ],
   "source": [
    "print(5+6)"
   ]
  },
  {
   "cell_type": "code",
   "execution_count": 5,
   "id": "fb7d46bc",
   "metadata": {},
   "outputs": [
    {
     "name": "stdout",
     "output_type": "stream",
     "text": [
      "Enter your name \n",
      "Akshat\n",
      "Akshat\n"
     ]
    }
   ],
   "source": [
    "name = input(\"Enter your name \\n\")\n",
    "print(name)"
   ]
  },
  {
   "cell_type": "code",
   "execution_count": 1,
   "id": "939b1e90",
   "metadata": {},
   "outputs": [
    {
     "name": "stdout",
     "output_type": "stream",
     "text": [
      "Enter your nameAkshat\n",
      "Welcome to the platform Akshat \n",
      "How are you?\n"
     ]
    }
   ],
   "source": [
    "name = input(\"Enter your name\")\n",
    "print(\"Welcome to the platform\", name, \"\\nHow are you?\")"
   ]
  },
  {
   "cell_type": "code",
   "execution_count": 15,
   "id": "604bd76f",
   "metadata": {},
   "outputs": [
    {
     "data": {
      "text/plain": [
       "15.0"
      ]
     },
     "execution_count": 15,
     "metadata": {},
     "output_type": "execute_result"
    }
   ],
   "source": [
    "100*0.15"
   ]
  },
  {
   "cell_type": "code",
   "execution_count": 19,
   "id": "2f408c21",
   "metadata": {},
   "outputs": [
    {
     "name": "stdout",
     "output_type": "stream",
     "text": [
      "Enter number 1 11\n",
      "Enter number 2 12\n",
      "1112\n",
      "     <class 'str'>\n"
     ]
    }
   ],
   "source": [
    "#  Python by default takes string input\n",
    "\n",
    "num1 = input(\"Enter number 1 \")\n",
    "num2 = input(\"Enter number 2 \")\n",
    "\n",
    "print(num1+num2)\n",
    "print(\"    \",type(num1))"
   ]
  },
  {
   "cell_type": "code",
   "execution_count": 9,
   "id": "52cbbafa",
   "metadata": {},
   "outputs": [
    {
     "data": {
      "text/plain": [
       "2"
      ]
     },
     "execution_count": 9,
     "metadata": {},
     "output_type": "execute_result"
    }
   ],
   "source": [
    "int(2.3)"
   ]
  },
  {
   "cell_type": "code",
   "execution_count": 12,
   "id": "1cc9967e",
   "metadata": {},
   "outputs": [
    {
     "name": "stdout",
     "output_type": "stream",
     "text": [
      "Enter first number 11\n",
      "Enter number 2 112\n",
      "123.0\n",
      "<class 'float'>\n"
     ]
    }
   ],
   "source": [
    "num1 = float(input(\"Enter first number \"))\n",
    "num2 = int(input(\"Enter number 2 \"))\n",
    "\n",
    "\n",
    "print(num1+num2)\n",
    "print(type(num1))"
   ]
  },
  {
   "cell_type": "code",
   "execution_count": 14,
   "id": "995cf700",
   "metadata": {},
   "outputs": [
    {
     "name": "stdout",
     "output_type": "stream",
     "text": [
      "Enter your first namechandan\n",
      "Enter your last namegupta\n",
      "Full Name is chandan   gupta\n"
     ]
    }
   ],
   "source": [
    "first_name =  input(\"Enter your first name\")\n",
    "last_name = input(\"Enter your last name\")\n",
    "print(\"Full Name is\", first_name, \" \" ,last_name)"
   ]
  },
  {
   "cell_type": "code",
   "execution_count": null,
   "id": "cf6ce226",
   "metadata": {},
   "outputs": [],
   "source": [
    "# dynamic programming and softwares require user input - e.g youtube\n",
    "first_num = input(\"Enter the first number\")\n",
    "print(first_num)\n",
    "print(type(first_num))\n",
    "second_num = input(\"Enter the second number\")\n",
    "print(second_num)\n",
    "print(type(first_num))"
   ]
  },
  {
   "cell_type": "code",
   "execution_count": null,
   "id": "20b174ee",
   "metadata": {},
   "outputs": [],
   "source": [
    "result = first_num + second_num\n",
    "print(result)"
   ]
  },
  {
   "cell_type": "code",
   "execution_count": null,
   "id": "169452d8",
   "metadata": {},
   "outputs": [],
   "source": [
    "result = int(first_num) + int(second_num)\n",
    "print(result) # due to inputs in string - it will be concatenated"
   ]
  },
  {
   "cell_type": "code",
   "execution_count": null,
   "id": "e5f87a10",
   "metadata": {},
   "outputs": [],
   "source": [
    "# convert from string to integer - typecasting\n",
    "\n",
    "# user input is always in string - we need to typecase if needed as integer\n",
    "# it is always in string as we can convert string into other datatypes but not vice versa\n"
   ]
  },
  {
   "cell_type": "code",
   "execution_count": 1,
   "id": "d0a89264",
   "metadata": {},
   "outputs": [
    {
     "ename": "ValueError",
     "evalue": "invalid literal for int() with base 10: 'Python'",
     "output_type": "error",
     "traceback": [
      "\u001b[1;31m---------------------------------------------------------------------------\u001b[0m",
      "\u001b[1;31mValueError\u001b[0m                                Traceback (most recent call last)",
      "Cell \u001b[1;32mIn[1], line 1\u001b[0m\n\u001b[1;32m----> 1\u001b[0m x \u001b[38;5;241m=\u001b[39m \u001b[38;5;28mint\u001b[39m(\u001b[38;5;124m\"\u001b[39m\u001b[38;5;124mPython\u001b[39m\u001b[38;5;124m\"\u001b[39m)\n\u001b[0;32m      2\u001b[0m x\n",
      "\u001b[1;31mValueError\u001b[0m: invalid literal for int() with base 10: 'Python'"
     ]
    }
   ],
   "source": [
    "x = int(\"Python\")\n",
    "x"
   ]
  },
  {
   "cell_type": "code",
   "execution_count": 1,
   "id": "2e4856f7",
   "metadata": {},
   "outputs": [
    {
     "name": "stdout",
     "output_type": "stream",
     "text": [
      "3\n",
      "<class 'str'>\n"
     ]
    }
   ],
   "source": [
    "x = str(3) \n",
    "print(x)\n",
    "print(type(x))"
   ]
  },
  {
   "cell_type": "code",
   "execution_count": null,
   "id": "3910a92e",
   "metadata": {},
   "outputs": [],
   "source": []
  },
  {
   "cell_type": "code",
   "execution_count": null,
   "id": "d63e4793",
   "metadata": {},
   "outputs": [],
   "source": [
    "# to know the type of a variable\n",
    "# type\n",
    "type(4)\n",
    "type(4.6)\n",
    "type(6+5i)\n",
    "type([1,2,3,4])"
   ]
  },
  {
   "cell_type": "code",
   "execution_count": null,
   "id": "d2f545ca",
   "metadata": {},
   "outputs": [],
   "source": [
    "type(first_num)"
   ]
  },
  {
   "cell_type": "code",
   "execution_count": null,
   "id": "e66e1832",
   "metadata": {},
   "outputs": [],
   "source": [
    "# Kolkata can't be converted into integer - not possible \n",
    "# so type conversion must be possible before doing that"
   ]
  },
  {
   "cell_type": "code",
   "execution_count": null,
   "id": "c8538295",
   "metadata": {},
   "outputs": [],
   "source": [
    "# there are 2 types of conversion-\n",
    "\n",
    "# implicit - 4+5.5 = 9.5 - Python is intelligent enought to automatically convert it as  required -"
   ]
  },
  {
   "cell_type": "code",
   "execution_count": 3,
   "id": "8b1456b6",
   "metadata": {},
   "outputs": [
    {
     "name": "stdout",
     "output_type": "stream",
     "text": [
      "(5+4j)\n",
      "(14+4j)\n"
     ]
    }
   ],
   "source": [
    "# implicit conversion\n",
    "print(5+4j)\n",
    "print(5+4j+9)"
   ]
  },
  {
   "cell_type": "code",
   "execution_count": null,
   "id": "e4ab8413",
   "metadata": {},
   "outputs": [],
   "source": [
    "type('45')"
   ]
  },
  {
   "cell_type": "code",
   "execution_count": 2,
   "id": "7f105c88",
   "metadata": {},
   "outputs": [],
   "source": [
    "# explicit - here we need to tell Python explicitly to convert the type sa shown below"
   ]
  },
  {
   "cell_type": "code",
   "execution_count": 7,
   "id": "592ecee3",
   "metadata": {},
   "outputs": [
    {
     "data": {
      "text/plain": [
       "str"
      ]
     },
     "execution_count": 7,
     "metadata": {},
     "output_type": "execute_result"
    }
   ],
   "source": [
    "type('45')"
   ]
  },
  {
   "cell_type": "code",
   "execution_count": 3,
   "id": "6cb17c9a",
   "metadata": {},
   "outputs": [
    {
     "data": {
      "text/plain": [
       "int"
      ]
     },
     "execution_count": 3,
     "metadata": {},
     "output_type": "execute_result"
    }
   ],
   "source": [
    "# int\n",
    "int('45') # given 45 as string - converting it into int\n",
    "type(int('45'))"
   ]
  },
  {
   "cell_type": "code",
   "execution_count": 4,
   "id": "d58bd655",
   "metadata": {},
   "outputs": [
    {
     "ename": "ValueError",
     "evalue": "invalid literal for int() with base 10: 'Akshat'",
     "output_type": "error",
     "traceback": [
      "\u001b[1;31m---------------------------------------------------------------------------\u001b[0m",
      "\u001b[1;31mValueError\u001b[0m                                Traceback (most recent call last)",
      "Cell \u001b[1;32mIn[4], line 1\u001b[0m\n\u001b[1;32m----> 1\u001b[0m \u001b[38;5;28mint\u001b[39m(\u001b[38;5;124m'\u001b[39m\u001b[38;5;124mAkshat\u001b[39m\u001b[38;5;124m'\u001b[39m)\n",
      "\u001b[1;31mValueError\u001b[0m: invalid literal for int() with base 10: 'Akshat'"
     ]
    }
   ],
   "source": [
    "int('Akshat')"
   ]
  },
  {
   "cell_type": "code",
   "execution_count": null,
   "id": "3b128aa8",
   "metadata": {},
   "outputs": [],
   "source": []
  },
  {
   "cell_type": "code",
   "execution_count": 9,
   "id": "1ef67a4f",
   "metadata": {},
   "outputs": [
    {
     "data": {
      "text/plain": [
       "4.0"
      ]
     },
     "execution_count": 9,
     "metadata": {},
     "output_type": "execute_result"
    }
   ],
   "source": [
    "float(4)"
   ]
  },
  {
   "cell_type": "code",
   "execution_count": null,
   "id": "4df78d4a",
   "metadata": {},
   "outputs": [],
   "source": [
    "str(5)"
   ]
  },
  {
   "cell_type": "code",
   "execution_count": 11,
   "id": "47ceab88",
   "metadata": {},
   "outputs": [
    {
     "name": "stdout",
     "output_type": "stream",
     "text": [
      "True\n",
      "False\n"
     ]
    }
   ],
   "source": [
    "# True = 1 and False = 0 \n",
    "print(bool(1))\n",
    "print(bool(0))"
   ]
  },
  {
   "cell_type": "code",
   "execution_count": 8,
   "id": "952476b1",
   "metadata": {},
   "outputs": [
    {
     "data": {
      "text/plain": [
       "(4+0j)"
      ]
     },
     "execution_count": 8,
     "metadata": {},
     "output_type": "execute_result"
    }
   ],
   "source": [
    "complex(4)"
   ]
  },
  {
   "cell_type": "code",
   "execution_count": null,
   "id": "f618e7b2",
   "metadata": {},
   "outputs": [],
   "source": [
    "list('Hello')"
   ]
  },
  {
   "cell_type": "code",
   "execution_count": null,
   "id": "d1c60a31",
   "metadata": {},
   "outputs": [],
   "source": [
    "int('5')"
   ]
  },
  {
   "cell_type": "code",
   "execution_count": null,
   "id": "6db5bade",
   "metadata": {},
   "outputs": [],
   "source": [
    "int('Kolkata') # not possible - kolkata can't be stored as integer"
   ]
  },
  {
   "cell_type": "code",
   "execution_count": null,
   "id": "123ee02c",
   "metadata": {},
   "outputs": [],
   "source": [
    "a = 4.5\n",
    "int(a)  # converting a to int - but it's a temporary operation\n",
    "\n",
    "print(a) # now if we print a again - it'll be in it's original form - float\n",
    "print(type(a)) # we can confirm the current datatype of a as well\n",
    "\n",
    "# Type conversion is not permanent operation\n",
    "\n",
    "print(a)"
   ]
  },
  {
   "cell_type": "code",
   "execution_count": null,
   "id": "c67a84af",
   "metadata": {},
   "outputs": [],
   "source": []
  },
  {
   "cell_type": "code",
   "execution_count": 10,
   "id": "b3ab87f0",
   "metadata": {},
   "outputs": [
    {
     "name": "stdout",
     "output_type": "stream",
     "text": [
      "Enter your name32562\n",
      "Welcome! 32562\n"
     ]
    }
   ],
   "source": [
    "# by default the suer input is in string datatype\n",
    "\n",
    "user_name = input(\"Enter your name\")\n",
    "print(\"Welcome!\", user_name)"
   ]
  },
  {
   "cell_type": "code",
   "execution_count": null,
   "id": "b43f0b1e",
   "metadata": {},
   "outputs": [],
   "source": []
  },
  {
   "cell_type": "code",
   "execution_count": 13,
   "id": "54aa922a",
   "metadata": {},
   "outputs": [
    {
     "name": "stdout",
     "output_type": "stream",
     "text": [
      "Enter a number 45\n",
      "45\n",
      "<class 'str'>\n",
      "45\n",
      "<class 'int'>\n"
     ]
    }
   ],
   "source": [
    "n = input(\"Enter a number \")\n",
    "print(n)\n",
    "\n",
    "print(type(n))\n",
    "\n",
    "m = int(n)\n",
    "print(m)\n",
    "print(type(m))"
   ]
  },
  {
   "cell_type": "code",
   "execution_count": null,
   "id": "7d819456",
   "metadata": {},
   "outputs": [],
   "source": []
  },
  {
   "cell_type": "code",
   "execution_count": 18,
   "id": "d9af4771",
   "metadata": {},
   "outputs": [
    {
     "name": "stdout",
     "output_type": "stream",
     "text": [
      "Enter the first number to be added\n",
      "45\n",
      "Enter the second number to be added\n",
      "54\n",
      "The addition of 45 and 54 is 99\n",
      "<class 'str'>\n",
      "<class 'str'>\n"
     ]
    }
   ],
   "source": [
    "# to add 2 numbers entered by the user\n",
    "\n",
    "x = input(\"Enter the first number to be added\\n\")\n",
    "\n",
    "y = input(\"Enter the second number to be added\\n\")\n",
    "\n",
    "sum = int(x) + int(y)\n",
    "print(f\"The addition of {x} and {y} is {sum}\")\n",
    "\n",
    "x = int(x)\n",
    "\n",
    "print(type(x))\n",
    "print(type(y))"
   ]
  },
  {
   "cell_type": "code",
   "execution_count": null,
   "id": "02709012",
   "metadata": {},
   "outputs": [],
   "source": []
  },
  {
   "cell_type": "code",
   "execution_count": null,
   "id": "2b6ab6b3",
   "metadata": {},
   "outputs": [],
   "source": []
  },
  {
   "cell_type": "code",
   "execution_count": null,
   "id": "b0cdbfdf",
   "metadata": {},
   "outputs": [],
   "source": [
    "# if we\n",
    "first_num = int(input(\"Enter the first number\"))\n",
    "second_num = int(input(\"Enter the second number\"))"
   ]
  },
  {
   "cell_type": "code",
   "execution_count": null,
   "id": "ff0bb631",
   "metadata": {},
   "outputs": [],
   "source": [
    "result = first_num + second_num\n",
    "print(result)\n",
    "\n",
    "# by default Python takes input as string, whether we give integer, decimal or any other."
   ]
  }
 ],
 "metadata": {
  "kernelspec": {
   "display_name": "Python 3 (ipykernel)",
   "language": "python",
   "name": "python3"
  },
  "language_info": {
   "codemirror_mode": {
    "name": "ipython",
    "version": 3
   },
   "file_extension": ".py",
   "mimetype": "text/x-python",
   "name": "python",
   "nbconvert_exporter": "python",
   "pygments_lexer": "ipython3",
   "version": "3.11.5"
  }
 },
 "nbformat": 4,
 "nbformat_minor": 5
}
