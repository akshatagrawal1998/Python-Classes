{
 "cells": [
  {
   "cell_type": "markdown",
   "id": "21403a5f",
   "metadata": {},
   "source": [
    "## Functions in Python:"
   ]
  },
  {
   "cell_type": "code",
   "execution_count": null,
   "id": "390916fa",
   "metadata": {},
   "outputs": [],
   "source": []
  },
  {
   "cell_type": "code",
   "execution_count": 1,
   "id": "3ae8e06c",
   "metadata": {},
   "outputs": [
    {
     "name": "stdout",
     "output_type": "stream",
     "text": [
      "The multiplication is 24\n",
      "The addition is 8\n",
      "The subtraction is 3\n"
     ]
    }
   ],
   "source": [
    "# calculator app\n",
    "\n",
    "# addtion function\n",
    "def add(x,y):\n",
    "    return x+y\n",
    "\n",
    "def subtract(x,y):\n",
    "    print(\"The subtraction is\",x-y)\n",
    "\n",
    "def multiplication(a,b,c):\n",
    "    return a*b*c\n",
    "\n",
    "n = multiplication(2,3,4)\n",
    "print(\"The multiplication is\", n)\n",
    "\n",
    "m = add(3,5)\n",
    "print(\"The addition is\",m)\n",
    "\n",
    "subtract(5,2)"
   ]
  },
  {
   "cell_type": "code",
   "execution_count": 2,
   "id": "01a7d8ec",
   "metadata": {},
   "outputs": [],
   "source": [
    "def welcome(): # this function does not have any return statement, so it returns None\n",
    "    name = input(\"Enter your name\\n\")\n",
    "    print(f\"Hi {name}, Welcome to the world of Python\\n\")"
   ]
  },
  {
   "cell_type": "code",
   "execution_count": 3,
   "id": "ba4b5f4d",
   "metadata": {},
   "outputs": [
    {
     "name": "stdout",
     "output_type": "stream",
     "text": [
      "Enter your name\n",
      "Akshat\n",
      "Hi Akshat, Welcome to the world of Python\n",
      "\n"
     ]
    }
   ],
   "source": [
    "welcome()"
   ]
  },
  {
   "cell_type": "code",
   "execution_count": 22,
   "id": "c5564af4",
   "metadata": {},
   "outputs": [],
   "source": [
    "# arbitrary arguments in Python - \n",
    "# used when we are not sure of number of arguments to be passed in the function\n",
    "def add1(*x):\n",
    "    sum = 0\n",
    "    for i in x:\n",
    "        sum = sum+i\n",
    "    return sum"
   ]
  },
  {
   "cell_type": "code",
   "execution_count": 25,
   "id": "e4b17cb8",
   "metadata": {},
   "outputs": [
    {
     "data": {
      "text/plain": [
       "6"
      ]
     },
     "execution_count": 25,
     "metadata": {},
     "output_type": "execute_result"
    }
   ],
   "source": [
    "add1(2,4)"
   ]
  },
  {
   "cell_type": "code",
   "execution_count": null,
   "id": "197c75f8",
   "metadata": {},
   "outputs": [],
   "source": []
  },
  {
   "cell_type": "code",
   "execution_count": 7,
   "id": "0f6bf46b",
   "metadata": {},
   "outputs": [
    {
     "name": "stdout",
     "output_type": "stream",
     "text": [
      "Enter first number6\n",
      "Enter second number7\n",
      "Enter third number5\n"
     ]
    },
    {
     "ename": "TypeError",
     "evalue": "addition() takes 0 positional arguments but 2 were given",
     "output_type": "error",
     "traceback": [
      "\u001b[1;31m---------------------------------------------------------------------------\u001b[0m",
      "\u001b[1;31mTypeError\u001b[0m                                 Traceback (most recent call last)",
      "Cell \u001b[1;32mIn[7], line 10\u001b[0m\n\u001b[0;32m      7\u001b[0m m \u001b[38;5;241m=\u001b[39m \u001b[38;5;28mint\u001b[39m(\u001b[38;5;28minput\u001b[39m(\u001b[38;5;124m\"\u001b[39m\u001b[38;5;124mEnter second number\u001b[39m\u001b[38;5;124m\"\u001b[39m))\n\u001b[0;32m      8\u001b[0m o \u001b[38;5;241m=\u001b[39m \u001b[38;5;28mint\u001b[39m(\u001b[38;5;28minput\u001b[39m(\u001b[38;5;124m\"\u001b[39m\u001b[38;5;124mEnter third number\u001b[39m\u001b[38;5;124m\"\u001b[39m))\n\u001b[1;32m---> 10\u001b[0m addition(n,m)\n",
      "\u001b[1;31mTypeError\u001b[0m: addition() takes 0 positional arguments but 2 were given"
     ]
    }
   ],
   "source": [
    "def addition(**x):\n",
    "    sum = x+y-z\n",
    "    print(\"The sum of\", x, \"and\", y, \"is \", sum)\n",
    "\n",
    "\n",
    "n = int(input(\"Enter first number\"))\n",
    "m = int(input(\"Enter second number\"))\n",
    "o = int(input(\"Enter third number\"))\n",
    "\n",
    "addition(n,m)\n"
   ]
  },
  {
   "cell_type": "code",
   "execution_count": 4,
   "id": "181b6f18",
   "metadata": {},
   "outputs": [
    {
     "name": "stdout",
     "output_type": "stream",
     "text": [
      "wjeghdwquhkd ygfewf\n"
     ]
    }
   ],
   "source": [
    "print(\"wjeghdwquhkd\", \"ygfewf\")"
   ]
  },
  {
   "cell_type": "code",
   "execution_count": null,
   "id": "97bc8a20",
   "metadata": {},
   "outputs": [],
   "source": []
  },
  {
   "cell_type": "code",
   "execution_count": null,
   "id": "4184fc22",
   "metadata": {},
   "outputs": [],
   "source": [
    "print()"
   ]
  },
  {
   "cell_type": "code",
   "execution_count": 5,
   "id": "ffeafb1a",
   "metadata": {},
   "outputs": [
    {
     "data": {
      "text/plain": [
       "'Not a valid integer'"
      ]
     },
     "execution_count": 5,
     "metadata": {},
     "output_type": "execute_result"
    }
   ],
   "source": [
    "# Functions in Python - slides\n",
    "\n",
    "# structure of a function with example\n",
    "\n",
    "def is_even(number):\n",
    "    \"\"\" This func tells whether given number is even or odd\n",
    "    INPUT - any valid integer\n",
    "    Output: even/odd\n",
    "    CREATED BY: ADam\n",
    "    Time: 5:20 PM IST\n",
    "    This all is optional\n",
    "    \"\"\"\n",
    "    if(type(number) == int):\n",
    "        if number%2 == 0:\n",
    "            return \"Even\"\n",
    "        else:\n",
    "            return \"Odd\"\n",
    "    else:\n",
    "        return \"Not a valid integer\"\n",
    "is_even('Akshat')"
   ]
  },
  {
   "cell_type": "code",
   "execution_count": 4,
   "id": "30a8d141",
   "metadata": {},
   "outputs": [
    {
     "name": "stdout",
     "output_type": "stream",
     "text": [
      "1   Odd\n",
      "2   Even\n",
      "3   Odd\n",
      "4   Even\n",
      "5   Odd\n",
      "6   Even\n",
      "7   Odd\n",
      "8   Even\n",
      "9   Odd\n",
      "10   Even\n"
     ]
    }
   ],
   "source": [
    "def is_odd(number):\n",
    "    \"\"\" This func tells whether given number is even or odd\n",
    "    INPUT - any valid integer\n",
    "    Output: even/odd\n",
    "    CREATED BY: ADam\n",
    "    Time: 5:20 PM IST\n",
    "    This all is optional\n",
    "    \"\"\"\n",
    "    if(type(number) == int):\n",
    "        if number%2!=0:\n",
    "            return \"Odd\"\n",
    "        else:\n",
    "            return \"Even\"\n",
    "    else:\n",
    "        return \"Not a valid integer\"\n",
    "\n",
    "\n",
    "\n",
    "for i in range(1,11):\n",
    "    print(i, \" \", is_even(i))\n"
   ]
  },
  {
   "cell_type": "markdown",
   "id": "9a6fdad6",
   "metadata": {},
   "source": [
    "### Imp: The function which doesnot have return statement, returns None"
   ]
  },
  {
   "cell_type": "code",
   "execution_count": 5,
   "id": "0af709e2",
   "metadata": {},
   "outputs": [
    {
     "name": "stdout",
     "output_type": "stream",
     "text": [
      " This func tells whether given number is even or odd\n",
      "    INPUT - any valid integer\n",
      "    Output: even/odd\n",
      "    CREATED BY: ADam\n",
      "    Time: 5:20 PM IST\n",
      "    This all is optional\n",
      "    \n",
      "Prints the values to a stream, or to sys.stdout by default.\n",
      "\n",
      "  sep\n",
      "    string inserted between values, default a space.\n",
      "  end\n",
      "    string appended after the last value, default a newline.\n",
      "  file\n",
      "    a file-like object (stream); defaults to the current sys.stdout.\n",
      "  flush\n",
      "    whether to forcibly flush the stream.\n",
      "type(object) -> the object's type\n",
      "type(name, bases, dict, **kwds) -> a new type\n"
     ]
    }
   ],
   "source": [
    "# to get its documentation\n",
    "print(is_even.__doc__)\n",
    "print(print.__doc__)\n",
    "print(type.__doc__)"
   ]
  },
  {
   "cell_type": "code",
   "execution_count": null,
   "id": "77ccde9b",
   "metadata": {},
   "outputs": [],
   "source": []
  },
  {
   "cell_type": "code",
   "execution_count": null,
   "id": "0d0231f0",
   "metadata": {},
   "outputs": [],
   "source": []
  },
  {
   "cell_type": "code",
   "execution_count": 12,
   "id": "de87b532",
   "metadata": {},
   "outputs": [
    {
     "name": "stdout",
     "output_type": "stream",
     "text": [
      "akshat Python\n"
     ]
    }
   ],
   "source": [
    "print('akshat', 'Python')"
   ]
  },
  {
   "cell_type": "code",
   "execution_count": 15,
   "id": "f4ed0fbc",
   "metadata": {},
   "outputs": [
    {
     "data": {
      "text/plain": [
       "8"
      ]
     },
     "execution_count": 15,
     "metadata": {},
     "output_type": "execute_result"
    }
   ],
   "source": [
    "def add(*a):\n",
    "    sum = 0\n",
    "    for i in a:\n",
    "        sum = sum + i\n",
    "    return sum\n",
    "\n",
    "add(2,3,3)\n",
    "\n"
   ]
  },
  {
   "cell_type": "code",
   "execution_count": null,
   "id": "585ab3de",
   "metadata": {},
   "outputs": [],
   "source": []
  },
  {
   "cell_type": "code",
   "execution_count": null,
   "id": "ff3e451e",
   "metadata": {},
   "outputs": [],
   "source": []
  },
  {
   "cell_type": "code",
   "execution_count": 8,
   "id": "aca157f7",
   "metadata": {},
   "outputs": [
    {
     "ename": "TypeError",
     "evalue": "power() missing 1 required positional argument: 'b'",
     "output_type": "error",
     "traceback": [
      "\u001b[1;31m---------------------------------------------------------------------------\u001b[0m",
      "\u001b[1;31mTypeError\u001b[0m                                 Traceback (most recent call last)",
      "Cell \u001b[1;32mIn[8], line 11\u001b[0m\n\u001b[0;32m      8\u001b[0m     \u001b[38;5;28;01mreturn\u001b[39;00m a\u001b[38;5;241m*\u001b[39m\u001b[38;5;241m*\u001b[39mb\n\u001b[0;32m     10\u001b[0m power(\u001b[38;5;241m3\u001b[39m,\u001b[38;5;241m2\u001b[39m)\n\u001b[1;32m---> 11\u001b[0m power(\u001b[38;5;241m2\u001b[39m) \u001b[38;5;66;03m# error as it is expecting 2 values - here comes default arguments\u001b[39;00m\n\u001b[0;32m     13\u001b[0m \u001b[38;5;28;01mdef\u001b[39;00m \u001b[38;5;21mpower1\u001b[39m(a\u001b[38;5;241m=\u001b[39m\u001b[38;5;241m4\u001b[39m, b\u001b[38;5;241m=\u001b[39m \u001b[38;5;241m3\u001b[39m):\n\u001b[0;32m     14\u001b[0m     \u001b[38;5;28;01mreturn\u001b[39;00m a\u001b[38;5;241m*\u001b[39m\u001b[38;5;241m*\u001b[39mb\n",
      "\u001b[1;31mTypeError\u001b[0m: power() missing 1 required positional argument: 'b'"
     ]
    }
   ],
   "source": [
    "# Parameters vs Arguments - slides\n",
    "# ================================================================================================================\n",
    "\n",
    "# types of arguments\n",
    "\n",
    "# default argument\n",
    "def power(a,b):\n",
    "    return a**b\n",
    "\n",
    "power(3,2)\n",
    "power(2) # error as it is expecting 2 values - here comes default arguments\n",
    "\n",
    "def power1(a=4, b= 3):\n",
    "    return a**b\n",
    "\n",
    "power1()\n",
    "power1(2,3)\n",
    "power1(2)  # it by default takes b=2 when we don't give it (only 1 argument is given which will be taken for a and b by defauly will be considered 3)\n",
    "\n",
    "# Positional Argument\n",
    "power1(2,3) # argument given in order is sequentially assigned to parameters\n",
    "\n",
    "# keyword arguments\n",
    "power1(b=2, a=3) # if we give value ourself explicitly - it will be assigned as it is\n",
    "\n",
    "# keyword arguments overwrite positional arguments - \n",
    "# basically used when we don't remember position of parameters - we give the value of useful parameters explicitly\n",
    "\n",
    "# arbitrary arguments - which are flexible for number of arguments given - as much as much we want to give \n",
    "# e.g print function\n",
    "\n",
    "def func(*num):# * means Python interpreter understands that this function can have multiple inputs as arguments\n",
    "    \"\"\" It will take in as much arguments as we want and give the product of them\"\"\"\n",
    "    product = 1\n",
    "    for i in num:\n",
    "        product = product*i\n",
    "    print(product)\n",
    "\n",
    "func(2,5)\n",
    "func(1,2,4,6)\n",
    "func(1,2,3,4,5,6)\n",
    "\n"
   ]
  },
  {
   "cell_type": "code",
   "execution_count": 9,
   "id": "776e7419",
   "metadata": {},
   "outputs": [
    {
     "ename": "NameError",
     "evalue": "name 'func' is not defined",
     "output_type": "error",
     "traceback": [
      "\u001b[1;31m---------------------------------------------------------------------------\u001b[0m",
      "\u001b[1;31mNameError\u001b[0m                                 Traceback (most recent call last)",
      "Cell \u001b[1;32mIn[9], line 1\u001b[0m\n\u001b[1;32m----> 1\u001b[0m func(\u001b[38;5;241m5\u001b[39m,\u001b[38;5;241m3\u001b[39m,\u001b[38;5;241m4\u001b[39m)\n",
      "\u001b[1;31mNameError\u001b[0m: name 'func' is not defined"
     ]
    }
   ],
   "source": [
    "func(5,3,4)"
   ]
  },
  {
   "cell_type": "code",
   "execution_count": null,
   "id": "8902678b",
   "metadata": {},
   "outputs": [],
   "source": []
  },
  {
   "cell_type": "code",
   "execution_count": null,
   "id": "4d9a46e4",
   "metadata": {},
   "outputs": [],
   "source": []
  },
  {
   "cell_type": "markdown",
   "id": "cc0169a1",
   "metadata": {},
   "source": [
    "## global variable vs Local variable"
   ]
  },
  {
   "cell_type": "code",
   "execution_count": 1,
   "id": "30091ffb",
   "metadata": {},
   "outputs": [
    {
     "name": "stdout",
     "output_type": "stream",
     "text": [
      "5\n",
      "2\n",
      "5\n"
     ]
    },
    {
     "data": {
      "text/plain": [
       "\"\\nLet's analyze the code step by step:\\n\\n1. `x = 5`: The variable `x` is assigned the value 5. - line 102 \\n\\n2. `print(x)`: This will output `5` to the console.\\n\\n3. `f(x)`: This calls the function `f` with `x` as an argument.\\n\\nNow, let's look at the function `f(y)`:\\n\\n1. `x = 1`: The local variable `x` is assigned the value 1 within the function `f`.\\n\\n2. `x += 1`: The value of `x` is incremented by 1, so `x` becomes 2.\\n\\n3. `print(x)`: This will output `2` to the console.\\n\\nAfter the function `f(y)` has been called, we have:\\n\\n4. `print(x)`: This will output `5` to the console again. The function `f(y)` did not modify the variable `x`, \\nas it only works with its local `x` variable inside the function.\\n\\n5. `print(x)`: This will output `5` to the console once again, as there have been no changes to the variable `x` since the \\nprevious `print(x)` statement.\\n\\nTo summarize:\\n- The initial value of `x` is `5`, and it remains unchanged throughout the execution.\\n- The function `f(y)` takes a parameter `y`, but it's not used in the function. Instead, it uses its local variable `x`.\\n- The function `f(y)` increments its local `x` and prints it, but it doesn't modify the variable `x` defined outside the function.\\n- The value of `x` remains `5` after calling the function `f(y)`.\\n\""
      ]
     },
     "execution_count": 1,
     "metadata": {},
     "output_type": "execute_result"
    }
   ],
   "source": [
    "# ========================================================================================================================\n",
    "# global variable vs Local variable\n",
    "def f(y):\n",
    "    x=1\n",
    "    x+=1\n",
    "    print(x)\n",
    "\n",
    "x=5\n",
    "print(x)\n",
    "f(x)\n",
    "print(x)\n",
    "'''\n",
    "Let's analyze the code step by step:\n",
    "\n",
    "1. `x = 5`: The variable `x` is assigned the value 5. - line 102 \n",
    "\n",
    "2. `print(x)`: This will output `5` to the console.\n",
    "\n",
    "3. `f(x)`: This calls the function `f` with `x` as an argument.\n",
    "\n",
    "Now, let's look at the function `f(y)`:\n",
    "\n",
    "1. `x = 1`: The local variable `x` is assigned the value 1 within the function `f`.\n",
    "\n",
    "2. `x += 1`: The value of `x` is incremented by 1, so `x` becomes 2.\n",
    "\n",
    "3. `print(x)`: This will output `2` to the console.\n",
    "\n",
    "After the function `f(y)` has been called, we have:\n",
    "\n",
    "4. `print(x)`: This will output `5` to the console again. The function `f(y)` did not modify the variable `x`, \n",
    "as it only works with its local `x` variable inside the function.\n",
    "\n",
    "5. `print(x)`: This will output `5` to the console once again, as there have been no changes to the variable `x` since the \n",
    "previous `print(x)` statement.\n",
    "\n",
    "To summarize:\n",
    "- The initial value of `x` is `5`, and it remains unchanged throughout the execution.\n",
    "- The function `f(y)` takes a parameter `y`, but it's not used in the function. Instead, it uses its local variable `x`.\n",
    "- The function `f(y)` increments its local `x` and prints it, but it doesn't modify the variable `x` defined outside the function.\n",
    "- The value of `x` remains `5` after calling the function `f(y)`.\n",
    "'''\n"
   ]
  },
  {
   "cell_type": "code",
   "execution_count": null,
   "id": "1e4ee643",
   "metadata": {},
   "outputs": [],
   "source": []
  },
  {
   "cell_type": "code",
   "execution_count": null,
   "id": "53145d2f",
   "metadata": {},
   "outputs": [],
   "source": []
  },
  {
   "cell_type": "code",
   "execution_count": null,
   "id": "2c193ecb",
   "metadata": {},
   "outputs": [],
   "source": []
  },
  {
   "cell_type": "code",
   "execution_count": null,
   "id": "d8936da9",
   "metadata": {},
   "outputs": [],
   "source": [
    "# e.g 2\n",
    "\n",
    "def g(y):\n",
    "    print(x)\n",
    "    x=x+1\n",
    "    print(x)\n",
    "x=5\n",
    "print(x)\n",
    "g(x)\n",
    "print(x)\n",
    "\n",
    "'''\n",
    "The code above will raise an `UnboundLocalError`. Let's understand why:\n",
    "\n",
    "In the function `g(y)`, the variable `x` is used before it's assigned a value inside the function scope. \n",
    "This creates a scope issue with variable resolution. When Python encounters a variable in a function, \n",
    "it first looks for it in the local function scope, and only then, if not found, it looks in the global scope.\n",
    "\n",
    "Let's analyze the code step by step:\n",
    "\n",
    "1. `x = 5`: The variable `x` is assigned the value 5 in the global scope.\n",
    "\n",
    "2. `g(x)`: This calls the function `g` with `x` as an argument.\n",
    "\n",
    "Now, let's look at the function `g(y)`:\n",
    "\n",
    "1. `print(x)`: This line will raise an `UnboundLocalError`. Python tries to print the value of the local variable `x` \n",
    "within the function, but it hasn't been assigned a value yet, so it's considered \"unbound\" in this context.\n",
    "\n",
    "2. `x = x + 1`: This line will not be executed due to the error in the previous line.\n",
    "\n",
    "3. Since an error occurred, the function `g(y)` terminates.\n",
    "\n",
    "After calling the function `g(y)`, the program continues:\n",
    "\n",
    "4. `print(x)`: This will output `5` to the console. The global variable `x` was not modified by the function call.\n",
    "\n",
    "So, the output of the code will be:\n",
    "\n",
    "```\n",
    "UnboundLocalError: local variable 'x' referenced before assignment\n",
    "5\n",
    "```\n",
    "\n",
    "To fix this issue, we need to explicitly declare `x` as a global variable within the function `g(y)` using the `global` keyword.\n",
    "\n",
    "def g(y):\n",
    "    global x\n",
    "    print(x)\n",
    "    x = x + 1\n",
    "    print(x)\n",
    "\n",
    "x = 5\n",
    "g(x)\n",
    "print(x)\n",
    "```\n",
    "\n",
    "With this correction, the output will be:\n",
    "\n",
    "```\n",
    "5\n",
    "6\n",
    "6\n",
    "```\n",
    "\n",
    "Now, the function `g(y)` uses the global variable `x`, increments it, and modifies its value. The final `print(x)` statement outside\n",
    "the function will show the updated value of `x`, which is `6`.\n",
    "'''\n"
   ]
  },
  {
   "cell_type": "code",
   "execution_count": null,
   "id": "2abe2d68",
   "metadata": {},
   "outputs": [],
   "source": [
    "# e..g - 3\n",
    "\n",
    "def g(y):\n",
    "    print(x)\n",
    "    print(x+1)\n",
    "x=5\n",
    "g(x)\n",
    "print(x)\n",
    "\n",
    "'''\n",
    "Let's analyze the code step by step:\n",
    "\n",
    "x = 5: The variable x is assigned the value 5 in the global scope.\n",
    "\n",
    "g(x): This calls the function g with x as an argument.\n",
    "\n",
    "Now, let's look at the function g(y):\n",
    "\n",
    "print(x): This will output 5 to the console. The function g(y) accesses the global variable x, and its value is 5.\n",
    "\n",
    "print(x + 1): This will output 6 to the console. It performs the calculation x + 1, where x is still 5, so the result is 6.\n",
    "\n",
    "After calling the function g(y), the program continues:\n",
    "\n",
    "print(x): This will output 5 to the console again. The value of x in the global scope remains unchanged throughout the execution.\n",
    "'''\n"
   ]
  },
  {
   "cell_type": "markdown",
   "id": "cade57ff",
   "metadata": {},
   "source": [
    "#### =================================================================================================================\n",
    "### Imp Note:\n",
    "''''\n",
    "The main difference between the two codes provided is how they handle the variable `x` within the function `g(y)`.\n",
    "\n",
    "1. First Code:\n",
    "   def g(y):\n",
    "       print(x)\n",
    "       x = x + 1\n",
    "       print(x)\n",
    "   x = 5\n",
    "   g(x)\n",
    "   print(x)\n",
    "\n",
    "   Output:   UnboundLocalError: local variable 'x' referenced before assignment\n",
    "             5\n",
    "   In the first code, the function `g(y)` tries to access the variable `x` without declaring it as a global variable within the function\n",
    "   This results in an `UnboundLocalError` because Python treats `x` as a local variable within the function scope due to the assignment\n",
    "    (`x = x + 1`) inside the function. The local variable `x` is used before it's assigned a value, causing the error.\n",
    "\n",
    "   As a result, the function `g(y)` doesn't modify the global variable `x`, and its value remains unchanged at `5`. \n",
    "   The final `print(x)` statement outside the function will show the initial value of `x`.\n",
    "\n",
    "2. Second Code:\n",
    "   def g(y):\n",
    "       print(x)\n",
    "       print(x + 1)\n",
    "\n",
    "   x = 5\n",
    "   g(x)\n",
    "   print(x)\n",
    "\n",
    "      Output:\n",
    "   5\n",
    "   6\n",
    "   5\n",
    "   In the second code, the function `g(y)` doesn't attempt to modify the variable `x` or reassign it. \n",
    "   It simply accesses the global variable `x` and performs calculations based on its value. Since there is no assignment inside the \n",
    "   function, Python treats `x` as a global variable without any issues.\n",
    "\n",
    "   As a result, the function `g(y)` doesn't modify the global variable `x`, and its value remains unchanged at `5`. \n",
    "   The final `print(x)` statement outside the function will show the initial value of `x`.\n",
    "\n",
    "In summary, the first code has an error (`UnboundLocalError`) due to a local variable resolution issue inside the function, \n",
    "while the second code works correctly and accesses the global variable `x` without any issues. Both codes, however, do not modify \n",
    "the value of the global variable `x` within the function `g(y)`.\n",
    "'''"
   ]
  },
  {
   "cell_type": "code",
   "execution_count": null,
   "id": "f5f8b98f",
   "metadata": {},
   "outputs": [],
   "source": []
  },
  {
   "cell_type": "code",
   "execution_count": null,
   "id": "5fc2198d",
   "metadata": {},
   "outputs": [],
   "source": []
  },
  {
   "cell_type": "code",
   "execution_count": null,
   "id": "16084e36",
   "metadata": {},
   "outputs": [],
   "source": []
  },
  {
   "cell_type": "code",
   "execution_count": null,
   "id": "adfefd70",
   "metadata": {},
   "outputs": [],
   "source": [
    "# e.g - 4\n",
    "\n",
    "def h(y):\n",
    "    x+=1  # function is trying to change the value of global variable - error -> Solution : global x\n",
    "x=5\n",
    "h(x)\n",
    "print(x)\n",
    "\n",
    "# Rules:\n",
    "# 1. Global variable - can be used by any local function.\n",
    "# 2. Local function can only use global variable, but not change it.\n",
    "\n",
    "def h(y):\n",
    "    global x\n",
    "    print(x)\n",
    "    x+=1 \n",
    "x=5\n",
    "print(x)\n",
    "h(x)\n",
    "print(x)\n",
    "\n",
    "\n",
    "\n",
    "\n",
    "# e.g 5\n",
    "# - observe the diff in 2 progarms below\n",
    "def f(x): # here x is defined in local scope -> so below line is trying to update local x only\n",
    "    x=x+1  # this will not change the actual value of x in global scope - just change for local scope\n",
    "    print('in f(x) : x = ', x) # updated value of x is printed.\n",
    "    return x\n",
    "x=3\n",
    "z=f(x)  # z will get the value which is returned from the function after execution\n",
    "print('in main program scope : z', z)\n",
    "print('in main program scope : x', x)\n",
    "# -------------------------------------------------------------------------------------------------------------------------\n",
    "def f(y): # error\n",
    "    x=x+1  # this will not change the actual value of x in global scope - just change for local scope\n",
    "    print('in f(x) : x = ', x) # updated value of x is printed.\n",
    "    return x\n",
    "x=3\n",
    "z=f(x)  # z will get the value which is returned from the function after execution\n",
    "print('in main program scope : z', z)\n",
    "print('in main program scope : x', x)\n",
    "\n",
    "\n"
   ]
  },
  {
   "cell_type": "code",
   "execution_count": null,
   "id": "a3c84c8c",
   "metadata": {},
   "outputs": [],
   "source": []
  },
  {
   "cell_type": "code",
   "execution_count": null,
   "id": "e9664cd7",
   "metadata": {},
   "outputs": [],
   "source": []
  },
  {
   "cell_type": "code",
   "execution_count": null,
   "id": "af7e7245",
   "metadata": {},
   "outputs": [],
   "source": []
  },
  {
   "cell_type": "code",
   "execution_count": null,
   "id": "28e7a0b3",
   "metadata": {},
   "outputs": [],
   "source": [
    "\n",
    "# Everything in Python is an object - Function too\n",
    "\n",
    "def f(n):\n",
    "    return n**2\n",
    "\n",
    "f(5)\n",
    "type(f)\n",
    "x=f  # now x will be same as f - it'll work exactly like f\n",
    "x(2)\n",
    "x(6)\n",
    "f(6)\n",
    "\n",
    "del f # deletes the func f\n",
    "type(x)\n",
    "x(5)\n",
    "\n",
    "# we can store this x (function object) as an element in list\n",
    "L=[1,2,3,4]\n",
    "l=[1,2,3,x]\n",
    "l # see x is stored as a function in this list with given mwmory address -\n",
    "# we can even use it as a function\n",
    "l[-1]\n",
    "l[-1](6)\n",
    "\n",
    "m = [1,2,4, x(5), 7, x(9)]\n",
    "m\n"
   ]
  },
  {
   "cell_type": "code",
   "execution_count": 3,
   "id": "b054a9df",
   "metadata": {},
   "outputs": [
    {
     "name": "stdout",
     "output_type": "stream",
     "text": [
      "inside func_b\n",
      "inside func_a\n",
      "None\n"
     ]
    }
   ],
   "source": [
    "\"\"\"\n",
    "A lot more can be done with Python functions -n\n",
    "Renaming a func\n",
    "Deleting a func\n",
    "Storing a func\n",
    "Returning a func\n",
    "Functions as argument in other function - see below example\n",
    "\"\"\"\n",
    "\n",
    "def func_a():\n",
    "    print(\"inside func_a\")\n",
    "def func_b(z):\n",
    "    print(\"inside func_b\")\n",
    "    return z()\n",
    "\n",
    "print(func_b(func_a))\n"
   ]
  },
  {
   "cell_type": "code",
   "execution_count": 8,
   "id": "e68e5e54",
   "metadata": {},
   "outputs": [],
   "source": [
    "\n",
    "# Quick exercise: What is the O/P of this code snippet?\n",
    "\n",
    "def func1():\n",
    "    return \"Adam\"  # it return string type\n",
    "\n",
    "def func2():\n",
    "    print(\"Mike\")  # it returns None Type"
   ]
  },
  {
   "cell_type": "code",
   "execution_count": 9,
   "id": "63d3cd86",
   "metadata": {},
   "outputs": [
    {
     "name": "stdout",
     "output_type": "stream",
     "text": [
      "Adam MIKE\n"
     ]
    }
   ],
   "source": [
    "print(func1() + \" MIKE\") \n",
    "#print(func1() + \" Adam\")  # it works fine as output of func1() is a string and strings can be concatenated"
   ]
  },
  {
   "cell_type": "code",
   "execution_count": 11,
   "id": "fe25f86d",
   "metadata": {},
   "outputs": [
    {
     "name": "stdout",
     "output_type": "stream",
     "text": [
      "Mike\n"
     ]
    },
    {
     "ename": "TypeError",
     "evalue": "unsupported operand type(s) for +: 'NoneType' and 'str'",
     "output_type": "error",
     "traceback": [
      "\u001b[1;31m---------------------------------------------------------------------------\u001b[0m",
      "\u001b[1;31mTypeError\u001b[0m                                 Traceback (most recent call last)",
      "Cell \u001b[1;32mIn[11], line 1\u001b[0m\n\u001b[1;32m----> 1\u001b[0m \u001b[38;5;28mprint\u001b[39m(func2() \u001b[38;5;241m+\u001b[39m \u001b[38;5;124m\"\u001b[39m\u001b[38;5;124mADAM\u001b[39m\u001b[38;5;124m\"\u001b[39m)\n",
      "\u001b[1;31mTypeError\u001b[0m: unsupported operand type(s) for +: 'NoneType' and 'str'"
     ]
    }
   ],
   "source": [
    "print(func2() + \"ADAM\") \n",
    "\n",
    "# print(func2() + \"Mike\")  # shows error as func2() returns None Type which can't be concatenated to string"
   ]
  },
  {
   "cell_type": "code",
   "execution_count": null,
   "id": "d7108716",
   "metadata": {},
   "outputs": [],
   "source": []
  },
  {
   "cell_type": "code",
   "execution_count": null,
   "id": "2a7c9b76",
   "metadata": {},
   "outputs": [],
   "source": []
  },
  {
   "cell_type": "code",
   "execution_count": null,
   "id": "4305fec6",
   "metadata": {},
   "outputs": [],
   "source": []
  },
  {
   "cell_type": "code",
   "execution_count": 7,
   "id": "aacdc574",
   "metadata": {},
   "outputs": [
    {
     "name": "stdout",
     "output_type": "stream",
     "text": [
      "Inside f\n",
      "Inside g\n"
     ]
    },
    {
     "ename": "NameError",
     "evalue": "name 'g' is not defined",
     "output_type": "error",
     "traceback": [
      "\u001b[1;31m---------------------------------------------------------------------------\u001b[0m",
      "\u001b[1;31mNameError\u001b[0m                                 Traceback (most recent call last)",
      "Cell \u001b[1;32mIn[7], line 13\u001b[0m\n\u001b[0;32m      9\u001b[0m     g()\n\u001b[0;32m     11\u001b[0m f() \u001b[38;5;66;03m# first go to f() -> print(\"Inside f\") then skip 2 lines and go to call g() -> print(\"Inside g\")\u001b[39;00m\n\u001b[1;32m---> 13\u001b[0m g() \u001b[38;5;66;03m# calling only g() shows error as g() is hidden from main program - without f() it can't execute\u001b[39;00m\n\u001b[0;32m     16\u001b[0m \u001b[38;5;66;03m# Infinite loop - after a limited function call - it showed error - RAM consumption \u001b[39;00m\n\u001b[0;32m     17\u001b[0m \u001b[38;5;28;01mdef\u001b[39;00m \u001b[38;5;21mf\u001b[39m():\n",
      "\u001b[1;31mNameError\u001b[0m: name 'g' is not defined"
     ]
    }
   ],
   "source": [
    "# ========================================================================================================================\n",
    "# Nested functions: \n",
    "\n",
    "def f():\n",
    "    print(\"Inside f\")\n",
    "\n",
    "    def g():\n",
    "        print(\"Inside g\")\n",
    "    g()\n",
    "\n",
    "f() # first go to f() -> print(\"Inside f\") then skip 2 lines and go to call g() -> print(\"Inside g\")\n",
    "\n",
    "g() # calling only g() shows error as g() is hidden from main program - without f() it can't execute\n",
    "\n",
    "\n",
    "# Infinite loop - after a limited function call - it showed error - RAM consumption \n",
    "def f():\n",
    "    print(\"Inside f\")\n",
    "\n",
    "    def g():\n",
    "        print(\"Inside g\")\n",
    "        f()\n",
    "    g()\n",
    "\n",
    "f()\n",
    "\n",
    "\n",
    "# e.g - \n",
    "def g(x):\n",
    "    def h():\n",
    "        x='abc'\n",
    "    x=x+1\n",
    "    print('in g(x) : x = ', x)\n",
    "    h()\n",
    "    return x  # here x = 4\n",
    "x=3\n",
    "z=g(x)\n",
    "print(x) # global value of x doesn't change\n",
    "print(z) # it will print 4 as returned form the function g(x)\n",
    "\n",
    "# e.g - \n",
    "def g(x):\n",
    "    def h(x):\n",
    "        x=x+1\n",
    "        print(\"in h(x) : x\", x)\n",
    "    x = x+1\n",
    "    print(\"in g(x) : x\", x)\n",
    "    h(x)\n",
    "    return x\n",
    "\n",
    "x=3\n",
    "z=g(x)\n",
    "print(\"in main program scope : x = \", x)\n",
    "print(\"in main program scope : z = \", z)\n",
    "\n",
    "# ======================================================================================================================\n",
    "\n",
    "x=4\n",
    "y=x\n",
    "print(x)\n",
    "print(y)\n",
    "\n"
   ]
  },
  {
   "cell_type": "code",
   "execution_count": null,
   "id": "de3aedd1",
   "metadata": {},
   "outputs": [],
   "source": []
  },
  {
   "cell_type": "code",
   "execution_count": null,
   "id": "6171b24e",
   "metadata": {},
   "outputs": [],
   "source": []
  },
  {
   "cell_type": "markdown",
   "id": "2d20a48f",
   "metadata": {},
   "source": [
    "## Generator Functions:\n",
    "\n",
    "### A generator function in Python is defined like a normal function, but whenever it needs to generate a value, it does so with the yield keyword rather than return\n",
    "\n",
    "## Generator Object\n",
    "\n",
    "### Python Generator functions return a generator object that is iterable, i.e., can be used as an Iterator. Generator objects are used either by calling the next method of the generator object or using the generator object in a “for in” loop"
   ]
  },
  {
   "cell_type": "code",
   "execution_count": 16,
   "id": "e6a8823f",
   "metadata": {},
   "outputs": [
    {
     "data": {
      "text/plain": [
       "range(0, 10)"
      ]
     },
     "execution_count": 16,
     "metadata": {},
     "output_type": "execute_result"
    }
   ],
   "source": [
    "range(10) # one example of generator function"
   ]
  },
  {
   "cell_type": "code",
   "execution_count": 1,
   "id": "2a3a4c0d",
   "metadata": {},
   "outputs": [],
   "source": [
    "# to print fibonacci series\n",
    "# generator function does not store data in memory -> it creates data and return one by one\n",
    "# when we get output in a list, it stores all the data in memory first and then display (so utilizes memory much)\n",
    "\n",
    "\n",
    "def test_fib(n):  # this is a generator function\n",
    "    a,b = 0,1\n",
    "    for i in range(n):\n",
    "        yield a # no return keyword -> to get the data we use yield function \n",
    "        a,b = b , a+b"
   ]
  },
  {
   "cell_type": "code",
   "execution_count": 2,
   "id": "bdd6a9a2",
   "metadata": {},
   "outputs": [
    {
     "name": "stdout",
     "output_type": "stream",
     "text": [
      "0\n",
      "1\n",
      "1\n",
      "2\n",
      "3\n",
      "5\n",
      "8\n",
      "13\n",
      "21\n",
      "34\n",
      "55\n",
      "89\n",
      "144\n",
      "233\n",
      "377\n",
      "610\n",
      "987\n",
      "1597\n",
      "2584\n",
      "4181\n",
      "6765\n",
      "10946\n"
     ]
    }
   ],
   "source": [
    "for i in test_fib(22):\n",
    "    print(i)"
   ]
  },
  {
   "cell_type": "code",
   "execution_count": 3,
   "id": "1ebc9626",
   "metadata": {},
   "outputs": [],
   "source": [
    "def test_fib1():\n",
    "    a,b = 0,1\n",
    "    while True:\n",
    "        yield a\n",
    "        a,b = b , a+b"
   ]
  },
  {
   "cell_type": "code",
   "execution_count": 5,
   "id": "d8473a3a",
   "metadata": {},
   "outputs": [
    {
     "data": {
      "text/plain": [
       "<generator object test_fib1 at 0x000001458E2DF5E0>"
      ]
     },
     "execution_count": 5,
     "metadata": {},
     "output_type": "execute_result"
    }
   ],
   "source": [
    "fib = test_fib1()\n",
    "fib"
   ]
  },
  {
   "cell_type": "code",
   "execution_count": 6,
   "id": "3b703c0f",
   "metadata": {},
   "outputs": [
    {
     "name": "stdout",
     "output_type": "stream",
     "text": [
      "0\n",
      "1\n",
      "1\n",
      "2\n",
      "3\n",
      "5\n",
      "8\n",
      "13\n",
      "21\n",
      "34\n"
     ]
    }
   ],
   "source": [
    "for i in range(10):\n",
    "    print(next(fib))"
   ]
  },
  {
   "cell_type": "markdown",
   "id": "4b62561e",
   "metadata": {},
   "source": [
    "## Next:"
   ]
  },
  {
   "cell_type": "code",
   "execution_count": 7,
   "id": "ce341594",
   "metadata": {},
   "outputs": [
    {
     "name": "stdout",
     "output_type": "stream",
     "text": [
      "s\n",
      "u\n",
      "d\n",
      "h\n"
     ]
    }
   ],
   "source": [
    "s = \"sudh\"\n",
    "for i in s :\n",
    "    print(i)"
   ]
  },
  {
   "cell_type": "code",
   "execution_count": 8,
   "id": "328bd1fa",
   "metadata": {},
   "outputs": [
    {
     "ename": "TypeError",
     "evalue": "'str' object is not an iterator",
     "output_type": "error",
     "traceback": [
      "\u001b[1;31m---------------------------------------------------------------------------\u001b[0m",
      "\u001b[1;31mTypeError\u001b[0m                                 Traceback (most recent call last)",
      "Cell \u001b[1;32mIn[8], line 1\u001b[0m\n\u001b[1;32m----> 1\u001b[0m \u001b[38;5;28mnext\u001b[39m(s)\n",
      "\u001b[1;31mTypeError\u001b[0m: 'str' object is not an iterator"
     ]
    }
   ],
   "source": [
    "next(s)"
   ]
  },
  {
   "cell_type": "code",
   "execution_count": 10,
   "id": "a67b4780",
   "metadata": {},
   "outputs": [
    {
     "data": {
      "text/plain": [
       "str_ascii_iterator"
      ]
     },
     "execution_count": 10,
     "metadata": {},
     "output_type": "execute_result"
    }
   ],
   "source": [
    "s1 = iter(s)\n",
    "type(s1)"
   ]
  },
  {
   "cell_type": "code",
   "execution_count": 12,
   "id": "ab58f34d",
   "metadata": {},
   "outputs": [
    {
     "data": {
      "text/plain": [
       "'s'"
      ]
     },
     "execution_count": 12,
     "metadata": {},
     "output_type": "execute_result"
    }
   ],
   "source": [
    "next(s1)"
   ]
  },
  {
   "cell_type": "code",
   "execution_count": 13,
   "id": "04da861d",
   "metadata": {},
   "outputs": [
    {
     "data": {
      "text/plain": [
       "'u'"
      ]
     },
     "execution_count": 13,
     "metadata": {},
     "output_type": "execute_result"
    }
   ],
   "source": [
    "next(s1)"
   ]
  },
  {
   "cell_type": "code",
   "execution_count": 14,
   "id": "37a8376e",
   "metadata": {},
   "outputs": [],
   "source": [
    "# string is iterable so we can convert it into iterator object, not int, complex numbers and others."
   ]
  },
  {
   "cell_type": "code",
   "execution_count": 15,
   "id": "98a1cf90",
   "metadata": {},
   "outputs": [],
   "source": [
    "# iterable is the data which can be converted into iterator, so that now we can fetch next data from it (like for loop)"
   ]
  },
  {
   "cell_type": "code",
   "execution_count": null,
   "id": "f7b10078",
   "metadata": {},
   "outputs": [],
   "source": []
  },
  {
   "cell_type": "code",
   "execution_count": null,
   "id": "d57c496f",
   "metadata": {},
   "outputs": [],
   "source": []
  },
  {
   "cell_type": "markdown",
   "id": "2e3bc1d7",
   "metadata": {},
   "source": [
    "# recursion\n",
    "\n",
    "- factorial "
   ]
  },
  {
   "cell_type": "code",
   "execution_count": 18,
   "id": "e4b4f3f3",
   "metadata": {},
   "outputs": [
    {
     "name": "stdout",
     "output_type": "stream",
     "text": [
      "[5, 4, 3, 2]\n"
     ]
    }
   ],
   "source": [
    "# Generate a range from 5 to 1 (exclusive) with a step of -1\n",
    "r = list(range(5, 1, -1))\n",
    "print(r)"
   ]
  },
  {
   "cell_type": "code",
   "execution_count": 31,
   "id": "674bdc6d",
   "metadata": {},
   "outputs": [],
   "source": [
    "def factorial(n):\n",
    "    fact = 1\n",
    "    while n>=1:\n",
    "        fact = fact*n\n",
    "        n = n-1\n",
    "    return fact"
   ]
  },
  {
   "cell_type": "code",
   "execution_count": 35,
   "id": "dbbe7cb8",
   "metadata": {},
   "outputs": [
    {
     "name": "stdout",
     "output_type": "stream",
     "text": [
      "120\n"
     ]
    }
   ],
   "source": [
    "def factorial(n):\n",
    "    # Base case: if n is 1 or 0, return 1\n",
    "    if n == 0 or n == 1:\n",
    "        return 1\n",
    "    # Recursive case: n * factorial of (n-1)\n",
    "    else:\n",
    "        return n * factorial(n - 1)\n",
    "\n",
    "# Test the function\n",
    "result = factorial(5)\n",
    "print(result)\n"
   ]
  },
  {
   "cell_type": "code",
   "execution_count": null,
   "id": "eeb9cc99",
   "metadata": {},
   "outputs": [],
   "source": []
  },
  {
   "cell_type": "code",
   "execution_count": 28,
   "id": "b1e3ba70",
   "metadata": {},
   "outputs": [
    {
     "name": "stdout",
     "output_type": "stream",
     "text": [
      "120\n"
     ]
    }
   ],
   "source": [
    "fact = 1\n",
    "n = 5\n",
    "for i in range(1,n):\n",
    "    fact = fact*n\n",
    "    n = n-1\n",
    "    \n",
    "print(fact)"
   ]
  },
  {
   "cell_type": "code",
   "execution_count": null,
   "id": "6c0b71ff",
   "metadata": {},
   "outputs": [],
   "source": []
  },
  {
   "cell_type": "code",
   "execution_count": null,
   "id": "3a9a1911",
   "metadata": {},
   "outputs": [],
   "source": []
  },
  {
   "cell_type": "code",
   "execution_count": null,
   "id": "31b24ad6",
   "metadata": {},
   "outputs": [],
   "source": []
  }
 ],
 "metadata": {
  "kernelspec": {
   "display_name": "Python 3 (ipykernel)",
   "language": "python",
   "name": "python3"
  },
  "language_info": {
   "codemirror_mode": {
    "name": "ipython",
    "version": 3
   },
   "file_extension": ".py",
   "mimetype": "text/x-python",
   "name": "python",
   "nbconvert_exporter": "python",
   "pygments_lexer": "ipython3",
   "version": "3.11.5"
  }
 },
 "nbformat": 4,
 "nbformat_minor": 5
}
