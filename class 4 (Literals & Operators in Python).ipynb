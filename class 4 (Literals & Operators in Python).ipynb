{
 "cells": [
  {
   "cell_type": "markdown",
   "id": "09e62058",
   "metadata": {},
   "source": [
    "### Class 4 Notes"
   ]
  },
  {
   "cell_type": "code",
   "execution_count": null,
   "id": "48c8de86",
   "metadata": {},
   "outputs": [],
   "source": []
  },
  {
   "cell_type": "code",
   "execution_count": null,
   "id": "d24f7ace",
   "metadata": {},
   "outputs": [],
   "source": [
    "# Literals and Operators in Python\n",
    "\n",
    "''' Literals\n",
    "Literal is a raw data given in a variable. In Python, there are various types of literals they are as follows:\n",
    "\n",
    "Numeric Literals\n",
    "String Literals\n",
    "Boolean Literals\n",
    "Special Literals\n",
    "\n",
    "'''"
   ]
  },
  {
   "cell_type": "code",
   "execution_count": null,
   "id": "a1bed490",
   "metadata": {},
   "outputs": [],
   "source": [
    "# 1. Numeric Literals\n",
    "\n",
    "a = 0b1010 #Binary Literals - stored as binary but printed as decimal only\n",
    "print(a)\n",
    "b = 100 #Decimal Literal \n",
    "c = 0o310 #Octal Literal\n",
    "d = 0x12c #Hexadecimal Literal\n",
    "print(a, b, c, d)"
   ]
  },
  {
   "cell_type": "code",
   "execution_count": null,
   "id": "fed20c9b",
   "metadata": {},
   "outputs": [],
   "source": [
    "#Float Literal\n",
    "float_1 = 10.5 \n",
    "float_2 = 1.5e2 # very large numbers\n",
    "float_3 = 1.5e-3 # very small number\n",
    "print(float_1, float_2,float_3)"
   ]
  },
  {
   "cell_type": "code",
   "execution_count": null,
   "id": "a4c107cc",
   "metadata": {},
   "outputs": [],
   "source": [
    "#Complex Literal \n",
    "x = 3.14j # can only have real or only imaginary part\n",
    "print(x, x.imag, x.real)"
   ]
  },
  {
   "cell_type": "code",
   "execution_count": null,
   "id": "180a261a",
   "metadata": {},
   "outputs": [],
   "source": [
    "# 2. String Literals\n",
    "# manily there are 3 ways to initialize string literals in Python\n",
    "\n",
    "string = 'This is Python' # single quotes\n",
    "strings = \"This is Python\" # using double quotes \n",
    "# In Python - there is no difference between single and double quotes\n",
    "\n",
    "char = \"C\" #can also initialize only single character\n",
    "multiline_str = \"\"\"This is a multiline string with more than one line code.\"\"\"\n",
    "unicode = u\"\\U0001f600\\U0001F606\\U0001F923\" # unicode characters like emojis - just use u before string(unicode characters)\n",
    "raw_str = r\"raw \\n string\" #r is used before the string like HTML code\n",
    "\n",
    "print(string)\n",
    "print(strings)\n",
    "print(char)\n",
    "print(multiline_str)\n",
    "print(unicode)\n",
    "print(raw_str)\n"
   ]
  },
  {
   "cell_type": "code",
   "execution_count": null,
   "id": "cbbfb022",
   "metadata": {},
   "outputs": [],
   "source": [
    "# 3. Boolean Literal\n",
    "a = True + 4  # simply 1+4 as True is considered as 1 - implicit type conversion\n",
    "b = False + 10  # False means 0 \n",
    "\n",
    "print(\"a:\", a)\n",
    "print(\"b:\", b)"
   ]
  },
  {
   "cell_type": "code",
   "execution_count": null,
   "id": "85d912fc",
   "metadata": {},
   "outputs": [],
   "source": [
    "# 4. Special Literal - None - means absence of anything\n",
    "a = None\n",
    "print(a)"
   ]
  },
  {
   "cell_type": "code",
   "execution_count": null,
   "id": "37f7694b",
   "metadata": {},
   "outputs": [],
   "source": [
    "# None is used when we are sure to use a variable later but not sure when and how and where? but it might be used later \n",
    "# we can't initialize it with 0 or something as logic might get affected\n",
    "\n",
    "c = 34+45\n",
    "print(c)"
   ]
  },
  {
   "cell_type": "code",
   "execution_count": null,
   "id": "cb8dbd0d",
   "metadata": {},
   "outputs": [],
   "source": [
    "# variable decla\n",
    "k = None\n",
    "print(k)"
   ]
  },
  {
   "cell_type": "code",
   "execution_count": 1,
   "id": "a102b9e7",
   "metadata": {},
   "outputs": [
    {
     "name": "stdout",
     "output_type": "stream",
     "text": [
      "14\n",
      "8\n",
      "33\n",
      "3.6666666666666665\n",
      "3\n",
      "2\n",
      "1331\n",
      "177147\n",
      "3\n"
     ]
    }
   ],
   "source": [
    "\"\"\"\n",
    "Operators\n",
    "Operators are used to perform operations on variables and values.\n",
    "Python has the following operators:\n",
    "\n",
    "Arithmetic operators\n",
    "Comparison operators\n",
    "Logical operators\n",
    "Bitwise operators\n",
    "Assignment operators\n",
    "Identity operators\n",
    "Membership operators\n",
    "\"\"\"\n",
    "\n",
    "x = 11\n",
    "y = 3\n",
    "\n",
    "print(x+y)\n",
    "\n",
    "print(x-y)\n",
    "\n",
    "print(x * y)\n",
    "\n",
    "print(x/y)  \n",
    "\n",
    "print(x//y) # quotient\n",
    "print(x%y) # modulus - remainder\n",
    "\n",
    "print(x ** y) # Power\n",
    "print(y**x)\n",
    "\n",
    "print(x // 3) # integer division - quotient will be returned as integer\n"
   ]
  },
  {
   "cell_type": "code",
   "execution_count": 2,
   "id": "b732dd9b",
   "metadata": {},
   "outputs": [
    {
     "name": "stdout",
     "output_type": "stream",
     "text": [
      "True\n",
      "False\n",
      "True\n",
      "False\n",
      "True\n",
      "False\n"
     ]
    }
   ],
   "source": [
    "x=5; y=3\n",
    "# Comparision Operators\n",
    "print(x > y) # True as x>y \n",
    "\n",
    "print(x < y)\n",
    "\n",
    "print(x >= y)\n",
    "\n",
    "print(x <= y)\n",
    "\n",
    "print(x!=y)\n",
    "\n",
    "print(x==y)"
   ]
  },
  {
   "cell_type": "code",
   "execution_count": 2,
   "id": "d5671bf3",
   "metadata": {},
   "outputs": [
    {
     "name": "stdout",
     "output_type": "stream",
     "text": [
      "False\n",
      "True\n",
      "True\n"
     ]
    }
   ],
   "source": [
    "a=7  # assignment\n",
    "a==7 # comparision\n",
    "\n",
    "# diff between = and ==\n",
    "\n",
    "\n",
    "print(x==y)\n",
    "print(x==x)\n",
    "print(x!=y)"
   ]
  },
  {
   "cell_type": "code",
   "execution_count": null,
   "id": "8e7db108",
   "metadata": {},
   "outputs": [],
   "source": []
  },
  {
   "cell_type": "code",
   "execution_count": 3,
   "id": "001d5838",
   "metadata": {},
   "outputs": [
    {
     "name": "stdout",
     "output_type": "stream",
     "text": [
      "True\n",
      "True\n",
      "False\n",
      "False\n",
      "True\n",
      "False\n"
     ]
    }
   ],
   "source": [
    "# Logical Operators - AND , OR, etc\n",
    "x =True\n",
    "y = False\n",
    "\n",
    "a= True\n",
    "b = False\n",
    "\n",
    "print(x or y) \n",
    "#OR - returns True if either one is True or both are True\n",
    "print(a or b)\n",
    "print(b or b)\n",
    "\n",
    "print(x and y) # returns True when both the conditions are true (if any1 is false, AND will return False)\n",
    "\n",
    "print(not y)\n",
    "print(not x)"
   ]
  },
  {
   "cell_type": "code",
   "execution_count": null,
   "id": "d406766b",
   "metadata": {},
   "outputs": [],
   "source": []
  },
  {
   "cell_type": "markdown",
   "id": "21ea52cc",
   "metadata": {},
   "source": [
    "### Usecase\n",
    "\n",
    "- We have to take physics marks and total marks of a student and print whether he/she passed or failed\n",
    "- Condition is \n",
    "If Phy marks is greater than 75 and total marks is greater than or equal to 80 then Pass\n",
    "else Fail."
   ]
  },
  {
   "cell_type": "code",
   "execution_count": null,
   "id": "f30f8266",
   "metadata": {},
   "outputs": [],
   "source": []
  },
  {
   "cell_type": "code",
   "execution_count": 3,
   "id": "c5f7c384",
   "metadata": {},
   "outputs": [
    {
     "name": "stdout",
     "output_type": "stream",
     "text": [
      "Enter marks in Physics87\n",
      "Enter total marks98\n",
      "I'll buy you PS8\n",
      "Total marks is  98.0\n",
      "Exam Cleared\n",
      "Congrats\n"
     ]
    }
   ],
   "source": [
    "p_marks = float(input(\"Enter marks in Physics\"))\n",
    "total_marks = float(input(\"Enter total marks\"))\n",
    "\n",
    "if(p_marks > 75 and total_marks >= 80):\n",
    "    print(\"I'll buy you PS8\")\n",
    "    print(\"Total marks is \", total_marks)\n",
    "    print(\"Exam Cleared\")\n",
    "    print(\"Congrats\")\n",
    "    \n",
    "elif(p_marks > 75 and total < 80):\n",
    "    print(\"Not cleared due to less marks\")\n",
    "    print(\"Better luck next time\")\n",
    "else:\n",
    "    print(\"Not Cleared! Try again\")"
   ]
  },
  {
   "cell_type": "code",
   "execution_count": null,
   "id": "5335380a",
   "metadata": {},
   "outputs": [],
   "source": []
  },
  {
   "cell_type": "code",
   "execution_count": null,
   "id": "fb969074",
   "metadata": {},
   "outputs": [],
   "source": [
    "# Bitwise - useful in binary operations like image processing project - apply filter on image after converting them to 0 & 1.\n",
    "\n",
    "x = 2\n",
    "y = 3\n",
    "print(x & y) # this is Bitwise and\n",
    "''' It first converts x and y i.e 2 and 3 into binary like 2's binary is 010 and 3's binary is 110 and then\n",
    "use AND operator and returns the value'''\n",
    "\n",
    "print(x | y)\n",
    "\n",
    "print(x >> 2) #left shift\n",
    "\n",
    "print(y << 3) # right shift\n",
    "\n",
    "print(~x) # negation of x"
   ]
  },
  {
   "cell_type": "code",
   "execution_count": null,
   "id": "28f308a3",
   "metadata": {},
   "outputs": [],
   "source": []
  },
  {
   "cell_type": "code",
   "execution_count": 16,
   "id": "bc461543",
   "metadata": {},
   "outputs": [
    {
     "name": "stdout",
     "output_type": "stream",
     "text": [
      "2\n"
     ]
    },
    {
     "data": {
      "text/plain": [
       "'\\nThe & operator compares each bit and set it to 1 if both are 1, otherwise it is set to 0:\\n\\n6 = 0000000000000110\\n3 = 0000000000000011\\n--------------------\\n2 = 0000000000000010\\n====================\\n\\nDecimal numbers and their binary values:\\n0 = 0000000000000000\\n1 = 0000000000000001\\n2 = 0000000000000010\\n3 = 0000000000000011\\n4 = 0000000000000100\\n5 = 0000000000000101\\n6 = 0000000000000110\\n7 = 0000000000000111\\n'"
      ]
     },
     "execution_count": 16,
     "metadata": {},
     "output_type": "execute_result"
    }
   ],
   "source": [
    "print(6 & 3)\n",
    "\n",
    "\n",
    "\n",
    "\"\"\"\n",
    "The & operator compares each bit and set it to 1 if both are 1, otherwise it is set to 0:\n",
    "\n",
    "6 = 0000000000000110\n",
    "3 = 0000000000000011\n",
    "--------------------\n",
    "2 = 0000000000000010\n",
    "====================\n",
    "\n",
    "Decimal numbers and their binary values:\n",
    "0 = 0000000000000000\n",
    "1 = 0000000000000001\n",
    "2 = 0000000000000010\n",
    "3 = 0000000000000011\n",
    "4 = 0000000000000100\n",
    "5 = 0000000000000101\n",
    "6 = 0000000000000110\n",
    "7 = 0000000000000111\n",
    "\"\"\""
   ]
  },
  {
   "cell_type": "code",
   "execution_count": null,
   "id": "894d2599",
   "metadata": {},
   "outputs": [],
   "source": []
  },
  {
   "cell_type": "code",
   "execution_count": null,
   "id": "53b3c1bf",
   "metadata": {},
   "outputs": [],
   "source": []
  },
  {
   "cell_type": "code",
   "execution_count": null,
   "id": "4bc8601d",
   "metadata": {},
   "outputs": [],
   "source": []
  },
  {
   "cell_type": "code",
   "execution_count": null,
   "id": "722a1c67",
   "metadata": {},
   "outputs": [],
   "source": [
    "# Assignment Operator\n",
    "a = 3 # assigning 3 to variable a\n",
    "print(a)\n"
   ]
  },
  {
   "cell_type": "code",
   "execution_count": null,
   "id": "d5a2cb26",
   "metadata": {},
   "outputs": [],
   "source": [
    "a=1\n",
    "print(a+3)\n",
    "print(a)"
   ]
  },
  {
   "cell_type": "code",
   "execution_count": null,
   "id": "babd8fd3",
   "metadata": {},
   "outputs": [],
   "source": [
    "a=1\n",
    "a = a+3   # a+=3\n",
    "print(a)"
   ]
  },
  {
   "cell_type": "code",
   "execution_count": null,
   "id": "8b213509",
   "metadata": {},
   "outputs": [],
   "source": [
    "a=1\n",
    "print(a)\n",
    "a-=3 # a=a-3  -. a=-2\n",
    "print(a)"
   ]
  },
  {
   "cell_type": "code",
   "execution_count": null,
   "id": "cda4a54a",
   "metadata": {},
   "outputs": [],
   "source": [
    "# shorthand\n",
    "a+= 3 # a=a+3\n",
    "# a = a + 3\n",
    "print(a)\n",
    "print(a -= 3) # a= a-3\n",
    "print(a *= 3)\n",
    "print(a &= 3)"
   ]
  },
  {
   "cell_type": "code",
   "execution_count": null,
   "id": "8261707a",
   "metadata": {},
   "outputs": [],
   "source": [
    "# doesn't work in Python\n",
    "print(a++)\n",
    "++a"
   ]
  },
  {
   "cell_type": "code",
   "execution_count": null,
   "id": "b0915388",
   "metadata": {},
   "outputs": [],
   "source": [
    "a = a + 3\n",
    "a += 3\n",
    "a = 3\n",
    "b = 3\n",
    "\n",
    "print(a is b)"
   ]
  },
  {
   "cell_type": "code",
   "execution_count": null,
   "id": "587036a9",
   "metadata": {},
   "outputs": [],
   "source": []
  },
  {
   "cell_type": "code",
   "execution_count": 6,
   "id": "b9452068",
   "metadata": {},
   "outputs": [
    {
     "name": "stdout",
     "output_type": "stream",
     "text": [
      "True\n"
     ]
    }
   ],
   "source": [
    "# Identity Operators - checks if 2 variables are at same memory location\n",
    "'''Identity operators are used to compare the objects, not if they are equal, but if they are actually the same object, \n",
    "with the same memory location:'''\n",
    "\n",
    "\n",
    "m = 4\n",
    "n = 4\n",
    "print(m is n)"
   ]
  },
  {
   "cell_type": "code",
   "execution_count": 7,
   "id": "0d1d61fa",
   "metadata": {},
   "outputs": [
    {
     "name": "stdout",
     "output_type": "stream",
     "text": [
      "140707238286216\n",
      "140707238286216\n"
     ]
    }
   ],
   "source": [
    "print(id(m))\n",
    "print(id(n))"
   ]
  },
  {
   "cell_type": "code",
   "execution_count": 11,
   "id": "69ef1d5f",
   "metadata": {},
   "outputs": [
    {
     "name": "stdout",
     "output_type": "stream",
     "text": [
      "True\n",
      "False\n"
     ]
    }
   ],
   "source": [
    "x = True\n",
    "y = False\n",
    "\n",
    "print(x)\n",
    "print(y)"
   ]
  },
  {
   "cell_type": "code",
   "execution_count": 12,
   "id": "af9cb7f2",
   "metadata": {},
   "outputs": [
    {
     "name": "stdout",
     "output_type": "stream",
     "text": [
      "140711130769952\n",
      "140711130769984\n",
      "False\n"
     ]
    }
   ],
   "source": [
    "print(id(x))\n",
    "print(id(y))\n",
    "\n",
    "print(x is y)"
   ]
  },
  {
   "cell_type": "code",
   "execution_count": 12,
   "id": "551d1e80",
   "metadata": {},
   "outputs": [
    {
     "name": "stdout",
     "output_type": "stream",
     "text": [
      "False\n"
     ]
    }
   ],
   "source": [
    "mm = 4\n",
    "nn = 5\n",
    "print(mm is nn)"
   ]
  },
  {
   "cell_type": "code",
   "execution_count": null,
   "id": "0f1ee4c6",
   "metadata": {},
   "outputs": [],
   "source": []
  },
  {
   "cell_type": "code",
   "execution_count": 13,
   "id": "6da0fa03",
   "metadata": {},
   "outputs": [
    {
     "name": "stdout",
     "output_type": "stream",
     "text": [
      "True\n",
      "False\n",
      "False\n"
     ]
    }
   ],
   "source": [
    "a = \"Hello\"\n",
    "b = \"H\"\n",
    "# tell me if b contains a\n",
    "print(b in a)\n",
    "print(a in b)\n",
    "print(a is b)"
   ]
  },
  {
   "cell_type": "code",
   "execution_count": 15,
   "id": "bdf0bd69",
   "metadata": {},
   "outputs": [
    {
     "name": "stdout",
     "output_type": "stream",
     "text": [
      "False\n",
      "True\n"
     ]
    }
   ],
   "source": [
    "# If two variables are same it doesn't mean that they are stored at same memory location\n",
    "a = [1,2,3]\n",
    "b = [1,2,3]\n",
    "c = 2\n",
    "\n",
    "print(a is b)\n",
    "print(c in a)"
   ]
  },
  {
   "cell_type": "code",
   "execution_count": null,
   "id": "9b08d9be",
   "metadata": {},
   "outputs": [],
   "source": [
    "a = \"Hello-world\"\n",
    "b = \"Hello-world\"\n",
    "\n",
    "print(a is not b)"
   ]
  },
  {
   "cell_type": "code",
   "execution_count": 13,
   "id": "800ffdf6",
   "metadata": {},
   "outputs": [
    {
     "name": "stdout",
     "output_type": "stream",
     "text": [
      "True\n",
      "False\n"
     ]
    }
   ],
   "source": [
    "# Membership Operators - whether a given variable is into other or not\n",
    "# not present in other lang - Pros of Python\n",
    "\n",
    "x = \"Delhi\"\n",
    "print(\"D\" in x)\n",
    "print(\"D\" not in x)"
   ]
  },
  {
   "cell_type": "code",
   "execution_count": null,
   "id": "fb6acccf",
   "metadata": {},
   "outputs": [],
   "source": []
  },
  {
   "cell_type": "code",
   "execution_count": 15,
   "id": "0fc493f7",
   "metadata": {},
   "outputs": [
    {
     "name": "stdout",
     "output_type": "stream",
     "text": [
      "False\n",
      "True\n"
     ]
    }
   ],
   "source": [
    "x = (1,2,3)\n",
    "print(5 in x)\n",
    "# applicable on list, sets,tuples, etc\n",
    "\n",
    "print(5 not in x)"
   ]
  },
  {
   "cell_type": "code",
   "execution_count": null,
   "id": "64744b9b",
   "metadata": {},
   "outputs": [],
   "source": []
  }
 ],
 "metadata": {
  "kernelspec": {
   "display_name": "Python 3 (ipykernel)",
   "language": "python",
   "name": "python3"
  },
  "language_info": {
   "codemirror_mode": {
    "name": "ipython",
    "version": 3
   },
   "file_extension": ".py",
   "mimetype": "text/x-python",
   "name": "python",
   "nbconvert_exporter": "python",
   "pygments_lexer": "ipython3",
   "version": "3.11.5"
  }
 },
 "nbformat": 4,
 "nbformat_minor": 5
}
