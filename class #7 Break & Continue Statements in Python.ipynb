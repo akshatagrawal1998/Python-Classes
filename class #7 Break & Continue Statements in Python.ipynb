{
 "cells": [
  {
   "cell_type": "markdown",
   "id": "5b983336",
   "metadata": {},
   "source": [
    "## Break and Continue in Python"
   ]
  },
  {
   "cell_type": "code",
   "execution_count": null,
   "id": "ffb0c236",
   "metadata": {},
   "outputs": [],
   "source": []
  },
  {
   "cell_type": "code",
   "execution_count": 1,
   "id": "8a9b4f7f",
   "metadata": {},
   "outputs": [
    {
     "name": "stdout",
     "output_type": "stream",
     "text": [
      "1\n",
      "2\n",
      "3\n",
      "4\n",
      "5\n",
      "6\n",
      "7\n",
      "8\n",
      "9\n",
      "10\n",
      "11\n",
      "12\n",
      "13\n",
      "Outside while loop\n"
     ]
    }
   ],
   "source": [
    "i = 1\n",
    "\n",
    "while i<1000:\n",
    "    print(i)\n",
    "    if i==13:\n",
    "        break\n",
    "    i= i+1\n",
    "print(\"Outside while loop\")"
   ]
  },
  {
   "cell_type": "code",
   "execution_count": null,
   "id": "f4393570",
   "metadata": {},
   "outputs": [],
   "source": [
    "i = 1\n",
    "\n",
    "while i<20:\n",
    "    print(i)\n",
    "    if i==13:\n",
    "        continue\n",
    "    i= i+1\n",
    "print(\"Outside while loop\")"
   ]
  },
  {
   "cell_type": "code",
   "execution_count": null,
   "id": "d4974e71",
   "metadata": {},
   "outputs": [],
   "source": []
  },
  {
   "cell_type": "code",
   "execution_count": 8,
   "id": "fd8125b4",
   "metadata": {},
   "outputs": [
    {
     "name": "stdout",
     "output_type": "stream",
     "text": [
      "value of i is  1  and value of sum is  1\n",
      "value of i is  2  and value of sum is  3\n",
      "value of i is  3  and value of sum is  6\n",
      "value of i is  4  and value of sum is  10\n",
      "value of i is  5  and value of sum is  15\n",
      "value of i is  6  and value of sum is  21\n",
      "21\n"
     ]
    }
   ],
   "source": []
  },
  {
   "cell_type": "code",
   "execution_count": null,
   "id": "6407c359",
   "metadata": {},
   "outputs": [],
   "source": []
  },
  {
   "cell_type": "code",
   "execution_count": 3,
   "id": "6139bd71",
   "metadata": {},
   "outputs": [
    {
     "name": "stdout",
     "output_type": "stream",
     "text": [
      "1\n",
      "2\n",
      "3\n",
      "4\n",
      "5\n",
      "6\n",
      "7\n",
      "8\n",
      "9\n",
      "10\n",
      "11\n",
      "12\n",
      "13\n",
      "14\n",
      "15\n",
      "16\n",
      "17\n",
      "18\n",
      "19\n",
      "20\n"
     ]
    }
   ],
   "source": [
    "# Break Statement\n",
    "# e.g - used in Linear Search - when we are searching for a item in a list of 1 lac numbers, \n",
    "#we want to terminate the loop \n",
    "# as soon as we find our number - terminate the loop - saves runtime\n",
    "\n",
    "for i in range(1,50):\n",
    "    if i == 21:\n",
    "        break  # terminate\n",
    "    print(i)"
   ]
  },
  {
   "cell_type": "code",
   "execution_count": null,
   "id": "977a78bd",
   "metadata": {},
   "outputs": [],
   "source": []
  },
  {
   "cell_type": "code",
   "execution_count": 4,
   "id": "feaa3fc7",
   "metadata": {},
   "outputs": [
    {
     "name": "stdout",
     "output_type": "stream",
     "text": [
      "1\n",
      "2\n",
      "3\n",
      "4\n",
      "6\n",
      "7\n",
      "8\n",
      "9\n",
      "10\n"
     ]
    }
   ],
   "source": [
    "# Continue Statement :\n",
    "\n",
    "for i in range(1,11):\n",
    "    if i == 5:\n",
    "        continue  # skip when value of i  is 5 - just one iteration\n",
    "    print(i)"
   ]
  },
  {
   "cell_type": "code",
   "execution_count": null,
   "id": "385a5aa1",
   "metadata": {},
   "outputs": [],
   "source": []
  },
  {
   "cell_type": "code",
   "execution_count": 4,
   "id": "3dc43f46",
   "metadata": {},
   "outputs": [
    {
     "name": "stdout",
     "output_type": "stream",
     "text": [
      "Enter passing marks\n",
      "30\n",
      "54\n",
      "76\n",
      "89\n",
      "56\n"
     ]
    }
   ],
   "source": [
    "marks = [23,54,29,76,89,56]\n",
    "pass_marks = int(input(\"Enter passing marks\\n\"))\n",
    "\n",
    "for i in marks:\n",
    "    if i <= pass_marks:\n",
    "        continue  # skip when value of i  is 5 - just one iteration\n",
    "    print(i)"
   ]
  },
  {
   "cell_type": "code",
   "execution_count": null,
   "id": "e3c3104b",
   "metadata": {},
   "outputs": [],
   "source": []
  }
 ],
 "metadata": {
  "kernelspec": {
   "display_name": "Python 3 (ipykernel)",
   "language": "python",
   "name": "python3"
  },
  "language_info": {
   "codemirror_mode": {
    "name": "ipython",
    "version": 3
   },
   "file_extension": ".py",
   "mimetype": "text/x-python",
   "name": "python",
   "nbconvert_exporter": "python",
   "pygments_lexer": "ipython3",
   "version": "3.11.5"
  }
 },
 "nbformat": 4,
 "nbformat_minor": 5
}
