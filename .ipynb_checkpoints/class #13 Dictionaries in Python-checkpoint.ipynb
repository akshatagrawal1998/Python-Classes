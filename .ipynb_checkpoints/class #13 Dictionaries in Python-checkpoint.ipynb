{
 "cells": [
  {
   "cell_type": "code",
   "execution_count": null,
   "id": "ea98f696",
   "metadata": {},
   "outputs": [],
   "source": []
  },
  {
   "cell_type": "code",
   "execution_count": 2,
   "id": "4e61b232",
   "metadata": {},
   "outputs": [],
   "source": [
    "# dictionary in Python\n",
    "# items are stored as key value pair\n",
    "\n",
    "# rules to remember\n",
    "# 1. keys should always be immutable while values can be mutable\n",
    "# 2. Dictionary do not have indexing/slicing like sets\n",
    "# 3. Keys should be unique\n",
    "# 4. dictionary is mutable datatypes\n",
    "\n",
    "# Mutable - list, sets, dictionary\n",
    "# Immutable - string, tuple, int, float, boolean, complex"
   ]
  },
  {
   "cell_type": "code",
   "execution_count": null,
   "id": "a3284983",
   "metadata": {},
   "outputs": [],
   "source": []
  },
  {
   "cell_type": "code",
   "execution_count": 1,
   "id": "b6467b15",
   "metadata": {},
   "outputs": [
    {
     "data": {
      "text/plain": [
       "dict"
      ]
     },
     "execution_count": 1,
     "metadata": {},
     "output_type": "execute_result"
    }
   ],
   "source": [
    "# create dictionary\n",
    "d1 = {}\n",
    "type(d1)\n"
   ]
  },
  {
   "cell_type": "code",
   "execution_count": 6,
   "id": "be5fba99",
   "metadata": {},
   "outputs": [
    {
     "name": "stdout",
     "output_type": "stream",
     "text": [
      "{'name': 'Adam', 'Gender': 'Male', 'marks': 78, 'mark1': 100}\n"
     ]
    },
    {
     "data": {
      "text/plain": [
       "dict"
      ]
     },
     "execution_count": 6,
     "metadata": {},
     "output_type": "execute_result"
    }
   ],
   "source": [
    "d = {'name':\"Adam\", \n",
    "     'Gender': 'Male',\n",
    "     'marks':78,\n",
    "     'mark1':100}\n",
    "print(d)\n",
    "type(d)\n",
    "\n",
    "# if the keys are repeated then it'll take the latest value"
   ]
  },
  {
   "cell_type": "code",
   "execution_count": 7,
   "id": "e197203a",
   "metadata": {},
   "outputs": [
    {
     "ename": "TypeError",
     "evalue": "unhashable type: 'list'",
     "output_type": "error",
     "traceback": [
      "\u001b[1;31m---------------------------------------------------------------------------\u001b[0m",
      "\u001b[1;31mTypeError\u001b[0m                                 Traceback (most recent call last)",
      "Cell \u001b[1;32mIn[7], line 2\u001b[0m\n\u001b[0;32m      1\u001b[0m \u001b[38;5;66;03m# 1. keys should always be immutable while values can be mutable - let's try to use list(mutable) as key\u001b[39;00m\n\u001b[1;32m----> 2\u001b[0m d2 \u001b[38;5;241m=\u001b[39m {[\u001b[38;5;241m1\u001b[39m,\u001b[38;5;241m2\u001b[39m,\u001b[38;5;241m3\u001b[39m] : \u001b[38;5;124m\"\u001b[39m\u001b[38;5;124mAdam\u001b[39m\u001b[38;5;124m\"\u001b[39m}\n",
      "\u001b[1;31mTypeError\u001b[0m: unhashable type: 'list'"
     ]
    }
   ],
   "source": [
    "# 1. keys should always be immutable while values can be mutable - let's try to use list(mutable) as key\n",
    "d2 = {[1,2,3] : \"Adam\"}  # list can't be used as key as it is mutable and keys are always immutable\n",
    "# key:value"
   ]
  },
  {
   "cell_type": "code",
   "execution_count": 7,
   "id": "964a7567",
   "metadata": {},
   "outputs": [
    {
     "data": {
      "text/plain": [
       "dict"
      ]
     },
     "execution_count": 7,
     "metadata": {},
     "output_type": "execute_result"
    }
   ],
   "source": [
    "d3 = {(1,2,3) : \"Adam\"} # tuple can be used as key as it is immutable\n",
    "type(d3)"
   ]
  },
  {
   "cell_type": "code",
   "execution_count": null,
   "id": "d608cfe3",
   "metadata": {},
   "outputs": [],
   "source": []
  },
  {
   "cell_type": "code",
   "execution_count": 8,
   "id": "638e4e49",
   "metadata": {},
   "outputs": [
    {
     "name": "stdout",
     "output_type": "stream",
     "text": [
      "{'name': 'Adam', 'gender': 'male'}\n"
     ]
    },
    {
     "data": {
      "text/plain": [
       "dict"
      ]
     },
     "execution_count": 8,
     "metadata": {},
     "output_type": "execute_result"
    }
   ],
   "source": [
    "# keys should be unique\n",
    "d4 = {'name' : 'rahul', 'gender' : 'male' , 'name' : 'Adam'}\n",
    "# error won't come but latest value of the key will be stored as an updation step\n",
    "print(d4)\n",
    "type(d4)"
   ]
  },
  {
   "cell_type": "code",
   "execution_count": 10,
   "id": "67ed9011",
   "metadata": {},
   "outputs": [
    {
     "data": {
      "text/plain": [
       "79"
      ]
     },
     "execution_count": 10,
     "metadata": {},
     "output_type": "execute_result"
    }
   ],
   "source": [
    "# ==================================================================================================\n",
    "# 2-D dictionary\n",
    "d3 ={\"name\":\"Eve\", \"marks\" : {\"English\" : 79 , 'maths' : 89}}\n",
    "d3\n",
    "d3['marks']['English']"
   ]
  },
  {
   "cell_type": "code",
   "execution_count": 11,
   "id": "55aef8ae",
   "metadata": {},
   "outputs": [],
   "source": [
    "a= 'Eve'"
   ]
  },
  {
   "cell_type": "code",
   "execution_count": 12,
   "id": "6b97d786",
   "metadata": {},
   "outputs": [
    {
     "data": {
      "text/plain": [
       "{'name': {'fname': 'Eve', 'lname': 'Mathews'},\n",
       " 'marks': {'English': 79, 'maths': 89}}"
      ]
     },
     "execution_count": 12,
     "metadata": {},
     "output_type": "execute_result"
    }
   ],
   "source": [
    "d3 ={\"name\":{'fname':a , 'lname' : 'Mathews'}, \"marks\" : {\"English\" : 79 , 'maths' : 89}}\n",
    "d3"
   ]
  },
  {
   "cell_type": "code",
   "execution_count": 14,
   "id": "167b49ca",
   "metadata": {},
   "outputs": [
    {
     "data": {
      "text/plain": [
       "'Eve'"
      ]
     },
     "execution_count": 14,
     "metadata": {},
     "output_type": "execute_result"
    }
   ],
   "source": [
    "d3['name']['fname']"
   ]
  },
  {
   "cell_type": "code",
   "execution_count": null,
   "id": "0dfa8cef",
   "metadata": {},
   "outputs": [],
   "source": []
  },
  {
   "cell_type": "code",
   "execution_count": 11,
   "id": "4b580bcf",
   "metadata": {},
   "outputs": [
    {
     "data": {
      "text/plain": [
       "dict"
      ]
     },
     "execution_count": 11,
     "metadata": {},
     "output_type": "execute_result"
    }
   ],
   "source": [
    "\n",
    "d4 ={\"name\":\"Eve\", \"marks\" : {\"English\" : 79 , 'maths' : {'Part1' : 78 , 'Part2' : 56}}}\n",
    "d4\n",
    "type(d4)"
   ]
  },
  {
   "cell_type": "code",
   "execution_count": null,
   "id": "9a689edf",
   "metadata": {},
   "outputs": [],
   "source": []
  },
  {
   "cell_type": "code",
   "execution_count": 12,
   "id": "758b76f5",
   "metadata": {},
   "outputs": [
    {
     "data": {
      "text/plain": [
       "'Eve'"
      ]
     },
     "execution_count": 12,
     "metadata": {},
     "output_type": "execute_result"
    }
   ],
   "source": [
    "# -==================================================================================================\n",
    "# Accessing items from a dictionary is done using it's key\n",
    "# dictionary doesn't have indexing - so accessing elements can be done using key\n",
    "d4['name']"
   ]
  },
  {
   "cell_type": "code",
   "execution_count": 13,
   "id": "b7a6e9b0",
   "metadata": {},
   "outputs": [
    {
     "data": {
      "text/plain": [
       "{'English': 79, 'maths': 89}"
      ]
     },
     "execution_count": 13,
     "metadata": {},
     "output_type": "execute_result"
    }
   ],
   "source": [
    "d3[\"marks\"]"
   ]
  },
  {
   "cell_type": "code",
   "execution_count": 14,
   "id": "d5a27469",
   "metadata": {},
   "outputs": [
    {
     "data": {
      "text/plain": [
       "{'English': 79, 'maths': {'Part1': 78, 'Part2': 56}}"
      ]
     },
     "execution_count": 14,
     "metadata": {},
     "output_type": "execute_result"
    }
   ],
   "source": [
    "d4['marks']"
   ]
  },
  {
   "cell_type": "code",
   "execution_count": 15,
   "id": "834a4ca4",
   "metadata": {},
   "outputs": [
    {
     "data": {
      "text/plain": [
       "{'Part1': 78, 'Part2': 56}"
      ]
     },
     "execution_count": 15,
     "metadata": {},
     "output_type": "execute_result"
    }
   ],
   "source": [
    "d4['marks']['maths']"
   ]
  },
  {
   "cell_type": "code",
   "execution_count": 16,
   "id": "89432905",
   "metadata": {},
   "outputs": [
    {
     "data": {
      "text/plain": [
       "56"
      ]
     },
     "execution_count": 16,
     "metadata": {},
     "output_type": "execute_result"
    }
   ],
   "source": [
    "d4['marks']['maths']['Part2']"
   ]
  },
  {
   "cell_type": "code",
   "execution_count": null,
   "id": "14252f5f",
   "metadata": {},
   "outputs": [],
   "source": []
  },
  {
   "cell_type": "code",
   "execution_count": null,
   "id": "ead247bd",
   "metadata": {},
   "outputs": [],
   "source": []
  },
  {
   "cell_type": "code",
   "execution_count": 15,
   "id": "48f92908",
   "metadata": {},
   "outputs": [
    {
     "data": {
      "text/plain": [
       "{'name': 'Adam', 'marks': {'English': 79, 'maths': 89}}"
      ]
     },
     "execution_count": 15,
     "metadata": {},
     "output_type": "execute_result"
    }
   ],
   "source": [
    "# =================================================================================================\n",
    "# edit a dictionary\n",
    "\n",
    "d3\n",
    "d3['name'] = \"Adam\"\n",
    "d3"
   ]
  },
  {
   "cell_type": "code",
   "execution_count": 16,
   "id": "9c532a31",
   "metadata": {},
   "outputs": [
    {
     "data": {
      "text/plain": [
       "{'name': 'Adam', 'marks': {'English': 79, 'maths': 89}}"
      ]
     },
     "execution_count": 16,
     "metadata": {},
     "output_type": "execute_result"
    }
   ],
   "source": [
    "d3"
   ]
  },
  {
   "cell_type": "code",
   "execution_count": 17,
   "id": "83c6b442",
   "metadata": {},
   "outputs": [
    {
     "data": {
      "text/plain": [
       "{'name': 'Adam', 'marks': {'English': 79, 'maths': 89}, 'Age': 32}"
      ]
     },
     "execution_count": 17,
     "metadata": {},
     "output_type": "execute_result"
    }
   ],
   "source": [
    "# add new key value pair\n",
    "d3['Age'] = 32\n",
    "d3"
   ]
  },
  {
   "cell_type": "code",
   "execution_count": 20,
   "id": "b743f150",
   "metadata": {},
   "outputs": [
    {
     "data": {
      "text/plain": [
       "{'name': 'Adam', 'marks': {'English': 79, 'maths': 89}, 'Age': 45}"
      ]
     },
     "execution_count": 20,
     "metadata": {},
     "output_type": "execute_result"
    }
   ],
   "source": [
    "d3['Age'] = 45\n",
    "d3"
   ]
  },
  {
   "cell_type": "code",
   "execution_count": 21,
   "id": "11a72f19",
   "metadata": {},
   "outputs": [
    {
     "data": {
      "text/plain": [
       "{'name': 'Adam', 'marks': {'English': 79, 'maths': 89}, 'Age': 45, 'Age1': 58}"
      ]
     },
     "execution_count": 21,
     "metadata": {},
     "output_type": "execute_result"
    }
   ],
   "source": [
    "d3['Age1'] = 58\n",
    "d3"
   ]
  },
  {
   "cell_type": "code",
   "execution_count": null,
   "id": "84000e68",
   "metadata": {},
   "outputs": [],
   "source": [
    "# =================================================================================================\n",
    "# delete in dictionary - del, clear\n",
    "\n",
    "del d3"
   ]
  },
  {
   "cell_type": "code",
   "execution_count": 19,
   "id": "20846549",
   "metadata": {},
   "outputs": [
    {
     "data": {
      "text/plain": [
       "{'marks': {'English': 79, 'maths': {'Part1': 78, 'Part2': 56}}}"
      ]
     },
     "execution_count": 19,
     "metadata": {},
     "output_type": "execute_result"
    }
   ],
   "source": [
    "# we can also delete individual key value pair\n",
    "d4\n",
    "del d4['name']\n",
    "d4"
   ]
  },
  {
   "cell_type": "code",
   "execution_count": 20,
   "id": "e9f5de43",
   "metadata": {},
   "outputs": [
    {
     "data": {
      "text/plain": [
       "{}"
      ]
     },
     "execution_count": 20,
     "metadata": {},
     "output_type": "execute_result"
    }
   ],
   "source": [
    "d4.clear() # dict becomes an empty dictionary\n",
    "d4"
   ]
  },
  {
   "cell_type": "code",
   "execution_count": null,
   "id": "660a4677",
   "metadata": {},
   "outputs": [],
   "source": []
  },
  {
   "cell_type": "code",
   "execution_count": null,
   "id": "36ce1c2e",
   "metadata": {},
   "outputs": [],
   "source": []
  },
  {
   "cell_type": "code",
   "execution_count": null,
   "id": "9899657b",
   "metadata": {},
   "outputs": [],
   "source": []
  },
  {
   "cell_type": "code",
   "execution_count": null,
   "id": "be3e701f",
   "metadata": {},
   "outputs": [],
   "source": []
  },
  {
   "cell_type": "code",
   "execution_count": null,
   "id": "66f76069",
   "metadata": {},
   "outputs": [],
   "source": [
    "# =================================================================================================\n",
    "d1 = {'name' : \"Mike\", \"age\" : 56}\n",
    "d2 = {\"marks\" : 56}\n",
    "\n",
    "# concat of dict not possible\n",
    "# multiplication not possible\n",
    "\n",
    "\n",
    "# to get values - \n",
    "for i in d1:\n",
    "    print(i,\" \", d1[i])\n",
    "\n",
    "# membership operators in dictionary - it checks for keys not values\n",
    "'Mike' in d1\n",
    "\"name\" in d1\n",
    "\"Name\" in d1"
   ]
  },
  {
   "cell_type": "code",
   "execution_count": 23,
   "id": "fd894254",
   "metadata": {},
   "outputs": [
    {
     "data": {
      "text/plain": [
       "{'name': 'Adam', 'marks': {'English': 79, 'maths': 89}, 'Age': 45, 'Age1': 58}"
      ]
     },
     "execution_count": 23,
     "metadata": {},
     "output_type": "execute_result"
    }
   ],
   "source": [
    "d3"
   ]
  },
  {
   "cell_type": "code",
   "execution_count": 29,
   "id": "649cd78a",
   "metadata": {},
   "outputs": [
    {
     "data": {
      "text/plain": [
       "dict_keys(['name', 'marks', 'Age', 'Age1'])"
      ]
     },
     "execution_count": 29,
     "metadata": {},
     "output_type": "execute_result"
    }
   ],
   "source": [
    "d3.keys()"
   ]
  },
  {
   "cell_type": "code",
   "execution_count": 30,
   "id": "03640300",
   "metadata": {},
   "outputs": [
    {
     "data": {
      "text/plain": [
       "dict_values(['Adam', {'English': 79, 'maths': 89}, 45, 58])"
      ]
     },
     "execution_count": 30,
     "metadata": {},
     "output_type": "execute_result"
    }
   ],
   "source": [
    "d3.values()"
   ]
  },
  {
   "cell_type": "code",
   "execution_count": 31,
   "id": "d813ab68",
   "metadata": {},
   "outputs": [
    {
     "name": "stdout",
     "output_type": "stream",
     "text": [
      "name\n",
      "marks\n",
      "Age\n",
      "Age1\n"
     ]
    }
   ],
   "source": [
    "# loops\n",
    "for i in d3:\n",
    "    print(i)\n",
    "# above loop will give us keys only"
   ]
  },
  {
   "cell_type": "code",
   "execution_count": null,
   "id": "d1f310e8",
   "metadata": {},
   "outputs": [],
   "source": []
  },
  {
   "cell_type": "code",
   "execution_count": null,
   "id": "016328bb",
   "metadata": {},
   "outputs": [],
   "source": [
    "# =================================================================================================\n",
    "# Functions in dict\n",
    "\n",
    "len(d1)\n",
    "max(d1) # based on ASCII characters\n",
    "min(d1)\n",
    "\n",
    "\n",
    "# Sum won't work for string datatype, but if keys were of numerical type then sum can work\n",
    "\n",
    "sorted(d1, reverse = True)\n",
    "\n",
    "\n",
    "# To get all the keys or all values in a dictionary\n",
    "d3\n",
    "d3.keys()\n",
    "d3.values()"
   ]
  },
  {
   "cell_type": "code",
   "execution_count": null,
   "id": "ac2d8783",
   "metadata": {},
   "outputs": [],
   "source": []
  },
  {
   "cell_type": "code",
   "execution_count": null,
   "id": "e3146192",
   "metadata": {},
   "outputs": [],
   "source": []
  },
  {
   "cell_type": "code",
   "execution_count": null,
   "id": "63a742c5",
   "metadata": {},
   "outputs": [],
   "source": []
  },
  {
   "cell_type": "code",
   "execution_count": null,
   "id": "cdf7464b",
   "metadata": {},
   "outputs": [],
   "source": []
  },
  {
   "cell_type": "code",
   "execution_count": null,
   "id": "46e6491f",
   "metadata": {},
   "outputs": [],
   "source": []
  },
  {
   "cell_type": "code",
   "execution_count": null,
   "id": "178858b2",
   "metadata": {},
   "outputs": [],
   "source": []
  },
  {
   "cell_type": "code",
   "execution_count": null,
   "id": "950a2f61",
   "metadata": {},
   "outputs": [],
   "source": []
  },
  {
   "cell_type": "code",
   "execution_count": null,
   "id": "f3b3b009",
   "metadata": {},
   "outputs": [],
   "source": []
  },
  {
   "cell_type": "code",
   "execution_count": null,
   "id": "1811fcee",
   "metadata": {},
   "outputs": [],
   "source": []
  },
  {
   "cell_type": "code",
   "execution_count": null,
   "id": "f9881035",
   "metadata": {},
   "outputs": [],
   "source": []
  },
  {
   "cell_type": "code",
   "execution_count": null,
   "id": "c99737a9",
   "metadata": {},
   "outputs": [],
   "source": []
  }
 ],
 "metadata": {
  "kernelspec": {
   "display_name": "Python 3 (ipykernel)",
   "language": "python",
   "name": "python3"
  },
  "language_info": {
   "codemirror_mode": {
    "name": "ipython",
    "version": 3
   },
   "file_extension": ".py",
   "mimetype": "text/x-python",
   "name": "python",
   "nbconvert_exporter": "python",
   "pygments_lexer": "ipython3",
   "version": "3.11.5"
  }
 },
 "nbformat": 4,
 "nbformat_minor": 5
}
