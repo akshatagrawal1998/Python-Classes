{
 "cells": [
  {
   "cell_type": "code",
   "execution_count": null,
   "id": "00108487",
   "metadata": {},
   "outputs": [],
   "source": []
  },
  {
   "cell_type": "code",
   "execution_count": 1,
   "id": "0edd9b01",
   "metadata": {},
   "outputs": [],
   "source": [
    "# Tuples in Python - similar to list - data structure\n",
    "# tuples are immutable while list are mutable - we can't edit a tuple once created\n",
    "# we can read from tuples but not write - it's a read only datatype\n",
    "# Application - used where data need not to be changed - e.g historical data of a college"
   ]
  },
  {
   "cell_type": "code",
   "execution_count": null,
   "id": "80e28889",
   "metadata": {},
   "outputs": [],
   "source": []
  },
  {
   "cell_type": "code",
   "execution_count": 2,
   "id": "421e056c",
   "metadata": {},
   "outputs": [
    {
     "data": {
      "text/plain": [
       "tuple"
      ]
     },
     "execution_count": 2,
     "metadata": {},
     "output_type": "execute_result"
    }
   ],
   "source": [
    "\n",
    "\n",
    "#create tuples - we use () not [] to create tuple\n",
    "t=()\n",
    "t\n",
    "type(t)\n",
    "\n",
    "# homogeneous tuple\n",
    "t1 = (1,2,34,5)\n",
    "t1\n",
    "\n",
    "# heterogeneous tuple - containing more than one datatype\n",
    "l2 = (1,'Adam', 5.6)\n",
    "l2\n",
    "\n",
    "# 2-D tuple\n",
    "t_2 = ((1,2), (4,6), 8)\n",
    "type(t_2)\n",
    "type(t_2[0])\n",
    "\n",
    "# single item tuple \n",
    "l3 = (4)\n",
    "type(l3)  # int type not tuple\n",
    "# we have to use comma to create a single item tuple\n",
    "l4 = (4,)\n",
    "type(l4)\n",
    "\n",
    "int(4.3)\n",
    "\n",
    "# using type conversion method to create tuple\n",
    "t6 = tuple(\"Goa\")   # t6 = (\"Goa\",)\n",
    "t6\n",
    "type(t6)\n",
    "\n",
    "t66 = ('G', 'O', 'A')\n",
    "type(t66)\n"
   ]
  },
  {
   "cell_type": "code",
   "execution_count": null,
   "id": "c527e87d",
   "metadata": {},
   "outputs": [],
   "source": []
  },
  {
   "cell_type": "code",
   "execution_count": 6,
   "id": "a923ecb3",
   "metadata": {},
   "outputs": [
    {
     "data": {
      "text/plain": [
       "tuple"
      ]
     },
     "execution_count": 6,
     "metadata": {},
     "output_type": "execute_result"
    }
   ],
   "source": [
    "x = ([1,2,4,5,'Adam'], 1,2,4)\n",
    "type(x)"
   ]
  },
  {
   "cell_type": "code",
   "execution_count": 8,
   "id": "d622d27e",
   "metadata": {},
   "outputs": [
    {
     "data": {
      "text/plain": [
       "list"
      ]
     },
     "execution_count": 8,
     "metadata": {},
     "output_type": "execute_result"
    }
   ],
   "source": [
    "y = ([1,2,4,5,'Adam'])\n",
    "type(y)\n"
   ]
  },
  {
   "cell_type": "code",
   "execution_count": 9,
   "id": "37873b35",
   "metadata": {},
   "outputs": [
    {
     "name": "stdout",
     "output_type": "stream",
     "text": [
      "(1, 2, 4, 5, 'Adam')\n"
     ]
    },
    {
     "data": {
      "text/plain": [
       "tuple"
      ]
     },
     "execution_count": 9,
     "metadata": {},
     "output_type": "execute_result"
    }
   ],
   "source": [
    "\n",
    "# tuple from a list\n",
    "t7 = tuple([1,2,4,5,'Adam'])\n",
    "print(t7)\n",
    "type(t7)"
   ]
  },
  {
   "cell_type": "code",
   "execution_count": 3,
   "id": "3199e17e",
   "metadata": {},
   "outputs": [
    {
     "data": {
      "text/plain": [
       "tuple"
      ]
     },
     "execution_count": 3,
     "metadata": {},
     "output_type": "execute_result"
    }
   ],
   "source": [
    "# Access items from a tuple\n",
    "t7\n",
    "t7[-1]\n",
    "t7[2]\n",
    "\n",
    "# we can store a tuple inside a list and vice versa\n",
    "y = [1,2,4, (1,3)]\n",
    "type(y)\n",
    "\n",
    "z =(1,2,4,[34,75])\n",
    "type(z)\n"
   ]
  },
  {
   "cell_type": "code",
   "execution_count": null,
   "id": "b1fbfeaf",
   "metadata": {},
   "outputs": [],
   "source": []
  },
  {
   "cell_type": "code",
   "execution_count": null,
   "id": "b1fc2fad",
   "metadata": {},
   "outputs": [],
   "source": []
  },
  {
   "cell_type": "code",
   "execution_count": 5,
   "id": "5120719a",
   "metadata": {},
   "outputs": [
    {
     "data": {
      "text/plain": [
       "[100, 2, 3, 5]"
      ]
     },
     "execution_count": 5,
     "metadata": {},
     "output_type": "execute_result"
    }
   ],
   "source": [
    "# Difference with list comes in editing elements \n",
    "l = [1,2,3,5]\n",
    "l\n",
    "l[0] = 100\n",
    "l"
   ]
  },
  {
   "cell_type": "code",
   "execution_count": 10,
   "id": "0cc3dbe2",
   "metadata": {},
   "outputs": [
    {
     "ename": "TypeError",
     "evalue": "'tuple' object does not support item assignment",
     "output_type": "error",
     "traceback": [
      "\u001b[1;31m---------------------------------------------------------------------------\u001b[0m",
      "\u001b[1;31mTypeError\u001b[0m                                 Traceback (most recent call last)",
      "Cell \u001b[1;32mIn[10], line 2\u001b[0m\n\u001b[0;32m      1\u001b[0m t\u001b[38;5;241m=\u001b[39m(\u001b[38;5;241m1\u001b[39m,\u001b[38;5;241m2\u001b[39m,\u001b[38;5;241m3\u001b[39m,\u001b[38;5;241m4\u001b[39m)\n\u001b[1;32m----> 2\u001b[0m t[\u001b[38;5;241m0\u001b[39m] \u001b[38;5;241m=\u001b[39m \u001b[38;5;241m100\u001b[39m  \u001b[38;5;66;03m# shows error\u001b[39;00m\n\u001b[0;32m      3\u001b[0m t\n",
      "\u001b[1;31mTypeError\u001b[0m: 'tuple' object does not support item assignment"
     ]
    }
   ],
   "source": [
    "t=(1,2,3,4)\n",
    "t[0] = 100  # shows error\n",
    "t"
   ]
  },
  {
   "cell_type": "code",
   "execution_count": null,
   "id": "51b3156e",
   "metadata": {},
   "outputs": [],
   "source": []
  },
  {
   "cell_type": "code",
   "execution_count": null,
   "id": "4cf37e3c",
   "metadata": {},
   "outputs": [],
   "source": [
    "# Basically Tuples are immutable - can't change - it is like string\n",
    "# neither we can add elements nor edit elements in it\n",
    "\n",
    "# Deleting from tuple\n",
    "t\n",
    "del t[0]\n",
    "del t\n",
    "# we can delete the whole tuple only - but we can't delete a single or multiple elements from it"
   ]
  },
  {
   "cell_type": "code",
   "execution_count": null,
   "id": "c2d27f71",
   "metadata": {},
   "outputs": [],
   "source": []
  },
  {
   "cell_type": "code",
   "execution_count": null,
   "id": "1d8d3a1d",
   "metadata": {},
   "outputs": [],
   "source": []
  },
  {
   "cell_type": "code",
   "execution_count": 12,
   "id": "03a40c53",
   "metadata": {},
   "outputs": [
    {
     "name": "stdout",
     "output_type": "stream",
     "text": [
      "1\n",
      "2\n",
      "3\n"
     ]
    }
   ],
   "source": [
    "# operations in tuple\n",
    "t1 = (1,2,3)\n",
    "t2 = ('Adam', 'Mike',3)\n",
    "t1+t2\n",
    "t1*3\n",
    "t2*3\n",
    "2 in t2\n",
    "2 in t1\n",
    "\n",
    "for i in t1:\n",
    "    print(i)"
   ]
  },
  {
   "cell_type": "code",
   "execution_count": null,
   "id": "e93240cb",
   "metadata": {},
   "outputs": [],
   "source": []
  },
  {
   "cell_type": "code",
   "execution_count": 8,
   "id": "c3eeb488",
   "metadata": {},
   "outputs": [
    {
     "ename": "AttributeError",
     "evalue": "'tuple' object has no attribute 'sort'",
     "output_type": "error",
     "traceback": [
      "\u001b[1;31m---------------------------------------------------------------------------\u001b[0m",
      "\u001b[1;31mAttributeError\u001b[0m                            Traceback (most recent call last)",
      "Cell \u001b[1;32mIn[8], line 7\u001b[0m\n\u001b[0;32m      5\u001b[0m \u001b[38;5;28mmax\u001b[39m(t1)\n\u001b[0;32m      6\u001b[0m \u001b[38;5;28msorted\u001b[39m(t1, reverse\u001b[38;5;241m=\u001b[39m\u001b[38;5;28;01mTrue\u001b[39;00m) \u001b[38;5;66;03m# it'll convert into a list when we sort a tuple\u001b[39;00m\n\u001b[1;32m----> 7\u001b[0m t1\u001b[38;5;241m.\u001b[39msort() \u001b[38;5;66;03m# tuple doesnot any attribute called sort()\u001b[39;00m\n\u001b[0;32m     10\u001b[0m \u001b[38;5;28mstr\u001b[39m \u001b[38;5;241m=\u001b[39m \u001b[38;5;124m\"\u001b[39m\u001b[38;5;124mAdam\u001b[39m\u001b[38;5;124m\"\u001b[39m\n\u001b[0;32m     11\u001b[0m \u001b[38;5;28mstr\u001b[39m\u001b[38;5;241m*\u001b[39m\u001b[38;5;241m2\u001b[39m\n",
      "\u001b[1;31mAttributeError\u001b[0m: 'tuple' object has no attribute 'sort'"
     ]
    }
   ],
   "source": [
    "# Functions in tuple\n",
    "len(t1)\n",
    "sum(t1)\n",
    "min(t1)\n",
    "max(t1)\n",
    "\n",
    "t1.sort() # tuple doesnot any attribute called sort()\n",
    "\n",
    "\n",
    "str = \"Adam\"\n",
    "str*2"
   ]
  },
  {
   "cell_type": "code",
   "execution_count": 13,
   "id": "d15517ef",
   "metadata": {},
   "outputs": [
    {
     "data": {
      "text/plain": [
       "(1, 2, 3)"
      ]
     },
     "execution_count": 13,
     "metadata": {},
     "output_type": "execute_result"
    }
   ],
   "source": [
    "t1"
   ]
  },
  {
   "cell_type": "code",
   "execution_count": 19,
   "id": "2f239b75",
   "metadata": {},
   "outputs": [
    {
     "name": "stdout",
     "output_type": "stream",
     "text": [
      "[3, 2, 1]\n"
     ]
    }
   ],
   "source": [
    "print(sorted(t1, reverse=True)) # it'll convert into a list temporaririly when we sort a tuple, it's not a permanent operation"
   ]
  },
  {
   "cell_type": "code",
   "execution_count": 18,
   "id": "28193260",
   "metadata": {},
   "outputs": [
    {
     "name": "stdout",
     "output_type": "stream",
     "text": [
      "<class 'tuple'>\n"
     ]
    }
   ],
   "source": [
    "print(type(t1))"
   ]
  },
  {
   "cell_type": "code",
   "execution_count": null,
   "id": "7f8d9f7d",
   "metadata": {},
   "outputs": [],
   "source": []
  },
  {
   "cell_type": "code",
   "execution_count": null,
   "id": "060f55b5",
   "metadata": {},
   "outputs": [],
   "source": []
  },
  {
   "cell_type": "code",
   "execution_count": null,
   "id": "806bff2a",
   "metadata": {},
   "outputs": [],
   "source": []
  },
  {
   "cell_type": "code",
   "execution_count": null,
   "id": "a456c464",
   "metadata": {},
   "outputs": [],
   "source": []
  },
  {
   "cell_type": "code",
   "execution_count": null,
   "id": "ef2674de",
   "metadata": {},
   "outputs": [],
   "source": []
  },
  {
   "cell_type": "code",
   "execution_count": null,
   "id": "9e4091a6",
   "metadata": {},
   "outputs": [],
   "source": []
  },
  {
   "cell_type": "code",
   "execution_count": null,
   "id": "5d84207d",
   "metadata": {},
   "outputs": [],
   "source": []
  },
  {
   "cell_type": "code",
   "execution_count": null,
   "id": "48edf4bb",
   "metadata": {},
   "outputs": [],
   "source": []
  },
  {
   "cell_type": "code",
   "execution_count": null,
   "id": "50ad9c9f",
   "metadata": {},
   "outputs": [],
   "source": []
  },
  {
   "cell_type": "code",
   "execution_count": null,
   "id": "307adb8a",
   "metadata": {},
   "outputs": [],
   "source": []
  }
 ],
 "metadata": {
  "kernelspec": {
   "display_name": "Python 3 (ipykernel)",
   "language": "python",
   "name": "python3"
  },
  "language_info": {
   "codemirror_mode": {
    "name": "ipython",
    "version": 3
   },
   "file_extension": ".py",
   "mimetype": "text/x-python",
   "name": "python",
   "nbconvert_exporter": "python",
   "pygments_lexer": "ipython3",
   "version": "3.11.5"
  }
 },
 "nbformat": 4,
 "nbformat_minor": 5
}
