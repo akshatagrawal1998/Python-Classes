{
 "cells": [
  {
   "cell_type": "code",
   "execution_count": null,
   "id": "7403d659",
   "metadata": {},
   "outputs": [],
   "source": []
  },
  {
   "cell_type": "code",
   "execution_count": null,
   "id": "81dbae1b",
   "metadata": {},
   "outputs": [],
   "source": []
  },
  {
   "cell_type": "code",
   "execution_count": null,
   "id": "b5bc4fe3",
   "metadata": {},
   "outputs": [],
   "source": []
  },
  {
   "cell_type": "code",
   "execution_count": 56,
   "id": "3d7da098",
   "metadata": {},
   "outputs": [],
   "source": [
    "# pip install mysql-connector-python"
   ]
  },
  {
   "cell_type": "code",
   "execution_count": 1,
   "id": "8b00ec02",
   "metadata": {},
   "outputs": [],
   "source": [
    "import mysql.connector"
   ]
  },
  {
   "cell_type": "code",
   "execution_count": 2,
   "id": "f2b5402d",
   "metadata": {},
   "outputs": [],
   "source": [
    "import pandas as pd"
   ]
  },
  {
   "cell_type": "markdown",
   "id": "a0ad3a85",
   "metadata": {},
   "source": [
    "### How do i know the host of mysql?\n",
    "\n",
    "\n",
    "Determining the host of your MySQL server depends on where your MySQL server is installed and how it's set up. Here are a few common scenarios and how to find the host in each:\n",
    "\n",
    "##### 1. Local Machine\n",
    "If MySQL is installed on your local computer, the host will typically be:\n",
    "\n",
    "Hostname: localhost or 127.0.0.1\n",
    "This means the server is running on the same machine as your client application (i.e., your Python script).\n",
    "\n",
    "##### 2. On a Remote Server\n",
    "If the MySQL server is installed on a remote machine, such as a server in a data center or on a cloud platform (e.g., AWS, \n",
    "Google Cloud, Azure), the host will be:\n",
    "\n",
    "Hostname or IP Address: You can usually find this information from the service where the server is hosted. This could be the \n",
    "public IP address or a domain name provided by the hosting service.\n",
    "\n",
    "\n",
    "- How to Find the Host Details\n",
    "Control Panel of Hosting Service: If you're using a web hosting service, log into the control panel. There's typically a section\n",
    "for databases that will list the hostname or IP address.\n",
    "\n",
    "From the System Itself: If you have access to the server via SSH or another terminal access method, you can check the network \n",
    "settings:\n",
    "\n",
    "On Linux, you can use ifconfig or ip addr show to see the IP addresses assigned to the server.\n",
    "\n",
    "On Windows, you can use ipconfig in the command prompt to find the IP address.\n",
    "\n",
    "##### 3. Cloud Services\n",
    "For MySQL databases hosted on cloud platforms like AWS RDS, Google Cloud SQL, or Azure Database for MySQL:\n",
    "\n",
    "Cloud Console: Check the database details in the cloud service’s management console. Each cloud provider will provide an \n",
    "endpoint (hostname) that you use to connect.\n"
   ]
  },
  {
   "cell_type": "code",
   "execution_count": 21,
   "id": "ffc33e70",
   "metadata": {},
   "outputs": [],
   "source": [
    "# Create a connection to the database\n",
    "cnxn = mysql.connector.connect(\n",
    "    host=\"127.0.0.1\",  # Typically 'localhost' or the IP address of the MySQL server\n",
    "    user=\"root\",\n",
    "    password=\"Akshat@123\",\n",
    "    database=\"practice\"\n",
    ")"
   ]
  },
  {
   "cell_type": "code",
   "execution_count": 22,
   "id": "da29db19",
   "metadata": {},
   "outputs": [
    {
     "data": {
      "text/plain": [
       "<mysql.connector.cursor_cext.CMySQLCursor at 0x1f7c9271310>"
      ]
     },
     "execution_count": 22,
     "metadata": {},
     "output_type": "execute_result"
    }
   ],
   "source": [
    "# Create a cursor object\n",
    "cursor = cnxn.cursor()\n",
    "cursor"
   ]
  },
  {
   "cell_type": "code",
   "execution_count": 23,
   "id": "dd766ada",
   "metadata": {},
   "outputs": [],
   "source": [
    "# Execute a query\n",
    "cursor.execute(\"SELECT * FROM patient\")"
   ]
  },
  {
   "cell_type": "code",
   "execution_count": 24,
   "id": "f9cdcfa4",
   "metadata": {},
   "outputs": [
    {
     "data": {
      "text/plain": [
       "[(1, datetime.date(2020, 1, 2), 100),\n",
       " (1, datetime.date(2020, 1, 27), 200),\n",
       " (2, datetime.date(2020, 1, 1), 300),\n",
       " (2, datetime.date(2020, 1, 21), 400),\n",
       " (2, datetime.date(2020, 1, 21), 300),\n",
       " (2, datetime.date(2020, 1, 1), 500),\n",
       " (3, datetime.date(2020, 1, 20), 400),\n",
       " (1, datetime.date(2020, 3, 4), 500),\n",
       " (3, datetime.date(2020, 1, 20), 450)]"
      ]
     },
     "execution_count": 24,
     "metadata": {},
     "output_type": "execute_result"
    }
   ],
   "source": [
    "# Fetch the results\n",
    "result = cursor.fetchall()\n",
    "result"
   ]
  },
  {
   "cell_type": "code",
   "execution_count": 25,
   "id": "6ae32e67",
   "metadata": {},
   "outputs": [
    {
     "name": "stdout",
     "output_type": "stream",
     "text": [
      "(1, datetime.date(2020, 1, 2), 100)\n",
      "(1, datetime.date(2020, 1, 27), 200)\n",
      "(2, datetime.date(2020, 1, 1), 300)\n",
      "(2, datetime.date(2020, 1, 21), 400)\n",
      "(2, datetime.date(2020, 1, 21), 300)\n",
      "(2, datetime.date(2020, 1, 1), 500)\n",
      "(3, datetime.date(2020, 1, 20), 400)\n",
      "(1, datetime.date(2020, 3, 4), 500)\n",
      "(3, datetime.date(2020, 1, 20), 450)\n"
     ]
    }
   ],
   "source": [
    "for row in result:\n",
    "    print(row)"
   ]
  },
  {
   "cell_type": "code",
   "execution_count": 26,
   "id": "8e58def5",
   "metadata": {},
   "outputs": [
    {
     "data": {
      "text/plain": [
       "[('account_id', 3, None, None, None, None, 1, 32768, 63),\n",
       " ('date', 10, None, None, None, None, 1, 128, 63),\n",
       " ('patient_id', 3, None, None, None, None, 1, 32768, 63)]"
      ]
     },
     "execution_count": 26,
     "metadata": {},
     "output_type": "execute_result"
    }
   ],
   "source": [
    "cursor.description"
   ]
  },
  {
   "cell_type": "code",
   "execution_count": 27,
   "id": "beb87cab",
   "metadata": {},
   "outputs": [
    {
     "data": {
      "text/plain": [
       "['account_id', 'date', 'patient_id']"
      ]
     },
     "execution_count": 27,
     "metadata": {},
     "output_type": "execute_result"
    }
   ],
   "source": [
    "# Getting column headers\n",
    "\n",
    "column = [cols[0] for cols in cursor.description]\n",
    "column"
   ]
  },
  {
   "cell_type": "code",
   "execution_count": 28,
   "id": "94786a22",
   "metadata": {},
   "outputs": [
    {
     "data": {
      "text/plain": [
       "[(1, datetime.date(2020, 1, 2), 100),\n",
       " (1, datetime.date(2020, 1, 27), 200),\n",
       " (2, datetime.date(2020, 1, 1), 300),\n",
       " (2, datetime.date(2020, 1, 21), 400),\n",
       " (2, datetime.date(2020, 1, 21), 300),\n",
       " (2, datetime.date(2020, 1, 1), 500),\n",
       " (3, datetime.date(2020, 1, 20), 400),\n",
       " (1, datetime.date(2020, 3, 4), 500),\n",
       " (3, datetime.date(2020, 1, 20), 450)]"
      ]
     },
     "execution_count": 28,
     "metadata": {},
     "output_type": "execute_result"
    }
   ],
   "source": [
    "result"
   ]
  },
  {
   "cell_type": "code",
   "execution_count": 29,
   "id": "a7f597de",
   "metadata": {},
   "outputs": [
    {
     "data": {
      "text/html": [
       "<div>\n",
       "<style scoped>\n",
       "    .dataframe tbody tr th:only-of-type {\n",
       "        vertical-align: middle;\n",
       "    }\n",
       "\n",
       "    .dataframe tbody tr th {\n",
       "        vertical-align: top;\n",
       "    }\n",
       "\n",
       "    .dataframe thead th {\n",
       "        text-align: right;\n",
       "    }\n",
       "</style>\n",
       "<table border=\"1\" class=\"dataframe\">\n",
       "  <thead>\n",
       "    <tr style=\"text-align: right;\">\n",
       "      <th></th>\n",
       "      <th>account_id</th>\n",
       "      <th>date</th>\n",
       "      <th>patient_id</th>\n",
       "    </tr>\n",
       "  </thead>\n",
       "  <tbody>\n",
       "    <tr>\n",
       "      <th>0</th>\n",
       "      <td>1</td>\n",
       "      <td>2020-01-02</td>\n",
       "      <td>100</td>\n",
       "    </tr>\n",
       "    <tr>\n",
       "      <th>1</th>\n",
       "      <td>1</td>\n",
       "      <td>2020-01-27</td>\n",
       "      <td>200</td>\n",
       "    </tr>\n",
       "    <tr>\n",
       "      <th>2</th>\n",
       "      <td>2</td>\n",
       "      <td>2020-01-01</td>\n",
       "      <td>300</td>\n",
       "    </tr>\n",
       "    <tr>\n",
       "      <th>3</th>\n",
       "      <td>2</td>\n",
       "      <td>2020-01-21</td>\n",
       "      <td>400</td>\n",
       "    </tr>\n",
       "    <tr>\n",
       "      <th>4</th>\n",
       "      <td>2</td>\n",
       "      <td>2020-01-21</td>\n",
       "      <td>300</td>\n",
       "    </tr>\n",
       "  </tbody>\n",
       "</table>\n",
       "</div>"
      ],
      "text/plain": [
       "   account_id        date  patient_id\n",
       "0           1  2020-01-02         100\n",
       "1           1  2020-01-27         200\n",
       "2           2  2020-01-01         300\n",
       "3           2  2020-01-21         400\n",
       "4           2  2020-01-21         300"
      ]
     },
     "execution_count": 29,
     "metadata": {},
     "output_type": "execute_result"
    }
   ],
   "source": [
    "df = pd.DataFrame(result, columns=column)\n",
    "df.head()"
   ]
  },
  {
   "cell_type": "code",
   "execution_count": null,
   "id": "b192a7f6",
   "metadata": {},
   "outputs": [],
   "source": []
  },
  {
   "cell_type": "code",
   "execution_count": 13,
   "id": "7e8dec8f",
   "metadata": {},
   "outputs": [],
   "source": [
    "# we can create tables in mysql db using python\n",
    "\n",
    "# cursor.execute('create table table_test(col1 int)')"
   ]
  },
  {
   "cell_type": "code",
   "execution_count": 30,
   "id": "3ec2693f",
   "metadata": {},
   "outputs": [],
   "source": [
    "cursor.execute('show databases')"
   ]
  },
  {
   "cell_type": "code",
   "execution_count": 31,
   "id": "2c0724e7",
   "metadata": {},
   "outputs": [
    {
     "name": "stdout",
     "output_type": "stream",
     "text": [
      "('company',)\n",
      "('information_schema',)\n",
      "('mysql',)\n",
      "('performance_schema',)\n",
      "('practice',)\n",
      "('sys',)\n",
      "('technomat',)\n"
     ]
    }
   ],
   "source": [
    "for i in cursor:\n",
    "    print(i)"
   ]
  },
  {
   "cell_type": "code",
   "execution_count": null,
   "id": "f74a702a",
   "metadata": {},
   "outputs": [],
   "source": []
  },
  {
   "cell_type": "code",
   "execution_count": 32,
   "id": "574a0779",
   "metadata": {},
   "outputs": [],
   "source": [
    "cursor.execute('select * from patient')"
   ]
  },
  {
   "cell_type": "code",
   "execution_count": 33,
   "id": "edf028b2",
   "metadata": {},
   "outputs": [
    {
     "data": {
      "text/plain": [
       "[(1, datetime.date(2020, 1, 2), 100),\n",
       " (1, datetime.date(2020, 1, 27), 200),\n",
       " (2, datetime.date(2020, 1, 1), 300),\n",
       " (2, datetime.date(2020, 1, 21), 400),\n",
       " (2, datetime.date(2020, 1, 21), 300),\n",
       " (2, datetime.date(2020, 1, 1), 500),\n",
       " (3, datetime.date(2020, 1, 20), 400),\n",
       " (1, datetime.date(2020, 3, 4), 500),\n",
       " (3, datetime.date(2020, 1, 20), 450)]"
      ]
     },
     "execution_count": 33,
     "metadata": {},
     "output_type": "execute_result"
    }
   ],
   "source": [
    "result1 = cursor.fetchall()\n",
    "result1"
   ]
  },
  {
   "cell_type": "code",
   "execution_count": null,
   "id": "90102117",
   "metadata": {},
   "outputs": [],
   "source": []
  },
  {
   "cell_type": "code",
   "execution_count": null,
   "id": "6f1ffd22",
   "metadata": {},
   "outputs": [],
   "source": []
  },
  {
   "cell_type": "markdown",
   "id": "e2e9cd62",
   "metadata": {},
   "source": [
    "## Using pymysql library\n",
    "\n",
    "- Connect to MySQL using pymysql"
   ]
  },
  {
   "cell_type": "code",
   "execution_count": 12,
   "id": "1bba10b0",
   "metadata": {},
   "outputs": [
    {
     "name": "stdout",
     "output_type": "stream",
     "text": [
      "Collecting pymysqlNote: you may need to restart the kernel to use updated packages.\n",
      "\n",
      "  Obtaining dependency information for pymysql from https://files.pythonhosted.org/packages/e5/30/20467e39523d0cfc2b6227902d3687a16364307260c75e6a1cb4422b0c62/PyMySQL-1.1.0-py3-none-any.whl.metadata\n",
      "  Downloading PyMySQL-1.1.0-py3-none-any.whl.metadata (4.4 kB)\n",
      "Using cached PyMySQL-1.1.0-py3-none-any.whl (44 kB)\n",
      "Installing collected packages: pymysql\n",
      "Successfully installed pymysql-1.1.0\n"
     ]
    }
   ],
   "source": [
    "pip install pymysql"
   ]
  },
  {
   "cell_type": "code",
   "execution_count": 50,
   "id": "0af70c66",
   "metadata": {},
   "outputs": [
    {
     "name": "stdout",
     "output_type": "stream",
     "text": [
      "(1, datetime.date(2020, 1, 2), 100)\n",
      "(1, datetime.date(2020, 1, 27), 200)\n",
      "(2, datetime.date(2020, 1, 1), 300)\n",
      "(2, datetime.date(2020, 1, 21), 400)\n",
      "(2, datetime.date(2020, 1, 21), 300)\n",
      "(2, datetime.date(2020, 1, 1), 500)\n",
      "(3, datetime.date(2020, 1, 20), 400)\n",
      "(1, datetime.date(2020, 3, 4), 500)\n",
      "(3, datetime.date(2020, 1, 20), 450)\n"
     ]
    }
   ],
   "source": [
    "import pymysql\n",
    "\n",
    "# Establish a connection\n",
    "conn = pymysql.connect(\n",
    "    host='127.0.0.1',  # Usually 'localhost' or a specific IP address\n",
    "    user='root',\n",
    "    password='Akshat@123',\n",
    "    database='practice',\n",
    "    charset='utf8mb4'  # Recommended for UTF-8 support\n",
    ")\n",
    "\n",
    "\n",
    "cursor = conn.cursor()\n",
    "# Execute a query\n",
    "sql = \"SELECT * FROM patient\"\n",
    "cursor.execute(sql)\n",
    "\n",
    "# Fetch all rows\n",
    "results = cursor.fetchall()\n",
    "for row in results:\n",
    "    print(row)"
   ]
  },
  {
   "cell_type": "code",
   "execution_count": 51,
   "id": "079a719f",
   "metadata": {},
   "outputs": [
    {
     "data": {
      "text/plain": [
       "((1, datetime.date(2020, 1, 2), 100),\n",
       " (1, datetime.date(2020, 1, 27), 200),\n",
       " (2, datetime.date(2020, 1, 1), 300),\n",
       " (2, datetime.date(2020, 1, 21), 400),\n",
       " (2, datetime.date(2020, 1, 21), 300),\n",
       " (2, datetime.date(2020, 1, 1), 500),\n",
       " (3, datetime.date(2020, 1, 20), 400),\n",
       " (1, datetime.date(2020, 3, 4), 500),\n",
       " (3, datetime.date(2020, 1, 20), 450))"
      ]
     },
     "execution_count": 51,
     "metadata": {},
     "output_type": "execute_result"
    }
   ],
   "source": [
    "results"
   ]
  },
  {
   "cell_type": "code",
   "execution_count": 52,
   "id": "58b4be49",
   "metadata": {},
   "outputs": [
    {
     "data": {
      "text/plain": [
       "['account_id', 'date', 'patient_id']"
      ]
     },
     "execution_count": 52,
     "metadata": {},
     "output_type": "execute_result"
    }
   ],
   "source": [
    "# Getting column headers\n",
    "columns = [desc[0] for desc in cursor.description]\n",
    "columns"
   ]
  },
  {
   "cell_type": "code",
   "execution_count": 53,
   "id": "6ac86ead",
   "metadata": {},
   "outputs": [
    {
     "data": {
      "text/plain": [
       "((1, datetime.date(2020, 1, 2), 100),\n",
       " (1, datetime.date(2020, 1, 27), 200),\n",
       " (2, datetime.date(2020, 1, 1), 300),\n",
       " (2, datetime.date(2020, 1, 21), 400),\n",
       " (2, datetime.date(2020, 1, 21), 300),\n",
       " (2, datetime.date(2020, 1, 1), 500),\n",
       " (3, datetime.date(2020, 1, 20), 400),\n",
       " (1, datetime.date(2020, 3, 4), 500),\n",
       " (3, datetime.date(2020, 1, 20), 450))"
      ]
     },
     "execution_count": 53,
     "metadata": {},
     "output_type": "execute_result"
    }
   ],
   "source": [
    "rows"
   ]
  },
  {
   "cell_type": "code",
   "execution_count": 82,
   "id": "6af7e085",
   "metadata": {},
   "outputs": [
    {
     "data": {
      "text/plain": [
       "tuple"
      ]
     },
     "execution_count": 82,
     "metadata": {},
     "output_type": "execute_result"
    }
   ],
   "source": [
    "type(rows)"
   ]
  },
  {
   "cell_type": "code",
   "execution_count": 54,
   "id": "79eeff95",
   "metadata": {},
   "outputs": [
    {
     "name": "stdout",
     "output_type": "stream",
     "text": [
      "   account_id        date  patient_id\n",
      "0           1  2020-01-02         100\n",
      "1           1  2020-01-27         200\n",
      "2           2  2020-01-01         300\n",
      "3           2  2020-01-21         400\n",
      "4           2  2020-01-21         300\n"
     ]
    }
   ],
   "source": [
    "# Creating a DataFrame\n",
    "import pandas as pd\n",
    "df = pd.DataFrame(rows, columns=columns)\n",
    "\n",
    "# Now you can use the dataframe as needed\n",
    "print(df.head())  # For example, print first few rows"
   ]
  },
  {
   "cell_type": "code",
   "execution_count": 55,
   "id": "5e1ece83",
   "metadata": {},
   "outputs": [
    {
     "data": {
      "text/html": [
       "<div>\n",
       "<style scoped>\n",
       "    .dataframe tbody tr th:only-of-type {\n",
       "        vertical-align: middle;\n",
       "    }\n",
       "\n",
       "    .dataframe tbody tr th {\n",
       "        vertical-align: top;\n",
       "    }\n",
       "\n",
       "    .dataframe thead th {\n",
       "        text-align: right;\n",
       "    }\n",
       "</style>\n",
       "<table border=\"1\" class=\"dataframe\">\n",
       "  <thead>\n",
       "    <tr style=\"text-align: right;\">\n",
       "      <th></th>\n",
       "      <th>account_id</th>\n",
       "      <th>date</th>\n",
       "      <th>patient_id</th>\n",
       "    </tr>\n",
       "  </thead>\n",
       "  <tbody>\n",
       "    <tr>\n",
       "      <th>0</th>\n",
       "      <td>1</td>\n",
       "      <td>2020-01-02</td>\n",
       "      <td>100</td>\n",
       "    </tr>\n",
       "    <tr>\n",
       "      <th>1</th>\n",
       "      <td>1</td>\n",
       "      <td>2020-01-27</td>\n",
       "      <td>200</td>\n",
       "    </tr>\n",
       "    <tr>\n",
       "      <th>2</th>\n",
       "      <td>2</td>\n",
       "      <td>2020-01-01</td>\n",
       "      <td>300</td>\n",
       "    </tr>\n",
       "    <tr>\n",
       "      <th>3</th>\n",
       "      <td>2</td>\n",
       "      <td>2020-01-21</td>\n",
       "      <td>400</td>\n",
       "    </tr>\n",
       "    <tr>\n",
       "      <th>4</th>\n",
       "      <td>2</td>\n",
       "      <td>2020-01-21</td>\n",
       "      <td>300</td>\n",
       "    </tr>\n",
       "  </tbody>\n",
       "</table>\n",
       "</div>"
      ],
      "text/plain": [
       "   account_id        date  patient_id\n",
       "0           1  2020-01-02         100\n",
       "1           1  2020-01-27         200\n",
       "2           2  2020-01-01         300\n",
       "3           2  2020-01-21         400\n",
       "4           2  2020-01-21         300"
      ]
     },
     "execution_count": 55,
     "metadata": {},
     "output_type": "execute_result"
    }
   ],
   "source": [
    "df.head()"
   ]
  },
  {
   "cell_type": "code",
   "execution_count": null,
   "id": "bd11c241",
   "metadata": {},
   "outputs": [],
   "source": []
  },
  {
   "cell_type": "markdown",
   "id": "483a0813",
   "metadata": {},
   "source": [
    "### similarly, we can execute any sql query in Python using below command"
   ]
  },
  {
   "cell_type": "code",
   "execution_count": 46,
   "id": "b636e480",
   "metadata": {},
   "outputs": [
    {
     "data": {
      "text/plain": [
       "7"
      ]
     },
     "execution_count": 46,
     "metadata": {},
     "output_type": "execute_result"
    }
   ],
   "source": [
    "cursor.execute('show databases')"
   ]
  },
  {
   "cell_type": "code",
   "execution_count": 47,
   "id": "17be75c6",
   "metadata": {},
   "outputs": [
    {
     "data": {
      "text/plain": [
       "(('company',),\n",
       " ('information_schema',),\n",
       " ('mysql',),\n",
       " ('performance_schema',),\n",
       " ('practice',),\n",
       " ('sys',),\n",
       " ('technomat',))"
      ]
     },
     "execution_count": 47,
     "metadata": {},
     "output_type": "execute_result"
    }
   ],
   "source": [
    "# Fetch all the results\n",
    "databases = cursor.fetchall()\n",
    "databases"
   ]
  },
  {
   "cell_type": "code",
   "execution_count": null,
   "id": "9cc0b05b",
   "metadata": {},
   "outputs": [],
   "source": []
  },
  {
   "cell_type": "code",
   "execution_count": null,
   "id": "6e9b9600",
   "metadata": {},
   "outputs": [],
   "source": []
  },
  {
   "cell_type": "code",
   "execution_count": 48,
   "id": "f14ec312",
   "metadata": {},
   "outputs": [],
   "source": [
    "# Close the connection\n",
    "# conn.close()"
   ]
  }
 ],
 "metadata": {
  "kernelspec": {
   "display_name": "Python 3 (ipykernel)",
   "language": "python",
   "name": "python3"
  },
  "language_info": {
   "codemirror_mode": {
    "name": "ipython",
    "version": 3
   },
   "file_extension": ".py",
   "mimetype": "text/x-python",
   "name": "python",
   "nbconvert_exporter": "python",
   "pygments_lexer": "ipython3",
   "version": "3.11.5"
  }
 },
 "nbformat": 4,
 "nbformat_minor": 5
}
