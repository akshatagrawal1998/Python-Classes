{
 "cells": [
  {
   "cell_type": "markdown",
   "id": "b6c5e592",
   "metadata": {},
   "source": [
    "## Class 2 Notes:"
   ]
  },
  {
   "cell_type": "markdown",
   "id": "4425bfcb",
   "metadata": {},
   "source": [
    "### Keywords and Variables in Python:"
   ]
  },
  {
   "cell_type": "code",
   "execution_count": null,
   "id": "27776acf",
   "metadata": {},
   "outputs": [],
   "source": [
    "# print, type, "
   ]
  },
  {
   "cell_type": "code",
   "execution_count": null,
   "id": "f482dce5",
   "metadata": {},
   "outputs": [],
   "source": []
  },
  {
   "cell_type": "code",
   "execution_count": 1,
   "id": "98f08899",
   "metadata": {},
   "outputs": [
    {
     "data": {
      "text/plain": [
       "'\\nKeywords\\nPython is a case sensitive programming language - difference between upper and lower case\\nIn programming, a keyword is a word that is reserved by a program because the word has a special meaning. \\nKeywords can be commands or parameters. Every programming language has a set of keywords that cannot be used as variable names\\n'"
      ]
     },
     "execution_count": 1,
     "metadata": {},
     "output_type": "execute_result"
    }
   ],
   "source": [
    "# print is different with Print (Python is case sensitive)\n",
    "\"\"\"\n",
    "Keywords\n",
    "Python is a case sensitive programming language - difference between upper and lower case\n",
    "In programming, a keyword is a word that is reserved by a program because the word has a special meaning. \n",
    "Keywords can be commands or parameters. Every programming language has a set of keywords that cannot be used as variable names\n",
    "\"\"\"\n",
    "\n",
    "# High level prog - we write in Eng lang - simple e.g for, if, etc\n",
    "# compiler or interpreter converts high level code into low level code\n",
    "# compiler has set meanings for some keywords - which are used for conversion\n",
    "# compiler may get confused if we use keyword in programming -"
   ]
  },
  {
   "cell_type": "code",
   "execution_count": null,
   "id": "71e27a2f",
   "metadata": {},
   "outputs": [],
   "source": []
  },
  {
   "cell_type": "code",
   "execution_count": 12,
   "id": "e66d4ff4",
   "metadata": {},
   "outputs": [
    {
     "data": {
      "text/plain": [
       "5"
      ]
     },
     "execution_count": 12,
     "metadata": {},
     "output_type": "execute_result"
    }
   ],
   "source": []
  },
  {
   "cell_type": "code",
   "execution_count": 3,
   "id": "da021a39",
   "metadata": {},
   "outputs": [
    {
     "name": "stdout",
     "output_type": "stream",
     "text": [
      "['False', 'None', 'True', 'and', 'as', 'assert', 'async', 'await', 'break', 'class', 'continue', 'def', 'del', 'elif', 'else', 'except', 'finally', 'for', 'from', 'global', 'if', 'import', 'in', 'is', 'lambda', 'nonlocal', 'not', 'or', 'pass', 'raise', 'return', 'try', 'while', 'with', 'yield']\n",
      "35\n"
     ]
    }
   ],
   "source": [
    "# python has 35 keywords\n",
    "import keyword\n",
    "print(keyword.kwlist)\n",
    "\n",
    "print(len(keyword.kwlist))\n",
    "\n",
    "# ['False', 'None', 'True', 'and', 'as', 'assert', 'async', 'await', \n",
    "# 'break', 'class', 'continue', 'def', 'del', 'elif', 'else', 'except', \n",
    "# 'finally', 'for', 'from', 'global', 'if', 'import', 'in', 'is', 'lambda', 'nonlocal', 'not', 'or', \n",
    "# 'pass', 'raise', 'return', 'try', 'while', 'with', 'yield']\n"
   ]
  },
  {
   "cell_type": "code",
   "execution_count": 3,
   "id": "aab13b19",
   "metadata": {},
   "outputs": [
    {
     "data": {
      "text/plain": [
       "'\\nIdentifiers\\nA Python identifier is a name used to identify a variable, function, class, module or other object.\\n\\nRules for setting Identifiers:\\n\\n- can only start with an alphabet or underscore (_)\\n- Followed by 0 or more letter,_ and digits\\n- keywords cannot be used as an identifiers\\n'"
      ]
     },
     "execution_count": 3,
     "metadata": {},
     "output_type": "execute_result"
    }
   ],
   "source": [
    "'''\n",
    "Identifiers\n",
    "A Python identifier is a name used to identify a variable, function, class, module or other object.\n",
    "\n",
    "Rules for setting Identifiers:\n",
    "\n",
    "- can only start with an alphabet or underscore (_)\n",
    "- Followed by 0 or more letter,_ and digits\n",
    "- keywords cannot be used as an identifiers\n",
    "'''"
   ]
  },
  {
   "cell_type": "code",
   "execution_count": 2,
   "id": "76539e00",
   "metadata": {},
   "outputs": [
    {
     "name": "stdout",
     "output_type": "stream",
     "text": [
      "3\n",
      "<class 'int'>\n"
     ]
    }
   ],
   "source": [
    "a=3\n",
    "print(a)\n",
    "print(type(a))"
   ]
  },
  {
   "cell_type": "code",
   "execution_count": 3,
   "id": "128c6df7",
   "metadata": {},
   "outputs": [
    {
     "name": "stdout",
     "output_type": "stream",
     "text": [
      "3 5\n"
     ]
    }
   ],
   "source": [
    "A = 5\n",
    "print(a, A)"
   ]
  },
  {
   "cell_type": "code",
   "execution_count": 4,
   "id": "f40d888a",
   "metadata": {},
   "outputs": [],
   "source": [
    "# valid name of variables\n",
    "\n",
    "name = \"Akshat\"\n",
    "a = 2\n",
    "_ = 'xyz'\n",
    "name_first = \"Stephen\"\n",
    "_firstname = \"King\"\n",
    "Name = \"A\"\n",
    "NAME = \"Adsjad\"\n",
    "\n"
   ]
  },
  {
   "cell_type": "code",
   "execution_count": 5,
   "id": "33f717ab",
   "metadata": {},
   "outputs": [
    {
     "data": {
      "text/plain": [
       "int"
      ]
     },
     "execution_count": 5,
     "metadata": {},
     "output_type": "execute_result"
    }
   ],
   "source": []
  },
  {
   "cell_type": "code",
   "execution_count": null,
   "id": "9cc27f4d",
   "metadata": {},
   "outputs": [],
   "source": []
  },
  {
   "cell_type": "code",
   "execution_count": 6,
   "id": "25574af3",
   "metadata": {},
   "outputs": [
    {
     "name": "stdout",
     "output_type": "stream",
     "text": [
      "False\n"
     ]
    }
   ],
   "source": [
    "# below part will show an error\n",
    "# invalid \n",
    "# 1 = \"abc\"\n",
    "# first-name = \"boss\"\n",
    "# False = \"Nitish\"\n",
    "print(False)\n"
   ]
  },
  {
   "cell_type": "code",
   "execution_count": null,
   "id": "b9a4e65f",
   "metadata": {},
   "outputs": [],
   "source": []
  },
  {
   "cell_type": "code",
   "execution_count": null,
   "id": "3e50853c",
   "metadata": {},
   "outputs": [],
   "source": []
  },
  {
   "cell_type": "markdown",
   "id": "5cb80d34",
   "metadata": {},
   "source": [
    "### variables in Python"
   ]
  },
  {
   "cell_type": "code",
   "execution_count": 7,
   "id": "1f9835d7",
   "metadata": {},
   "outputs": [],
   "source": [
    "# Python automatically detects datatype of a variable - dynamic typing  e.g PHP, Python\n",
    "# Static typing - where we need to specify the datatype of the variable - e.g C language   -> int x = 6 "
   ]
  },
  {
   "cell_type": "code",
   "execution_count": null,
   "id": "959510df",
   "metadata": {},
   "outputs": [],
   "source": []
  },
  {
   "cell_type": "code",
   "execution_count": null,
   "id": "c695dbf2",
   "metadata": {},
   "outputs": [],
   "source": []
  },
  {
   "cell_type": "code",
   "execution_count": null,
   "id": "27122191",
   "metadata": {},
   "outputs": [],
   "source": []
  },
  {
   "cell_type": "code",
   "execution_count": 4,
   "id": "2213ce15",
   "metadata": {},
   "outputs": [
    {
     "name": "stdout",
     "output_type": "stream",
     "text": [
      "<class 'str'>\n",
      "<class 'int'>\n",
      "<class 'float'>\n"
     ]
    }
   ],
   "source": [
    "name = \"Michael\" # no need to tell explicitly that it is a string\n",
    "print(type(name))\n",
    "\n",
    "x=5 \n",
    "print(type(x))\n",
    "y = 5.6\n",
    "print(type(y))\n"
   ]
  },
  {
   "cell_type": "code",
   "execution_count": 7,
   "id": "4613082b",
   "metadata": {},
   "outputs": [
    {
     "name": "stdout",
     "output_type": "stream",
     "text": [
      "Akshat\n",
      "My name is  Akshat\n"
     ]
    }
   ],
   "source": [
    "print(name)\n",
    "name = \"Akshat\"\n",
    "print(\"My name is \", name)"
   ]
  },
  {
   "cell_type": "code",
   "execution_count": 5,
   "id": "277a7b15",
   "metadata": {},
   "outputs": [
    {
     "name": "stdout",
     "output_type": "stream",
     "text": [
      "Meka\n"
     ]
    }
   ],
   "source": [
    "# value of variables can be over written\n",
    "name = 'Meka'\n",
    "print(name)\n",
    "# it'll produce output as latest value\n"
   ]
  },
  {
   "cell_type": "code",
   "execution_count": 10,
   "id": "0c096a82",
   "metadata": {},
   "outputs": [
    {
     "name": "stdout",
     "output_type": "stream",
     "text": [
      "Hello world\n"
     ]
    }
   ],
   "source": [
    "name = 'Hello world'\n",
    "print(name)\n",
    "# it'll produce output as Hello world\n"
   ]
  },
  {
   "cell_type": "code",
   "execution_count": 11,
   "id": "4addd3c9",
   "metadata": {},
   "outputs": [
    {
     "name": "stdout",
     "output_type": "stream",
     "text": [
      "Hello world\n"
     ]
    }
   ],
   "source": [
    "# no variable declaration\n",
    "print(name)"
   ]
  },
  {
   "cell_type": "code",
   "execution_count": null,
   "id": "2cf2daee",
   "metadata": {},
   "outputs": [],
   "source": [
    "name = 5"
   ]
  },
  {
   "cell_type": "code",
   "execution_count": null,
   "id": "0bcb7915",
   "metadata": {},
   "outputs": [],
   "source": []
  },
  {
   "cell_type": "code",
   "execution_count": 12,
   "id": "68e26dd1",
   "metadata": {},
   "outputs": [],
   "source": [
    "# value of variables can be over written with any datatype value - this is called dynamic binding\n",
    "# static binding - eg in C lang - int a = 5, now we can't update the value of a with any other data type value\n"
   ]
  },
  {
   "cell_type": "code",
   "execution_count": 13,
   "id": "b23585e0",
   "metadata": {},
   "outputs": [
    {
     "data": {
      "text/plain": [
       "str"
      ]
     },
     "execution_count": 13,
     "metadata": {},
     "output_type": "execute_result"
    }
   ],
   "source": [
    "type(name)"
   ]
  },
  {
   "cell_type": "code",
   "execution_count": 16,
   "id": "c5be31a6",
   "metadata": {},
   "outputs": [
    {
     "name": "stdout",
     "output_type": "stream",
     "text": [
      "5\n",
      "<class 'int'>\n"
     ]
    }
   ],
   "source": [
    "name = 5\n",
    "print(name)\n",
    "print(type(name))"
   ]
  },
  {
   "cell_type": "code",
   "execution_count": 7,
   "id": "1f2bb537",
   "metadata": {},
   "outputs": [
    {
     "name": "stdout",
     "output_type": "stream",
     "text": [
      "5\n",
      "Akshat\n"
     ]
    }
   ],
   "source": [
    "a = 5\n",
    "print(a)\n",
    "\n",
    "a = 'Akshat'\n",
    "print(a)"
   ]
  },
  {
   "cell_type": "code",
   "execution_count": null,
   "id": "6a01a3b5",
   "metadata": {},
   "outputs": [],
   "source": []
  },
  {
   "cell_type": "code",
   "execution_count": null,
   "id": "f2a1a84e",
   "metadata": {},
   "outputs": [],
   "source": []
  },
  {
   "cell_type": "code",
   "execution_count": null,
   "id": "14c67778",
   "metadata": {},
   "outputs": [],
   "source": []
  },
  {
   "cell_type": "code",
   "execution_count": null,
   "id": "9bc7dc6b",
   "metadata": {},
   "outputs": [],
   "source": []
  },
  {
   "cell_type": "code",
   "execution_count": 24,
   "id": "0b1fbc00",
   "metadata": {},
   "outputs": [
    {
     "ename": "ValueError",
     "evalue": "invalid literal for int() with base 10: 'Akshat'",
     "output_type": "error",
     "traceback": [
      "\u001b[1;31m---------------------------------------------------------------------------\u001b[0m",
      "\u001b[1;31mValueError\u001b[0m                                Traceback (most recent call last)",
      "Cell \u001b[1;32mIn[24], line 1\u001b[0m\n\u001b[1;32m----> 1\u001b[0m a \u001b[38;5;241m=\u001b[39m \u001b[38;5;28mint\u001b[39m(\u001b[38;5;124m'\u001b[39m\u001b[38;5;124mAkshat\u001b[39m\u001b[38;5;124m'\u001b[39m)\n\u001b[0;32m      2\u001b[0m a\n",
      "\u001b[1;31mValueError\u001b[0m: invalid literal for int() with base 10: 'Akshat'"
     ]
    }
   ],
   "source": [
    "a = int('Akshat')\n",
    "a\n"
   ]
  },
  {
   "cell_type": "code",
   "execution_count": 23,
   "id": "e66dbfbe",
   "metadata": {},
   "outputs": [
    {
     "data": {
      "text/plain": [
       "str"
      ]
     },
     "execution_count": 23,
     "metadata": {},
     "output_type": "execute_result"
    }
   ],
   "source": [
    "x = str(5)\n",
    "x\n",
    "type(x)"
   ]
  },
  {
   "cell_type": "code",
   "execution_count": 22,
   "id": "1e726bde",
   "metadata": {},
   "outputs": [
    {
     "data": {
      "text/plain": [
       "5.0"
      ]
     },
     "execution_count": 22,
     "metadata": {},
     "output_type": "execute_result"
    }
   ],
   "source": [
    "x = float(5)\n",
    "x"
   ]
  },
  {
   "cell_type": "code",
   "execution_count": 19,
   "id": "917f2a67",
   "metadata": {},
   "outputs": [
    {
     "data": {
      "text/plain": [
       "5"
      ]
     },
     "execution_count": 19,
     "metadata": {},
     "output_type": "execute_result"
    }
   ],
   "source": [
    "x = int(5.6)\n",
    "x"
   ]
  },
  {
   "cell_type": "code",
   "execution_count": null,
   "id": "7762da6f",
   "metadata": {},
   "outputs": [],
   "source": []
  },
  {
   "cell_type": "code",
   "execution_count": null,
   "id": "3c621233",
   "metadata": {},
   "outputs": [],
   "source": []
  },
  {
   "cell_type": "code",
   "execution_count": 13,
   "id": "685d2ffa",
   "metadata": {},
   "outputs": [
    {
     "data": {
      "text/plain": [
       "int"
      ]
     },
     "execution_count": 13,
     "metadata": {},
     "output_type": "execute_result"
    }
   ],
   "source": [
    "a = 3\n",
    "type(a)"
   ]
  },
  {
   "cell_type": "code",
   "execution_count": 14,
   "id": "4d170850",
   "metadata": {},
   "outputs": [
    {
     "data": {
      "text/plain": [
       "str"
      ]
     },
     "execution_count": 14,
     "metadata": {},
     "output_type": "execute_result"
    }
   ],
   "source": [
    "a='Akshat'\n",
    "type(a)"
   ]
  },
  {
   "cell_type": "code",
   "execution_count": 15,
   "id": "24857219",
   "metadata": {},
   "outputs": [
    {
     "name": "stdout",
     "output_type": "stream",
     "text": [
      "4\n"
     ]
    }
   ],
   "source": [
    "name = 4\n",
    "print(name)\n",
    "# it'll produce output as 4\n"
   ]
  },
  {
   "cell_type": "code",
   "execution_count": 17,
   "id": "d466cf9e",
   "metadata": {},
   "outputs": [
    {
     "name": "stdout",
     "output_type": "stream",
     "text": [
      "True\n",
      "<class 'bool'>\n"
     ]
    }
   ],
   "source": [
    "name = True # boolean\n",
    "print(name)\n",
    "print(type(name))\n",
    "# it'll produce output as True\n"
   ]
  },
  {
   "cell_type": "code",
   "execution_count": 17,
   "id": "e8a61d29",
   "metadata": {},
   "outputs": [
    {
     "name": "stdout",
     "output_type": "stream",
     "text": [
      "5\n",
      "6\n",
      "7\n"
     ]
    }
   ],
   "source": [
    "# special syntax\n",
    "a = 5; b=6; c=7  # declare multiple variable in single line\n",
    "print(a)\n",
    "print(b)\n",
    "print(c)\n"
   ]
  },
  {
   "cell_type": "code",
   "execution_count": 18,
   "id": "eff03a0f",
   "metadata": {},
   "outputs": [
    {
     "name": "stdout",
     "output_type": "stream",
     "text": [
      "4\n",
      "5\n",
      "6\n"
     ]
    }
   ],
   "source": [
    "a,b,c = 4,5,6    # declare multiple variable in single line\n",
    "print(a)\n",
    "print(b)\n",
    "print(c)"
   ]
  },
  {
   "cell_type": "code",
   "execution_count": 19,
   "id": "3fba0338",
   "metadata": {},
   "outputs": [
    {
     "name": "stdout",
     "output_type": "stream",
     "text": [
      "6\n",
      "6\n",
      "6\n"
     ]
    }
   ],
   "source": [
    "a = b =c =6    # declare multiple variable in single line with same value\n",
    "print(a)\n",
    "print(b)\n",
    "print(c)"
   ]
  },
  {
   "cell_type": "code",
   "execution_count": null,
   "id": "854715ae",
   "metadata": {},
   "outputs": [],
   "source": []
  },
  {
   "cell_type": "markdown",
   "id": "d984ea3f",
   "metadata": {},
   "source": [
    "## Casting in Python"
   ]
  },
  {
   "cell_type": "code",
   "execution_count": 4,
   "id": "af7c0e75",
   "metadata": {},
   "outputs": [
    {
     "name": "stdout",
     "output_type": "stream",
     "text": [
      "5.0\n",
      "<class 'float'>\n"
     ]
    }
   ],
   "source": [
    "a = float(5)\n",
    "print(a)\n",
    "print(type(a))"
   ]
  },
  {
   "cell_type": "code",
   "execution_count": 5,
   "id": "9adb04f3",
   "metadata": {},
   "outputs": [
    {
     "name": "stdout",
     "output_type": "stream",
     "text": [
      "5\n",
      "<class 'int'>\n"
     ]
    }
   ],
   "source": [
    "a = int(5.6)\n",
    "print(a)\n",
    "print(type(a))"
   ]
  },
  {
   "cell_type": "code",
   "execution_count": 9,
   "id": "a506975e",
   "metadata": {},
   "outputs": [
    {
     "name": "stdout",
     "output_type": "stream",
     "text": [
      "5\n",
      "<class 'int'>\n",
      "5.7\n",
      "<class 'str'>\n"
     ]
    }
   ],
   "source": [
    "a = 5.7\n",
    "b = int(a)\n",
    "print(b)\n",
    "print(type(b))\n",
    "\n",
    "c = str(a)\n",
    "print(c)\n",
    "print(type(c))"
   ]
  },
  {
   "cell_type": "code",
   "execution_count": 10,
   "id": "a513623b",
   "metadata": {},
   "outputs": [
    {
     "name": "stdout",
     "output_type": "stream",
     "text": [
      "5.9876\n",
      "<class 'str'>\n"
     ]
    }
   ],
   "source": [
    "a = str(5.9876)\n",
    "print(a)\n",
    "print(type(a))"
   ]
  },
  {
   "cell_type": "code",
   "execution_count": null,
   "id": "b3ed813e",
   "metadata": {},
   "outputs": [],
   "source": []
  },
  {
   "cell_type": "code",
   "execution_count": 7,
   "id": "515edcf7",
   "metadata": {},
   "outputs": [
    {
     "ename": "ValueError",
     "evalue": "could not convert string to float: 'Python'",
     "output_type": "error",
     "traceback": [
      "\u001b[1;31m---------------------------------------------------------------------------\u001b[0m",
      "\u001b[1;31mValueError\u001b[0m                                Traceback (most recent call last)",
      "Cell \u001b[1;32mIn[7], line 1\u001b[0m\n\u001b[1;32m----> 1\u001b[0m a \u001b[38;5;241m=\u001b[39m \u001b[38;5;28mfloat\u001b[39m(\u001b[38;5;124m'\u001b[39m\u001b[38;5;124mPython\u001b[39m\u001b[38;5;124m'\u001b[39m)\n\u001b[0;32m      2\u001b[0m \u001b[38;5;28mprint\u001b[39m(a)\n\u001b[0;32m      3\u001b[0m \u001b[38;5;28mprint\u001b[39m(\u001b[38;5;28mtype\u001b[39m(a))\n",
      "\u001b[1;31mValueError\u001b[0m: could not convert string to float: 'Python'"
     ]
    }
   ],
   "source": [
    "a = float('Python')\n",
    "print(a)\n",
    "print(type(a))"
   ]
  },
  {
   "cell_type": "code",
   "execution_count": 8,
   "id": "756cef8a",
   "metadata": {},
   "outputs": [
    {
     "name": "stdout",
     "output_type": "stream",
     "text": [
      "Sum = 11\n"
     ]
    }
   ],
   "source": [
    "a = 5\n",
    "b= 6\n",
    "print(\"Sum =\", a+b)"
   ]
  },
  {
   "cell_type": "code",
   "execution_count": null,
   "id": "a58127b7",
   "metadata": {},
   "outputs": [],
   "source": []
  },
  {
   "cell_type": "markdown",
   "id": "ff9965a7",
   "metadata": {},
   "source": [
    "## User Input in Python"
   ]
  },
  {
   "cell_type": "code",
   "execution_count": 11,
   "id": "29574b54",
   "metadata": {},
   "outputs": [
    {
     "name": "stdout",
     "output_type": "stream",
     "text": [
      "Enter a number5\n"
     ]
    },
    {
     "data": {
      "text/plain": [
       "'5'"
      ]
     },
     "execution_count": 11,
     "metadata": {},
     "output_type": "execute_result"
    }
   ],
   "source": [
    "input(\"Enter a number\")"
   ]
  },
  {
   "cell_type": "code",
   "execution_count": 12,
   "id": "40dd96be",
   "metadata": {},
   "outputs": [
    {
     "name": "stdout",
     "output_type": "stream",
     "text": [
      "Enter a number 5\n",
      "5\n",
      "<class 'str'>\n"
     ]
    }
   ],
   "source": [
    "a = input(\"Enter a number \") # by default, user input will be taken as string\n",
    "print(a)\n",
    "print(type(a))"
   ]
  },
  {
   "cell_type": "code",
   "execution_count": 10,
   "id": "6232f1ea",
   "metadata": {},
   "outputs": [
    {
     "name": "stdout",
     "output_type": "stream",
     "text": [
      "Enter a number5\n",
      "5\n",
      "<class 'int'>\n"
     ]
    }
   ],
   "source": [
    "a = int(input(\"Enter a number\")) # by default, user input will be taken as string\n",
    "print(a)\n",
    "print(type(a))"
   ]
  },
  {
   "cell_type": "code",
   "execution_count": null,
   "id": "44b37d86",
   "metadata": {},
   "outputs": [],
   "source": []
  },
  {
   "cell_type": "code",
   "execution_count": 13,
   "id": "67edcdcc",
   "metadata": {},
   "outputs": [
    {
     "name": "stdout",
     "output_type": "stream",
     "text": [
      "Enter first number6\n",
      "Enter second number8\n",
      "68\n"
     ]
    }
   ],
   "source": [
    "a = input(\"Enter first number\")\n",
    "b = input(\"Enter second number\")\n",
    "\n",
    "sum = a + b\n",
    "\n",
    "print(sum) #concat/ join these 2 strings"
   ]
  },
  {
   "cell_type": "code",
   "execution_count": null,
   "id": "61cf1a64",
   "metadata": {},
   "outputs": [],
   "source": []
  },
  {
   "cell_type": "code",
   "execution_count": 14,
   "id": "55477715",
   "metadata": {},
   "outputs": [
    {
     "name": "stdout",
     "output_type": "stream",
     "text": [
      "Enter first number7.8\n",
      "Enter second number9\n",
      "Sum = 16.8\n",
      "Sum of  7.8 and 9.0 is  16.8\n",
      "The sum of 7.8 and 9.0 is 16.8\n"
     ]
    }
   ],
   "source": [
    "a = float(input(\"Enter first number\"))\n",
    "b = float(input(\"Enter second number\"))\n",
    "\n",
    "sum = a + b\n",
    "\n",
    "print(\"Sum =\", sum)\n",
    "print(\"Sum of \", a, \"and\", b, \"is \", sum)\n",
    "\n",
    "print(f\"The sum of {a} and {b} is {sum}\")"
   ]
  },
  {
   "cell_type": "code",
   "execution_count": null,
   "id": "c62b45b3",
   "metadata": {},
   "outputs": [],
   "source": []
  }
 ],
 "metadata": {
  "kernelspec": {
   "display_name": "Python 3 (ipykernel)",
   "language": "python",
   "name": "python3"
  },
  "language_info": {
   "codemirror_mode": {
    "name": "ipython",
    "version": 3
   },
   "file_extension": ".py",
   "mimetype": "text/x-python",
   "name": "python",
   "nbconvert_exporter": "python",
   "pygments_lexer": "ipython3",
   "version": "3.11.5"
  }
 },
 "nbformat": 4,
 "nbformat_minor": 5
}
