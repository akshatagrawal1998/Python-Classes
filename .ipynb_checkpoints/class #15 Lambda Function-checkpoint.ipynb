{
 "cells": [
  {
   "cell_type": "code",
   "execution_count": null,
   "id": "b24a9873",
   "metadata": {},
   "outputs": [],
   "source": []
  },
  {
   "cell_type": "code",
   "execution_count": null,
   "id": "4f988288",
   "metadata": {},
   "outputs": [],
   "source": []
  },
  {
   "cell_type": "code",
   "execution_count": null,
   "id": "9442e047",
   "metadata": {},
   "outputs": [],
   "source": [
    "# lambda Function in Python\n",
    "'''\n",
    "Properties:\n",
    "one liner\n",
    "anonymous function - they don't have any name\n",
    "Syntax - lambda(keyword) x(input) : expression\n",
    "'''"
   ]
  },
  {
   "cell_type": "code",
   "execution_count": 3,
   "id": "a7af665c",
   "metadata": {},
   "outputs": [
    {
     "data": {
      "text/plain": [
       "81"
      ]
     },
     "execution_count": 3,
     "metadata": {},
     "output_type": "execute_result"
    }
   ],
   "source": [
    "# a function to calc square of a number\n",
    "def square(x):\n",
    "    return x**2\n",
    "\n",
    "square(9)"
   ]
  },
  {
   "cell_type": "code",
   "execution_count": 4,
   "id": "57c05416",
   "metadata": {},
   "outputs": [
    {
     "name": "stdout",
     "output_type": "stream",
     "text": [
      "81\n",
      "81\n"
     ]
    }
   ],
   "source": [
    "print(pow(9,2))\n",
    "print(9**2)"
   ]
  },
  {
   "cell_type": "code",
   "execution_count": 1,
   "id": "beb7dea3",
   "metadata": {},
   "outputs": [
    {
     "data": {
      "text/plain": [
       "81"
      ]
     },
     "execution_count": 1,
     "metadata": {},
     "output_type": "execute_result"
    }
   ],
   "source": [
    "# same using lambda function\n",
    "y = lambda x  :x**2\n",
    "y(9)"
   ]
  },
  {
   "cell_type": "code",
   "execution_count": 2,
   "id": "1a54397a",
   "metadata": {},
   "outputs": [
    {
     "data": {
      "text/plain": [
       "9"
      ]
     },
     "execution_count": 2,
     "metadata": {},
     "output_type": "execute_result"
    }
   ],
   "source": [
    "# sum of 2 integers\n",
    "a = lambda x,y : x+y\n",
    "a(4,5)"
   ]
  },
  {
   "cell_type": "code",
   "execution_count": null,
   "id": "2420c34a",
   "metadata": {},
   "outputs": [],
   "source": []
  },
  {
   "cell_type": "code",
   "execution_count": null,
   "id": "270876c1",
   "metadata": {},
   "outputs": [],
   "source": []
  },
  {
   "cell_type": "code",
   "execution_count": 4,
   "id": "f27af5c0",
   "metadata": {},
   "outputs": [
    {
     "name": "stdout",
     "output_type": "stream",
     "text": [
      "True\n",
      "False\n"
     ]
    }
   ],
   "source": [
    "# to check whether first letter of given string is a or not?\n",
    "\n",
    "b = lambda x : x[0] == 'a'\n",
    "print(b('apple'))\n",
    "print(b('banana'))\n"
   ]
  },
  {
   "cell_type": "code",
   "execution_count": 5,
   "id": "ec5c19b0",
   "metadata": {},
   "outputs": [
    {
     "data": {
      "text/plain": [
       "'even'"
      ]
     },
     "execution_count": 5,
     "metadata": {},
     "output_type": "execute_result"
    }
   ],
   "source": [
    "b = lambda x :\"even\" if x%2==0 else \"odd\"\n",
    "\n",
    "b(76)"
   ]
  },
  {
   "cell_type": "code",
   "execution_count": 6,
   "id": "8e8b8bb7",
   "metadata": {},
   "outputs": [],
   "source": [
    "# Higher order function- func which needs another func as input\n",
    "# we give input to it and also tell what to do - basically we control the behaviour of this function\n",
    "# In normal functions, it basically does only 1 type of task\n",
    "L = [11,12,14,12,21,42,65,876,35]\n",
    "# find sum of all even numbers\n",
    "# find sum of all odd numbers\n",
    "# find sum of all numbers divisible by 3\n",
    "\n",
    "def return_sum(func, L):\n",
    "    result = 0\n",
    "    for i in L:\n",
    "        if func(i):\n",
    "            result = result+i\n",
    "    return result"
   ]
  },
  {
   "cell_type": "code",
   "execution_count": 7,
   "id": "689bf75c",
   "metadata": {},
   "outputs": [
    {
     "name": "stdout",
     "output_type": "stream",
     "text": [
      "956\n",
      "132\n",
      "963\n"
     ]
    }
   ],
   "source": [
    "\n",
    "x = lambda x : x%2 == 0\n",
    "y = lambda x : x%2 != 0\n",
    "z = lambda x : x%3 == 0\n",
    "print(return_sum(x,L))\n",
    "print(return_sum(y,L))\n",
    "print(return_sum(z,L))"
   ]
  },
  {
   "cell_type": "code",
   "execution_count": null,
   "id": "dc21ef8f",
   "metadata": {},
   "outputs": [],
   "source": []
  },
  {
   "cell_type": "code",
   "execution_count": null,
   "id": "9635b545",
   "metadata": {},
   "outputs": [],
   "source": []
  },
  {
   "cell_type": "markdown",
   "id": "3da6c868",
   "metadata": {},
   "source": [
    "### Inbuilt HUF- map, reduce, filter"
   ]
  },
  {
   "cell_type": "code",
   "execution_count": 5,
   "id": "a6ae0060",
   "metadata": {},
   "outputs": [
    {
     "data": {
      "text/plain": [
       "[False, True, False, True, False, True, False, True]"
      ]
     },
     "execution_count": 5,
     "metadata": {},
     "output_type": "execute_result"
    }
   ],
   "source": [
    "\n",
    "# e.g -\n",
    "L = [1,2,3,4,5,6,7,8]\n",
    "map(lambda x : x*3 , L) # returns a map object\n",
    "list(map(lambda x : x*3 , L))\n",
    "\n",
    "list(map(lambda x : x%2 == 0 , L))"
   ]
  },
  {
   "cell_type": "code",
   "execution_count": null,
   "id": "3aa8fd6f",
   "metadata": {},
   "outputs": [],
   "source": [
    "# E.g - map()\n",
    "# fetch student names from given list of dictionaries\n",
    "students = [\n",
    "{\n",
    "    \"name\" : \"Adam\",\n",
    "    \"gender\"  : \"Male\"\n",
    "},\n",
    "{\n",
    "    \"name\"  :\"Eve\",\n",
    "    \"gender\" : \"Female\"\n",
    "}\n",
    "]\n",
    "list(map(lambda x : x['name'] , students))"
   ]
  },
  {
   "cell_type": "code",
   "execution_count": null,
   "id": "dd051fa9",
   "metadata": {},
   "outputs": [],
   "source": []
  },
  {
   "cell_type": "code",
   "execution_count": 1,
   "id": "fe5d1013",
   "metadata": {},
   "outputs": [
    {
     "data": {
      "text/plain": [
       "[6, 7, 8, 9, 6, 32, 432, 42]"
      ]
     },
     "execution_count": 1,
     "metadata": {},
     "output_type": "execute_result"
    }
   ],
   "source": [
    "# filter function: work acc to given condition\n",
    "l = [1,2,3,4,6,7,8,9,6,4,32,432,42]\n",
    "# find all numbers from list greater than 4\n",
    "list(filter(lambda x : x>4 , l))"
   ]
  },
  {
   "cell_type": "code",
   "execution_count": 2,
   "id": "1a513c02",
   "metadata": {},
   "outputs": [
    {
     "data": {
      "text/plain": [
       "['apple', 'orange']"
      ]
     },
     "execution_count": 2,
     "metadata": {},
     "output_type": "execute_result"
    }
   ],
   "source": [
    "fruits = ['apple', 'orange', 'mango', 'guava']\n",
    "# find fruits whose name contain \"e\"\n",
    "list(filter(lambda x : \"e\" in x , fruits))"
   ]
  },
  {
   "cell_type": "code",
   "execution_count": null,
   "id": "764e6d82",
   "metadata": {},
   "outputs": [],
   "source": []
  },
  {
   "cell_type": "code",
   "execution_count": null,
   "id": "7b93c899",
   "metadata": {},
   "outputs": [],
   "source": [
    "\"\"\"\n",
    "# Quick exercise: \n",
    "Write a lambda function that takes a list of strings as input and returns a list of strings with their first letter capitalized.\n",
    "\n",
    "capitalize_first_letter = lambda strings: list(map(lambda s: s.capitalize(), strings))\n",
    "\n",
    "# Test the lambda function\n",
    "words = [\"apple\", \"banana\", \"cherry\", \"date\"]\n",
    "result = capitalize_first_letter(words)\n",
    "print(result)  # Output: ['Apple', 'Banana', 'Cherry', 'Date']\n",
    "\n",
    "\"\"\""
   ]
  },
  {
   "cell_type": "code",
   "execution_count": null,
   "id": "870a8ff4",
   "metadata": {},
   "outputs": [],
   "source": [
    "capitalize_first_letter = lambda strings: list(map(lambda s: s.capitalize(), strings))"
   ]
  },
  {
   "cell_type": "code",
   "execution_count": null,
   "id": "f040740d",
   "metadata": {},
   "outputs": [],
   "source": [
    "words = [\"apple\", \"banana\", \"cherry\", \"date\"]\n",
    "list(map(lambda s: s.capitalize(), words))\n",
    "# Test the lambda function\n",
    "result = capitalize_first_letter(words)\n",
    "print(result)  # Output: ['Apple', 'Banana', 'Cherry', 'Date']\n"
   ]
  },
  {
   "cell_type": "code",
   "execution_count": null,
   "id": "37373308",
   "metadata": {},
   "outputs": [],
   "source": [
    "fruits = ['Orange', 'Apple', 'Guava', 'Mango']\n",
    "[fruit for fruit in fruits if fruit[0] == 'O']"
   ]
  }
 ],
 "metadata": {
  "kernelspec": {
   "display_name": "Python 3 (ipykernel)",
   "language": "python",
   "name": "python3"
  },
  "language_info": {
   "codemirror_mode": {
    "name": "ipython",
    "version": 3
   },
   "file_extension": ".py",
   "mimetype": "text/x-python",
   "name": "python",
   "nbconvert_exporter": "python",
   "pygments_lexer": "ipython3",
   "version": "3.11.5"
  }
 },
 "nbformat": 4,
 "nbformat_minor": 5
}
