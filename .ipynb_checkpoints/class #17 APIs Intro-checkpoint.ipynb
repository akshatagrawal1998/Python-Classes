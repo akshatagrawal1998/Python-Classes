{
 "cells": [
  {
   "cell_type": "code",
   "execution_count": null,
   "id": "f548dcda",
   "metadata": {},
   "outputs": [],
   "source": []
  },
  {
   "cell_type": "code",
   "execution_count": null,
   "id": "06530f3f",
   "metadata": {},
   "outputs": [],
   "source": []
  },
  {
   "cell_type": "markdown",
   "id": "360bb435",
   "metadata": {},
   "source": [
    "## API - Application programming interface.\n",
    "\n",
    "\n",
    "1. What is an API?\n",
    "   An API is a set of rules and protocols for building and interacting with software applications. It defines the methods and \n",
    "   data formats that developers can use to communicate with programming interfaces of a service, tool, or application. Basically\n",
    "   to communicate between different applications.\n",
    "\n",
    "- Example: Imagine you're using an application like Twitter. Through the Twitter API, you can programmatically post tweets, retrieve tweets, or engage with content directly through your Python scripts instead of using the website.\n",
    "\n",
    "\n",
    "2. Types of APIs:\n",
    "\n",
    "   - REST APIs: Most common, uses standard HTTP requests to manage data. It is used widely for web applications.\n",
    "   \n",
    "   - SOAP APIs: More rigid with stricter standards, primarily for enterprise-level services.\n",
    "   \n",
    "   - GraphQL APIs: Allows clients to request exactly the data they need, making it more efficient.\n",
    "   \n",
    "\n",
    "   Example: Most data science projects might utilize REST APIs to fetch data, such as financial records from a banking API or weather data from a meteorological API.\n",
    "\n",
    "3. HTTP Requests:\n",
    "\n",
    "   APIs often interact through HTTP methods such as GET (retrieve data), POST (send data), PUT (update data), and DELETE (remove data).\n",
    "\n",
    "  Example: To access weather data, your application might send a GET request to a weather API.\n",
    "\n",
    "4. JSON Format:\n",
    "\n",
    "   Data exchanged with REST APIs is usually in JSON (JavaScript Object Notation), which is a lightweight data-interchange format that is easy to read and write.\n",
    "\n",
    "   Example: A weather API might return data in JSON format, like this:\n",
    "   ```json\n",
    "   {\n",
    "       \"location\": \"San Francisco\",\n",
    "       \"temperature\": 58,\n",
    "       \"condition\": \"Foggy\"\n",
    "   }\n",
    "   ```\n",
    "\n",
    "5. API Keys and Authentication:\n",
    "\n",
    "   Many APIs require an API key, which is a code passed in by computer programs calling the API to identify the calling program. It's a way to control access.\n",
    "\n",
    "   Example: When accessing the Google Maps API to fetch geographical data, you need to provide your unique API key in the request.\n",
    "\n",
    "6. Rate Limiting:\n",
    "\n",
    "   APIs often have rate limits, which restrict how many requests you can make in a certain period to prevent abuse and overloading of the API services.\n",
    "\n",
    "   Example: A financial data API might limit you to 100 requests per hour.\n",
    "\n",
    "7. Libraries and Tools for API Interaction:\n",
    "\n",
    "   Python provides several libraries to make API calls easier, such as `requests` for making HTTP requests, `json` for parsing JSON, and specific libraries provided by API providers.\n",
    "\n",
    "   Example: Using the `requests` library in Python to fetch live currency exchange rates:\n",
    "   ```python\n",
    "   import requests\n",
    "\n",
    "   response = requests.get(\"https://api.exchangeratesapi.io/latest\")\n",
    "   data = response.json()\n",
    "   print(data)\n",
    "   ```\n",
    "\n",
    "8. Error Handling:\n",
    "\n",
    "   When something goes wrong with API requests, handling errors properly is crucial. This could be dealing with network issues, incorrect data provided, or hitting rate limits.\n",
    "\n",
    "   Example: Checking for errors when making an API request:\n",
    "   ```python\n",
    "   response = requests.get(url)\n",
    "   if response.status_code == 200:\n",
    "       data = response.json()\n",
    "   else:\n",
    "       print(\"Failed to retrieve data:\", response.status_code)\n",
    "   ```\n"
   ]
  },
  {
   "cell_type": "markdown",
   "id": "ee9cae1f",
   "metadata": {},
   "source": [
    "### Web API vs API\n",
    "\n",
    "- API built using http protocols are web API. e.g gmail (when we login it verifies out id and password)\n",
    "\n",
    "- API built using TCP/IP protocol (data transfer in XML, JSON format) - used to communicate between same application or diff application without using web."
   ]
  },
  {
   "cell_type": "code",
   "execution_count": null,
   "id": "514cc225",
   "metadata": {},
   "outputs": [],
   "source": []
  },
  {
   "cell_type": "code",
   "execution_count": 2,
   "id": "3ad75e69",
   "metadata": {},
   "outputs": [
    {
     "ename": "SyntaxError",
     "evalue": "invalid syntax (2487767111.py, line 1)",
     "output_type": "error",
     "traceback": [
      "\u001b[1;36m  Cell \u001b[1;32mIn[2], line 1\u001b[1;36m\u001b[0m\n\u001b[1;33m    REST architecture is sued for web based APIs\u001b[0m\n\u001b[1;37m         ^\u001b[0m\n\u001b[1;31mSyntaxError\u001b[0m\u001b[1;31m:\u001b[0m invalid syntax\n"
     ]
    }
   ],
   "source": [
    "- REST architecture is used for web based APIs where we use http protocols for transfer, update, insert or delete the data.\n",
    "     GET, PUT, POST, DELETE are used here for communication.\n",
    "     It's very simple in terms of developement, scalability (whether 1 user or 1 million users are hitting the API).\n",
    "        It is stateless protocol (it does not store clients request) but response from server can be cached for improving performance.\n",
    "        i.e. it is stored in the cache memory \n",
    "\n",
    "- SOAP architecture - follows XML based language where we write commands, to transfer data or fetch data. \n",
    "    It supports http, TCP, SMTP protocols.\n",
    "    It is more lightweight than REST \n",
    "    more secure"
   ]
  },
  {
   "cell_type": "code",
   "execution_count": null,
   "id": "953640fa",
   "metadata": {},
   "outputs": [],
   "source": []
  },
  {
   "cell_type": "code",
   "execution_count": null,
   "id": "434b8624",
   "metadata": {},
   "outputs": [],
   "source": []
  },
  {
   "cell_type": "markdown",
   "id": "edc4a98c",
   "metadata": {},
   "source": [
    "## Flask APP\n",
    "\n",
    "- Python library to create APIs or expose our code to the outer world."
   ]
  },
  {
   "cell_type": "code",
   "execution_count": 27,
   "id": "6fedc2f5",
   "metadata": {},
   "outputs": [],
   "source": [
    "from flask import Flask\n",
    "from flask import request"
   ]
  },
  {
   "cell_type": "code",
   "execution_count": 28,
   "id": "a3599686",
   "metadata": {},
   "outputs": [],
   "source": [
    "app = Flask(__name__)\n",
    "# creating an object of Flask class"
   ]
  },
  {
   "cell_type": "code",
   "execution_count": 29,
   "id": "4869db53",
   "metadata": {},
   "outputs": [],
   "source": [
    "@app.route(\"/\")  # route to the home page  -> decorator\n",
    "def hello_world():\n",
    "    return \"<h1>Hello, World!</h1>\"  # return html code (whatever we want to display in the frontend)"
   ]
  },
  {
   "cell_type": "markdown",
   "id": "5ef67e47",
   "metadata": {},
   "source": [
    "whatever we write in .py or python file becomes server and it is created using Flask"
   ]
  },
  {
   "cell_type": "code",
   "execution_count": null,
   "id": "a68c3a39",
   "metadata": {},
   "outputs": [],
   "source": []
  },
  {
   "cell_type": "code",
   "execution_count": 30,
   "id": "0a190665",
   "metadata": {},
   "outputs": [],
   "source": [
    "@app.route(\"/hello_world1\")\n",
    "def hello_world1():\n",
    "    return \"<h1>Hello, World!1</h1>\""
   ]
  },
  {
   "cell_type": "code",
   "execution_count": 31,
   "id": "0741e144",
   "metadata": {},
   "outputs": [],
   "source": [
    "@app.route(\"/hello_world2\")\n",
    "def hello_world2():\n",
    "    return \"<h1>Hello, World!2</h1>\""
   ]
  },
  {
   "cell_type": "code",
   "execution_count": 35,
   "id": "118fb154",
   "metadata": {},
   "outputs": [
    {
     "ename": "AssertionError",
     "evalue": "View function mapping is overwriting an existing endpoint function: test",
     "output_type": "error",
     "traceback": [
      "\u001b[1;31m---------------------------------------------------------------------------\u001b[0m",
      "\u001b[1;31mAssertionError\u001b[0m                            Traceback (most recent call last)",
      "Cell \u001b[1;32mIn[35], line 1\u001b[0m\n\u001b[1;32m----> 1\u001b[0m \u001b[38;5;129m@app\u001b[39m\u001b[38;5;241m.\u001b[39mroute(\u001b[38;5;124m\"\u001b[39m\u001b[38;5;124m/test\u001b[39m\u001b[38;5;124m\"\u001b[39m)\n\u001b[0;32m      2\u001b[0m \u001b[38;5;28;01mdef\u001b[39;00m \u001b[38;5;21mtest\u001b[39m():\n\u001b[0;32m      3\u001b[0m     a \u001b[38;5;241m=\u001b[39m \u001b[38;5;241m5\u001b[39m\u001b[38;5;241m+\u001b[39m\u001b[38;5;241m6\u001b[39m \n\u001b[0;32m      4\u001b[0m     \u001b[38;5;28;01mreturn\u001b[39;00m \u001b[38;5;124m\"\u001b[39m\u001b[38;5;124mthis is my function to run app \u001b[39m\u001b[38;5;132;01m{}\u001b[39;00m\u001b[38;5;124m\"\u001b[39m\u001b[38;5;241m.\u001b[39mformat(a)\n",
      "File \u001b[1;32m~\\Anaconda Install\\Lib\\site-packages\\flask\\scaffold.py:449\u001b[0m, in \u001b[0;36mScaffold.route.<locals>.decorator\u001b[1;34m(f)\u001b[0m\n\u001b[0;32m    447\u001b[0m \u001b[38;5;28;01mdef\u001b[39;00m \u001b[38;5;21mdecorator\u001b[39m(f: T_route) \u001b[38;5;241m-\u001b[39m\u001b[38;5;241m>\u001b[39m T_route:\n\u001b[0;32m    448\u001b[0m     endpoint \u001b[38;5;241m=\u001b[39m options\u001b[38;5;241m.\u001b[39mpop(\u001b[38;5;124m\"\u001b[39m\u001b[38;5;124mendpoint\u001b[39m\u001b[38;5;124m\"\u001b[39m, \u001b[38;5;28;01mNone\u001b[39;00m)\n\u001b[1;32m--> 449\u001b[0m     \u001b[38;5;28mself\u001b[39m\u001b[38;5;241m.\u001b[39madd_url_rule(rule, endpoint, f, \u001b[38;5;241m*\u001b[39m\u001b[38;5;241m*\u001b[39moptions)\n\u001b[0;32m    450\u001b[0m     \u001b[38;5;28;01mreturn\u001b[39;00m f\n",
      "File \u001b[1;32m~\\Anaconda Install\\Lib\\site-packages\\flask\\scaffold.py:50\u001b[0m, in \u001b[0;36msetupmethod.<locals>.wrapper_func\u001b[1;34m(self, *args, **kwargs)\u001b[0m\n\u001b[0;32m     48\u001b[0m \u001b[38;5;28;01mdef\u001b[39;00m \u001b[38;5;21mwrapper_func\u001b[39m(\u001b[38;5;28mself\u001b[39m, \u001b[38;5;241m*\u001b[39margs: t\u001b[38;5;241m.\u001b[39mAny, \u001b[38;5;241m*\u001b[39m\u001b[38;5;241m*\u001b[39mkwargs: t\u001b[38;5;241m.\u001b[39mAny) \u001b[38;5;241m-\u001b[39m\u001b[38;5;241m>\u001b[39m t\u001b[38;5;241m.\u001b[39mAny:\n\u001b[0;32m     49\u001b[0m     \u001b[38;5;28mself\u001b[39m\u001b[38;5;241m.\u001b[39m_check_setup_finished(f_name)\n\u001b[1;32m---> 50\u001b[0m     \u001b[38;5;28;01mreturn\u001b[39;00m f(\u001b[38;5;28mself\u001b[39m, \u001b[38;5;241m*\u001b[39margs, \u001b[38;5;241m*\u001b[39m\u001b[38;5;241m*\u001b[39mkwargs)\n",
      "File \u001b[1;32m~\\Anaconda Install\\Lib\\site-packages\\flask\\app.py:1358\u001b[0m, in \u001b[0;36mFlask.add_url_rule\u001b[1;34m(self, rule, endpoint, view_func, provide_automatic_options, **options)\u001b[0m\n\u001b[0;32m   1356\u001b[0m old_func \u001b[38;5;241m=\u001b[39m \u001b[38;5;28mself\u001b[39m\u001b[38;5;241m.\u001b[39mview_functions\u001b[38;5;241m.\u001b[39mget(endpoint)\n\u001b[0;32m   1357\u001b[0m \u001b[38;5;28;01mif\u001b[39;00m old_func \u001b[38;5;129;01mis\u001b[39;00m \u001b[38;5;129;01mnot\u001b[39;00m \u001b[38;5;28;01mNone\u001b[39;00m \u001b[38;5;129;01mand\u001b[39;00m old_func \u001b[38;5;241m!=\u001b[39m view_func:\n\u001b[1;32m-> 1358\u001b[0m     \u001b[38;5;28;01mraise\u001b[39;00m \u001b[38;5;167;01mAssertionError\u001b[39;00m(\n\u001b[0;32m   1359\u001b[0m         \u001b[38;5;124m\"\u001b[39m\u001b[38;5;124mView function mapping is overwriting an existing\u001b[39m\u001b[38;5;124m\"\u001b[39m\n\u001b[0;32m   1360\u001b[0m         \u001b[38;5;124mf\u001b[39m\u001b[38;5;124m\"\u001b[39m\u001b[38;5;124m endpoint function: \u001b[39m\u001b[38;5;132;01m{\u001b[39;00mendpoint\u001b[38;5;132;01m}\u001b[39;00m\u001b[38;5;124m\"\u001b[39m\n\u001b[0;32m   1361\u001b[0m     )\n\u001b[0;32m   1362\u001b[0m \u001b[38;5;28mself\u001b[39m\u001b[38;5;241m.\u001b[39mview_functions[endpoint] \u001b[38;5;241m=\u001b[39m view_func\n",
      "\u001b[1;31mAssertionError\u001b[0m: View function mapping is overwriting an existing endpoint function: test"
     ]
    }
   ],
   "source": [
    "@app.route(\"/test\")\n",
    "def test():\n",
    "    a = 5+6 \n",
    "    return \"this is my function to run app {}\".format(a)\n",
    "\n",
    "# http://192.168.1.16:5000/test2/test2?x=Akshat\n",
    "# we give value like above  - > after URL    ->  ?x=value"
   ]
  },
  {
   "cell_type": "code",
   "execution_count": 33,
   "id": "e1645f44",
   "metadata": {},
   "outputs": [],
   "source": [
    "# above all functions do not take any input while hitting the url. now let's create a function which will take input also\n",
    "\n",
    "# for that we also need request class from flask library\n",
    "\n",
    "@app.route(\"/test2/test2\") \n",
    "def test2():\n",
    "    data = request.args.get('x')\n",
    "    return  \"this is a data input form my url {}\".format(data)"
   ]
  },
  {
   "cell_type": "code",
   "execution_count": 34,
   "id": "019435e1",
   "metadata": {},
   "outputs": [
    {
     "name": "stdout",
     "output_type": "stream",
     "text": [
      " * Serving Flask app '__main__'\n",
      " * Debug mode: off\n"
     ]
    },
    {
     "name": "stderr",
     "output_type": "stream",
     "text": [
      "WARNING: This is a development server. Do not use it in a production deployment. Use a production WSGI server instead.\n",
      " * Running on all addresses (0.0.0.0)\n",
      " * Running on http://127.0.0.1:5000\n",
      " * Running on http://192.168.1.16:5000\n",
      "Press CTRL+C to quit\n",
      "192.168.1.16 - - [16/May/2024 12:04:33] \"GET / HTTP/1.1\" 200 -\n",
      "192.168.1.16 - - [16/May/2024 12:04:41] \"GET /test2/test2 HTTP/1.1\" 200 -\n",
      "192.168.1.16 - - [16/May/2024 12:07:05] \"GET /test2/test2?=Akshat HTTP/1.1\" 200 -\n",
      "192.168.1.16 - - [16/May/2024 12:07:18] \"GET /test2/test2?x=Akshat HTTP/1.1\" 200 -\n"
     ]
    }
   ],
   "source": [
    "if __name__==\"__main__\":\n",
    "    app.run(host=\"0.0.0.0\")  # run it in local host as we have given 0.0.0.0 IP\n",
    "    \n",
    "    # when we call app.run in the main the server is created.\n",
    "    # In Flask, when you run your application locally, it typically listens on port 5000 by default unless you specify a different port."
   ]
  },
  {
   "cell_type": "code",
   "execution_count": null,
   "id": "a09ff8ed",
   "metadata": {},
   "outputs": [],
   "source": []
  },
  {
   "cell_type": "code",
   "execution_count": null,
   "id": "90a2cacf",
   "metadata": {},
   "outputs": [],
   "source": []
  }
 ],
 "metadata": {
  "kernelspec": {
   "display_name": "Python 3 (ipykernel)",
   "language": "python",
   "name": "python3"
  },
  "language_info": {
   "codemirror_mode": {
    "name": "ipython",
    "version": 3
   },
   "file_extension": ".py",
   "mimetype": "text/x-python",
   "name": "python",
   "nbconvert_exporter": "python",
   "pygments_lexer": "ipython3",
   "version": "3.11.5"
  }
 },
 "nbformat": 4,
 "nbformat_minor": 5
}
