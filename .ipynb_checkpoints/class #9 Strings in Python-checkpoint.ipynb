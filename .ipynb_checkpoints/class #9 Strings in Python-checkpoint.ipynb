{
 "cells": [
  {
   "cell_type": "code",
   "execution_count": null,
   "id": "a07c0e09",
   "metadata": {},
   "outputs": [],
   "source": []
  },
  {
   "cell_type": "code",
   "execution_count": null,
   "id": "652aaf66",
   "metadata": {},
   "outputs": [],
   "source": [
    "'''Strings are sequence of Characters\n",
    "\n",
    "In Python specifically, strings are a sequence of Unicode Characters\n",
    "\n",
    "Creating Strings\n",
    "Accessing Strings\n",
    "Adding Chars to Strings\n",
    "Editing Strings\n",
    "Deleting Strings\n",
    "Operations on Strings\n",
    "String Functions\n",
    "'''\n"
   ]
  },
  {
   "cell_type": "code",
   "execution_count": 1,
   "id": "ef5786fd",
   "metadata": {},
   "outputs": [
    {
     "name": "stdout",
     "output_type": "stream",
     "text": [
      "Python\n",
      "<class 'str'>\n",
      "Hello. it's raining outside\n"
     ]
    }
   ],
   "source": [
    "# Creating\n",
    "\n",
    "c = 'Python'\n",
    "print(c)\n",
    "print(type(c))\n",
    "\n",
    "c = \"Hello. it's raining outside\"\n",
    "print(c)"
   ]
  },
  {
   "cell_type": "code",
   "execution_count": 2,
   "id": "b4dbfeb5",
   "metadata": {},
   "outputs": [
    {
     "data": {
      "text/plain": [
       "str"
      ]
     },
     "execution_count": 2,
     "metadata": {},
     "output_type": "execute_result"
    }
   ],
   "source": [
    "str = \"\"\"Adam is my teacher.\n",
    "        He is good in teaching. \n",
    "                I give him 5* \"\"\"\n",
    "type(str)"
   ]
  },
  {
   "cell_type": "code",
   "execution_count": 2,
   "id": "8d75bb9b",
   "metadata": {},
   "outputs": [
    {
     "data": {
      "text/plain": [
       "str"
      ]
     },
     "execution_count": 2,
     "metadata": {},
     "output_type": "execute_result"
    }
   ],
   "source": [
    "a = '5'\n",
    "type(a)"
   ]
  },
  {
   "cell_type": "code",
   "execution_count": 5,
   "id": "032ecd1c",
   "metadata": {},
   "outputs": [
    {
     "name": "stdout",
     "output_type": "stream",
     "text": [
      "Hello\n",
      "<class 'str'>\n"
     ]
    }
   ],
   "source": [
    "c = '''Hello'''\n",
    "print(c)\n",
    "print(type(c))"
   ]
  },
  {
   "cell_type": "code",
   "execution_count": null,
   "id": "feb1cea7",
   "metadata": {},
   "outputs": [],
   "source": [
    "# multi line strings\n",
    "c = \"\"\"Hello\"\"\"\n",
    "print(c)"
   ]
  },
  {
   "cell_type": "code",
   "execution_count": null,
   "id": "1e594ed6",
   "metadata": {},
   "outputs": [],
   "source": [
    "c = str(\"Hello\")\n",
    "c"
   ]
  },
  {
   "cell_type": "code",
   "execution_count": null,
   "id": "e251c805",
   "metadata": {},
   "outputs": [],
   "source": []
  },
  {
   "cell_type": "code",
   "execution_count": null,
   "id": "60a0fa14",
   "metadata": {},
   "outputs": [],
   "source": []
  },
  {
   "cell_type": "markdown",
   "id": "8ac77ade",
   "metadata": {},
   "source": [
    "## # Accessing Substrings from a String\n"
   ]
  },
  {
   "cell_type": "code",
   "execution_count": 13,
   "id": "69f9a230",
   "metadata": {},
   "outputs": [
    {
     "name": "stdout",
     "output_type": "stream",
     "text": [
      "A\n",
      "h\n",
      "t\n",
      "s\n",
      "Akshat\n",
      "Agrawal\n",
      "Akshat Agrawal\n",
      "Akshat Ag\n",
      "t Agrawal\n",
      "Arwl\n",
      "14\n"
     ]
    }
   ],
   "source": [
    "x = 'Akshat Agrawal'\n",
    "print(x[0])\n",
    "print(x[3])\n",
    "print(x[5])\n",
    "print(x[2])\n",
    "\n",
    "print(x[0:6])\n",
    "print(x[7:14])\n",
    "print(x[:])\n",
    "print(x[:9])\n",
    "print(x[5:])\n",
    "\n",
    "print(x[7:14:2])\n",
    "\n",
    "print(len(x))"
   ]
  },
  {
   "cell_type": "code",
   "execution_count": 23,
   "id": "dbc64ab3",
   "metadata": {},
   "outputs": [
    {
     "data": {
      "text/plain": [
       "'Akshat Agrawal'"
      ]
     },
     "execution_count": 23,
     "metadata": {},
     "output_type": "execute_result"
    }
   ],
   "source": [
    "x[-14:]"
   ]
  },
  {
   "cell_type": "code",
   "execution_count": 25,
   "id": "65334402",
   "metadata": {},
   "outputs": [
    {
     "data": {
      "text/plain": [
       "'lawargA tahskA'"
      ]
     },
     "execution_count": 25,
     "metadata": {},
     "output_type": "execute_result"
    }
   ],
   "source": [
    "x\n",
    "x[::-1]"
   ]
  },
  {
   "cell_type": "code",
   "execution_count": 26,
   "id": "2f9b81e6",
   "metadata": {},
   "outputs": [
    {
     "data": {
      "text/plain": [
       "'madaM'"
      ]
     },
     "execution_count": 26,
     "metadata": {},
     "output_type": "execute_result"
    }
   ],
   "source": [
    "x = 'Madam'\n",
    "x[::-1]"
   ]
  },
  {
   "cell_type": "code",
   "execution_count": null,
   "id": "61eb4363",
   "metadata": {},
   "outputs": [],
   "source": []
  },
  {
   "cell_type": "code",
   "execution_count": null,
   "id": "9ebf221e",
   "metadata": {},
   "outputs": [],
   "source": []
  },
  {
   "cell_type": "markdown",
   "id": "3fc1b4bc",
   "metadata": {},
   "source": [
    "## How to improve your logic building\n",
    "\n",
    "### dry run\n",
    "### algo\n",
    "### flowchart\n",
    "\n",
    "- Step 1 : to take user input\n",
    "- Step 2: to reverse the original input and store in a variable\n",
    "- Step 3: to compare original string and reverse string\n",
    "- Step 4: if they match, print teh string is palindrome\n",
    "- Step 5: if they do not match, print the string is not palindrome"
   ]
  },
  {
   "cell_type": "code",
   "execution_count": 38,
   "id": "fbc455e6",
   "metadata": {},
   "outputs": [
    {
     "name": "stdout",
     "output_type": "stream",
     "text": [
      "Enter a string \n",
      "Dad\n",
      "DAD\n",
      "DAD\n",
      "Palindrome\n"
     ]
    }
   ],
   "source": [
    "user_input = input(\"Enter a string \\n\")\n",
    "rev = user_input[::-1]\n",
    "\n",
    "print(user_input.upper())\n",
    "print (rev.upper())\n",
    "\n",
    "if user_input.upper() == rev.upper():\n",
    "    print(\"Palindrome\")\n",
    "else:\n",
    "    print(\"Not Palindrome\")"
   ]
  },
  {
   "cell_type": "code",
   "execution_count": null,
   "id": "530ee881",
   "metadata": {},
   "outputs": [],
   "source": []
  },
  {
   "cell_type": "code",
   "execution_count": null,
   "id": "461dc16a",
   "metadata": {},
   "outputs": [],
   "source": []
  },
  {
   "cell_type": "code",
   "execution_count": 32,
   "id": "bf6ff81f",
   "metadata": {},
   "outputs": [
    {
     "name": "stdout",
     "output_type": "stream",
     "text": [
      "Enter a string \n",
      "Madam\n",
      "Madam is palindrome\n"
     ]
    }
   ],
   "source": [
    "# palindrome\n",
    "user_input = input(\"Enter a string \\n\")\n",
    "\n",
    "reverse = user_input[::-1]\n",
    "\n",
    "if user_input.lower() == reverse.lower():\n",
    "    print(f\"{user_input} is palindrome\")\n",
    "else:\n",
    "    print(f\"{user_input} is not plaindrome\")"
   ]
  },
  {
   "cell_type": "code",
   "execution_count": null,
   "id": "291c190a",
   "metadata": {},
   "outputs": [],
   "source": []
  },
  {
   "cell_type": "code",
   "execution_count": null,
   "id": "28aaab2b",
   "metadata": {},
   "outputs": [],
   "source": []
  },
  {
   "cell_type": "code",
   "execution_count": 13,
   "id": "4a56a4de",
   "metadata": {},
   "outputs": [
    {
     "name": "stdout",
     "output_type": "stream",
     "text": [
      "hello \n"
     ]
    }
   ],
   "source": [
    "# Concept of Indexing\n",
    "c = \"hello \"\n",
    "print(c)"
   ]
  },
  {
   "cell_type": "code",
   "execution_count": 7,
   "id": "f4263c00",
   "metadata": {},
   "outputs": [
    {
     "name": "stdout",
     "output_type": "stream",
     "text": [
      "h\n",
      "e\n",
      " \n",
      "l\n",
      "6\n"
     ]
    }
   ],
   "source": [
    "print(c[0])\n",
    "print(c[1])\n",
    "print(c[-1])\n",
    "print(c[-3])\n",
    "print(len(c))"
   ]
  },
  {
   "cell_type": "code",
   "execution_count": 8,
   "id": "d89a1cc0",
   "metadata": {},
   "outputs": [
    {
     "name": "stdout",
     "output_type": "stream",
     "text": [
      "hel\n"
     ]
    }
   ],
   "source": [
    "print(c[0:3])"
   ]
  },
  {
   "cell_type": "code",
   "execution_count": 10,
   "id": "8d34e4a1",
   "metadata": {},
   "outputs": [
    {
     "name": "stdout",
     "output_type": "stream",
     "text": [
      "ello\n"
     ]
    }
   ],
   "source": [
    "print(c[-5:-1])"
   ]
  },
  {
   "cell_type": "code",
   "execution_count": 15,
   "id": "7976e528",
   "metadata": {},
   "outputs": [
    {
     "name": "stdout",
     "output_type": "stream",
     "text": [
      "e\n"
     ]
    }
   ],
   "source": [
    "print(c[-5])"
   ]
  },
  {
   "cell_type": "code",
   "execution_count": 21,
   "id": "211c6928",
   "metadata": {},
   "outputs": [
    {
     "name": "stdout",
     "output_type": "stream",
     "text": [
      "hell\n",
      "hell\n",
      "ello \n",
      "ello\n"
     ]
    }
   ],
   "source": [
    "print(c[:4]) # from 0 to 3\n",
    "print(c[0:4])\n",
    "\n",
    "\n",
    "print(c[1:])\n",
    "print(c[1:-1])"
   ]
  },
  {
   "cell_type": "code",
   "execution_count": 17,
   "id": "b8dd7e57",
   "metadata": {},
   "outputs": [
    {
     "data": {
      "text/plain": [
       "'Akshat'"
      ]
     },
     "execution_count": 17,
     "metadata": {},
     "output_type": "execute_result"
    }
   ],
   "source": [
    "str = \"Akshat is a good boy\"\n",
    "\n",
    "str[0:6]"
   ]
  },
  {
   "cell_type": "code",
   "execution_count": null,
   "id": "cd8fd797",
   "metadata": {},
   "outputs": [],
   "source": [
    "string = ['Adam', 'Mike', 'Julie', 'Michael']\n",
    "string[-3]\n",
    "string[-5]"
   ]
  },
  {
   "cell_type": "code",
   "execution_count": null,
   "id": "a4d37a6e",
   "metadata": {},
   "outputs": [],
   "source": [
    "# Types of Indexing\n",
    "# Postive Indexing\n",
    "# Negative Indexing\n",
    "\n",
    "#Indexing lets us extract a single character from a string\n",
    "print(c)  # Hello\n",
    "print(c[3])\n",
    "print(c[-3])\n",
    "print(c[-1])\n",
    "print(c[-2])"
   ]
  },
  {
   "cell_type": "code",
   "execution_count": null,
   "id": "fc6254e8",
   "metadata": {},
   "outputs": [],
   "source": [
    "# Slicing - to extract multiple characters at once from a string\n",
    "c = \"Hello World\"\n",
    "print(c)\n",
    "# range(0,4)\n",
    "print(c[0:5]) # from 0 to 4\n",
    "print(c[3:7]) # lo W\n",
    "print(c[2:9])  # llo Wor\n",
    "print(c[2:]) # from 2 to end  [start:stop]\n",
    "\n",
    "print(c[:4]) # from 0 to 3\n",
    "\n",
    "print(c[:]) # all\n",
    "\n",
    "print(c)"
   ]
  },
  {
   "cell_type": "code",
   "execution_count": null,
   "id": "f19d7ae1",
   "metadata": {},
   "outputs": [],
   "source": [
    "# range(start:stop:step)\n",
    "# c = \"Hello World\"\n",
    "print(c[0:8:2]) #giving step size also - from 0 to 7 on a step of 2 \n",
    "print(c[0:8:3]) # HlW\n",
    "print(c[0::3]) # HlWl"
   ]
  },
  {
   "cell_type": "code",
   "execution_count": null,
   "id": "f5164bbe",
   "metadata": {},
   "outputs": [],
   "source": []
  },
  {
   "cell_type": "code",
   "execution_count": null,
   "id": "6cf00278",
   "metadata": {},
   "outputs": [],
   "source": []
  },
  {
   "cell_type": "code",
   "execution_count": 22,
   "id": "352ffb96",
   "metadata": {},
   "outputs": [
    {
     "data": {
      "text/plain": [
       "'hello '"
      ]
     },
     "execution_count": 22,
     "metadata": {},
     "output_type": "execute_result"
    }
   ],
   "source": [
    "c"
   ]
  },
  {
   "cell_type": "code",
   "execution_count": 25,
   "id": "e7700da5",
   "metadata": {},
   "outputs": [
    {
     "name": "stdout",
     "output_type": "stream",
     "text": [
      "hl\n"
     ]
    }
   ],
   "source": [
    "print(c[0:6:3])"
   ]
  },
  {
   "cell_type": "code",
   "execution_count": null,
   "id": "857eb863",
   "metadata": {},
   "outputs": [],
   "source": [
    "print(c[0:6:-1]) # empty string as -ve step can't be used while using +ve indexes\n",
    "\n",
    "\n",
    "print(c)\n",
    "\n",
    "\n",
    "print(c[-5:-1:2]) #"
   ]
  },
  {
   "cell_type": "code",
   "execution_count": null,
   "id": "d37ff8bf",
   "metadata": {},
   "outputs": [],
   "source": []
  },
  {
   "cell_type": "code",
   "execution_count": null,
   "id": "91f2b786",
   "metadata": {},
   "outputs": [],
   "source": [
    "s = \"Mike\"  # ekiM\n",
    "print(c[::-1]) # reverse a string -\n",
    "\n",
    "print(c[-1:-5:-1]) # from -1 to -4 and reversed"
   ]
  },
  {
   "cell_type": "code",
   "execution_count": null,
   "id": "6e099bf0",
   "metadata": {},
   "outputs": [],
   "source": [
    "# i or  l[i]\n",
    "\n",
    "l=[1,2,4,564,21,2,321214,342,123,24,3534,657,56,8567,3,21]\n",
    "for i in (range(1,10)):  # 1,2,3,4,5,6,7,8,9\n",
    "    print(l[i])\n",
    "\n",
    "for i in range(1,10):\n",
    "    print(i)"
   ]
  },
  {
   "cell_type": "code",
   "execution_count": null,
   "id": "72a0db63",
   "metadata": {},
   "outputs": [],
   "source": []
  },
  {
   "cell_type": "code",
   "execution_count": null,
   "id": "4c3b0e12",
   "metadata": {},
   "outputs": [],
   "source": []
  },
  {
   "cell_type": "markdown",
   "id": "527f1521",
   "metadata": {},
   "source": [
    "## Editing and Deleting in String"
   ]
  },
  {
   "cell_type": "code",
   "execution_count": 26,
   "id": "5feb310b",
   "metadata": {},
   "outputs": [
    {
     "name": "stdout",
     "output_type": "stream",
     "text": [
      "Hello\n"
     ]
    },
    {
     "ename": "TypeError",
     "evalue": "'str' object does not support item assignment",
     "output_type": "error",
     "traceback": [
      "\u001b[1;31m---------------------------------------------------------------------------\u001b[0m",
      "\u001b[1;31mTypeError\u001b[0m                                 Traceback (most recent call last)",
      "Cell \u001b[1;32mIn[26], line 4\u001b[0m\n\u001b[0;32m      2\u001b[0m \u001b[38;5;28mprint\u001b[39m(c)\n\u001b[0;32m      3\u001b[0m \u001b[38;5;66;03m# String are immutable\u001b[39;00m\n\u001b[1;32m----> 4\u001b[0m c[\u001b[38;5;241m0\u001b[39m] \u001b[38;5;241m=\u001b[39m \u001b[38;5;124m'\u001b[39m\u001b[38;5;124mX\u001b[39m\u001b[38;5;124m'\u001b[39m\n",
      "\u001b[1;31mTypeError\u001b[0m: 'str' object does not support item assignment"
     ]
    }
   ],
   "source": [
    "# Strings are immutable in Python\n",
    "\n",
    "c = \"Hello\"\n",
    "print(c)\n",
    "# String are immutable\n",
    "c[0] = 'X' # trying to update the char at 0 from H to X - "
   ]
  },
  {
   "cell_type": "code",
   "execution_count": 27,
   "id": "fb872778",
   "metadata": {},
   "outputs": [
    {
     "data": {
      "text/plain": [
       "'Hello'"
      ]
     },
     "execution_count": 27,
     "metadata": {},
     "output_type": "execute_result"
    }
   ],
   "source": [
    "c"
   ]
  },
  {
   "cell_type": "code",
   "execution_count": 29,
   "id": "b28e2480",
   "metadata": {},
   "outputs": [
    {
     "data": {
      "text/plain": [
       "'Akshat'"
      ]
     },
     "execution_count": 29,
     "metadata": {},
     "output_type": "execute_result"
    }
   ],
   "source": [
    "c = \"Akshat\"\n",
    "c"
   ]
  },
  {
   "cell_type": "code",
   "execution_count": 32,
   "id": "72b8d58f",
   "metadata": {},
   "outputs": [
    {
     "name": "stdout",
     "output_type": "stream",
     "text": [
      "world\n"
     ]
    }
   ],
   "source": [
    "# TypeError: 'str' object does not support item assignment\n",
    "# Strings are a Immutable Data Type\n",
    "\n",
    "# we can re assign but can't edit\n",
    "c = \"world\"\n",
    "print(c)"
   ]
  },
  {
   "cell_type": "code",
   "execution_count": null,
   "id": "0d4349b1",
   "metadata": {},
   "outputs": [],
   "source": []
  },
  {
   "cell_type": "code",
   "execution_count": null,
   "id": "b47b4b78",
   "metadata": {},
   "outputs": [],
   "source": [
    "c[5] = \"X\" # error - can't add or edit characters"
   ]
  },
  {
   "cell_type": "code",
   "execution_count": null,
   "id": "bcb59f31",
   "metadata": {},
   "outputs": [],
   "source": []
  },
  {
   "cell_type": "code",
   "execution_count": null,
   "id": "ecbc9c8b",
   "metadata": {},
   "outputs": [],
   "source": []
  },
  {
   "cell_type": "code",
   "execution_count": 39,
   "id": "7f5be402",
   "metadata": {},
   "outputs": [
    {
     "name": "stdout",
     "output_type": "stream",
     "text": [
      "Hello\n",
      "2619479957936\n"
     ]
    },
    {
     "ename": "NameError",
     "evalue": "name 'c' is not defined",
     "output_type": "error",
     "traceback": [
      "\u001b[1;31m---------------------------------------------------------------------------\u001b[0m",
      "\u001b[1;31mNameError\u001b[0m                                 Traceback (most recent call last)",
      "Cell \u001b[1;32mIn[39], line 8\u001b[0m\n\u001b[0;32m      4\u001b[0m \u001b[38;5;28mprint\u001b[39m(\u001b[38;5;28mid\u001b[39m(c))\n\u001b[0;32m      5\u001b[0m \u001b[38;5;28;01mdel\u001b[39;00m c \u001b[38;5;66;03m# del is the keyword to delete a string\u001b[39;00m\n\u001b[1;32m----> 8\u001b[0m \u001b[38;5;28mprint\u001b[39m(c) \u001b[38;5;66;03m# error as c is now deleted\u001b[39;00m\n\u001b[0;32m      9\u001b[0m \u001b[38;5;28mprint\u001b[39m(\u001b[38;5;28mid\u001b[39m(c))\n",
      "\u001b[1;31mNameError\u001b[0m: name 'c' is not defined"
     ]
    }
   ],
   "source": [
    "# Deletion\n",
    "c = 'Hello'\n",
    "print(c)\n",
    "print(id(c))\n",
    "del c # del is the keyword to delete a string\n",
    "\n",
    "\n",
    "print(c) # error as c is now deleted\n",
    "print(id(c))"
   ]
  },
  {
   "cell_type": "code",
   "execution_count": 31,
   "id": "ec9c5cb7",
   "metadata": {},
   "outputs": [
    {
     "name": "stdout",
     "output_type": "stream",
     "text": [
      "hello\n"
     ]
    },
    {
     "ename": "TypeError",
     "evalue": "'str' object doesn't support item deletion",
     "output_type": "error",
     "traceback": [
      "\u001b[1;31m---------------------------------------------------------------------------\u001b[0m",
      "\u001b[1;31mTypeError\u001b[0m                                 Traceback (most recent call last)",
      "Cell \u001b[1;32mIn[31], line 4\u001b[0m\n\u001b[0;32m      1\u001b[0m c \u001b[38;5;241m=\u001b[39m \u001b[38;5;124m\"\u001b[39m\u001b[38;5;124mhello\u001b[39m\u001b[38;5;124m\"\u001b[39m\n\u001b[0;32m      2\u001b[0m \u001b[38;5;28mprint\u001b[39m(c)\n\u001b[1;32m----> 4\u001b[0m \u001b[38;5;28;01mdel\u001b[39;00m c[\u001b[38;5;241m0\u001b[39m]\n",
      "\u001b[1;31mTypeError\u001b[0m: 'str' object doesn't support item deletion"
     ]
    }
   ],
   "source": [
    "c = \"hello\"\n",
    "print(c)\n",
    "\n",
    "del c[0] # error as string is immuatable"
   ]
  },
  {
   "cell_type": "code",
   "execution_count": null,
   "id": "aeab559f",
   "metadata": {},
   "outputs": [],
   "source": []
  },
  {
   "cell_type": "code",
   "execution_count": 40,
   "id": "ce0edebd",
   "metadata": {},
   "outputs": [
    {
     "name": "stdout",
     "output_type": "stream",
     "text": [
      "Hello-world\n",
      "enter a number5\n",
      "enter another number6\n",
      "56\n",
      "11\n",
      "**************************************************\n",
      "Hello Hello Hello Hello \n",
      "False\n",
      "False\n",
      "False\n",
      "dlrow olleh\n",
      "d\n",
      "l\n",
      "r\n",
      "o\n",
      "w\n",
      " \n",
      "o\n",
      "l\n",
      "l\n",
      "e\n",
      "h\n"
     ]
    }
   ],
   "source": [
    "'''\n",
    "Operations on Strings\n",
    "Arithmetic Operations\n",
    "Relational Operations\n",
    "Logical Operations\n",
    "Loops on Strings\n",
    "Membership Operations\n",
    "'''\n",
    "\n",
    "# no mathematical operator other than + and * works with strings\n",
    "\n",
    "\n",
    "# string1 + str2\n",
    "\n",
    "print(\"Hello\" + \"-\" + \"world\")  # concat string\n",
    "\n",
    "# by default any input is taken as string in python\n",
    "a = input(\"enter a number\")\n",
    "b = input(\"enter another number\")\n",
    "print(a+b)  # so when we do arithmetic addition on strings, it will concatenate them.\n",
    "\n",
    "print(int(a) + int(b))\n",
    "\n",
    "print(\"*\"*50) # string multiplication\n",
    "\n",
    "print(\"Hello \"*4)\n",
    "\n",
    "# Comparision opeartors\n",
    "print(\"Hello\" == \"World\")\n",
    "\n",
    "\"Hello\" != \"WOrld\"\n",
    "\n",
    "print(\"Mumbai\" > \"Pune\")\n",
    "# Lexiographically - the word which comes first in Oxford dictionary is treated smaller\n",
    "\n",
    "\"Goa\" < \"Kolkata\"\n",
    "\n",
    "\"kol\" < \"Kol\" # small letters come after capital letters\n",
    "\n",
    "# Logical operators\n",
    "# empty string is treated as False and non empty string as True\n",
    "\n",
    "\n",
    "\"hello\" and \"world\" # logical and \n",
    "\n",
    "\"\" and \"Hello\"\n",
    "\n",
    "\"\" or \"world\"\n",
    "\n",
    "\"hello\" or \"world\"\n",
    "\n",
    "\"hello\" and \"world\"\n",
    "\n",
    "# non empty strings ate True and not of True is False\n",
    "print(not \"hello\")\n",
    "\n",
    "not \"\"\n",
    "\n",
    "\n",
    "c = \"hello world\"\n",
    "print(c[::-1])\n",
    "\n",
    "for i in c[::-1]:\n",
    "    print(i)"
   ]
  },
  {
   "cell_type": "code",
   "execution_count": 47,
   "id": "18fd337c",
   "metadata": {},
   "outputs": [
    {
     "name": "stdout",
     "output_type": "stream",
     "text": [
      "Hello \n",
      "Hello \n",
      "Hello \n",
      "Hello \n",
      "\n"
     ]
    }
   ],
   "source": [
    "a = 4\n",
    "\n",
    "print(\"Hello \\n\"*a)"
   ]
  },
  {
   "cell_type": "code",
   "execution_count": 40,
   "id": "650a2b96",
   "metadata": {},
   "outputs": [
    {
     "name": "stdout",
     "output_type": "stream",
     "text": [
      "True\n"
     ]
    }
   ],
   "source": [
    "print(\"Hello\" != \"World\")"
   ]
  },
  {
   "cell_type": "code",
   "execution_count": 43,
   "id": "b8d21d62",
   "metadata": {},
   "outputs": [
    {
     "name": "stdout",
     "output_type": "stream",
     "text": [
      "True\n"
     ]
    }
   ],
   "source": [
    "print(\"Mumbai\" < \"Pune\")"
   ]
  },
  {
   "cell_type": "code",
   "execution_count": 54,
   "id": "2c10b2b4",
   "metadata": {},
   "outputs": [
    {
     "name": "stdout",
     "output_type": "stream",
     "text": [
      "akshat/\n"
     ]
    }
   ],
   "source": [
    "print(\"world\" and \"akshat/\")"
   ]
  },
  {
   "cell_type": "code",
   "execution_count": 56,
   "id": "7cc5f0de",
   "metadata": {},
   "outputs": [
    {
     "name": "stdout",
     "output_type": "stream",
     "text": [
      "world\n"
     ]
    }
   ],
   "source": [
    "print(\"\" or \"world\")"
   ]
  },
  {
   "cell_type": "code",
   "execution_count": 49,
   "id": "02fafdee",
   "metadata": {},
   "outputs": [
    {
     "name": "stdout",
     "output_type": "stream",
     "text": [
      "world\n"
     ]
    }
   ],
   "source": [
    "print(\"\" or \"world\")"
   ]
  },
  {
   "cell_type": "code",
   "execution_count": 58,
   "id": "136cafaf",
   "metadata": {},
   "outputs": [
    {
     "name": "stdout",
     "output_type": "stream",
     "text": [
      "True\n"
     ]
    }
   ],
   "source": [
    "print(not \"\")"
   ]
  },
  {
   "cell_type": "code",
   "execution_count": 62,
   "id": "ea44a594",
   "metadata": {},
   "outputs": [
    {
     "name": "stdout",
     "output_type": "stream",
     "text": [
      "True\n",
      "False\n",
      "False\n"
     ]
    }
   ],
   "source": [
    "# Membership operators\n",
    "\n",
    "c = 'hello world'\n",
    "print('h' in c)\n",
    "\n",
    "print('H' in c)\n",
    "\n",
    "print('world' not in c)\n"
   ]
  },
  {
   "cell_type": "code",
   "execution_count": null,
   "id": "7c818e4d",
   "metadata": {},
   "outputs": [],
   "source": [
    "\n",
    "\"\"\"\n",
    "Common Functions used with strings\n",
    "len\n",
    "max\n",
    "min\n",
    "sorted\n",
    "\"\"\""
   ]
  },
  {
   "cell_type": "code",
   "execution_count": 66,
   "id": "c48531fd",
   "metadata": {},
   "outputs": [
    {
     "data": {
      "text/plain": [
       "27"
      ]
     },
     "execution_count": 66,
     "metadata": {},
     "output_type": "execute_result"
    }
   ],
   "source": [
    "c = \"kolkata is a city in India \"\n",
    "len(c)"
   ]
  },
  {
   "cell_type": "code",
   "execution_count": 70,
   "id": "ec91d6dc",
   "metadata": {},
   "outputs": [
    {
     "data": {
      "text/plain": [
       "97"
      ]
     },
     "execution_count": 70,
     "metadata": {},
     "output_type": "execute_result"
    }
   ],
   "source": [
    "ord('a')"
   ]
  },
  {
   "cell_type": "code",
   "execution_count": 73,
   "id": "011c5c12",
   "metadata": {},
   "outputs": [
    {
     "name": "stdout",
     "output_type": "stream",
     "text": [
      "107\n",
      "111\n",
      "108\n",
      "116\n",
      "97\n"
     ]
    }
   ],
   "source": [
    "print(ord('k'))\n",
    "print(ord('o'))\n",
    "print(ord('l'))\n",
    "print(ord('t'))\n",
    "print(ord('a'))"
   ]
  },
  {
   "cell_type": "code",
   "execution_count": 76,
   "id": "d67d1a97",
   "metadata": {},
   "outputs": [
    {
     "data": {
      "text/plain": [
       "['t', 'o', 'l', 'k', 'k', 'a', 'a']"
      ]
     },
     "execution_count": 76,
     "metadata": {},
     "output_type": "execute_result"
    }
   ],
   "source": [
    "max(c) # based on ASCII characters\n",
    "\n",
    "min(c)\n",
    "\n",
    "sorted(c,reverse=True) # descending order based on ASCII characters\n"
   ]
  },
  {
   "cell_type": "code",
   "execution_count": 74,
   "id": "a26de0be",
   "metadata": {},
   "outputs": [
    {
     "data": {
      "text/plain": [
       "'t'"
      ]
     },
     "execution_count": 74,
     "metadata": {},
     "output_type": "execute_result"
    }
   ],
   "source": [
    "c='kolkata'\n",
    "max(c)"
   ]
  },
  {
   "cell_type": "code",
   "execution_count": null,
   "id": "07d19b84",
   "metadata": {},
   "outputs": [],
   "source": []
  },
  {
   "cell_type": "code",
   "execution_count": null,
   "id": "c9d70de0",
   "metadata": {},
   "outputs": [],
   "source": []
  },
  {
   "cell_type": "code",
   "execution_count": 77,
   "id": "e08f3f13",
   "metadata": {},
   "outputs": [
    {
     "data": {
      "text/plain": [
       "'It is raining today'"
      ]
     },
     "execution_count": 77,
     "metadata": {},
     "output_type": "execute_result"
    }
   ],
   "source": [
    "# functions only applicable on string datatype - not on any other\n",
    "\n",
    "\n",
    "# adam -> ADAM -> Adam\n",
    "# 1. Capitalize/Title/Upper/Lower/Swapcase\n",
    "\"it is raining today\".capitalize() # first letter capital"
   ]
  },
  {
   "cell_type": "code",
   "execution_count": 78,
   "id": "1b34be2e",
   "metadata": {},
   "outputs": [
    {
     "data": {
      "text/plain": [
       "'We are studying python'"
      ]
     },
     "execution_count": 78,
     "metadata": {},
     "output_type": "execute_result"
    }
   ],
   "source": [
    "\"we are studying Python\".capitalize()"
   ]
  },
  {
   "cell_type": "code",
   "execution_count": null,
   "id": "af106b83",
   "metadata": {},
   "outputs": [],
   "source": []
  },
  {
   "cell_type": "code",
   "execution_count": 79,
   "id": "af19a765",
   "metadata": {},
   "outputs": [
    {
     "data": {
      "text/plain": [
       "'It Is Raining Today'"
      ]
     },
     "execution_count": 79,
     "metadata": {},
     "output_type": "execute_result"
    }
   ],
   "source": [
    "# It Is Raining Today\n",
    "\"it is raining today\".title() # capitalize first letter of every word"
   ]
  },
  {
   "cell_type": "code",
   "execution_count": 80,
   "id": "ed3944a3",
   "metadata": {},
   "outputs": [
    {
     "data": {
      "text/plain": [
       "'KOLKATA'"
      ]
     },
     "execution_count": 80,
     "metadata": {},
     "output_type": "execute_result"
    }
   ],
   "source": [
    "c = \"kolkata\"\n",
    "\n",
    "c.upper()"
   ]
  },
  {
   "cell_type": "code",
   "execution_count": 81,
   "id": "7c56982a",
   "metadata": {},
   "outputs": [
    {
     "data": {
      "text/plain": [
       "'kolkata'"
      ]
     },
     "execution_count": 81,
     "metadata": {},
     "output_type": "execute_result"
    }
   ],
   "source": [
    "c.lower()"
   ]
  },
  {
   "cell_type": "code",
   "execution_count": 82,
   "id": "8071f1dd",
   "metadata": {},
   "outputs": [
    {
     "data": {
      "text/plain": [
       "'kOlKaTa'"
      ]
     },
     "execution_count": 82,
     "metadata": {},
     "output_type": "execute_result"
    }
   ],
   "source": [
    "\"KoLkAtA\".swapcase()"
   ]
  },
  {
   "cell_type": "code",
   "execution_count": 85,
   "id": "a7db7535",
   "metadata": {},
   "outputs": [
    {
     "name": "stdout",
     "output_type": "stream",
     "text": [
      "0\n",
      "4\n",
      "1\n"
     ]
    }
   ],
   "source": [
    "#2. Count\n",
    "print(\"it is raining\".count(\"x\"))\n",
    "print(\"it is raining\".count(\"i\"))\n",
    "print(\"it is raining\".count(\"is\"))"
   ]
  },
  {
   "cell_type": "code",
   "execution_count": null,
   "id": "d3fe21c9",
   "metadata": {},
   "outputs": [],
   "source": []
  },
  {
   "cell_type": "code",
   "execution_count": 86,
   "id": "1cf484b2",
   "metadata": {},
   "outputs": [
    {
     "data": {
      "text/plain": [
       "-1"
      ]
     },
     "execution_count": 86,
     "metadata": {},
     "output_type": "execute_result"
    }
   ],
   "source": [
    "#3. Find vs Index\n",
    "\"it is raining\".find(\"x\") # first occurence of the character \n",
    "# -1 as output means the given char is not present in the string when we use find func.\n",
    "\n",
    "# when it is not present - index funtion returns error\n",
    "# so it's better to use find to atleast avoid error"
   ]
  },
  {
   "cell_type": "code",
   "execution_count": 87,
   "id": "57227b49",
   "metadata": {},
   "outputs": [
    {
     "name": "stdout",
     "output_type": "stream",
     "text": [
      "0\n"
     ]
    }
   ],
   "source": [
    "if \"it is raining\".find(\"x\") == -1:\n",
    "    print(0)"
   ]
  },
  {
   "cell_type": "code",
   "execution_count": null,
   "id": "4913c57a",
   "metadata": {},
   "outputs": [],
   "source": []
  },
  {
   "cell_type": "code",
   "execution_count": 88,
   "id": "66483fc3",
   "metadata": {},
   "outputs": [
    {
     "ename": "ValueError",
     "evalue": "substring not found",
     "output_type": "error",
     "traceback": [
      "\u001b[1;31m---------------------------------------------------------------------------\u001b[0m",
      "\u001b[1;31mValueError\u001b[0m                                Traceback (most recent call last)",
      "Cell \u001b[1;32mIn[88], line 1\u001b[0m\n\u001b[1;32m----> 1\u001b[0m \u001b[38;5;124m\"\u001b[39m\u001b[38;5;124mit is raining\u001b[39m\u001b[38;5;124m\"\u001b[39m\u001b[38;5;241m.\u001b[39mindex(\u001b[38;5;124m\"\u001b[39m\u001b[38;5;124mx\u001b[39m\u001b[38;5;124m\"\u001b[39m)\n",
      "\u001b[1;31mValueError\u001b[0m: substring not found"
     ]
    }
   ],
   "source": [
    "\"it is raining\".index(\"x\")"
   ]
  },
  {
   "cell_type": "code",
   "execution_count": 89,
   "id": "77467261",
   "metadata": {},
   "outputs": [
    {
     "name": "stdout",
     "output_type": "stream",
     "text": [
      "There is some error\n"
     ]
    }
   ],
   "source": [
    "try:\n",
    "    \"it is raining\".index(\"x\")\n",
    "except:\n",
    "    print(\"There is some error\")"
   ]
  },
  {
   "cell_type": "code",
   "execution_count": null,
   "id": "49d1534f",
   "metadata": {},
   "outputs": [],
   "source": []
  },
  {
   "cell_type": "code",
   "execution_count": null,
   "id": "b7314254",
   "metadata": {},
   "outputs": [],
   "source": []
  },
  {
   "cell_type": "code",
   "execution_count": null,
   "id": "60c805c2",
   "metadata": {},
   "outputs": [],
   "source": [
    "# 4. endswith/startswith\n",
    "\"it is raining\".endswith(\"ingef\")\n",
    "\n",
    "\"it is raining\".startswith(\"it\")"
   ]
  },
  {
   "cell_type": "code",
   "execution_count": null,
   "id": "8c846c88",
   "metadata": {},
   "outputs": [],
   "source": []
  },
  {
   "cell_type": "code",
   "execution_count": null,
   "id": "dafb5863",
   "metadata": {},
   "outputs": [],
   "source": [
    "#5. format string \n",
    "\"Hello my name is {} and I am {}\".format(\"Adam\",30)\n",
    "# {} is replaced with the given character\n",
    "\n",
    "# we can also provide the order - \n",
    "\"Hello my name is {1} and I am {0}\".format(\"Nitish\",30)\n",
    "\n",
    "\"Hello my name is {age} and I am {name}\".format(name = \"Nitish\",age = 30)\n",
    "\n",
    "\"Hello my name is {name} and I am {name}\".format(name = \"Nitish\",age = 30, weight = 70)\n"
   ]
  },
  {
   "cell_type": "code",
   "execution_count": 93,
   "id": "ae490385",
   "metadata": {},
   "outputs": [
    {
     "name": "stdout",
     "output_type": "stream",
     "text": [
      "True\n",
      "False\n",
      "False\n",
      "True\n"
     ]
    },
    {
     "data": {
      "text/plain": [
       "True"
      ]
     },
     "execution_count": 93,
     "metadata": {},
     "output_type": "execute_result"
    }
   ],
   "source": [
    "#6. isalnum/ isalpha/ isdecimal/ isdigit/ isidentifier\n",
    "\n",
    "print(\"FLAT20\".isalnum())  # alphanumeric - either all alphabets or numeric\n",
    "\n",
    "print(\"FLAT20&\".isalnum())\n",
    "\n",
    "print(\"FLAT20\".isalpha())\n",
    "\n",
    "print(\"20\".isdigit())\n",
    "\n",
    "\"20A\".isdigit()\n",
    "\n",
    "\"hello_world\".isidentifier()"
   ]
  },
  {
   "cell_type": "code",
   "execution_count": 42,
   "id": "7686558d",
   "metadata": {},
   "outputs": [
    {
     "name": "stdout",
     "output_type": "stream",
     "text": [
      "['who', 'is', 'the', 'pm', 'of', 'india']\n",
      "who\n"
     ]
    }
   ],
   "source": [
    "#7. Split - useful in NLP - convert texts into tags\n",
    "\n",
    "l = \"who is the pm of india\".split() # when nothing is passes it is split as per space\n",
    "#return a list\n",
    "print(l)\n",
    "\n",
    "print(l[0])"
   ]
  },
  {
   "cell_type": "code",
   "execution_count": 98,
   "id": "bbd823f3",
   "metadata": {},
   "outputs": [
    {
     "data": {
      "text/plain": [
       "['who is ', ' pm of india']"
      ]
     },
     "execution_count": 98,
     "metadata": {},
     "output_type": "execute_result"
    }
   ],
   "source": [
    "\n",
    "\n",
    "# we can split acc to anything - like below split by pm - \n",
    "# so it will break into 2 strings - 1 before pm and other after it and returns a list\n",
    "\"who is the pm of india\".split(\"the\")\n",
    "#\n"
   ]
  },
  {
   "cell_type": "code",
   "execution_count": 99,
   "id": "1825c929",
   "metadata": {},
   "outputs": [
    {
     "data": {
      "text/plain": [
       "['who is the pm of india']"
      ]
     },
     "execution_count": 99,
     "metadata": {},
     "output_type": "execute_result"
    }
   ],
   "source": [
    "\"who is the pm of india\".split(\"x\")"
   ]
  },
  {
   "cell_type": "code",
   "execution_count": 100,
   "id": "36a8814b",
   "metadata": {},
   "outputs": [
    {
     "data": {
      "text/plain": [
       "'who is the pm of india'"
      ]
     },
     "execution_count": 100,
     "metadata": {},
     "output_type": "execute_result"
    }
   ],
   "source": [
    "#8. Join\n",
    "\" \".join(['who', 'is', 'the', 'pm', 'of', 'india']) # joining using space"
   ]
  },
  {
   "cell_type": "code",
   "execution_count": 101,
   "id": "35098c47",
   "metadata": {},
   "outputs": [
    {
     "data": {
      "text/plain": [
       "'who-is-the-pm-of-india'"
      ]
     },
     "execution_count": 101,
     "metadata": {},
     "output_type": "execute_result"
    }
   ],
   "source": [
    "\"-\".join(['who', 'is', 'the', 'pm', 'of', 'india'])  # # joining using dash(-)"
   ]
  },
  {
   "cell_type": "code",
   "execution_count": 102,
   "id": "96575fda",
   "metadata": {},
   "outputs": [
    {
     "data": {
      "text/plain": [
       "'Hi my name is Amit'"
      ]
     },
     "execution_count": 102,
     "metadata": {},
     "output_type": "execute_result"
    }
   ],
   "source": [
    "# 9. Replace\n",
    "\n",
    "\"Hi my name is Nitish\".replace(\"Nitish\",\"Amit\")"
   ]
  },
  {
   "cell_type": "code",
   "execution_count": 43,
   "id": "e110e9f9",
   "metadata": {},
   "outputs": [
    {
     "name": "stdout",
     "output_type": "stream",
     "text": [
      "               Python              \n",
      "Python\n"
     ]
    }
   ],
   "source": [
    "#10. Strip - remove trailing and leading space\n",
    "\n",
    "name = \"               Python              \"\n",
    "print(name)\n",
    "# now when we use strip function\n",
    "print(name.strip())\n",
    "\n",
    "# Explore more string functions on official doc or Google"
   ]
  },
  {
   "cell_type": "code",
   "execution_count": 46,
   "id": "87613f05",
   "metadata": {},
   "outputs": [
    {
     "name": "stdout",
     "output_type": "stream",
     "text": [
      "        Python is a Programming       language  \n",
      "Python is a Programming       language\n"
     ]
    }
   ],
   "source": [
    "name = \"        Python is a Programming       language  \"\n",
    "print(name)\n",
    "print(name.strip())"
   ]
  },
  {
   "cell_type": "code",
   "execution_count": null,
   "id": "5e4cdf27",
   "metadata": {},
   "outputs": [],
   "source": []
  }
 ],
 "metadata": {
  "kernelspec": {
   "display_name": "Python 3 (ipykernel)",
   "language": "python",
   "name": "python3"
  },
  "language_info": {
   "codemirror_mode": {
    "name": "ipython",
    "version": 3
   },
   "file_extension": ".py",
   "mimetype": "text/x-python",
   "name": "python",
   "nbconvert_exporter": "python",
   "pygments_lexer": "ipython3",
   "version": "3.11.5"
  }
 },
 "nbformat": 4,
 "nbformat_minor": 5
}
