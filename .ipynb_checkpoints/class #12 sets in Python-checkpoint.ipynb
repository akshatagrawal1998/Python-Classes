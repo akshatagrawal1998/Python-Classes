{
 "cells": [
  {
   "cell_type": "code",
   "execution_count": null,
   "id": "22899ec3",
   "metadata": {},
   "outputs": [],
   "source": []
  },
  {
   "cell_type": "code",
   "execution_count": 1,
   "id": "d93c6639",
   "metadata": {},
   "outputs": [],
   "source": [
    "# Sets - datatype in Python\n",
    "# rules to remember\n",
    "# 1. Sets do not allow duplicates\n",
    "# 2. Sets do not have indexing/slicing\n",
    "# 3. Sets do not allow mutable data types(list), but strings and tuple are immutable, we can store them in a set\n",
    "# 4. Sets is mutable datatype\n",
    "\n",
    "# 2-D or 3-D sets are not possible as for that set must be inside another set but is not possible as \n",
    "# set(mutable) don't allow another mutable object in it.\n",
    "\n",
    "# set can contain tuple, string - as tuples, string are immutable"
   ]
  },
  {
   "cell_type": "code",
   "execution_count": 2,
   "id": "5bf13119",
   "metadata": {},
   "outputs": [
    {
     "name": "stdout",
     "output_type": "stream",
     "text": [
      "<class 'dict'>\n"
     ]
    },
    {
     "data": {
      "text/plain": [
       "set"
      ]
     },
     "execution_count": 2,
     "metadata": {},
     "output_type": "execute_result"
    }
   ],
   "source": [
    "# create sets\n",
    "# empty set\n",
    "s = {}\n",
    "print(type(s)) # it is dictionary not a set\n",
    "\n",
    "s1 = set()\n",
    "type(s1)"
   ]
  },
  {
   "cell_type": "code",
   "execution_count": 2,
   "id": "a5e9a1ef",
   "metadata": {},
   "outputs": [
    {
     "ename": "TypeError",
     "evalue": "unhashable type: 'set'",
     "output_type": "error",
     "traceback": [
      "\u001b[1;31m---------------------------------------------------------------------------\u001b[0m",
      "\u001b[1;31mTypeError\u001b[0m                                 Traceback (most recent call last)",
      "Cell \u001b[1;32mIn[2], line 25\u001b[0m\n\u001b[0;32m     21\u001b[0m m\n\u001b[0;32m     22\u001b[0m \u001b[38;5;28mtype\u001b[39m(m)\n\u001b[1;32m---> 25\u001b[0m s5 \u001b[38;5;241m=\u001b[39m {{\u001b[38;5;241m1\u001b[39m,\u001b[38;5;241m2\u001b[39m}, [\u001b[38;5;241m1\u001b[39m,\u001b[38;5;241m2\u001b[39m]} \u001b[38;5;66;03m# shows error as sets do not allow mutable datatype(set)\u001b[39;00m\n\u001b[0;32m     26\u001b[0m s5\n\u001b[0;32m     28\u001b[0m s5 \u001b[38;5;241m=\u001b[39m{(\u001b[38;5;241m1\u001b[39m,\u001b[38;5;241m2\u001b[39m), (\u001b[38;5;241m1\u001b[39m,), \u001b[38;5;124m'\u001b[39m\u001b[38;5;124madam\u001b[39m\u001b[38;5;124m'\u001b[39m} \u001b[38;5;66;03m# set can contain immutable datatype\u001b[39;00m\n",
      "\u001b[1;31mTypeError\u001b[0m: unhashable type: 'set'"
     ]
    }
   ],
   "source": [
    "# homogeneous set\n",
    "s2 = {1,2,3,5,7}\n",
    "type(s2)\n",
    "s3={'Adam', 4, 7.9}\n",
    "type(s3)\n",
    "\n",
    "s4 = {1,2,2,1,2,4,4,5,7,8,2}\n",
    "s4 # it automatically removes the dups by internal mechanism\n",
    "\n",
    "# ex -  \n",
    "l = [1,2,21,3,2,154,1]\n",
    "m = set(l)\n",
    "m\n",
    "type(m)\n",
    "\n",
    "\n",
    "s5 = {{1,2}, [1,2]} # shows error as sets do not allow mutable datatype(set)\n",
    "s5\n",
    "\n",
    "s5 ={(1,2), (1,), 'adam'} # set can contain immutable datatype\n",
    "s5\n",
    "# VVI - focus on O/p- set has no indexing - order in which we give elements is not followed but\n",
    "# hashing is followed - a technique to store elements in a data structure.\n",
    "\n",
    "\n",
    "s6 = {[1,2,4], 'Mike'} # error because list is mutable and set do not allow mutable types\n",
    "s6\n"
   ]
  },
  {
   "cell_type": "code",
   "execution_count": null,
   "id": "599cdd94",
   "metadata": {},
   "outputs": [],
   "source": []
  },
  {
   "cell_type": "code",
   "execution_count": null,
   "id": "5d87fd68",
   "metadata": {},
   "outputs": [],
   "source": []
  },
  {
   "cell_type": "code",
   "execution_count": null,
   "id": "d098ac3b",
   "metadata": {},
   "outputs": [],
   "source": []
  },
  {
   "cell_type": "code",
   "execution_count": null,
   "id": "82f71975",
   "metadata": {},
   "outputs": [],
   "source": []
  },
  {
   "cell_type": "code",
   "execution_count": null,
   "id": "aa3b0164",
   "metadata": {},
   "outputs": [],
   "source": []
  },
  {
   "cell_type": "code",
   "execution_count": null,
   "id": "761e8bd4",
   "metadata": {},
   "outputs": [],
   "source": []
  },
  {
   "cell_type": "code",
   "execution_count": null,
   "id": "5fa93c23",
   "metadata": {},
   "outputs": [],
   "source": []
  },
  {
   "cell_type": "code",
   "execution_count": null,
   "id": "8f000f58",
   "metadata": {},
   "outputs": [],
   "source": [
    "#========================================================================================\n",
    "\n",
    "# Indexing and slicing - sets doesn't support them\n",
    "s2\n",
    "s2[0]\n",
    "s2[-1]\n",
    "s2[0:4]\n",
    "\n",
    "# we can't edit items in a set as indexing is not allowed\n",
    "s2[0] = 100\n",
    "\n",
    "# to see the memory address of a set\n",
    "id(s2)"
   ]
  },
  {
   "cell_type": "code",
   "execution_count": null,
   "id": "2e294810",
   "metadata": {},
   "outputs": [],
   "source": []
  },
  {
   "cell_type": "code",
   "execution_count": null,
   "id": "cc9b186d",
   "metadata": {},
   "outputs": [],
   "source": []
  },
  {
   "cell_type": "code",
   "execution_count": null,
   "id": "ea20a06a",
   "metadata": {},
   "outputs": [],
   "source": []
  },
  {
   "cell_type": "code",
   "execution_count": null,
   "id": "1cff96f8",
   "metadata": {},
   "outputs": [],
   "source": []
  },
  {
   "cell_type": "code",
   "execution_count": null,
   "id": "34b8d6f9",
   "metadata": {},
   "outputs": [],
   "source": []
  },
  {
   "cell_type": "code",
   "execution_count": null,
   "id": "776d1d68",
   "metadata": {},
   "outputs": [],
   "source": []
  },
  {
   "cell_type": "code",
   "execution_count": null,
   "id": "8c0969aa",
   "metadata": {},
   "outputs": [],
   "source": []
  },
  {
   "cell_type": "code",
   "execution_count": null,
   "id": "8063c93a",
   "metadata": {},
   "outputs": [],
   "source": [
    "\n",
    "\n",
    "# we can't edit a set - but a trick can be used - convert the set in a list and then edit the list\n",
    "# and then convert back the list into a set\n",
    "# but actually we are not editing the set as when we convert the set into list -> edit it and store \n",
    "# back into a set -the new set memory address changes\n",
    "s8 = {1,2,4,6,8,6}\n",
    "s8\n",
    "id(s8) # memory address of the set - 2342884489056\n",
    "s8[0] = 344  # not possible - error\n",
    "l = list(s8) # type casting - converting from one datatype to another\n",
    "l\n",
    "id(l) # 2342886776512 is the address of this list\n",
    "\n",
    "# editing the list\n",
    "l[0] = 100\n",
    "l\n",
    "set(l)\n",
    "\n",
    "# Sample set\n",
    "my_set = {1, 2, 3, 4, 5}\n",
    "id(my_set) # 2342886427328\n",
    "# Convert set to list using list comprehension\n",
    "my_list = [x for x in my_set]\n",
    "print(my_list)\n",
    "my_list[0] = 100\n",
    "my_list\n",
    "id(my_list) # 2342887648320\n",
    "\n",
    "\n",
    "\n",
    "# now converting back this list to set\n",
    "my_set = set(my_list)\n",
    "my_set\n",
    "id(my_set) # now we see a changed address - 2342886429568\n"
   ]
  },
  {
   "cell_type": "code",
   "execution_count": null,
   "id": "8bafa4e0",
   "metadata": {},
   "outputs": [],
   "source": []
  },
  {
   "cell_type": "code",
   "execution_count": null,
   "id": "f4fcf3c5",
   "metadata": {},
   "outputs": [],
   "source": [
    "# sets are indeed mutable.\n",
    "\n",
    "# Adding elements to a set using the `add()` method:\n",
    "\n",
    "my_set = {1, 2, 3}\n",
    "my_set.add(4) # adds the element at the end of set\n",
    "print(my_set)\n",
    "\n",
    "#Removing elements from a set using the `remove()` method:\n",
    "\n",
    "my_set = {1, 2, 3, 4}\n",
    "my_set.remove(3)\n",
    "print(my_set)\n",
    "\n",
    "\n",
    "#Updating a set with another set using the `update()` method:\n",
    "\n",
    "my_set1 = {1, 2, 3}\n",
    "my_set2 = {3, 4, 5}\n",
    "my_set1.update(my_set2)\n",
    "print(my_set1)\n",
    "\n",
    "#Clearing all elements from a set using the `clear()` method:\n",
    "\n",
    "my_set = {1, 2, 3}\n",
    "my_set.clear()\n",
    "print(my_set)\n",
    "\n",
    "#Adding elements to a set using the `|` (union) operator:\n",
    "my_set1 = {1, 2, 3}\n",
    "my_set2 = {3, 4, 5}\n",
    "my_set1 |= my_set2\n",
    "print(my_set1)\n"
   ]
  },
  {
   "cell_type": "code",
   "execution_count": null,
   "id": "a640c506",
   "metadata": {},
   "outputs": [],
   "source": []
  },
  {
   "cell_type": "code",
   "execution_count": null,
   "id": "06ef421f",
   "metadata": {},
   "outputs": [],
   "source": [
    "\n",
    "\n",
    "# =============================================================================================\n",
    "# Delete - del, remove, pop\n",
    "s= {1,2,2,5,7,8,8}\n",
    "s1 = {1,2,3,4,5}\n",
    "\n",
    "\n",
    "s1\n",
    "del s1[0] # as there is no indexing in set - so can't delete any particular item\n",
    "\n",
    "s\n",
    "del s # deletes entire set\n",
    "s\n",
    "\n",
    "s1\n",
    "s1.remove(4) # to remove 4 from set s1\n",
    "s1\n",
    "\n",
    "s1.pop() # deletes the last element - last is decided as per hashing\n"
   ]
  },
  {
   "cell_type": "code",
   "execution_count": null,
   "id": "f081d178",
   "metadata": {},
   "outputs": [],
   "source": []
  },
  {
   "cell_type": "code",
   "execution_count": null,
   "id": "be782e3c",
   "metadata": {},
   "outputs": [],
   "source": []
  },
  {
   "cell_type": "code",
   "execution_count": null,
   "id": "97cd75ad",
   "metadata": {},
   "outputs": [],
   "source": [
    "# Set Operations\n",
    "s1= {1,2,2,5,7,8,8}\n",
    "s2 = {1,2,3,4,5}\n",
    "s1\n",
    "s2\n",
    "\n",
    "# Concat - not possible\n",
    "s1+s2\n",
    "\n",
    "s1*3 # error - not possible in sets\n",
    "\n",
    "# looping can be done in sets\n",
    "for i in s1:\n",
    "    print(i)\n",
    "\n",
    "\n",
    "# membership operators work in sets\n",
    "1 in s1"
   ]
  },
  {
   "cell_type": "code",
   "execution_count": null,
   "id": "a1ef3388",
   "metadata": {},
   "outputs": [],
   "source": []
  },
  {
   "cell_type": "code",
   "execution_count": null,
   "id": "bead87d2",
   "metadata": {},
   "outputs": [],
   "source": []
  },
  {
   "cell_type": "code",
   "execution_count": null,
   "id": "3bdd0999",
   "metadata": {},
   "outputs": [],
   "source": []
  },
  {
   "cell_type": "code",
   "execution_count": null,
   "id": "cc06bd1b",
   "metadata": {},
   "outputs": [],
   "source": [
    "# functions\n",
    "\n",
    "len(s1)\n",
    "max(s1)\n",
    "min(s1)\n",
    "\n",
    "s3 = {1,2,4.7, 'Adam'}\n",
    "len(s3)\n",
    "max(s3) # don't work in heterogeneous sets as diff datatypes can't be compared\n",
    "\n",
    "sum(s1)\n",
    "sum(s3)\n",
    "\n",
    "\n",
    "sorted(s1) # converts into list"
   ]
  },
  {
   "cell_type": "code",
   "execution_count": null,
   "id": "826da3f8",
   "metadata": {},
   "outputs": [],
   "source": []
  },
  {
   "cell_type": "code",
   "execution_count": null,
   "id": "5836e4f6",
   "metadata": {},
   "outputs": [],
   "source": []
  },
  {
   "cell_type": "code",
   "execution_count": null,
   "id": "f88c047b",
   "metadata": {},
   "outputs": [],
   "source": [
    "# ===================================================================================\n",
    "# there are few functions which can only be used with sets\n",
    "s1\n",
    "s2\n",
    "s1.union(s2) # all elements from s1 and s2 - removing dups\n",
    "\n",
    "s1.intersection(s2) # common b/w them\n",
    "\n",
    "s1.difference(s2) # which are in s1 but not in s2\n",
    "s2.difference(s1) # which are in s2 but not in s1\n",
    "\n",
    "s1.symmetric_difference(s2) # all expect common elements in both\n",
    "\n",
    "# disjoint - a function which return True if no element in both sets are common otherwise False\n",
    "s1.isdisjoint(s2) # it's a boolean function \n",
    "\n",
    "s1.issubset(s2) # is s1 subset of s2\n",
    "\n",
    "s1.issuperset(s2) # is s1 superset of s2\n",
    "\n"
   ]
  }
 ],
 "metadata": {
  "kernelspec": {
   "display_name": "Python 3 (ipykernel)",
   "language": "python",
   "name": "python3"
  },
  "language_info": {
   "codemirror_mode": {
    "name": "ipython",
    "version": 3
   },
   "file_extension": ".py",
   "mimetype": "text/x-python",
   "name": "python",
   "nbconvert_exporter": "python",
   "pygments_lexer": "ipython3",
   "version": "3.11.5"
  }
 },
 "nbformat": 4,
 "nbformat_minor": 5
}
