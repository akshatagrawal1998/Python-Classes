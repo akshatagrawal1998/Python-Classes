{
 "cells": [
  {
   "cell_type": "code",
   "execution_count": null,
   "id": "51e942f7",
   "metadata": {},
   "outputs": [],
   "source": [
    "str = \"akshat\"\n",
    "str = \"Gobind\""
   ]
  },
  {
   "cell_type": "code",
   "execution_count": 1,
   "id": "b06ef07c",
   "metadata": {},
   "outputs": [
    {
     "ename": "TypeError",
     "evalue": "'str' object does not support item assignment",
     "output_type": "error",
     "traceback": [
      "\u001b[1;31m---------------------------------------------------------------------------\u001b[0m",
      "\u001b[1;31mTypeError\u001b[0m                                 Traceback (most recent call last)",
      "Cell \u001b[1;32mIn[1], line 4\u001b[0m\n\u001b[0;32m      1\u001b[0m my_string \u001b[38;5;241m=\u001b[39m \u001b[38;5;124m\"\u001b[39m\u001b[38;5;124mHello, world!\u001b[39m\u001b[38;5;124m\"\u001b[39m\n\u001b[0;32m      3\u001b[0m \u001b[38;5;66;03m# Attempt to modify the string\u001b[39;00m\n\u001b[1;32m----> 4\u001b[0m my_string[\u001b[38;5;241m0\u001b[39m] \u001b[38;5;241m=\u001b[39m \u001b[38;5;124m'\u001b[39m\u001b[38;5;124mh\u001b[39m\u001b[38;5;124m'\u001b[39m\n",
      "\u001b[1;31mTypeError\u001b[0m: 'str' object does not support item assignment"
     ]
    }
   ],
   "source": [
    "my_string = \"Hello, world!\"\n",
    " \n",
    "# Attempt to modify the string\n",
    "my_string[0] = 'h' "
   ]
  },
  {
   "cell_type": "code",
   "execution_count": 1,
   "id": "102151c3",
   "metadata": {},
   "outputs": [
    {
     "name": "stdout",
     "output_type": "stream",
     "text": [
      "['apple', 'banana', 'cherry', 'banana', 'kiwi']\n",
      "<class 'list'>\n"
     ]
    }
   ],
   "source": [
    "thislist = [\"apple\", \"banana\", \"cherry\", \"banana\", \"kiwi\"]\n",
    "print(thislist)\n",
    "print(type(thislist))\n"
   ]
  },
  {
   "cell_type": "code",
   "execution_count": 4,
   "id": "dbf07c6b",
   "metadata": {},
   "outputs": [
    {
     "data": {
      "text/plain": [
       "list"
      ]
     },
     "execution_count": 4,
     "metadata": {},
     "output_type": "execute_result"
    }
   ],
   "source": [
    "a = [1,2,3.4,\"Akshat\", True, 'Python', 1,2]\n",
    "type(a)"
   ]
  },
  {
   "cell_type": "code",
   "execution_count": 5,
   "id": "8fe751d3",
   "metadata": {},
   "outputs": [
    {
     "name": "stdout",
     "output_type": "stream",
     "text": [
      "[1, 2, 3.4, 'Akshat', 'Kevin', 'Python', 1, 2]\n"
     ]
    }
   ],
   "source": [
    "a[4] = 'Kevin'\n",
    "print(a)"
   ]
  },
  {
   "cell_type": "code",
   "execution_count": 6,
   "id": "8176891b",
   "metadata": {},
   "outputs": [],
   "source": [
    "# Lists are mutable, ordered, indexed, allows dups"
   ]
  },
  {
   "cell_type": "code",
   "execution_count": null,
   "id": "5ad52cfe",
   "metadata": {},
   "outputs": [],
   "source": []
  },
  {
   "cell_type": "code",
   "execution_count": null,
   "id": "0ee1a16c",
   "metadata": {},
   "outputs": [],
   "source": []
  },
  {
   "cell_type": "code",
   "execution_count": 4,
   "id": "0cbffdfd",
   "metadata": {},
   "outputs": [
    {
     "name": "stdout",
     "output_type": "stream",
     "text": [
      "['apple', 'cherry', 'kiwi']\n"
     ]
    }
   ],
   "source": [
    "thislist = [\"apple\", \"banana\", \"cherry\", \"banana\", \"kiwi\"]\n",
    "for i in thislist:\n",
    "    if i == 'banana':\n",
    "        thislist.remove(i)\n",
    "print(thislist)"
   ]
  },
  {
   "cell_type": "code",
   "execution_count": null,
   "id": "4899c630",
   "metadata": {},
   "outputs": [],
   "source": []
  },
  {
   "cell_type": "code",
   "execution_count": 2,
   "id": "d5842899",
   "metadata": {},
   "outputs": [
    {
     "name": "stdout",
     "output_type": "stream",
     "text": [
      "J, World!\n",
      "Hello, World!\n"
     ]
    }
   ],
   "source": [
    "a = \"Hello, World!\"\n",
    "print(a.replace(\"Hello\", \"J\"))\n",
    "print(a)"
   ]
  },
  {
   "cell_type": "code",
   "execution_count": null,
   "id": "e10731f0",
   "metadata": {},
   "outputs": [],
   "source": []
  },
  {
   "cell_type": "code",
   "execution_count": null,
   "id": "42c64559",
   "metadata": {},
   "outputs": [],
   "source": []
  },
  {
   "cell_type": "code",
   "execution_count": null,
   "id": "2e0b1468",
   "metadata": {},
   "outputs": [],
   "source": [
    "# Lists in Python\n",
    "\n",
    "# List is a data structure in Python similar to array in other Programming language.\n",
    "# Array is homogeneous while List can be heterogeneous.\n",
    "# Arrays are continuous (elements are stored one after other) - Lists are not\n",
    "# So Arrays are faster than List - fetching element from a sequence is fast\n",
    "# Lists in Python are mutable\n",
    "# Lists are ordered\n"
   ]
  },
  {
   "cell_type": "markdown",
   "id": "9708c3e7",
   "metadata": {},
   "source": [
    "### Create Lists"
   ]
  },
  {
   "cell_type": "code",
   "execution_count": 1,
   "id": "9c58ca62",
   "metadata": {},
   "outputs": [
    {
     "name": "stdout",
     "output_type": "stream",
     "text": [
      "[]\n"
     ]
    },
    {
     "data": {
      "text/plain": [
       "list"
      ]
     },
     "execution_count": 1,
     "metadata": {},
     "output_type": "execute_result"
    }
   ],
   "source": [
    "# 1. Empty List -\n",
    "L = []\n",
    "print (L)\n",
    "type(L)"
   ]
  },
  {
   "cell_type": "code",
   "execution_count": 9,
   "id": "d79d43e0",
   "metadata": {},
   "outputs": [
    {
     "name": "stdout",
     "output_type": "stream",
     "text": [
      "[1, 2, 3, 4, 6]\n",
      "<class 'list'>\n"
     ]
    }
   ],
   "source": [
    "# 2. Homogeneous list\n",
    "Li = [1,2,3,4,6]\n",
    "print(Li)\n",
    "print(type(Li))"
   ]
  },
  {
   "cell_type": "code",
   "execution_count": 4,
   "id": "4a078f69",
   "metadata": {},
   "outputs": [
    {
     "data": {
      "text/plain": [
       "list"
      ]
     },
     "execution_count": 4,
     "metadata": {},
     "output_type": "execute_result"
    }
   ],
   "source": [
    "# Heterogeneous lists\n",
    "list = [1, \"Adam\", \"Michel\", 4.6, True, 6+7j]\n",
    "list\n",
    "type(list)"
   ]
  },
  {
   "cell_type": "code",
   "execution_count": 7,
   "id": "14053481",
   "metadata": {},
   "outputs": [
    {
     "name": "stdout",
     "output_type": "stream",
     "text": [
      "[1, 2, 4, [5, 'Max', 7.9]]\n",
      "1\n",
      "[5, 'Max', 7.9]\n",
      "5\n",
      "Max\n",
      "7.9\n"
     ]
    },
    {
     "data": {
      "text/plain": [
       "4"
      ]
     },
     "execution_count": 7,
     "metadata": {},
     "output_type": "execute_result"
    }
   ],
   "source": [
    "# multidimensional list\n",
    "l = [1,2,4, [5, 'Max', 7.9]]   # 2D list\n",
    "\n",
    "print(l)\n",
    "\n",
    "print(l[0])\n",
    "\n",
    "print(l[3])\n",
    "\n",
    "print(l[3][0])\n",
    "\n",
    "print(l[3][1])\n",
    "\n",
    "print(l[3][2])\n",
    "\n",
    "len(l)"
   ]
  },
  {
   "cell_type": "code",
   "execution_count": null,
   "id": "df2545d2",
   "metadata": {},
   "outputs": [],
   "source": []
  },
  {
   "cell_type": "code",
   "execution_count": 3,
   "id": "8d7454fb",
   "metadata": {},
   "outputs": [
    {
     "name": "stdout",
     "output_type": "stream",
     "text": [
      "[]\n",
      "[1, 2, 4, [4, 'Adam']]\n"
     ]
    },
    {
     "data": {
      "text/plain": [
       "'Adam'"
      ]
     },
     "execution_count": 3,
     "metadata": {},
     "output_type": "execute_result"
    }
   ],
   "source": [
    "# 3D list - a list containing another list which has another list inside it\n",
    "list_3D = [\n",
    "            [\n",
    "                [1,2,3], \n",
    "                [['Adam', 'Mike'], ['x', 4.5]]\n",
    "            ]\n",
    "          ]\n",
    "list_3D\n",
    "list_3D[0][1][0][0]\n",
    "\n",
    "list_3D[0]   # [[1, 2, 3], [['Adam', 'Mike'], ['x', 4.5]]]\n",
    "list_3D[0][0]\n",
    "list_3D[0][1]  # [['Adam', 'Mike'], ['x', 4.5]]\n",
    "# [['Adam', 'Mike'], ['x', 4.5]]\n",
    "list_3D[0][1][0]  # ['Adam', 'Mike']\n",
    "list_3D[0][1][0][0]"
   ]
  },
  {
   "cell_type": "code",
   "execution_count": 22,
   "id": "43f82d6c",
   "metadata": {},
   "outputs": [
    {
     "name": "stdout",
     "output_type": "stream",
     "text": [
      "4.5\n"
     ]
    }
   ],
   "source": [
    "list_3D = [[[1,2,3], [['Adam', 'Mike'], ['x', 4.5]]]]\n",
    "\n",
    "print(list_3D[0][1][1][1])"
   ]
  },
  {
   "cell_type": "code",
   "execution_count": null,
   "id": "98a7675c",
   "metadata": {},
   "outputs": [],
   "source": []
  },
  {
   "cell_type": "code",
   "execution_count": null,
   "id": "46ff2635",
   "metadata": {},
   "outputs": [],
   "source": []
  },
  {
   "cell_type": "code",
   "execution_count": null,
   "id": "ceae67a1",
   "metadata": {},
   "outputs": [],
   "source": []
  },
  {
   "cell_type": "code",
   "execution_count": null,
   "id": "4d7796bd",
   "metadata": {},
   "outputs": [],
   "source": []
  },
  {
   "cell_type": "markdown",
   "id": "57a55fdd",
   "metadata": {},
   "source": [
    "### Access Items from List"
   ]
  },
  {
   "cell_type": "code",
   "execution_count": 4,
   "id": "c7a56fe5",
   "metadata": {},
   "outputs": [
    {
     "data": {
      "text/plain": [
       "'Mike'"
      ]
     },
     "execution_count": 4,
     "metadata": {},
     "output_type": "execute_result"
    }
   ],
   "source": [
    "# Access items from a list  - similar as string indexes\n",
    "\n",
    "l2 = [1,2,3,4,'Adam']  # indexing starts from 0\n",
    "l2[2]\n",
    "l2[-1]\n",
    "\n",
    "# from multidimensional list\n",
    "l = [1, 2, 4, [4, 'Adam']]\n",
    "l\n",
    "l[-1]\n",
    "l[-1][0]\n",
    "l[-1][1]\n",
    "\n",
    "list_3D\n",
    "list_3D[0][1][0][1]\n"
   ]
  },
  {
   "cell_type": "code",
   "execution_count": 23,
   "id": "b8aeac19",
   "metadata": {},
   "outputs": [
    {
     "data": {
      "text/plain": [
       "'Adam'"
      ]
     },
     "execution_count": 23,
     "metadata": {},
     "output_type": "execute_result"
    }
   ],
   "source": [
    "l = [1, 2, 4, [4, 'Adam']]\n",
    "l[3][1]"
   ]
  },
  {
   "cell_type": "markdown",
   "id": "9f4d2ac7",
   "metadata": {},
   "source": [
    "### Edit a list"
   ]
  },
  {
   "cell_type": "code",
   "execution_count": 24,
   "id": "2da40673",
   "metadata": {},
   "outputs": [
    {
     "data": {
      "text/plain": [
       "[1, 2, 4, [4, 'Adam']]"
      ]
     },
     "execution_count": 24,
     "metadata": {},
     "output_type": "execute_result"
    }
   ],
   "source": [
    "l"
   ]
  },
  {
   "cell_type": "code",
   "execution_count": 25,
   "id": "47e70a18",
   "metadata": {},
   "outputs": [
    {
     "data": {
      "text/plain": [
       "['Mike', 2, 4, [4, 'Adam']]"
      ]
     },
     "execution_count": 25,
     "metadata": {},
     "output_type": "execute_result"
    }
   ],
   "source": [
    "l\n",
    "# Lists in Python are mutable - we can edit a list\n",
    "l[0] = 'Mike'\n",
    "l"
   ]
  },
  {
   "cell_type": "code",
   "execution_count": 28,
   "id": "7787b56e",
   "metadata": {},
   "outputs": [
    {
     "name": "stdout",
     "output_type": "stream",
     "text": [
      "[200, 300, 500]\n"
     ]
    }
   ],
   "source": [
    "Li\n",
    "print(Li[1:4])"
   ]
  },
  {
   "cell_type": "code",
   "execution_count": 27,
   "id": "5d120f21",
   "metadata": {},
   "outputs": [
    {
     "name": "stdout",
     "output_type": "stream",
     "text": [
      "[1, 2, 3, 4, 6]\n",
      "[1, 200, 300, 500, 6]\n"
     ]
    }
   ],
   "source": [
    "print(Li)\n",
    "Li[1:4] = [200,300,500]\n",
    "print(Li)"
   ]
  },
  {
   "cell_type": "markdown",
   "id": "c3f03b33",
   "metadata": {},
   "source": [
    "### Add items to list\n",
    "\n",
    "## append, extend, insert\n"
   ]
  },
  {
   "cell_type": "code",
   "execution_count": 10,
   "id": "31e7b323",
   "metadata": {},
   "outputs": [
    {
     "name": "stdout",
     "output_type": "stream",
     "text": [
      "[1, 2, 3, 4, 6]\n"
     ]
    }
   ],
   "source": [
    "print(Li)"
   ]
  },
  {
   "cell_type": "code",
   "execution_count": 11,
   "id": "b9c7ff9c",
   "metadata": {},
   "outputs": [
    {
     "name": "stdout",
     "output_type": "stream",
     "text": [
      "[1, 2, 3, 4, 6, [1001, 2]]\n"
     ]
    }
   ],
   "source": [
    "Li.append([1001,2]) # adds only one item at last of the list\n",
    "print(Li)"
   ]
  },
  {
   "cell_type": "code",
   "execution_count": 12,
   "id": "bef62fa4",
   "metadata": {},
   "outputs": [],
   "source": [
    "Li.append('Kevin')"
   ]
  },
  {
   "cell_type": "code",
   "execution_count": 13,
   "id": "7cac243f",
   "metadata": {},
   "outputs": [
    {
     "data": {
      "text/plain": [
       "[1, 2, 3, 4, 6, [1001, 2], 'Kevin']"
      ]
     },
     "execution_count": 13,
     "metadata": {},
     "output_type": "execute_result"
    }
   ],
   "source": [
    "Li"
   ]
  },
  {
   "cell_type": "code",
   "execution_count": null,
   "id": "bbb0e1f3",
   "metadata": {},
   "outputs": [],
   "source": []
  },
  {
   "cell_type": "code",
   "execution_count": null,
   "id": "81bd77a8",
   "metadata": {},
   "outputs": [],
   "source": [
    "print(Li)\n",
    "\n",
    "Li.append([1,2])\n",
    "print(Li)\n",
    "Li.append(1,2) # gives an error because append takes only one argument.\n",
    "Li.append(2)\n",
    "print(Li)"
   ]
  },
  {
   "cell_type": "code",
   "execution_count": null,
   "id": "8b54167c",
   "metadata": {},
   "outputs": [],
   "source": [
    "\n",
    "Li\n",
    "Li.append(1001) # adds only one item at last of the list\n",
    "Li\n",
    "Li.append([1,2])\n",
    "Li\n",
    "Li.append(1,2) # gives an error because append takes only one argument.\n",
    "Li.append(2)\n"
   ]
  },
  {
   "cell_type": "code",
   "execution_count": 34,
   "id": "d1a0e826",
   "metadata": {},
   "outputs": [
    {
     "name": "stdout",
     "output_type": "stream",
     "text": [
      "[1, 200, 300, 500, 6, 1001, [1001, 2]]\n",
      "[1, 200, 300, 500, 6, 1001, [1001, 2], 4000, 6000, 8000]\n"
     ]
    }
   ],
   "source": [
    "print(Li)\n",
    "# add multiple items at last to a list\n",
    "Li.extend([4000,6000,8000])\n",
    "print(Li)"
   ]
  },
  {
   "cell_type": "code",
   "execution_count": null,
   "id": "af876c0f",
   "metadata": {},
   "outputs": [],
   "source": []
  },
  {
   "cell_type": "code",
   "execution_count": 14,
   "id": "70ec83a4",
   "metadata": {},
   "outputs": [
    {
     "data": {
      "text/plain": [
       "[1, 2, 3, 4, 6, [1001, 2], 'Kevin']"
      ]
     },
     "execution_count": 14,
     "metadata": {},
     "output_type": "execute_result"
    }
   ],
   "source": [
    "Li"
   ]
  },
  {
   "cell_type": "code",
   "execution_count": 15,
   "id": "a3807582",
   "metadata": {},
   "outputs": [
    {
     "name": "stdout",
     "output_type": "stream",
     "text": [
      "[1, 2, 3, 4, 6, [1001, 2], 'Kevin', 'G', 'o', 'a']\n",
      "[1, 2, 3, 4, 6, [1001, 2], 'Kevin', 'G', 'o', 'a', 'Mumbai']\n"
     ]
    }
   ],
   "source": [
    "Li.extend('Goa')  # focus that if only 1 item is passed in extend func - it converts into individual letters\n",
    "print(Li)\n",
    "Li.extend(['Mumbai']) # add Mumbai as it is at the last of the list\n",
    "print(Li)"
   ]
  },
  {
   "cell_type": "code",
   "execution_count": 16,
   "id": "f6da31c0",
   "metadata": {},
   "outputs": [
    {
     "data": {
      "text/plain": [
       "[1, 2, 3, 4, 6, [1001, 2], 'Kevin', 'G', 'o', 'a', 'Mumbai']"
      ]
     },
     "execution_count": 16,
     "metadata": {},
     "output_type": "execute_result"
    }
   ],
   "source": [
    "Li"
   ]
  },
  {
   "cell_type": "code",
   "execution_count": 17,
   "id": "fecfce02",
   "metadata": {},
   "outputs": [
    {
     "data": {
      "text/plain": [
       "[1, 'Nice', 2, 3, 4, 6, [1001, 2], 'Kevin', 'G', 'o', 'a', 'Mumbai']"
      ]
     },
     "execution_count": 17,
     "metadata": {},
     "output_type": "execute_result"
    }
   ],
   "source": [
    "# insert anywhere in the list by telling the index position\n",
    "Li.insert(1, 'Nice')\n",
    "Li\n",
    "# Li.insert(1, ['Nice', 'Adam', 'Mike'])\n",
    "# Li.insert(0, 'Mike')"
   ]
  },
  {
   "cell_type": "code",
   "execution_count": 38,
   "id": "8c3ee2be",
   "metadata": {},
   "outputs": [
    {
     "data": {
      "text/plain": [
       "['Mike',\n",
       " 1,\n",
       " ['Nice', 'Adam', 'Mike'],\n",
       " 'Nice',\n",
       " 200,\n",
       " 300,\n",
       " 500,\n",
       " 6,\n",
       " 1001,\n",
       " [1001, 2],\n",
       " 4000,\n",
       " 6000,\n",
       " 8000,\n",
       " 'G',\n",
       " 'o',\n",
       " 'a',\n",
       " 'Mumbai']"
      ]
     },
     "execution_count": 38,
     "metadata": {},
     "output_type": "execute_result"
    }
   ],
   "source": [
    "Li"
   ]
  },
  {
   "cell_type": "markdown",
   "id": "5135612e",
   "metadata": {},
   "source": [
    "### Delete from list"
   ]
  },
  {
   "cell_type": "code",
   "execution_count": 18,
   "id": "9b62f9d8",
   "metadata": {},
   "outputs": [
    {
     "data": {
      "text/plain": [
       "[1, 'Nice', 2, 3, 4, 6, [1001, 2], 'Kevin', 'G', 'o', 'a', 'Mumbai']"
      ]
     },
     "execution_count": 18,
     "metadata": {},
     "output_type": "execute_result"
    }
   ],
   "source": [
    "# del Li\n",
    "Li"
   ]
  },
  {
   "cell_type": "code",
   "execution_count": 21,
   "id": "488be266",
   "metadata": {},
   "outputs": [
    {
     "data": {
      "text/plain": [
       "[2, 4, [1001, 2], 'G', 'a']"
      ]
     },
     "execution_count": 21,
     "metadata": {},
     "output_type": "execute_result"
    }
   ],
   "source": [
    "Li[2::2]"
   ]
  },
  {
   "cell_type": "code",
   "execution_count": null,
   "id": "15694284",
   "metadata": {},
   "outputs": [],
   "source": []
  },
  {
   "cell_type": "code",
   "execution_count": 39,
   "id": "7bcad936",
   "metadata": {},
   "outputs": [
    {
     "name": "stdout",
     "output_type": "stream",
     "text": [
      "['Mike', 1, ['Nice', 'Adam', 'Mike'], 'Nice', 200, 300, 500, 6, 1001, [1001, 2], 4000, 6000, 8000, 'G', 'o', 'a', 'Mumbai']\n",
      "['Mike', 1, ['Nice', 'Adam', 'Mike'], 'Nice', 200, 300, 500, 6, 1001, [1001, 2], 4000, 6000, 8000, 'G', 'o', 'a']\n",
      "['Mike', 1, ['Nice', 'Adam', 'Mike'], 'Nice', 200, 300, 500, 6, 1001, [1001, 2], 4000, 6000, 8000]\n"
     ]
    }
   ],
   "source": [
    "print(Li)\n",
    "# del keyword deletes the element at given index\n",
    "del Li[-1]\n",
    "print(Li)\n",
    "\n",
    "del Li[-3:] # from -3 till end\n",
    "print(Li)\n"
   ]
  },
  {
   "cell_type": "code",
   "execution_count": 40,
   "id": "ab5fdb32",
   "metadata": {},
   "outputs": [],
   "source": [
    "Li.append(4000)"
   ]
  },
  {
   "cell_type": "code",
   "execution_count": 41,
   "id": "26902c31",
   "metadata": {},
   "outputs": [
    {
     "name": "stdout",
     "output_type": "stream",
     "text": [
      "['Mike', 1, ['Nice', 'Adam', 'Mike'], 'Nice', 200, 300, 500, 6, 1001, [1001, 2], 4000, 6000, 8000, 4000]\n"
     ]
    }
   ],
   "source": [
    "print(Li)"
   ]
  },
  {
   "cell_type": "code",
   "execution_count": 45,
   "id": "e1c054a4",
   "metadata": {},
   "outputs": [],
   "source": [
    "Li.remove(4000)"
   ]
  },
  {
   "cell_type": "code",
   "execution_count": 46,
   "id": "6cfbbd36",
   "metadata": {},
   "outputs": [
    {
     "name": "stdout",
     "output_type": "stream",
     "text": [
      "['Mike', 1, ['Nice', 'Adam', 'Mike'], 'Nice', 200, 300, 500, 6, 1001, [1001, 2], 6000, 8000]\n"
     ]
    }
   ],
   "source": [
    "print(Li)"
   ]
  },
  {
   "cell_type": "code",
   "execution_count": 47,
   "id": "1eed9a56",
   "metadata": {},
   "outputs": [
    {
     "data": {
      "text/plain": [
       "['Mike', 1, 'Nice', 200, 300, 500, 6, 1001, [1001, 2], 6000, 8000]"
      ]
     },
     "execution_count": 47,
     "metadata": {},
     "output_type": "execute_result"
    }
   ],
   "source": [
    "Li.remove(['Nice', 'Adam', 'Mike'])\n",
    "Li"
   ]
  },
  {
   "cell_type": "code",
   "execution_count": null,
   "id": "464645e9",
   "metadata": {},
   "outputs": [],
   "source": [
    "\n",
    "# Remove - when we don't know the index position but we know the element to be removed\n",
    "Li \n",
    "Li.remove('Nice') # it shows error if the element is not present in the list\n",
    "Li\n"
   ]
  },
  {
   "cell_type": "code",
   "execution_count": null,
   "id": "2154c649",
   "metadata": {},
   "outputs": [],
   "source": [
    "# 4 ways -  del, remove, pop, clear\n",
    "\n",
    "\n",
    "\n",
    "\n",
    "# pop - deletes the element at last\n",
    "Li\n",
    "Li.pop()\n",
    "Li\n",
    "\n",
    "# clear() - empties the list\n",
    "l\n",
    "l.clear()\n",
    "l"
   ]
  },
  {
   "cell_type": "code",
   "execution_count": null,
   "id": "f868bfe0",
   "metadata": {},
   "outputs": [],
   "source": []
  },
  {
   "cell_type": "markdown",
   "id": "39f4cb3b",
   "metadata": {},
   "source": [
    "### Operations in List"
   ]
  },
  {
   "cell_type": "code",
   "execution_count": 48,
   "id": "36d99541",
   "metadata": {},
   "outputs": [
    {
     "data": {
      "text/plain": [
       "[1, 2, 3, 4, 3, 'Adam']"
      ]
     },
     "execution_count": 48,
     "metadata": {},
     "output_type": "execute_result"
    }
   ],
   "source": [
    "n = [1,2,3,4]\n",
    "m = [3,'Adam']\n",
    "\n",
    "# joining in lists\n",
    "n+m  # concatenation - it creates a new list altogether - neither m nor n is updated.\n"
   ]
  },
  {
   "cell_type": "code",
   "execution_count": 49,
   "id": "f21a09a7",
   "metadata": {},
   "outputs": [
    {
     "data": {
      "text/plain": [
       "[1, 2, 3, 4, 1, 2, 3, 4, 1, 2, 3, 4]"
      ]
     },
     "execution_count": 49,
     "metadata": {},
     "output_type": "execute_result"
    }
   ],
   "source": [
    "\n",
    "# list multiplication\n",
    "m*5\n",
    "n*3"
   ]
  },
  {
   "cell_type": "code",
   "execution_count": 52,
   "id": "b247d2d7",
   "metadata": {},
   "outputs": [
    {
     "data": {
      "text/plain": [
       "'python python python '"
      ]
     },
     "execution_count": 52,
     "metadata": {},
     "output_type": "execute_result"
    }
   ],
   "source": [
    "a='python '\n",
    "a*3"
   ]
  },
  {
   "cell_type": "code",
   "execution_count": 6,
   "id": "f748a978",
   "metadata": {},
   "outputs": [
    {
     "name": "stdout",
     "output_type": "stream",
     "text": [
      "1\n",
      "2\n",
      "3\n",
      "4\n",
      "[[1, 2, 3], [['Adam', 'Mike'], ['x', 4.5]]]\n",
      "[1, 2, 3]\n",
      "[['Adam', 'Mike'], ['x', 4.5]]\n"
     ]
    },
    {
     "data": {
      "text/plain": [
       "False"
      ]
     },
     "execution_count": 6,
     "metadata": {},
     "output_type": "execute_result"
    }
   ],
   "source": [
    "\n",
    "\n",
    "\n",
    "# loops in list\n",
    "for i in n:\n",
    "    print(i)\n",
    "\n",
    "# list_3D\n",
    "for j in list_3D:\n",
    "    print(j)\n",
    "\n",
    "\n",
    "# membership operator\n",
    "3 in list_3D\n",
    "\n",
    "[1,2,3] in list_3D\n",
    "([[1,2,3]]) in list_3D\n",
    "\n",
    "[[[1,2,3]]] in list_3D\n",
    "\n",
    "for i in list_3D:\n",
    "    for j in i:\n",
    "        print(j)\n",
    "\n",
    "\n",
    "(['Adam', 'Mike'], ['x', 4.5]) in list_3D"
   ]
  },
  {
   "cell_type": "code",
   "execution_count": 53,
   "id": "82951419",
   "metadata": {},
   "outputs": [
    {
     "data": {
      "text/plain": [
       "['Mike', 1, 'Nice', 200, 300, 500, 6, 1001, [1001, 2], 6000, 8000]"
      ]
     },
     "execution_count": 53,
     "metadata": {},
     "output_type": "execute_result"
    }
   ],
   "source": [
    "Li"
   ]
  },
  {
   "cell_type": "code",
   "execution_count": 57,
   "id": "4db11e67",
   "metadata": {},
   "outputs": [
    {
     "data": {
      "text/plain": [
       "True"
      ]
     },
     "execution_count": 57,
     "metadata": {},
     "output_type": "execute_result"
    }
   ],
   "source": [
    "[1001,2] in Li"
   ]
  },
  {
   "cell_type": "code",
   "execution_count": null,
   "id": "2572de10",
   "metadata": {},
   "outputs": [],
   "source": []
  },
  {
   "cell_type": "markdown",
   "id": "d3b3f7df",
   "metadata": {},
   "source": [
    "### functions in List"
   ]
  },
  {
   "cell_type": "code",
   "execution_count": 61,
   "id": "a053fdbf",
   "metadata": {},
   "outputs": [
    {
     "data": {
      "text/plain": [
       "[98, 75, 67, 34, 34, 34, 3, 2, 1]"
      ]
     },
     "execution_count": 61,
     "metadata": {},
     "output_type": "execute_result"
    }
   ],
   "source": [
    "\n",
    "Li = [3,67,2,1,75,98,34, 34, 34]\n",
    "type(Li)\n",
    "len(Li)\n",
    "min(Li)\n",
    "max(Li)\n",
    "sorted(Li) # default = ascending\n",
    "sorted(Li, reverse=True) # descending\n",
    "\n",
    "Li\n",
    "# sorted is not a permanent operation - original list still remains same\n",
    "# sort is another function which is a permanent operation\n",
    "\n",
    "Li\n",
    "Li.sort()\n",
    "Li\n",
    "Li.sort(reverse=True)\n",
    "Li\n",
    "\n"
   ]
  },
  {
   "cell_type": "code",
   "execution_count": 62,
   "id": "351b71ae",
   "metadata": {},
   "outputs": [
    {
     "data": {
      "text/plain": [
       "2"
      ]
     },
     "execution_count": 62,
     "metadata": {},
     "output_type": "execute_result"
    }
   ],
   "source": [
    "# Index in List\n",
    "Li.index(67)  # li is the list in which we want to get the index of 5000"
   ]
  },
  {
   "cell_type": "code",
   "execution_count": 59,
   "id": "344a44ff",
   "metadata": {},
   "outputs": [
    {
     "ename": "ValueError",
     "evalue": "34 is not in list",
     "output_type": "error",
     "traceback": [
      "\u001b[1;31m---------------------------------------------------------------------------\u001b[0m",
      "\u001b[1;31mValueError\u001b[0m                                Traceback (most recent call last)",
      "Cell \u001b[1;32mIn[59], line 1\u001b[0m\n\u001b[1;32m----> 1\u001b[0m Li\u001b[38;5;241m.\u001b[39mindex(\u001b[38;5;241m34\u001b[39m)\n",
      "\u001b[1;31mValueError\u001b[0m: 34 is not in list"
     ]
    }
   ],
   "source": [
    "Li.index(34)"
   ]
  },
  {
   "cell_type": "code",
   "execution_count": null,
   "id": "f11fba9b",
   "metadata": {},
   "outputs": [],
   "source": []
  },
  {
   "cell_type": "code",
   "execution_count": 8,
   "id": "0693edcc",
   "metadata": {},
   "outputs": [
    {
     "data": {
      "text/plain": [
       "'Adam Is A Good Man'"
      ]
     },
     "execution_count": 8,
     "metadata": {},
     "output_type": "execute_result"
    }
   ],
   "source": [
    "\n",
    "# Quick exercise\n",
    "\n",
    "str = \"Adam is a good man\"\n",
    "str\n",
    "str.title()\n",
    "# w/o using title function let's do the same thing - "
   ]
  },
  {
   "cell_type": "code",
   "execution_count": 16,
   "id": "647c750d",
   "metadata": {},
   "outputs": [
    {
     "name": "stdout",
     "output_type": "stream",
     "text": [
      "Adam\n",
      "Is\n",
      "A\n",
      "Good\n",
      "Man\n",
      "Adam Is A Good Man\n",
      "final string is Adam Is A Good Man\n"
     ]
    }
   ],
   "source": [
    "\n",
    "str.split() # now it is a list of each word - string to list\n",
    "str[0]\n",
    "str\n",
    "s = str.split()\n",
    "s\n",
    "\n",
    "for i in s:\n",
    "    print(i.capitalize())\n",
    "\n",
    "# Now let's convert it back to string\n",
    "new_list = []\n",
    "for i in s:\n",
    "    new_list.append(i.capitalize())\n",
    "\n",
    "new_list\n",
    "print(\" \".join(new_list))\n",
    "\n",
    "print(f\"final string is {' '.join(new_list)}\")"
   ]
  },
  {
   "cell_type": "code",
   "execution_count": 17,
   "id": "7d077292",
   "metadata": {},
   "outputs": [],
   "source": [
    "# Now we have our title function task achieved w/o it"
   ]
  },
  {
   "cell_type": "code",
   "execution_count": null,
   "id": "e91154a6",
   "metadata": {},
   "outputs": [],
   "source": []
  },
  {
   "cell_type": "code",
   "execution_count": 18,
   "id": "b56d0194",
   "metadata": {},
   "outputs": [
    {
     "data": {
      "text/plain": [
       "'abc'"
      ]
     },
     "execution_count": 18,
     "metadata": {},
     "output_type": "execute_result"
    }
   ],
   "source": [
    "# Exercise 2:\n",
    "s = \"abc@gamil.com\"\n",
    "# find the characters before @\n",
    "position = s.find(\"@\")\n",
    "position\n",
    "s[0:position]\n",
    "\n",
    "# way 2\n",
    "s.split(\"@\")\n",
    "s.split(\"@\")[0]"
   ]
  },
  {
   "cell_type": "code",
   "execution_count": null,
   "id": "969e3073",
   "metadata": {},
   "outputs": [],
   "source": []
  },
  {
   "cell_type": "code",
   "execution_count": 19,
   "id": "69f7894f",
   "metadata": {},
   "outputs": [
    {
     "name": "stdout",
     "output_type": "stream",
     "text": [
      "[1, 2, 4, 3, 5, 6]\n"
     ]
    },
    {
     "data": {
      "text/plain": [
       "{1, 2, 3, 4, 5, 6}"
      ]
     },
     "execution_count": 19,
     "metadata": {},
     "output_type": "execute_result"
    }
   ],
   "source": [
    "# Exercise 3: remove dups from a list\n",
    "l = [1,2,4,1,3,5,6,3,1,2]\n",
    "l\n",
    "# way 1 \n",
    "l1 = [] # empty list\n",
    "for i in l:\n",
    "    if i not in l1:\n",
    "        l1.append(i)\n",
    "\n",
    "print(l1)\n",
    "\n",
    "# way 2\n",
    "set(l)"
   ]
  },
  {
   "cell_type": "code",
   "execution_count": null,
   "id": "71850728",
   "metadata": {},
   "outputs": [],
   "source": []
  }
 ],
 "metadata": {
  "kernelspec": {
   "display_name": "Python 3 (ipykernel)",
   "language": "python",
   "name": "python3"
  },
  "language_info": {
   "codemirror_mode": {
    "name": "ipython",
    "version": 3
   },
   "file_extension": ".py",
   "mimetype": "text/x-python",
   "name": "python",
   "nbconvert_exporter": "python",
   "pygments_lexer": "ipython3",
   "version": "3.11.5"
  }
 },
 "nbformat": 4,
 "nbformat_minor": 5
}
