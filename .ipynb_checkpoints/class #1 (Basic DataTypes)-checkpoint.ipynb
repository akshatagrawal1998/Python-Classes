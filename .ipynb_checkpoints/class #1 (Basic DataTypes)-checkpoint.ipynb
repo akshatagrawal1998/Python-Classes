{
 "cells": [
  {
   "cell_type": "markdown",
   "id": "59c5ff09",
   "metadata": {},
   "source": [
    "### Python Basics"
   ]
  },
  {
   "cell_type": "markdown",
   "id": "fdcd2661",
   "metadata": {},
   "source": [
    "## First Class Notes"
   ]
  },
  {
   "cell_type": "code",
   "execution_count": 3,
   "id": "ecb82df0",
   "metadata": {},
   "outputs": [
    {
     "name": "stdout",
     "output_type": "stream",
     "text": [
      "It's my first Python class and I am really excited for it\n",
      "Hi! My name is Akshat\n"
     ]
    }
   ],
   "source": [
    "print(\"It's my first Python class and I am really excited for it\")\n",
    "print('Hi! My name is Akshat')"
   ]
  },
  {
   "cell_type": "code",
   "execution_count": 4,
   "id": "8886c1c8",
   "metadata": {},
   "outputs": [
    {
     "name": "stdout",
     "output_type": "stream",
     "text": [
      "Akshat's profile is Data Analytics\n"
     ]
    }
   ],
   "source": [
    "print(\"Akshat's profile is Data Analytics\")"
   ]
  },
  {
   "cell_type": "code",
   "execution_count": 5,
   "id": "7af3a227",
   "metadata": {},
   "outputs": [
    {
     "data": {
      "text/plain": [
       "'\\nThis is \\na  \\nmulti line\\ncomment\\n'"
      ]
     },
     "execution_count": 5,
     "metadata": {},
     "output_type": "execute_result"
    }
   ],
   "source": [
    "# This is a single line comment\n",
    "\n",
    "\"\"\"\n",
    "This is \n",
    "a  \n",
    "multi line\n",
    "comment\n",
    "\"\"\"\n"
   ]
  },
  {
   "cell_type": "code",
   "execution_count": null,
   "id": "c5f839d8",
   "metadata": {},
   "outputs": [],
   "source": []
  },
  {
   "cell_type": "code",
   "execution_count": 13,
   "id": "36517839",
   "metadata": {},
   "outputs": [
    {
     "name": "stdout",
     "output_type": "stream",
     "text": [
      "Addition is =  11.6\n"
     ]
    }
   ],
   "source": [
    "# Python Basics\n",
    "# (2+3-6/5*3) - +,*,-,/\n",
    "# inbuilt fn and user defined func\n",
    "\n",
    "# Variables are the names given to the memory location.\n",
    "a = 5.6\n",
    "b = 6\n",
    "\n",
    "sum = a+b\n",
    "\n",
    "print(\"Addition is = \",sum)"
   ]
  },
  {
   "cell_type": "code",
   "execution_count": 15,
   "id": "058133fe",
   "metadata": {},
   "outputs": [
    {
     "name": "stdout",
     "output_type": "stream",
     "text": [
      "<class 'float'>\n",
      "<class 'int'>\n"
     ]
    }
   ],
   "source": [
    "print(type(a))\n",
    "print(type(b))"
   ]
  },
  {
   "cell_type": "code",
   "execution_count": null,
   "id": "7eeb39ab",
   "metadata": {},
   "outputs": [],
   "source": []
  },
  {
   "cell_type": "code",
   "execution_count": 9,
   "id": "bc474eab",
   "metadata": {},
   "outputs": [
    {
     "name": "stdout",
     "output_type": "stream",
     "text": [
      "Hello Python\n",
      "Your name\n",
      "Hello World\n"
     ]
    }
   ],
   "source": [
    "print('Hello Python')\n",
    "print(\"Your name\")\n",
    "print(\"Hello World\")"
   ]
  },
  {
   "cell_type": "code",
   "execution_count": 4,
   "id": "d49facb5",
   "metadata": {},
   "outputs": [
    {
     "name": "stdout",
     "output_type": "stream",
     "text": [
      "Hi, I'm your trainer. today we are going to learn python basics\n"
     ]
    }
   ],
   "source": [
    "#print('Hi, I'm your trainer. today we are going to learn python basics')\n",
    "# when single quotes in the statement then only \"\" is used\n",
    "print(\"Hi, I'm your trainer. today we are going to learn python basics\")\n"
   ]
  },
  {
   "cell_type": "code",
   "execution_count": 5,
   "id": "b216139d",
   "metadata": {},
   "outputs": [
    {
     "name": "stdout",
     "output_type": "stream",
     "text": [
      "6\n"
     ]
    }
   ],
   "source": [
    "print(6)\n"
   ]
  },
  {
   "cell_type": "code",
   "execution_count": 5,
   "id": "9ae1f81e",
   "metadata": {},
   "outputs": [
    {
     "name": "stdout",
     "output_type": "stream",
     "text": [
      "5.6\n",
      "False\n",
      "India Pakistan Nepal Srilanka USA\n",
      "India   5 True\n",
      "India-Pakistan-Nepal-Srilanka\n",
      "India...Pakistan...Nepal...Srilanka\n",
      "Hello\n",
      "World\n",
      " Python\n",
      "Hello world\n",
      "\n",
      "world\n",
      "World\n",
      "None None\n"
     ]
    }
   ],
   "source": [
    "\n",
    "print(5.6) # float - decimal\n",
    "\n",
    "print(False)\n",
    "\n",
    "print(\"India\",\"Pakistan\",\"Nepal\",\"Srilanka\",\"USA\")\n",
    "\n",
    "print(\"India\",' ',5,True)\n",
    "\n",
    "print(\"India\",\"Pakistan\",\"Nepal\",\"Srilanka\",sep='-')\n",
    "\n",
    "print(\"India\",\"Pakistan\",\"Nepal\",\"Srilanka\",sep='...')\n",
    "\n",
    "print(\"Hello\")\n",
    "\n",
    "print(\"World\\n\", \"Python\")\n",
    "\n",
    "print(\"Hello\",end=' ')\n",
    "\n",
    "print(\"world\")\n",
    "\n",
    "print()\n",
    "\n",
    "print(print(\"world\"), print(\"World\"))"
   ]
  },
  {
   "cell_type": "code",
   "execution_count": null,
   "id": "72b08983",
   "metadata": {},
   "outputs": [],
   "source": []
  },
  {
   "cell_type": "code",
   "execution_count": 10,
   "id": "80d5eb38",
   "metadata": {},
   "outputs": [
    {
     "name": "stdout",
     "output_type": "stream",
     "text": [
      "<class 'str'>\n",
      "Dotun is my colleague\n"
     ]
    }
   ],
   "source": [
    "a = 4.5\n",
    "# 4, 4.5, 'Dotun', True, \n",
    "print(type(a)) # print the datatype of the variable a\n",
    "print(a) # print the value of variable a"
   ]
  },
  {
   "cell_type": "code",
   "execution_count": null,
   "id": "df2291a8",
   "metadata": {},
   "outputs": [],
   "source": []
  },
  {
   "cell_type": "code",
   "execution_count": 18,
   "id": "206764da",
   "metadata": {},
   "outputs": [
    {
     "name": "stdout",
     "output_type": "stream",
     "text": [
      "<class 'int'>\n",
      "<class 'list'>\n"
     ]
    }
   ],
   "source": [
    "# boolean - True , False\n",
    "# 5+6j\n",
    "# real part + imaginary part\n",
    "\n",
    "a=3\n",
    "print(type(a))\n",
    "\n",
    "\n",
    "b = [3,4,5,6,7,8,9]\n",
    "print(type(b))"
   ]
  },
  {
   "cell_type": "code",
   "execution_count": 8,
   "id": "15f3c598",
   "metadata": {},
   "outputs": [
    {
     "data": {
      "text/plain": [
       "'\\nPython supports 3 categories of data types:\\nBasic/Primitive Types - (integer,float,complex,boolean and string)\\nContainer Types - (List,Tuples, Sets and Dictionary)\\nUser-defined Types - Class\\n'"
      ]
     },
     "execution_count": 8,
     "metadata": {},
     "output_type": "execute_result"
    }
   ],
   "source": [
    "\"\"\"\n",
    "Python supports 3 categories of data types:\n",
    "\n",
    "Basic/Primitive Types - (integer,float,complex,boolean and string)\n",
    "Container/ Sequence Types - (List,Tuples, Sets and Dictionary)\n",
    "User-defined Types - Class\n",
    "\"\"\""
   ]
  },
  {
   "cell_type": "code",
   "execution_count": 9,
   "id": "7236e7cb",
   "metadata": {},
   "outputs": [
    {
     "name": "stdout",
     "output_type": "stream",
     "text": [
      "4\n",
      "inf\n"
     ]
    },
    {
     "data": {
      "text/plain": [
       "int"
      ]
     },
     "execution_count": 9,
     "metadata": {},
     "output_type": "execute_result"
    }
   ],
   "source": [
    "# integer\n",
    "print(4)\n",
    "print(1e309)\n",
    "type(4)"
   ]
  },
  {
   "cell_type": "code",
   "execution_count": 10,
   "id": "31efcaf1",
   "metadata": {},
   "outputs": [
    {
     "data": {
      "text/plain": [
       "float"
      ]
     },
     "execution_count": 10,
     "metadata": {},
     "output_type": "execute_result"
    }
   ],
   "source": [
    "type(4.5)"
   ]
  },
  {
   "cell_type": "code",
   "execution_count": 11,
   "id": "80c59559",
   "metadata": {},
   "outputs": [
    {
     "name": "stdout",
     "output_type": "stream",
     "text": [
      "4.5\n",
      "1.7e+308\n"
     ]
    },
    {
     "data": {
      "text/plain": [
       "float"
      ]
     },
     "execution_count": 11,
     "metadata": {},
     "output_type": "execute_result"
    }
   ],
   "source": [
    "# float\n",
    "print(4.5)\n",
    "print(1.7e308)\n",
    "type(1.7e308)"
   ]
  },
  {
   "cell_type": "code",
   "execution_count": 12,
   "id": "2fb2b267",
   "metadata": {},
   "outputs": [
    {
     "name": "stdout",
     "output_type": "stream",
     "text": [
      "True\n",
      "False\n"
     ]
    },
    {
     "data": {
      "text/plain": [
       "bool"
      ]
     },
     "execution_count": 12,
     "metadata": {},
     "output_type": "execute_result"
    }
   ],
   "source": [
    "# boolean\n",
    "print(True)\n",
    "print(False)\n",
    "type(True)"
   ]
  },
  {
   "cell_type": "code",
   "execution_count": 13,
   "id": "dd65c90e",
   "metadata": {},
   "outputs": [
    {
     "name": "stdout",
     "output_type": "stream",
     "text": [
      "(4+5j)\n"
     ]
    },
    {
     "data": {
      "text/plain": [
       "complex"
      ]
     },
     "execution_count": 13,
     "metadata": {},
     "output_type": "execute_result"
    }
   ],
   "source": [
    "# complex\n",
    "print(4+5j)\n",
    "type(3+8j)"
   ]
  },
  {
   "cell_type": "code",
   "execution_count": 14,
   "id": "18f733f5",
   "metadata": {},
   "outputs": [
    {
     "name": "stdout",
     "output_type": "stream",
     "text": [
      "Kolkata\n",
      "Kolkata\n",
      "Kolkata\n",
      "      is a city \n",
      "      in India\n"
     ]
    }
   ],
   "source": [
    "# string\n",
    "print('Kolkata')\n",
    "print(\"Kolkata\")\n",
    "print(\"\"\"Kolkata\n",
    "      is a city \n",
    "      in India\"\"\")"
   ]
  },
  {
   "cell_type": "code",
   "execution_count": 15,
   "id": "c249ec58",
   "metadata": {},
   "outputs": [],
   "source": [
    "a=4\n"
   ]
  },
  {
   "cell_type": "code",
   "execution_count": 17,
   "id": "6924399a",
   "metadata": {},
   "outputs": [
    {
     "name": "stdout",
     "output_type": "stream",
     "text": [
      "[1, 2, 3, 5, 56, 'Akshat', (4+7j), True]\n",
      "<class 'list'>\n",
      "[1, 2, 3, 4, 5]\n"
     ]
    }
   ],
   "source": [
    "L = [1,2,3,5,56, 'Akshat', 4+7j, True]\n",
    "print(L)\n",
    "print(type(L))\n",
    "# list - \n",
    "print([1,2,3,4,5])"
   ]
  },
  {
   "cell_type": "code",
   "execution_count": null,
   "id": "58843c05",
   "metadata": {},
   "outputs": [],
   "source": []
  },
  {
   "cell_type": "code",
   "execution_count": null,
   "id": "09944b7d",
   "metadata": {},
   "outputs": [],
   "source": []
  },
  {
   "cell_type": "code",
   "execution_count": 17,
   "id": "0f3f706a",
   "metadata": {},
   "outputs": [
    {
     "name": "stdout",
     "output_type": "stream",
     "text": [
      "(1, 2, 3, 4, 5, 'A', 5.6)\n"
     ]
    },
    {
     "data": {
      "text/plain": [
       "tuple"
      ]
     },
     "execution_count": 17,
     "metadata": {},
     "output_type": "execute_result"
    }
   ],
   "source": [
    "# tuple\n",
    "tup = (1,2,3,4,5,'A', 5.6)\n",
    "print(tup)\n",
    "type(tup)"
   ]
  },
  {
   "cell_type": "code",
   "execution_count": 22,
   "id": "705b0d41",
   "metadata": {},
   "outputs": [
    {
     "name": "stdout",
     "output_type": "stream",
     "text": [
      "{1, 2, 3, 4, 5, 5.6, 'A'}\n",
      "<class 'set'>\n"
     ]
    }
   ],
   "source": [
    "#sets\n",
    "s1 = {1,2,2,2,2,3,4,5,'A', 5.6}\n",
    "print(s1)\n",
    "print(type(s1))"
   ]
  },
  {
   "cell_type": "code",
   "execution_count": 19,
   "id": "7a990548",
   "metadata": {},
   "outputs": [
    {
     "name": "stdout",
     "output_type": "stream",
     "text": [
      "{1, 2, 3, 4, 5}\n"
     ]
    }
   ],
   "source": [
    "print({1,2,3,4,5})\n"
   ]
  },
  {
   "cell_type": "code",
   "execution_count": 20,
   "id": "0603f64b",
   "metadata": {},
   "outputs": [
    {
     "name": "stdout",
     "output_type": "stream",
     "text": [
      "{'Name': 'Nitish', 'Age': 30, 'gender': 'Male'}\n"
     ]
    }
   ],
   "source": [
    "# dict - key value pair\n",
    "print({\"Name\":\"Nitish\",\n",
    "       \"Age\":30,\n",
    "       \"gender\":\"Male\"})\n"
   ]
  },
  {
   "cell_type": "code",
   "execution_count": 21,
   "id": "6eefd227",
   "metadata": {},
   "outputs": [
    {
     "name": "stdout",
     "output_type": "stream",
     "text": [
      "{'Name': 'akshat', 'Age': 30, 'gender': 'Male', 'JobRole': 'Data Analyst'}\n",
      "<class 'dict'>\n"
     ]
    }
   ],
   "source": [
    "dic = {\"Name\":\"akshat\",\"Age\":30,\"gender\":\"Male\", 'JobRole':'Data Analyst'}\n",
    "print(dic)\n",
    "print(type(dic))"
   ]
  }
 ],
 "metadata": {
  "kernelspec": {
   "display_name": "Python 3 (ipykernel)",
   "language": "python",
   "name": "python3"
  },
  "language_info": {
   "codemirror_mode": {
    "name": "ipython",
    "version": 3
   },
   "file_extension": ".py",
   "mimetype": "text/x-python",
   "name": "python",
   "nbconvert_exporter": "python",
   "pygments_lexer": "ipython3",
   "version": "3.11.5"
  }
 },
 "nbformat": 4,
 "nbformat_minor": 5
}
