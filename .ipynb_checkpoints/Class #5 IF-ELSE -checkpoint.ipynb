{
 "cells": [
  {
   "cell_type": "markdown",
   "id": "16be9c76",
   "metadata": {},
   "source": [
    "### IF-ELSE statements - decision making "
   ]
  },
  {
   "cell_type": "code",
   "execution_count": null,
   "id": "6cd1ff58",
   "metadata": {},
   "outputs": [],
   "source": []
  },
  {
   "cell_type": "code",
   "execution_count": 2,
   "id": "618ffa96",
   "metadata": {},
   "outputs": [
    {
     "name": "stdout",
     "output_type": "stream",
     "text": [
      "Enter your marks\n",
      "58\n",
      "B+\n"
     ]
    }
   ],
   "source": [
    "marks = int(input(\"Enter your marks\\n\")) # by default the input taken is in string\n",
    "\n",
    "if marks > 90:\n",
    "    print(\"A+\")\n",
    "elif marks<0:\n",
    "    print(\"negative marking\")\n",
    "elif marks >70 and marks <= 90:\n",
    "    print(\"A\")\n",
    "elif marks > 50 and marks <= 70:\n",
    "    print(\"B+\")\n",
    "elif marks > 35 and marks <= 50:\n",
    "    print(\"C\")\n",
    "else:\n",
    "    print(\"Fail\")"
   ]
  },
  {
   "cell_type": "code",
   "execution_count": null,
   "id": "1081fd8a",
   "metadata": {},
   "outputs": [],
   "source": []
  },
  {
   "cell_type": "code",
   "execution_count": null,
   "id": "bc2d85bc",
   "metadata": {},
   "outputs": [],
   "source": []
  },
  {
   "cell_type": "code",
   "execution_count": null,
   "id": "26fb1920",
   "metadata": {},
   "outputs": [],
   "source": []
  },
  {
   "cell_type": "code",
   "execution_count": 20,
   "id": "3c34c37f",
   "metadata": {},
   "outputs": [
    {
     "name": "stdout",
     "output_type": "stream",
     "text": [
      "Enter marks67\n",
      "<class 'str'>\n",
      "67\n"
     ]
    }
   ],
   "source": [
    "marks =  input(\"Enter marks\")\n",
    "print(type(marks))\n",
    "print(marks)"
   ]
  },
  {
   "cell_type": "code",
   "execution_count": 22,
   "id": "cc271c31",
   "metadata": {},
   "outputs": [
    {
     "data": {
      "text/plain": [
       "int"
      ]
     },
     "execution_count": 22,
     "metadata": {},
     "output_type": "execute_result"
    }
   ],
   "source": [
    "type(int(marks))"
   ]
  },
  {
   "cell_type": "code",
   "execution_count": 7,
   "id": "72832f81",
   "metadata": {},
   "outputs": [
    {
     "name": "stdout",
     "output_type": "stream",
     "text": [
      "Enter marks \n",
      "78\n",
      "78\n",
      "<class 'str'>\n"
     ]
    }
   ],
   "source": [
    "x = input(\"Enter marks \\n\")\n",
    "print(x)\n",
    "print(type(x))"
   ]
  },
  {
   "cell_type": "code",
   "execution_count": 10,
   "id": "a05dfd21",
   "metadata": {},
   "outputs": [
    {
     "name": "stdout",
     "output_type": "stream",
     "text": [
      "Enter marks \n",
      "m\n"
     ]
    },
    {
     "ename": "TypeError",
     "evalue": "'>=' not supported between instances of 'str' and 'int'",
     "output_type": "error",
     "traceback": [
      "\u001b[1;31m---------------------------------------------------------------------------\u001b[0m",
      "\u001b[1;31mTypeError\u001b[0m                                 Traceback (most recent call last)",
      "Cell \u001b[1;32mIn[10], line 6\u001b[0m\n\u001b[0;32m      1\u001b[0m \u001b[38;5;66;03m# Write a program in Python to check whether a student is passed or failed in his exam. \u001b[39;00m\n\u001b[0;32m      2\u001b[0m \u001b[38;5;66;03m# Given - Passing marks - 38 out of 100\u001b[39;00m\n\u001b[0;32m      4\u001b[0m marks \u001b[38;5;241m=\u001b[39m (\u001b[38;5;28minput\u001b[39m(\u001b[38;5;124m\"\u001b[39m\u001b[38;5;124mEnter marks \u001b[39m\u001b[38;5;130;01m\\n\u001b[39;00m\u001b[38;5;124m\"\u001b[39m)) \u001b[38;5;66;03m# taking user input\u001b[39;00m\n\u001b[1;32m----> 6\u001b[0m \u001b[38;5;28;01mif\u001b[39;00m(marks \u001b[38;5;241m>\u001b[39m\u001b[38;5;241m=\u001b[39m \u001b[38;5;241m38\u001b[39m \u001b[38;5;129;01mand\u001b[39;00m marks \u001b[38;5;241m<\u001b[39m\u001b[38;5;241m=\u001b[39m \u001b[38;5;241m100\u001b[39m):\n\u001b[0;32m      7\u001b[0m     \u001b[38;5;28mprint\u001b[39m(\u001b[38;5;124m\"\u001b[39m\u001b[38;5;124mPass\u001b[39m\u001b[38;5;124m\"\u001b[39m)\n\u001b[0;32m      8\u001b[0m \u001b[38;5;28;01melif\u001b[39;00m(marks \u001b[38;5;241m>\u001b[39m \u001b[38;5;241m100\u001b[39m \u001b[38;5;129;01mor\u001b[39;00m marks\u001b[38;5;241m<\u001b[39m\u001b[38;5;241m0\u001b[39m):\n",
      "\u001b[1;31mTypeError\u001b[0m: '>=' not supported between instances of 'str' and 'int'"
     ]
    }
   ],
   "source": [
    "# Write a program in Python to check whether a student is passed or failed in his exam. \n",
    "# Given - Passing marks - 38 out of 100\n",
    "\n",
    "marks = float(input(\"Enter marks \\n\")) # taking user input\n",
    "\n",
    "if(marks >= 38 and marks <= 100):\n",
    "    print(\"Pass\")\n",
    "elif(marks > 100 or marks<0):\n",
    "    print(\"Invalid Entry\")\n",
    "elif(marks<38 and marks>0):\n",
    "    print(\"Fail\")\n",
    "else:\n",
    "    print(\"Fail\")"
   ]
  },
  {
   "cell_type": "code",
   "execution_count": null,
   "id": "b6c4a496",
   "metadata": {},
   "outputs": [],
   "source": []
  },
  {
   "cell_type": "code",
   "execution_count": null,
   "id": "2d23f573",
   "metadata": {},
   "outputs": [],
   "source": []
  },
  {
   "cell_type": "code",
   "execution_count": null,
   "id": "6daf40e3",
   "metadata": {},
   "outputs": [],
   "source": []
  },
  {
   "cell_type": "code",
   "execution_count": 2,
   "id": "38751df1",
   "metadata": {},
   "outputs": [
    {
     "name": "stdout",
     "output_type": "stream",
     "text": [
      "Enter your email : abc@xyz.com\n",
      "Enter password1234\n",
      "Incorrect credentials\n"
     ]
    }
   ],
   "source": [
    "# Use case - like while logging in if we provide wrong email -we can't login \n",
    "\n",
    "# correct email- xyz@abc.com - desired email - if user provides this then he/she can login else not\n",
    "# password - 1234\n",
    "\n",
    "# Focus on indentation \n",
    "# print(input(\"Enter you email\"))\n",
    "\n",
    "email = input(\"Enter your email : \")\n",
    "\n",
    "if '@' in email:    # if email conatins @\n",
    "    password = input(\"Enter password\")\n",
    "\n",
    "    if email == \"xyz@abc.com\" and password == \"1234\":\n",
    "        print(\"Welcome. Login creds are correct\")\n",
    "    elif email == \"xyz@abc.com\" and password != \"1234\":  # else if - if the amil is correct but password in wrong\n",
    "        print(\"Password Incorrect\")\n",
    "        password = input(\"Enter password again\")\n",
    "        if password == \"1234\":\n",
    "            print(\"Finally correct. You may login\")\n",
    "        else: # if user still enters incorrect password\n",
    "            print(\"Still incorrect password\")\n",
    "    else:\n",
    "        print(\"Incorrect credentials\")\n",
    "else: # if the email entered was incorrect - then ask for email again\n",
    "    print(\"Please enter your correct email again\")\n"
   ]
  },
  {
   "cell_type": "code",
   "execution_count": null,
   "id": "9a97a077",
   "metadata": {},
   "outputs": [],
   "source": [
    "# Assignment:\n",
    "\n",
    "\n",
    "# Indentation : a very important concept in Python - for good readability and also to detect and understand the block of code.\n",
    "# using wrong indentation - logic may fail\n",
    "\n",
    "\n",
    "# C program logic is like - using {}\n",
    "'''\n",
    "if(name == \"xyz\")\n",
    "{\n",
    "something;\n",
    "    something;\n",
    "} # closing curly bracket tells the termination of the if statement\n",
    "else\n",
    "{\n",
    "something else;\n",
    "    something else;\n",
    "} \n",
    "'''"
   ]
  },
  {
   "cell_type": "code",
   "execution_count": 2,
   "id": "a9911879",
   "metadata": {},
   "outputs": [
    {
     "name": "stdout",
     "output_type": "stream",
     "text": [
      "line 10 adam ---- python \n",
      "line20 adam\n",
      "line 5\n"
     ]
    }
   ],
   "source": [
    "# In Python\n",
    "name=\"xyz\"\n",
    "if name == \"xyz\":  # outer if statement\n",
    "    print('line 10 adam ---- python ') # indentation comes automatically when : is used or if missed u can use TAB from keypad\n",
    "    print(\"line20 adam\")\n",
    "    if 5 == 5: # nested if statement - inner if\n",
    "        print('line 5')\n",
    "else:\n",
    "    print('line3')"
   ]
  },
  {
   "cell_type": "code",
   "execution_count": null,
   "id": "16e56d4f",
   "metadata": {},
   "outputs": [],
   "source": []
  },
  {
   "cell_type": "code",
   "execution_count": null,
   "id": "2e66083c",
   "metadata": {},
   "outputs": [],
   "source": []
  },
  {
   "cell_type": "code",
   "execution_count": null,
   "id": "f00fcb18",
   "metadata": {},
   "outputs": [],
   "source": []
  },
  {
   "cell_type": "code",
   "execution_count": null,
   "id": "27248717",
   "metadata": {},
   "outputs": [],
   "source": []
  },
  {
   "cell_type": "code",
   "execution_count": 4,
   "id": "ed2d57ff",
   "metadata": {},
   "outputs": [
    {
     "name": "stdout",
     "output_type": "stream",
     "text": [
      "Dotun\n",
      "Dotun\n",
      "Dotun\n",
      "Dotun\n",
      "Dotun\n",
      "Dotun\n",
      "Dotun\n",
      "Dotun\n",
      "Dotun\n"
     ]
    }
   ],
   "source": [
    "# Loops in Python\n",
    "\n",
    "\n",
    "\n",
    "print(\"Dotun\")\n",
    "print(\"Dotun\")\n",
    "print(\"Dotun\")\n",
    "print(\"Dotun\")\n",
    "print(\"Dotun\")\n",
    "print(\"Dotun\")\n",
    "print(\"Dotun\")\n",
    "print(\"Dotun\")\n",
    "print(\"Dotun\")"
   ]
  },
  {
   "cell_type": "code",
   "execution_count": 7,
   "id": "3155b555",
   "metadata": {},
   "outputs": [
    {
     "name": "stdout",
     "output_type": "stream",
     "text": [
      "1 Dotun\n",
      "3 Dotun\n",
      "5 Dotun\n",
      "7 Dotun\n",
      "9 Dotun\n",
      "11 Dotun\n",
      "13 Dotun\n",
      "15 Dotun\n",
      "17 Dotun\n",
      "19 Dotun\n"
     ]
    }
   ],
   "source": [
    "i = 1\n",
    "while i < 20:\n",
    "    print(i, \"Dotun\")\n",
    "    i = i+2"
   ]
  },
  {
   "cell_type": "code",
   "execution_count": null,
   "id": "6fa6d323",
   "metadata": {},
   "outputs": [],
   "source": []
  }
 ],
 "metadata": {
  "kernelspec": {
   "display_name": "Python 3 (ipykernel)",
   "language": "python",
   "name": "python3"
  },
  "language_info": {
   "codemirror_mode": {
    "name": "ipython",
    "version": 3
   },
   "file_extension": ".py",
   "mimetype": "text/x-python",
   "name": "python",
   "nbconvert_exporter": "python",
   "pygments_lexer": "ipython3",
   "version": "3.11.5"
  }
 },
 "nbformat": 4,
 "nbformat_minor": 5
}
