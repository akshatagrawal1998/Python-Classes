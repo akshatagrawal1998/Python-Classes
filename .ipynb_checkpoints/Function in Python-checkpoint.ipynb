{
 "cells": [
  {
   "cell_type": "code",
   "execution_count": 7,
   "id": "bcdddda4",
   "metadata": {},
   "outputs": [
    {
     "name": "stdout",
     "output_type": "stream",
     "text": [
      "Odd\n"
     ]
    }
   ],
   "source": [
    "number = 9\n",
    "\n",
    "if(type(number) == int):\n",
    "    if number%2==0:\n",
    "        print(\"Even\")\n",
    "    else:\n",
    "        print(\"Odd\")\n",
    "else:\n",
    "    print(\"Not a valid integer\")"
   ]
  },
  {
   "cell_type": "code",
   "execution_count": null,
   "id": "e3ee6a40",
   "metadata": {},
   "outputs": [],
   "source": [
    "number = 10\n",
    "\n",
    "if(type(number) == int):\n",
    "    if number%2==0:\n",
    "        print(\"Even\")\n",
    "    else:\n",
    "        print(\"Odd\")\n",
    "else:\n",
    "    print(\"Not a valid integer\")"
   ]
  },
  {
   "cell_type": "code",
   "execution_count": null,
   "id": "bbab1f87",
   "metadata": {},
   "outputs": [],
   "source": []
  },
  {
   "cell_type": "markdown",
   "id": "c45751b6",
   "metadata": {},
   "source": [
    "### Functions in Python - slides"
   ]
  },
  {
   "cell_type": "code",
   "execution_count": 1,
   "id": "a681f193",
   "metadata": {},
   "outputs": [],
   "source": [
    "# structure of a function with example\n",
    "\n",
    "def even_check(number):\n",
    "    \n",
    "    \"\"\" This func tells whether given number is even or odd\n",
    "    INPUT - any valid integer\n",
    "    Output: even/odd\n",
    "    CREATED BY: Akshat\n",
    "    Time: Dec 27, 2024 10:55 PM IST\n",
    "    This all is optional\n",
    "    \"\"\"\n",
    "    if(type(number) == int):\n",
    "        if number%2==0:\n",
    "            return \"Even\"\n",
    "        else:\n",
    "            return \"Odd\"\n",
    "    else:\n",
    "        return \"Not a valid integer\""
   ]
  },
  {
   "cell_type": "code",
   "execution_count": 2,
   "id": "bbf8cfff",
   "metadata": {},
   "outputs": [
    {
     "data": {
      "text/plain": [
       "'Odd'"
      ]
     },
     "execution_count": 2,
     "metadata": {},
     "output_type": "execute_result"
    }
   ],
   "source": [
    "even_check(23)"
   ]
  },
  {
   "cell_type": "code",
   "execution_count": null,
   "id": "6cff5ee0",
   "metadata": {},
   "outputs": [],
   "source": [
    "for i "
   ]
  },
  {
   "cell_type": "code",
   "execution_count": 3,
   "id": "eeb09fd3",
   "metadata": {},
   "outputs": [
    {
     "data": {
      "text/plain": [
       "'Even'"
      ]
     },
     "execution_count": 3,
     "metadata": {},
     "output_type": "execute_result"
    }
   ],
   "source": [
    "even_check(56)"
   ]
  },
  {
   "cell_type": "code",
   "execution_count": 10,
   "id": "f33b4782",
   "metadata": {},
   "outputs": [
    {
     "data": {
      "text/plain": [
       "'Even'"
      ]
     },
     "execution_count": 10,
     "metadata": {},
     "output_type": "execute_result"
    }
   ],
   "source": [
    "even_check(230)"
   ]
  },
  {
   "cell_type": "code",
   "execution_count": 23,
   "id": "0c66ebcc",
   "metadata": {},
   "outputs": [
    {
     "name": "stdout",
     "output_type": "stream",
     "text": [
      "Give a number23\n"
     ]
    }
   ],
   "source": [
    "n = int(input(\"Give a number\"))"
   ]
  },
  {
   "cell_type": "code",
   "execution_count": 24,
   "id": "8a7acbe4",
   "metadata": {},
   "outputs": [
    {
     "data": {
      "text/plain": [
       "'Odd'"
      ]
     },
     "execution_count": 24,
     "metadata": {},
     "output_type": "execute_result"
    }
   ],
   "source": [
    "is_even(n)"
   ]
  },
  {
   "cell_type": "code",
   "execution_count": null,
   "id": "abf7f1bc",
   "metadata": {},
   "outputs": [],
   "source": []
  },
  {
   "cell_type": "code",
   "execution_count": null,
   "id": "be1d3489",
   "metadata": {},
   "outputs": [],
   "source": []
  },
  {
   "cell_type": "code",
   "execution_count": 3,
   "id": "8a51d349",
   "metadata": {},
   "outputs": [
    {
     "name": "stdout",
     "output_type": "stream",
     "text": [
      "1   Odd\n",
      "2   Even\n",
      "3   Odd\n",
      "4   Even\n",
      "5   Odd\n",
      "6   Even\n",
      "7   Odd\n",
      "8   Even\n",
      "9   Odd\n",
      "10   Even\n"
     ]
    }
   ],
   "source": [
    "def is_odd(number):\n",
    "    \"\"\" This func tells whether given number is even or odd\n",
    "    INPUT - any valid integer\n",
    "    Output: even/odd\n",
    "    CREATED BY: ADam\n",
    "    Time: 5:20 PM IST\n",
    "    This all is optional\n",
    "    \"\"\"\n",
    "    if(type(number) == int):\n",
    "        if number%2!=0:\n",
    "            return \"Odd\"\n",
    "        else:\n",
    "            return \"Even\"\n",
    "    else:\n",
    "        return \"Not a valid integer\"\n",
    "\n",
    "\n",
    "\n",
    "for i in range(1,11):\n",
    "    print(i, \" \", is_even(i))"
   ]
  },
  {
   "cell_type": "code",
   "execution_count": 28,
   "id": "5d187795",
   "metadata": {},
   "outputs": [
    {
     "name": "stdout",
     "output_type": "stream",
     "text": [
      "Odd\n"
     ]
    }
   ],
   "source": [
    "x = is_even(45)\n",
    "print(x)"
   ]
  },
  {
   "cell_type": "code",
   "execution_count": 11,
   "id": "0a6289de",
   "metadata": {},
   "outputs": [
    {
     "name": "stdout",
     "output_type": "stream",
     "text": [
      "1 Odd\n",
      "2 Even\n",
      "3 Odd\n",
      "4 Even\n",
      "5 Odd\n",
      "6 Even\n",
      "7 Odd\n",
      "8 Even\n",
      "9 Odd\n",
      "10 Even\n"
     ]
    }
   ],
   "source": [
    "# designate all numbers as even/odd from 1 to 10\n",
    "for i in range(1,11):\n",
    "    print(i, is_even(i))"
   ]
  },
  {
   "cell_type": "code",
   "execution_count": 16,
   "id": "c350266b",
   "metadata": {},
   "outputs": [
    {
     "name": "stdout",
     "output_type": "stream",
     "text": [
      "[91, 92, 93, 94, 95, 96, 97, 98, 99]\n"
     ]
    }
   ],
   "source": [
    "print(list(range(91,100)))"
   ]
  },
  {
   "cell_type": "code",
   "execution_count": null,
   "id": "21ac305f",
   "metadata": {},
   "outputs": [],
   "source": [
    "# print all even numbers from 1 to 100"
   ]
  },
  {
   "cell_type": "markdown",
   "id": "0d53f8b2",
   "metadata": {},
   "source": [
    "# Imp: The function which doesnot have return statement, returns None"
   ]
  },
  {
   "cell_type": "code",
   "execution_count": 7,
   "id": "0806bae2",
   "metadata": {},
   "outputs": [],
   "source": [
    "def print_message(name, age):\n",
    "    #name = input(\"Enter your name\")\n",
    "    print(\"Welcome,\", name, \"I know your age is\", age)"
   ]
  },
  {
   "cell_type": "code",
   "execution_count": 10,
   "id": "a6b81f88",
   "metadata": {},
   "outputs": [
    {
     "name": "stdout",
     "output_type": "stream",
     "text": [
      "Welcome, Victory I know your age is 25\n"
     ]
    }
   ],
   "source": [
    "print_message(\"Victory\", 25)"
   ]
  },
  {
   "cell_type": "code",
   "execution_count": null,
   "id": "a0f4bde4",
   "metadata": {},
   "outputs": [],
   "source": []
  },
  {
   "cell_type": "code",
   "execution_count": null,
   "id": "278eae5c",
   "metadata": {},
   "outputs": [],
   "source": []
  },
  {
   "cell_type": "code",
   "execution_count": 4,
   "id": "30654995",
   "metadata": {},
   "outputs": [
    {
     "name": "stdout",
     "output_type": "stream",
     "text": [
      " This func tells whether given number is even or odd\n",
      "    INPUT - any valid integer\n",
      "    Output: even/odd\n",
      "    CREATED BY: ADam\n",
      "    Time: 5:20 PM IST\n",
      "    This all is optional\n",
      "    \n",
      "Prints the values to a stream, or to sys.stdout by default.\n",
      "\n",
      "  sep\n",
      "    string inserted between values, default a space.\n",
      "  end\n",
      "    string appended after the last value, default a newline.\n",
      "  file\n",
      "    a file-like object (stream); defaults to the current sys.stdout.\n",
      "  flush\n",
      "    whether to forcibly flush the stream.\n",
      "type(object) -> the object's type\n",
      "type(name, bases, dict, **kwds) -> a new type\n"
     ]
    }
   ],
   "source": [
    "\n",
    "\n",
    "# to get its documentation\n",
    "print(is_even.__doc__)\n",
    "print(print.__doc__)\n",
    "print(type.__doc__)\n"
   ]
  },
  {
   "cell_type": "markdown",
   "id": "5c9a09f8",
   "metadata": {},
   "source": [
    "### Parameters vs Arguments - slides"
   ]
  },
  {
   "cell_type": "code",
   "execution_count": null,
   "id": "f58c0b48",
   "metadata": {},
   "outputs": [],
   "source": []
  },
  {
   "cell_type": "code",
   "execution_count": 31,
   "id": "f73a2815",
   "metadata": {},
   "outputs": [
    {
     "ename": "TypeError",
     "evalue": "power() missing 1 required positional argument: 'b'",
     "output_type": "error",
     "traceback": [
      "\u001b[1;31m---------------------------------------------------------------------------\u001b[0m",
      "\u001b[1;31mTypeError\u001b[0m                                 Traceback (most recent call last)",
      "Cell \u001b[1;32mIn[31], line 8\u001b[0m\n\u001b[0;32m      5\u001b[0m     \u001b[38;5;28;01mreturn\u001b[39;00m a\u001b[38;5;241m*\u001b[39m\u001b[38;5;241m*\u001b[39mb\n\u001b[0;32m      7\u001b[0m power(\u001b[38;5;241m3\u001b[39m,\u001b[38;5;241m2\u001b[39m)\n\u001b[1;32m----> 8\u001b[0m power(\u001b[38;5;241m2\u001b[39m)\n",
      "\u001b[1;31mTypeError\u001b[0m: power() missing 1 required positional argument: 'b'"
     ]
    }
   ],
   "source": [
    "# types of arguments\n",
    "\n",
    "# default argument\n",
    "def power(a,b):\n",
    "    return a**b\n",
    "\n",
    "power(3,2)\n",
    "power(2) # error as it is expecting 2 values - here comes default arguments"
   ]
  },
  {
   "cell_type": "code",
   "execution_count": 42,
   "id": "cb52b52c",
   "metadata": {},
   "outputs": [],
   "source": [
    "def power1(a=4, b= 3):\n",
    "    return a**b"
   ]
  },
  {
   "cell_type": "code",
   "execution_count": 43,
   "id": "8809217d",
   "metadata": {},
   "outputs": [
    {
     "data": {
      "text/plain": [
       "64"
      ]
     },
     "execution_count": 43,
     "metadata": {},
     "output_type": "execute_result"
    }
   ],
   "source": [
    "power1()"
   ]
  },
  {
   "cell_type": "code",
   "execution_count": 44,
   "id": "91453cb0",
   "metadata": {},
   "outputs": [
    {
     "data": {
      "text/plain": [
       "125"
      ]
     },
     "execution_count": 44,
     "metadata": {},
     "output_type": "execute_result"
    }
   ],
   "source": [
    "power1(5)"
   ]
  },
  {
   "cell_type": "code",
   "execution_count": 46,
   "id": "be1b54ff",
   "metadata": {},
   "outputs": [
    {
     "data": {
      "text/plain": [
       "8"
      ]
     },
     "execution_count": 46,
     "metadata": {},
     "output_type": "execute_result"
    }
   ],
   "source": [
    "power1(2,3)"
   ]
  },
  {
   "cell_type": "code",
   "execution_count": 47,
   "id": "be2da185",
   "metadata": {},
   "outputs": [
    {
     "data": {
      "text/plain": [
       "27"
      ]
     },
     "execution_count": 47,
     "metadata": {},
     "output_type": "execute_result"
    }
   ],
   "source": [
    "power1(3)  # it by default takes b=3 when we don't give it (only 1 argument is given which will be taken for a and b by defauly will be considered 3)"
   ]
  },
  {
   "cell_type": "code",
   "execution_count": null,
   "id": "9ea17121",
   "metadata": {},
   "outputs": [],
   "source": []
  },
  {
   "cell_type": "code",
   "execution_count": null,
   "id": "bec4e4ad",
   "metadata": {},
   "outputs": [],
   "source": []
  },
  {
   "cell_type": "code",
   "execution_count": 41,
   "id": "0b918770",
   "metadata": {},
   "outputs": [
    {
     "data": {
      "text/plain": [
       "9"
      ]
     },
     "execution_count": 41,
     "metadata": {},
     "output_type": "execute_result"
    }
   ],
   "source": [
    "# Positional Argument\n",
    "power1(2,3) # argument given in order is sequentially assigned to parameters"
   ]
  },
  {
   "cell_type": "code",
   "execution_count": null,
   "id": "c9d7c719",
   "metadata": {},
   "outputs": [],
   "source": []
  },
  {
   "cell_type": "markdown",
   "id": "9930c8ed",
   "metadata": {},
   "source": [
    "\n",
    "### keyword arguments overwrite positional arguments - \n",
    "### basically used when we don't remember position of parameters - we give the value of useful parameters explicitly"
   ]
  },
  {
   "cell_type": "code",
   "execution_count": 50,
   "id": "df95629a",
   "metadata": {},
   "outputs": [
    {
     "data": {
      "text/plain": [
       "1024"
      ]
     },
     "execution_count": 50,
     "metadata": {},
     "output_type": "execute_result"
    }
   ],
   "source": [
    "# keyword arguments\n",
    "power1(b=5, a=4) # if we give value ourself explicitly - it will be assigned as it is"
   ]
  },
  {
   "cell_type": "code",
   "execution_count": null,
   "id": "fc7bff2d",
   "metadata": {},
   "outputs": [],
   "source": []
  },
  {
   "cell_type": "code",
   "execution_count": null,
   "id": "cb6459af",
   "metadata": {},
   "outputs": [],
   "source": []
  },
  {
   "cell_type": "code",
   "execution_count": 52,
   "id": "0a5a914e",
   "metadata": {},
   "outputs": [
    {
     "name": "stdout",
     "output_type": "stream",
     "text": [
      "akshat Tunde\n"
     ]
    }
   ],
   "source": [
    "print(\"akshat\", \"Tunde\")"
   ]
  },
  {
   "cell_type": "code",
   "execution_count": 56,
   "id": "8c623d97",
   "metadata": {},
   "outputs": [
    {
     "name": "stdout",
     "output_type": "stream",
     "text": [
      "10\n"
     ]
    }
   ],
   "source": [
    "\n",
    "#arbitrary arguments - which are flexible for number of arguments given - as much as much we want to give \n",
    "# e.g print function\n",
    "\n",
    "def func(*num):# * means Python interpreter understands that this function can have multiple inputs as arguments\n",
    "    \"\"\" It will take in as much arguments as we want and give the product of them\"\"\"\n",
    "    product = 1\n",
    "    for i in num:\n",
    "        product = product*i\n",
    "    print(product)\n",
    "\n",
    "func(2,5)"
   ]
  },
  {
   "cell_type": "code",
   "execution_count": 57,
   "id": "24dadb18",
   "metadata": {},
   "outputs": [
    {
     "name": "stdout",
     "output_type": "stream",
     "text": [
      "48\n"
     ]
    }
   ],
   "source": [
    "func(1,2,4,6)"
   ]
  },
  {
   "cell_type": "code",
   "execution_count": 58,
   "id": "cbca5025",
   "metadata": {},
   "outputs": [
    {
     "name": "stdout",
     "output_type": "stream",
     "text": [
      "720\n"
     ]
    }
   ],
   "source": [
    "func(1,2,3,4,5,6)"
   ]
  },
  {
   "cell_type": "code",
   "execution_count": null,
   "id": "80354d58",
   "metadata": {},
   "outputs": [],
   "source": []
  },
  {
   "cell_type": "markdown",
   "id": "586801cf",
   "metadata": {},
   "source": [
    "## Global vs Local Variables\n"
   ]
  },
  {
   "cell_type": "code",
   "execution_count": null,
   "id": "55e13c21",
   "metadata": {},
   "outputs": [],
   "source": [
    "# global variable vs Local variable\n",
    "def f(y):\n",
    "    x=1\n",
    "    x+=1\n",
    "    print(x)\n",
    "x=5\n",
    "print(x)\n",
    "f(x)\n",
    "print(x)\n",
    "\n",
    "'''\n",
    "Let's analyze the code step by step:\n",
    "\n",
    "1. `x = 5`: The variable `x` is assigned the value 5. - line 102 \n",
    "\n",
    "2. `print(x)`: This will output `5` to the console.\n",
    "\n",
    "3. `f(x)`: This calls the function `f` with `x` as an argument.\n",
    "\n",
    "Now, let's look at the function `f(y)`:\n",
    "\n",
    "1. `x = 1`: The local variable `x` is assigned the value 1 within the function `f`.\n",
    "\n",
    "2. `x += 1`: The value of `x` is incremented by 1, so `x` becomes 2.\n",
    "\n",
    "3. `print(x)`: This will output `2` to the console.\n",
    "\n",
    "After the function `f(y)` has been called, we have:\n",
    "\n",
    "4. `print(x)`: This will output `5` to the console again. The function `f(y)` did not modify the variable `x`, \n",
    "as it only works with its local `x` variable inside the function.\n",
    "\n",
    "5. `print(x)`: This will output `5` to the console once again, as there have been no changes to the variable `x` since the \n",
    "previous `print(x)` statement.\n",
    "\n",
    "To summarize:\n",
    "- The initial value of `x` is `5`, and it remains unchanged throughout the execution.\n",
    "- The function `f(y)` takes a parameter `y`, but it's not used in the function. Instead, it uses its local variable `x`.\n",
    "- The function `f(y)` increments its local `x` and prints it, but it doesn't modify the variable `x` defined outside the function.\n",
    "- The value of `x` remains `5` after calling the function `f(y)`.\n",
    "'''"
   ]
  },
  {
   "cell_type": "code",
   "execution_count": null,
   "id": "d230aed4",
   "metadata": {},
   "outputs": [],
   "source": []
  },
  {
   "cell_type": "code",
   "execution_count": null,
   "id": "83d7bbc9",
   "metadata": {},
   "outputs": [],
   "source": []
  },
  {
   "cell_type": "code",
   "execution_count": 5,
   "id": "9f48abf6",
   "metadata": {},
   "outputs": [
    {
     "name": "stdout",
     "output_type": "stream",
     "text": [
      "5\n"
     ]
    },
    {
     "ename": "UnboundLocalError",
     "evalue": "cannot access local variable 'x' where it is not associated with a value",
     "output_type": "error",
     "traceback": [
      "\u001b[1;31m---------------------------------------------------------------------------\u001b[0m",
      "\u001b[1;31mUnboundLocalError\u001b[0m                         Traceback (most recent call last)",
      "Cell \u001b[1;32mIn[5], line 9\u001b[0m\n\u001b[0;32m      7\u001b[0m x\u001b[38;5;241m=\u001b[39m\u001b[38;5;241m5\u001b[39m\n\u001b[0;32m      8\u001b[0m \u001b[38;5;28mprint\u001b[39m(x)\n\u001b[1;32m----> 9\u001b[0m g(x)\n\u001b[0;32m     10\u001b[0m \u001b[38;5;28mprint\u001b[39m(x)\n",
      "Cell \u001b[1;32mIn[5], line 4\u001b[0m, in \u001b[0;36mg\u001b[1;34m(y)\u001b[0m\n\u001b[0;32m      3\u001b[0m \u001b[38;5;28;01mdef\u001b[39;00m \u001b[38;5;21mg\u001b[39m(y):\n\u001b[1;32m----> 4\u001b[0m     \u001b[38;5;28mprint\u001b[39m(x)\n\u001b[0;32m      5\u001b[0m     x\u001b[38;5;241m=\u001b[39mx\u001b[38;5;241m+\u001b[39m\u001b[38;5;241m1\u001b[39m\n\u001b[0;32m      6\u001b[0m     \u001b[38;5;28mprint\u001b[39m(x)\n",
      "\u001b[1;31mUnboundLocalError\u001b[0m: cannot access local variable 'x' where it is not associated with a value"
     ]
    }
   ],
   "source": [
    "# e.g 2\n",
    "\n",
    "def g(y):\n",
    "    print(x)\n",
    "    x=x+1\n",
    "    print(x)\n",
    "x=5\n",
    "print(x)\n",
    "g(x)\n",
    "print(x)\n"
   ]
  },
  {
   "cell_type": "code",
   "execution_count": null,
   "id": "6461a111",
   "metadata": {},
   "outputs": [],
   "source": [
    "\n",
    "'''\n",
    "The code above will raise an `UnboundLocalError`. Let's understand why:\n",
    "\n",
    "In the function `g(y)`, the variable `x` is used before it's assigned a value inside the function scope. \n",
    "This creates a scope issue with variable resolution. When Python encounters a variable in a function, \n",
    "it first looks for it in the local function scope, and only then, if not found, it looks in the global scope.\n",
    "\n",
    "Let's analyze the code step by step:\n",
    "\n",
    "1. `x = 5`: The variable `x` is assigned the value 5 in the global scope.\n",
    "\n",
    "2. `g(x)`: This calls the function `g` with `x` as an argument.\n",
    "\n",
    "Now, let's look at the function `g(y)`:\n",
    "\n",
    "1. `print(x)`: This line will raise an `UnboundLocalError`. Python tries to print the value of the local variable `x` \n",
    "within the function, but it hasn't been assigned a value yet, so it's considered \"unbound\" in this context.\n",
    "\n",
    "2. `x = x + 1`: This line will not be executed due to the error in the previous line.\n",
    "\n",
    "3. Since an error occurred, the function `g(y)` terminates.\n",
    "\n",
    "After calling the function `g(y)`, the program continues:\n",
    "\n",
    "4. `print(x)`: This will output `5` to the console. The global variable `x` was not modified by the function call.\n",
    "\n",
    "So, the output of the code will be:\n",
    "\n",
    "```\n",
    "UnboundLocalError: local variable 'x' referenced before assignment\n",
    "5\n",
    "```\n",
    "\n",
    "To fix this issue, we need to explicitly declare `x` as a global variable within the function `g(y)` using the `global` keyword.\n",
    "\n",
    "def g(y):\n",
    "    global x\n",
    "    print(x)\n",
    "    x = x + 1\n",
    "    print(x)\n",
    "\n",
    "x = 5\n",
    "g(x)\n",
    "print(x)\n",
    "```\n",
    "\n",
    "With this correction, the output will be:\n",
    "\n",
    "```\n",
    "5\n",
    "6\n",
    "6\n",
    "```\n",
    "\n",
    "Now, the function `g(y)` uses the global variable `x`, increments it, and modifies its value. The final `print(x)` statement outside\n",
    "the function will show the updated value of `x`, which is `6`.\n",
    "'''"
   ]
  },
  {
   "cell_type": "code",
   "execution_count": null,
   "id": "df885ebd",
   "metadata": {},
   "outputs": [],
   "source": []
  },
  {
   "cell_type": "code",
   "execution_count": 6,
   "id": "96ba313b",
   "metadata": {},
   "outputs": [
    {
     "name": "stdout",
     "output_type": "stream",
     "text": [
      "5\n",
      "6\n",
      "5\n"
     ]
    },
    {
     "data": {
      "text/plain": [
       "\"\\nLet's analyze the code step by step:\\n\\nx = 5: The variable x is assigned the value 5 in the global scope.\\n\\ng(x): This calls the function g with x as an argument.\\n\\nNow, let's look at the function g(y):\\n\\nprint(x): This will output 5 to the console. The function g(y) accesses the global variable x, and its value is 5.\\n\\nprint(x + 1): This will output 6 to the console. It performs the calculation x + 1, where x is still 5, so the result is 6.\\n\\nAfter calling the function g(y), the program continues:\\n\\nprint(x): This will output 5 to the console again. The value of x in the global scope remains unchanged throughout the execution.\\n\""
      ]
     },
     "execution_count": 6,
     "metadata": {},
     "output_type": "execute_result"
    }
   ],
   "source": [
    "# e..g - 3\n",
    "\n",
    "def g(y):\n",
    "    print(x)\n",
    "    print(x+1)\n",
    "x=5\n",
    "g(x)\n",
    "print(x)\n",
    "\n",
    "'''\n",
    "Let's analyze the code step by step:\n",
    "\n",
    "x = 5: The variable x is assigned the value 5 in the global scope.\n",
    "\n",
    "g(x): This calls the function g with x as an argument.\n",
    "\n",
    "Now, let's look at the function g(y):\n",
    "\n",
    "print(x): This will output 5 to the console. The function g(y) accesses the global variable x, and its value is 5.\n",
    "\n",
    "print(x + 1): This will output 6 to the console. It performs the calculation x + 1, where x is still 5, so the result is 6.\n",
    "\n",
    "After calling the function g(y), the program continues:\n",
    "\n",
    "print(x): This will output 5 to the console again. The value of x in the global scope remains unchanged throughout the execution.\n",
    "'''"
   ]
  },
  {
   "cell_type": "code",
   "execution_count": null,
   "id": "41a75340",
   "metadata": {},
   "outputs": [],
   "source": []
  },
  {
   "cell_type": "code",
   "execution_count": null,
   "id": "847e8d50",
   "metadata": {},
   "outputs": [],
   "source": [
    "# =================================================================================================================\n",
    "# Imp Note:\n",
    "''''\n",
    "The main difference between the two codes provided is how they handle the variable `x` within the function `g(y)`.\n",
    "\n",
    "1. First Code:\n",
    "   def g(y):\n",
    "       print(x)\n",
    "       x = x + 1\n",
    "       print(x)\n",
    "   x = 5\n",
    "   g(x)\n",
    "   print(x)\n",
    "\n",
    "   Output:   UnboundLocalError: local variable 'x' referenced before assignment\n",
    "             5\n",
    "   In the first code, the function `g(y)` tries to access the variable `x` without declaring it as a global variable within the function\n",
    "   This results in an `UnboundLocalError` because Python treats `x` as a local variable within the function scope due to the assignment\n",
    "    (`x = x + 1`) inside the function. The local variable `x` is used before it's assigned a value, causing the error.\n",
    "\n",
    "   As a result, the function `g(y)` doesn't modify the global variable `x`, and its value remains unchanged at `5`. \n",
    "   The final `print(x)` statement outside the function will show the initial value of `x`.\n",
    "\n",
    "2. Second Code:\n",
    "   def g(y):\n",
    "       print(x)\n",
    "       print(x + 1)\n",
    "\n",
    "   x = 5\n",
    "   g(x)\n",
    "   print(x)\n",
    "\n",
    "      Output:\n",
    "   5\n",
    "   6\n",
    "   5\n",
    "   In the second code, the function `g(y)` doesn't attempt to modify the variable `x` or reassign it. \n",
    "   It simply accesses the global variable `x` and performs calculations based on its value. Since there is no assignment inside the \n",
    "   function, Python treats `x` as a global variable without any issues.\n",
    "\n",
    "   As a result, the function `g(y)` doesn't modify the global variable `x`, and its value remains unchanged at `5`. \n",
    "   The final `print(x)` statement outside the function will show the initial value of `x`.\n",
    "\n",
    "In summary, the first code has an error (`UnboundLocalError`) due to a local variable resolution issue inside the function, \n",
    "while the second code works correctly and accesses the global variable `x` without any issues. Both codes, however, do not modify \n",
    "the value of the global variable `x` within the function `g(y)`.\n",
    "'''\n"
   ]
  },
  {
   "cell_type": "code",
   "execution_count": null,
   "id": "6a33a0b3",
   "metadata": {},
   "outputs": [],
   "source": []
  },
  {
   "cell_type": "code",
   "execution_count": null,
   "id": "9934bfc2",
   "metadata": {},
   "outputs": [],
   "source": []
  },
  {
   "cell_type": "code",
   "execution_count": null,
   "id": "e1e124bb",
   "metadata": {},
   "outputs": [],
   "source": [
    "# e.g - 4\n",
    "\n",
    "def h(y):\n",
    "    x+=1  # function is trying to change the value of global variable - error -> Solution : global x\n",
    "x=5\n",
    "h(x)\n",
    "print(x)\n",
    "\n",
    "# Rules:\n",
    "# 1. Global variable - can be used by any local function.\n",
    "# 2. Local function can only use global variable, but not change it.\n",
    "\n",
    "def h(y):\n",
    "    global x\n",
    "    print(x)\n",
    "    x+=1 \n",
    "x=5\n",
    "print(x)\n",
    "h(x)\n",
    "print(x)"
   ]
  },
  {
   "cell_type": "code",
   "execution_count": null,
   "id": "67687719",
   "metadata": {},
   "outputs": [],
   "source": []
  },
  {
   "cell_type": "code",
   "execution_count": null,
   "id": "41e3e7b1",
   "metadata": {},
   "outputs": [],
   "source": []
  },
  {
   "cell_type": "code",
   "execution_count": null,
   "id": "774d022b",
   "metadata": {},
   "outputs": [],
   "source": [
    "# e.g 5\n",
    "# - observe the diff in 2 progarms below\n",
    "def f(x): # here x is defined in local scope -> so below line is trying to update local x only\n",
    "    x=x+1  # this will not change the actual value of x in global scope - just change for local scope\n",
    "    print('in f(x) : x = ', x) # updated value of x is printed.\n",
    "    return x\n",
    "x=3\n",
    "z=f(x)  # z will get the value which is returned from the function after execution\n",
    "print('in main program scope : z', z)\n",
    "print('in main program scope : x', x)\n",
    "# -------------------------------------------------------------------------------------------------------------------------\n",
    "def f(y): # error\n",
    "    x=x+1  # this will not change the actual value of x in global scope - just change for local scope\n",
    "    print('in f(x) : x = ', x) # updated value of x is printed.\n",
    "    return x\n",
    "x=3\n",
    "z=f(x)  # z will get the value which is returned from the function after execution\n",
    "print('in main program scope : z', z)\n",
    "print('in main program scope : x', x)"
   ]
  },
  {
   "cell_type": "code",
   "execution_count": null,
   "id": "9eda0f83",
   "metadata": {},
   "outputs": [],
   "source": []
  },
  {
   "cell_type": "code",
   "execution_count": 7,
   "id": "2289d41e",
   "metadata": {},
   "outputs": [
    {
     "name": "stdout",
     "output_type": "stream",
     "text": [
      "Inside f\n",
      "Inside g\n"
     ]
    },
    {
     "ename": "TypeError",
     "evalue": "g() missing 1 required positional argument: 'y'",
     "output_type": "error",
     "traceback": [
      "\u001b[1;31m---------------------------------------------------------------------------\u001b[0m",
      "\u001b[1;31mTypeError\u001b[0m                                 Traceback (most recent call last)",
      "Cell \u001b[1;32mIn[7], line 12\u001b[0m\n\u001b[0;32m      8\u001b[0m     g()\n\u001b[0;32m     10\u001b[0m f() \u001b[38;5;66;03m# first go to f() -> print(\"Inside f\") then skip 2 lines and go to call g() -> print(\"Inside g\")\u001b[39;00m\n\u001b[1;32m---> 12\u001b[0m g() \u001b[38;5;66;03m# calling only g() shows error as g() is hidden from main program - without f() it can't execute\u001b[39;00m\n\u001b[0;32m     15\u001b[0m \u001b[38;5;66;03m# Infinite loop - after a limited function call - it showed error - RAM consumption \u001b[39;00m\n\u001b[0;32m     16\u001b[0m \u001b[38;5;28;01mdef\u001b[39;00m \u001b[38;5;21mf\u001b[39m():\n",
      "\u001b[1;31mTypeError\u001b[0m: g() missing 1 required positional argument: 'y'"
     ]
    }
   ],
   "source": [
    "# Nested functions: \n",
    "\n",
    "def f():\n",
    "    print(\"Inside f\")\n",
    "\n",
    "    def g():\n",
    "        print(\"Inside g\")\n",
    "    g()\n",
    "\n",
    "f() # first go to f() -> print(\"Inside f\") then skip 2 lines and go to call g() -> print(\"Inside g\")\n",
    "\n",
    "g() # calling only g() shows error as g() is hidden from main program - without f() it can't execute\n",
    "\n",
    "\n",
    "# Infinite loop - after a limited function call - it showed error - RAM consumption \n",
    "def f():\n",
    "    print(\"Inside f\")\n",
    "\n",
    "    def g():\n",
    "        print(\"Inside g\")\n",
    "        f()\n",
    "    g()\n",
    "\n",
    "f()\n"
   ]
  },
  {
   "cell_type": "code",
   "execution_count": null,
   "id": "60f76631",
   "metadata": {},
   "outputs": [],
   "source": []
  },
  {
   "cell_type": "code",
   "execution_count": 8,
   "id": "09b5d357",
   "metadata": {},
   "outputs": [
    {
     "name": "stdout",
     "output_type": "stream",
     "text": [
      "in g(x) : x =  4\n",
      "3\n",
      "4\n",
      "in g(x) : x 4\n",
      "in h(x) : x 5\n",
      "in main program scope : x =  3\n",
      "in main program scope : z =  4\n"
     ]
    }
   ],
   "source": [
    "# e.g - \n",
    "def g(x):\n",
    "    def h():\n",
    "        x='abc'\n",
    "    x=x+1\n",
    "    print('in g(x) : x = ', x)\n",
    "    h()\n",
    "    return x  # here x = 4\n",
    "x=3\n",
    "z=g(x)\n",
    "print(x) # global value of x doesn't change\n",
    "print(z) # it will print 4 as returned form the function g(x)\n",
    "\n",
    "# e.g - \n",
    "def g(x):\n",
    "    def h(x):\n",
    "        x=x+1\n",
    "        print(\"in h(x) : x\", x)\n",
    "    x = x+1\n",
    "    print(\"in g(x) : x\", x)\n",
    "    h(x)\n",
    "    return x\n",
    "\n",
    "x=3\n",
    "z=g(x)\n",
    "print(\"in main program scope : x = \", x)\n",
    "print(\"in main program scope : z = \", z)"
   ]
  },
  {
   "cell_type": "code",
   "execution_count": null,
   "id": "22235809",
   "metadata": {},
   "outputs": [],
   "source": []
  },
  {
   "cell_type": "code",
   "execution_count": null,
   "id": "0c61f63d",
   "metadata": {},
   "outputs": [],
   "source": []
  },
  {
   "cell_type": "markdown",
   "id": "0e262ba7",
   "metadata": {},
   "source": [
    "### Everything in Python is an object - Function too"
   ]
  },
  {
   "cell_type": "code",
   "execution_count": null,
   "id": "43867a48",
   "metadata": {},
   "outputs": [],
   "source": [
    "\n",
    "\n",
    "def f(n):\n",
    "    return n**2\n",
    "\n",
    "f(5)\n",
    "type(f)\n",
    "x=f  # now x will be same as f - it'll work exactly like f\n",
    "x(2)\n",
    "x(6)\n",
    "f(6)\n",
    "\n",
    "del f # deletes the func f\n",
    "type(x)\n",
    "x(5)\n",
    "\n",
    "# we can store this x (function object) as an element in list\n",
    "L=[1,2,3,4]\n",
    "l=[1,2,3,x]\n",
    "l # see x is stored as a function in this list with given mwmory address -\n",
    "# we can even use it as a function\n",
    "l[-1]\n",
    "l[-1](6)\n",
    "\n",
    "m = [1,2,4, x(5), 7, x(9)]\n",
    "m\n"
   ]
  },
  {
   "cell_type": "code",
   "execution_count": 9,
   "id": "0d665e2b",
   "metadata": {},
   "outputs": [
    {
     "name": "stdout",
     "output_type": "stream",
     "text": [
      "inside func_b\n",
      "inside func_a\n",
      "None\n"
     ]
    }
   ],
   "source": [
    "# ========================================================================================================================\n",
    "\"\"\"\n",
    "A lot more can be done with Python functions -n\n",
    "Renaming a func\n",
    "Deleting a func\n",
    "Storing a func\n",
    "Returning a func\n",
    "Functions as argument in other function - see below example\n",
    "\"\"\"\n",
    "\n",
    "def func_a():\n",
    "    print(\"inside func_a\")\n",
    "def func_b(z):\n",
    "    print(\"inside func_b\")\n",
    "    return z()\n",
    "\n",
    "print(func_b(func_a))\n"
   ]
  },
  {
   "cell_type": "code",
   "execution_count": null,
   "id": "5ffe3216",
   "metadata": {},
   "outputs": [],
   "source": []
  },
  {
   "cell_type": "code",
   "execution_count": 10,
   "id": "f6c78d7f",
   "metadata": {},
   "outputs": [
    {
     "name": "stdout",
     "output_type": "stream",
     "text": [
      "Adam MIKE\n",
      "Mike\n"
     ]
    },
    {
     "ename": "TypeError",
     "evalue": "unsupported operand type(s) for +: 'NoneType' and 'str'",
     "output_type": "error",
     "traceback": [
      "\u001b[1;31m---------------------------------------------------------------------------\u001b[0m",
      "\u001b[1;31mTypeError\u001b[0m                                 Traceback (most recent call last)",
      "Cell \u001b[1;32mIn[10], line 10\u001b[0m\n\u001b[0;32m      7\u001b[0m     \u001b[38;5;28mprint\u001b[39m(\u001b[38;5;124m\"\u001b[39m\u001b[38;5;124mMike\u001b[39m\u001b[38;5;124m\"\u001b[39m)  \u001b[38;5;66;03m# it returns None Type\u001b[39;00m\n\u001b[0;32m      9\u001b[0m \u001b[38;5;28mprint\u001b[39m(func1() \u001b[38;5;241m+\u001b[39m \u001b[38;5;124m\"\u001b[39m\u001b[38;5;124m MIKE\u001b[39m\u001b[38;5;124m\"\u001b[39m) \n\u001b[1;32m---> 10\u001b[0m \u001b[38;5;28mprint\u001b[39m(func2() \u001b[38;5;241m+\u001b[39m \u001b[38;5;124m\"\u001b[39m\u001b[38;5;124mADAM\u001b[39m\u001b[38;5;124m\"\u001b[39m)\n",
      "\u001b[1;31mTypeError\u001b[0m: unsupported operand type(s) for +: 'NoneType' and 'str'"
     ]
    }
   ],
   "source": [
    "# Quick exercise: What is the O/P of this code snippet?\n",
    "\n",
    "def func1():\n",
    "    return \"Adam\"  # it return string type\n",
    "\n",
    "def func2():\n",
    "    print(\"Mike\")  # it returns None Type\n",
    "\n",
    "print(func1() + \" MIKE\") \n",
    "print(func2() + \"ADAM\") \n",
    "\n",
    "\n",
    "#print(func1() + \" Adam\")  # it works fine as output of func1() is a string and strings can be concatenated\n",
    "# print(func2() + \"Mike\")  # shows error as func2() returns None Type which can't be concatenated to string"
   ]
  },
  {
   "cell_type": "code",
   "execution_count": null,
   "id": "04964e71",
   "metadata": {},
   "outputs": [],
   "source": []
  },
  {
   "cell_type": "code",
   "execution_count": null,
   "id": "dcfadc6a",
   "metadata": {},
   "outputs": [],
   "source": []
  },
  {
   "cell_type": "markdown",
   "id": "cde341fc",
   "metadata": {},
   "source": [
    "# LAMBDA FUNCTION"
   ]
  },
  {
   "cell_type": "code",
   "execution_count": 13,
   "id": "df1925f6",
   "metadata": {},
   "outputs": [
    {
     "data": {
      "text/plain": [
       "\"\\nProperties:\\none liner -- written in one line only\\n\\nanonymous function - they don't have any name\\n\\n- Lambda functions has no return value\\n\\nSyntax - lambda(keyword) x(input) : expression\\n\\n-- it is not created for code reusability\\n\""
      ]
     },
     "execution_count": 13,
     "metadata": {},
     "output_type": "execute_result"
    }
   ],
   "source": [
    "'''\n",
    "Properties:\n",
    "one liner -- written in one line only\n",
    "\n",
    "anonymous function - they don't have any name\n",
    "\n",
    "- Lambda functions has no return value\n",
    "\n",
    "Syntax - lambda(keyword) x(input) : expression\n",
    "\n",
    "-- it is not created for code reusability\n",
    "'''\n"
   ]
  },
  {
   "cell_type": "code",
   "execution_count": null,
   "id": "c1b6ce53",
   "metadata": {},
   "outputs": [],
   "source": []
  },
  {
   "cell_type": "markdown",
   "id": "fb05aeae",
   "metadata": {},
   "source": [
    "### a function to calc square of a number"
   ]
  },
  {
   "cell_type": "code",
   "execution_count": null,
   "id": "abf83d7a",
   "metadata": {},
   "outputs": [],
   "source": [
    "def square(x):\n",
    "    return x**2\n",
    "\n",
    "square(9)\n",
    "\n",
    "pow(9,2)\n",
    "print(9**2)"
   ]
  },
  {
   "cell_type": "markdown",
   "id": "186f2b3e",
   "metadata": {},
   "source": [
    "### same using lambda function"
   ]
  },
  {
   "cell_type": "code",
   "execution_count": null,
   "id": "262811bf",
   "metadata": {},
   "outputs": [],
   "source": [
    "y = lambda x : x**2\n",
    "y(9)"
   ]
  },
  {
   "cell_type": "code",
   "execution_count": null,
   "id": "e4002b2a",
   "metadata": {},
   "outputs": [],
   "source": [
    "# sum of 2 integers\n",
    "a = lambda x,y : x+y\n",
    "a(4,5)"
   ]
  },
  {
   "cell_type": "code",
   "execution_count": null,
   "id": "e0d5b04b",
   "metadata": {},
   "outputs": [],
   "source": [
    "# to check whether first letter of given string is a or not?\n",
    "b = lambda x : x[0] == 'a'\n",
    "b('apple')\n",
    "b('banana')"
   ]
  },
  {
   "cell_type": "code",
   "execution_count": 14,
   "id": "a6b33ed1",
   "metadata": {},
   "outputs": [
    {
     "data": {
      "text/plain": [
       "'even'"
      ]
     },
     "execution_count": 14,
     "metadata": {},
     "output_type": "execute_result"
    }
   ],
   "source": [
    "b = lambda x :\"even\" if x%2==0 else \"odd\"\n",
    "b(67)\n",
    "b(76)"
   ]
  },
  {
   "cell_type": "code",
   "execution_count": null,
   "id": "f9a61938",
   "metadata": {},
   "outputs": [],
   "source": []
  },
  {
   "cell_type": "markdown",
   "id": "3b2156e2",
   "metadata": {},
   "source": [
    "## Lambda functions are used with HUF (higher order functions)\n",
    "\n",
    "### Inbuilt HUF- map, reduce, filter\n"
   ]
  },
  {
   "cell_type": "code",
   "execution_count": null,
   "id": "ebe0342c",
   "metadata": {},
   "outputs": [],
   "source": [
    "# Higher order function- func which needs another func as input to complete it's task\n",
    "\n",
    "# we give input to it and also tell what to do - basically we control the behaviour of this function\n",
    "\n",
    "# In normal functions, it basically does only 1 type of task\n",
    "\n",
    "L = [11,12,14,12,21,42,65,876,35]\n",
    "# find sum of all even numbers\n",
    "# find sum of all odd numbers\n",
    "# find sum of all numbers divisible by 3"
   ]
  },
  {
   "cell_type": "code",
   "execution_count": null,
   "id": "1e04dd14",
   "metadata": {},
   "outputs": [],
   "source": [
    "\n",
    "\n",
    "def return_sum(func, L):\n",
    "    result = 0\n",
    "    for i in L:\n",
    "        if func(i):\n",
    "            result = result+i\n",
    "    return result\n",
    "\n",
    "x = lambda x : x%2 == 0\n",
    "y = lambda x : x%2 != 0\n",
    "z = lambda x : x%3 == 0\n",
    "print(return_sum(x,L))\n",
    "print(return_sum(y,L))\n",
    "print(return_sum(z,L))\n",
    "\n",
    "\n",
    "\n",
    "\n",
    "\n",
    "\n",
    "\n"
   ]
  },
  {
   "cell_type": "code",
   "execution_count": null,
   "id": "8b949227",
   "metadata": {},
   "outputs": [],
   "source": []
  },
  {
   "cell_type": "code",
   "execution_count": null,
   "id": "04b0cc14",
   "metadata": {},
   "outputs": [],
   "source": []
  },
  {
   "cell_type": "code",
   "execution_count": null,
   "id": "0fd4ef48",
   "metadata": {},
   "outputs": [],
   "source": [
    "# e.g -\n",
    "L = [1,2,3,4,5,6,7,8]\n",
    "map(lambda x : x*3 , L) # returns a map object\n",
    "list(map(lambda x : x*3 , L))\n",
    "\n",
    "list(map(lambda x : x%2 == 0 , L))\n",
    "\n"
   ]
  },
  {
   "cell_type": "code",
   "execution_count": null,
   "id": "cb8daf57",
   "metadata": {},
   "outputs": [],
   "source": [
    "# E.g - map()\n",
    "# fetch student names from given list of dictionaries\n",
    "students = [\n",
    "{\n",
    "    \"name\" : \"Adam\",\n",
    "    \"gender\"  : \"Male\"\n",
    "},\n",
    "{\n",
    "    \"name\"  :\"Eve\",\n",
    "    \"gender\" : \"Female\"\n",
    "}\n",
    "]\n",
    "list(map(lambda x : x['name'] , students))\n",
    "\n"
   ]
  },
  {
   "cell_type": "code",
   "execution_count": null,
   "id": "5185338b",
   "metadata": {},
   "outputs": [],
   "source": []
  },
  {
   "cell_type": "code",
   "execution_count": null,
   "id": "66e5e434",
   "metadata": {},
   "outputs": [],
   "source": [
    "\n",
    "# filter function: work acc to given condition\n",
    "l = [1,2,3,4,6,7,8,9,6,4,32,432,42]\n",
    "# find all numbers from list greater than 4\n",
    "list(filter(lambda x : x>4 , l))\n"
   ]
  },
  {
   "cell_type": "code",
   "execution_count": null,
   "id": "f715ecc3",
   "metadata": {},
   "outputs": [],
   "source": [
    "\n",
    "fruits = ['apple', 'orange', 'mango', 'guava']\n",
    "# find fruits whose name contain \"e\"\n",
    "list(filter(lambda x : \"e\" in x , fruits))\n"
   ]
  },
  {
   "cell_type": "code",
   "execution_count": 19,
   "id": "8927aec7",
   "metadata": {},
   "outputs": [
    {
     "data": {
      "text/plain": [
       "'\\n# Quick exercise: \\nWrite a lambda function that takes a list of strings as input and returns a list of strings with their first letter capitalized.\\n\\ncapitalize_first_letter = lambda strings: list(map(lambda s: s.capitalize(), strings))\\n\\n# Test the lambda function\\nwords = [\"apple\", \"banana\", \"cherry\", \"date\"]\\nresult = capitalize_first_letter(words)\\nprint(result)  # Output: [\\'Apple\\', \\'Banana\\', \\'Cherry\\', \\'Date\\']\\n\\n'"
      ]
     },
     "execution_count": 19,
     "metadata": {},
     "output_type": "execute_result"
    }
   ],
   "source": [
    "\n",
    "\"\"\"\n",
    "# Quick exercise: \n",
    "Write a lambda function that takes a list of strings as input and returns a list of strings with their first letter capitalized.\n",
    "\n",
    "capitalize_first_letter = lambda strings: list(map(lambda s: s.capitalize(), strings))\n",
    "\n",
    "# Test the lambda function\n",
    "words = [\"apple\", \"banana\", \"cherry\", \"date\"]\n",
    "result = capitalize_first_letter(words)\n",
    "print(result)  # Output: ['Apple', 'Banana', 'Cherry', 'Date']\n",
    "\n",
    "\"\"\""
   ]
  },
  {
   "cell_type": "code",
   "execution_count": null,
   "id": "619236a4",
   "metadata": {},
   "outputs": [],
   "source": []
  },
  {
   "cell_type": "code",
   "execution_count": 18,
   "id": "07418cc6",
   "metadata": {},
   "outputs": [
    {
     "name": "stdout",
     "output_type": "stream",
     "text": [
      "['Apple', 'Banana', 'Cherry', 'Date']\n"
     ]
    }
   ],
   "source": [
    "# lambda function to capitalixe the first letter of the given words\n",
    "\n",
    "capitalize_first_letter = lambda strings: list(map(lambda s: s.capitalize(), strings))\n",
    "\n",
    "words = [\"apple\", \"banana\", \"cherry\", \"date\"]\n",
    "list(map(lambda s: s.capitalize(), words))\n",
    "# Test the lambda function\n",
    "result = capitalize_first_letter(words)\n",
    "print(result)  # Output: ['Apple', 'Banana', 'Cherry', 'Date']\n"
   ]
  },
  {
   "cell_type": "code",
   "execution_count": 16,
   "id": "08c3e51f",
   "metadata": {},
   "outputs": [
    {
     "data": {
      "text/plain": [
       "['Orange']"
      ]
     },
     "execution_count": 16,
     "metadata": {},
     "output_type": "execute_result"
    }
   ],
   "source": [
    "# to return strings from the list which starts with 'O'\n",
    "\n",
    "fruits = ['Orange', 'Apple', 'Guava', 'Mango']\n",
    "[fruit for fruit in fruits if fruit[0] == 'O']"
   ]
  },
  {
   "cell_type": "code",
   "execution_count": null,
   "id": "14838353",
   "metadata": {},
   "outputs": [],
   "source": []
  }
 ],
 "metadata": {
  "kernelspec": {
   "display_name": "Python 3 (ipykernel)",
   "language": "python",
   "name": "python3"
  },
  "language_info": {
   "codemirror_mode": {
    "name": "ipython",
    "version": 3
   },
   "file_extension": ".py",
   "mimetype": "text/x-python",
   "name": "python",
   "nbconvert_exporter": "python",
   "pygments_lexer": "ipython3",
   "version": "3.11.5"
  }
 },
 "nbformat": 4,
 "nbformat_minor": 5
}
