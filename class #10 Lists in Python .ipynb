{
 "cells": [
  {
   "cell_type": "markdown",
   "id": "4375f082",
   "metadata": {},
   "source": [
    "## Lists in Python"
   ]
  },
  {
   "cell_type": "markdown",
   "id": "b470afeb",
   "metadata": {},
   "source": [
    "## Content\n",
    "\n",
    "### Creating list - (empty, homogeneous, hetrogeneous, from strings, using loops, etc)\n",
    "### Indexing in list, slicing\n",
    "### Properties of list\n",
    "### Operators on list - membership, +, *, etc\n",
    "### Functions in list - append(), extend(), insert, pop, remove, del, clear, sort, count, reverse, "
   ]
  },
  {
   "cell_type": "code",
   "execution_count": null,
   "id": "3ba8fc99",
   "metadata": {},
   "outputs": [],
   "source": [
    "Data Structures -  methods to store the data\n",
    "\n",
    "-- stack - LIFO\n",
    "-- queue - FIFO\n",
    "-- Tree - \n",
    "\n",
    "\n",
    "-- List, set, tuples and dictionaries"
   ]
  },
  {
   "cell_type": "code",
   "execution_count": null,
   "id": "ccde2046",
   "metadata": {},
   "outputs": [],
   "source": []
  },
  {
   "cell_type": "code",
   "execution_count": 4,
   "id": "2e0b1468",
   "metadata": {},
   "outputs": [],
   "source": [
    "# Lists in Python\n",
    "\n",
    "# List is a data structure in Python similar to array in other Programming language.\n",
    "# Array is homogeneous while List can be heterogeneous.\n",
    "# Arrays are continuous (elements are stored one after other) - Lists are not\n",
    "# So Arrays are faster than List - fetching element from a sequence is fast\n",
    "# Lists in Python are mutable\n",
    "# Lists are ordered, can contain duplicate values, indexed\n"
   ]
  },
  {
   "cell_type": "code",
   "execution_count": 4,
   "id": "0d1115d5",
   "metadata": {},
   "outputs": [
    {
     "name": "stdout",
     "output_type": "stream",
     "text": [
      "['apple', 'banana', 'cherry', 'banana', 'kiwi']\n",
      "<class 'list'>\n",
      "banana\n"
     ]
    }
   ],
   "source": [
    "thislist = [\"apple\", \"banana\", \"cherry\", \"banana\", \"kiwi\"] #homogeneous \n",
    "print(thislist)\n",
    "print(type(thislist))\n",
    "print(thislist[3])"
   ]
  },
  {
   "cell_type": "code",
   "execution_count": 1,
   "id": "1f0db945",
   "metadata": {},
   "outputs": [
    {
     "name": "stdout",
     "output_type": "stream",
     "text": [
      "<class 'list'>\n",
      "Akshat\n"
     ]
    }
   ],
   "source": [
    "a = [1,2,3.4,\"Akshat\", True, 'Python', 1,2]\n",
    "print(type(a))\n",
    "\n",
    "print(a[3])"
   ]
  },
  {
   "cell_type": "code",
   "execution_count": 2,
   "id": "7723ccb6",
   "metadata": {},
   "outputs": [
    {
     "data": {
      "text/plain": [
       "list"
      ]
     },
     "execution_count": 2,
     "metadata": {},
     "output_type": "execute_result"
    }
   ],
   "source": [
    "l = []\n",
    "type(l)"
   ]
  },
  {
   "cell_type": "code",
   "execution_count": 6,
   "id": "39419456",
   "metadata": {},
   "outputs": [
    {
     "name": "stdout",
     "output_type": "stream",
     "text": [
      "[1, 2, 3.4, 'Akshat', 'Data', 'Python', 1, 2]\n"
     ]
    }
   ],
   "source": [
    "a[4] = 'Data'\n",
    "print(a)"
   ]
  },
  {
   "cell_type": "markdown",
   "id": "c1d511b6",
   "metadata": {},
   "source": [
    "## Lists are mutable, ordered, indexed, allows dups"
   ]
  },
  {
   "cell_type": "code",
   "execution_count": null,
   "id": "4ffb184a",
   "metadata": {},
   "outputs": [],
   "source": []
  },
  {
   "cell_type": "code",
   "execution_count": 7,
   "id": "629a6a59",
   "metadata": {},
   "outputs": [
    {
     "name": "stdout",
     "output_type": "stream",
     "text": [
      "apple\n",
      "banana\n",
      "cherry\n",
      "banana\n",
      "kiwi\n"
     ]
    }
   ],
   "source": [
    "# We can access the elements of a list using loops also\n",
    "\n",
    "thislist = [\"apple\", \"banana\", \"cherry\", \"banana\", \"kiwi\"]\n",
    "for i in thislist:\n",
    "    print(i)"
   ]
  },
  {
   "cell_type": "code",
   "execution_count": null,
   "id": "261484ab",
   "metadata": {},
   "outputs": [],
   "source": []
  },
  {
   "cell_type": "code",
   "execution_count": 2,
   "id": "0cbffdfd",
   "metadata": {},
   "outputs": [
    {
     "name": "stdout",
     "output_type": "stream",
     "text": [
      "['apple', 'cherry', 'kiwi']\n"
     ]
    }
   ],
   "source": [
    "thislist = [\"apple\", \"banana\", \"cherry\", \"banana\", \"kiwi\"]\n",
    "\n",
    "for i in thislist:\n",
    "    if i == 'banana':\n",
    "        thislist.remove(i)\n",
    "print(thislist)"
   ]
  },
  {
   "cell_type": "code",
   "execution_count": null,
   "id": "4899c630",
   "metadata": {},
   "outputs": [],
   "source": []
  },
  {
   "cell_type": "code",
   "execution_count": null,
   "id": "42c64559",
   "metadata": {},
   "outputs": [],
   "source": []
  },
  {
   "cell_type": "markdown",
   "id": "9708c3e7",
   "metadata": {},
   "source": [
    "### Create Lists"
   ]
  },
  {
   "cell_type": "code",
   "execution_count": 5,
   "id": "9c58ca62",
   "metadata": {},
   "outputs": [
    {
     "name": "stdout",
     "output_type": "stream",
     "text": [
      "[]\n"
     ]
    },
    {
     "data": {
      "text/plain": [
       "list"
      ]
     },
     "execution_count": 5,
     "metadata": {},
     "output_type": "execute_result"
    }
   ],
   "source": [
    "# 1. Empty List -\n",
    "L = []\n",
    "print (L)\n",
    "type(L)"
   ]
  },
  {
   "cell_type": "code",
   "execution_count": 12,
   "id": "d79d43e0",
   "metadata": {},
   "outputs": [
    {
     "name": "stdout",
     "output_type": "stream",
     "text": [
      "[1, 2, 3, 4, 6]\n",
      "<class 'list'>\n"
     ]
    }
   ],
   "source": [
    "# 2. Homogeneous list\n",
    "Li = [1,2,3,4,6]\n",
    "print(Li)\n",
    "print(type(Li))"
   ]
  },
  {
   "cell_type": "code",
   "execution_count": 13,
   "id": "4a078f69",
   "metadata": {},
   "outputs": [
    {
     "data": {
      "text/plain": [
       "list"
      ]
     },
     "execution_count": 13,
     "metadata": {},
     "output_type": "execute_result"
    }
   ],
   "source": [
    "# Heterogeneous lists\n",
    "list = [1, \"Adam\", \"Michel\", 4.6, True, 6+7j]\n",
    "list\n",
    "type(list)"
   ]
  },
  {
   "cell_type": "code",
   "execution_count": 14,
   "id": "14053481",
   "metadata": {},
   "outputs": [
    {
     "name": "stdout",
     "output_type": "stream",
     "text": [
      "[1, 2, 4, [5, 'Max', 7.9]]\n",
      "1\n",
      "[5, 'Max', 7.9]\n",
      "5\n",
      "Max\n",
      "7.9\n"
     ]
    },
    {
     "data": {
      "text/plain": [
       "4"
      ]
     },
     "execution_count": 14,
     "metadata": {},
     "output_type": "execute_result"
    }
   ],
   "source": [
    "# multidimensional list\n",
    "\n",
    "l = [1,2,4, [5, 'Max', 7.9]]   # 2D list\n",
    "\n",
    "print(l)\n",
    "\n",
    "print(l[0])\n",
    "\n",
    "print(l[3])\n",
    "\n",
    "print(l[3][0])\n",
    "\n",
    "print(l[3][1])\n",
    "\n",
    "print(l[3][2])\n",
    "\n",
    "len(l)"
   ]
  },
  {
   "cell_type": "code",
   "execution_count": 18,
   "id": "cc1a7702",
   "metadata": {},
   "outputs": [
    {
     "name": "stdout",
     "output_type": "stream",
     "text": [
      "True\n",
      "<class 'bool'>\n"
     ]
    }
   ],
   "source": [
    "l = [1,2,3, [7,8, ['Akshat','Python', True, 4.6]]]\n",
    "#print(l[3])\n",
    "\n",
    "# print(l[0])\n",
    "\n",
    "# print(type(l[3][2]))\n",
    "\n",
    "# print(type(l[3][2][0]))\n",
    "# print(l[3][2][0])\n",
    "\n",
    "print(l[3][2][2])\n",
    "\n",
    "print(type(l[3][2][2]))"
   ]
  },
  {
   "cell_type": "code",
   "execution_count": null,
   "id": "df2545d2",
   "metadata": {},
   "outputs": [],
   "source": []
  },
  {
   "cell_type": "code",
   "execution_count": 16,
   "id": "8d7454fb",
   "metadata": {},
   "outputs": [
    {
     "data": {
      "text/plain": [
       "'Adam'"
      ]
     },
     "execution_count": 16,
     "metadata": {},
     "output_type": "execute_result"
    }
   ],
   "source": [
    "# 3D list - a list containing another list which has another list inside it\n",
    "list_3D = [\n",
    "            [\n",
    "                [1,2,3], \n",
    "                [['Adam', 'Mike'], ['x', 4.5]]\n",
    "            ]\n",
    "          ]\n",
    "list_3D\n",
    "list_3D[0][1][0][0]\n",
    "\n",
    "list_3D[0]   # [[1, 2, 3], [['Adam', 'Mike'], ['x', 4.5]]]\n",
    "list_3D[0][0]\n",
    "list_3D[0][1]  # [['Adam', 'Mike'], ['x', 4.5]]\n",
    "# [['Adam', 'Mike'], ['x', 4.5]]\n",
    "list_3D[0][1][0]  # ['Adam', 'Mike']\n",
    "list_3D[0][1][0][0]"
   ]
  },
  {
   "cell_type": "code",
   "execution_count": 17,
   "id": "43f82d6c",
   "metadata": {},
   "outputs": [
    {
     "name": "stdout",
     "output_type": "stream",
     "text": [
      "4.5\n"
     ]
    }
   ],
   "source": [
    "list_3D = [[[1,2,3], [['Adam', 'Mike'], ['x', 4.5]]]]\n",
    "\n",
    "print(list_3D[0][1][1][1])"
   ]
  },
  {
   "cell_type": "code",
   "execution_count": null,
   "id": "98a7675c",
   "metadata": {},
   "outputs": [],
   "source": []
  },
  {
   "cell_type": "code",
   "execution_count": null,
   "id": "46ff2635",
   "metadata": {},
   "outputs": [],
   "source": []
  },
  {
   "cell_type": "code",
   "execution_count": null,
   "id": "ceae67a1",
   "metadata": {},
   "outputs": [],
   "source": []
  },
  {
   "cell_type": "code",
   "execution_count": null,
   "id": "4d7796bd",
   "metadata": {},
   "outputs": [],
   "source": []
  },
  {
   "cell_type": "markdown",
   "id": "57a55fdd",
   "metadata": {},
   "source": [
    "### Access Items from List"
   ]
  },
  {
   "cell_type": "code",
   "execution_count": 20,
   "id": "c7a56fe5",
   "metadata": {},
   "outputs": [
    {
     "name": "stdout",
     "output_type": "stream",
     "text": [
      "4\n"
     ]
    }
   ],
   "source": [
    "# Access items from a list  - similar as string indexes\n",
    "\n",
    "l2 = [1,2,3,4,'Adam']  # indexing starts from 0\n",
    "print(l2[-2])\n",
    "# l2[2]\n",
    "# l2[-1]\n",
    "\n",
    "# # from multidimensional list\n",
    "# l = [1, 2, 4, [4, 'Adam']]\n",
    "# l\n",
    "# l[-1]\n",
    "# l[-1][0]\n",
    "# l[-1][1]\n",
    "\n",
    "# list_3D\n",
    "# list_3D[0][1][0][1]\n"
   ]
  },
  {
   "cell_type": "code",
   "execution_count": 19,
   "id": "b8aeac19",
   "metadata": {},
   "outputs": [
    {
     "data": {
      "text/plain": [
       "'Adam'"
      ]
     },
     "execution_count": 19,
     "metadata": {},
     "output_type": "execute_result"
    }
   ],
   "source": [
    "l = [1, 2, 4, [4, 'Adam']]\n",
    "l[3][1]"
   ]
  },
  {
   "cell_type": "markdown",
   "id": "9f4d2ac7",
   "metadata": {},
   "source": [
    "### Mutability -  Edit a list"
   ]
  },
  {
   "cell_type": "code",
   "execution_count": 21,
   "id": "2da40673",
   "metadata": {},
   "outputs": [
    {
     "data": {
      "text/plain": [
       "[1, 2, 3, [7, 8, ['Akshat', 'Python', True, 4.6]]]"
      ]
     },
     "execution_count": 21,
     "metadata": {},
     "output_type": "execute_result"
    }
   ],
   "source": [
    "l"
   ]
  },
  {
   "cell_type": "code",
   "execution_count": 25,
   "id": "47e70a18",
   "metadata": {},
   "outputs": [
    {
     "name": "stdout",
     "output_type": "stream",
     "text": [
      "[1, 2, 3, [7, 8, ['Akshat', 'Agrawal', True, 4.6]]]\n"
     ]
    }
   ],
   "source": [
    "l\n",
    "# Lists in Python are mutable - we can edit a list\n",
    "l[3][2][1] = 'Agrawal'\n",
    "print(l)"
   ]
  },
  {
   "cell_type": "code",
   "execution_count": null,
   "id": "861abfc4",
   "metadata": {},
   "outputs": [],
   "source": []
  },
  {
   "cell_type": "code",
   "execution_count": 27,
   "id": "34661fde",
   "metadata": {},
   "outputs": [],
   "source": [
    "Li = [1,2,34,'Akshat']"
   ]
  },
  {
   "cell_type": "code",
   "execution_count": 29,
   "id": "7ea18109",
   "metadata": {},
   "outputs": [
    {
     "name": "stdout",
     "output_type": "stream",
     "text": [
      "[1, 2, 34, 'Akshat']\n",
      "[34, 'Akshat']\n"
     ]
    }
   ],
   "source": [
    "print(Li)\n",
    "print(Li[2:4])"
   ]
  },
  {
   "cell_type": "code",
   "execution_count": 23,
   "id": "7787b56e",
   "metadata": {},
   "outputs": [
    {
     "name": "stdout",
     "output_type": "stream",
     "text": [
      "[2, 3, 4]\n"
     ]
    }
   ],
   "source": [
    "Li\n",
    "print(Li[1:4])"
   ]
  },
  {
   "cell_type": "code",
   "execution_count": 24,
   "id": "5d120f21",
   "metadata": {},
   "outputs": [
    {
     "name": "stdout",
     "output_type": "stream",
     "text": [
      "[1, 2, 3, 4, 6]\n",
      "[1, 200, 300, 500, 6]\n"
     ]
    }
   ],
   "source": [
    "print(Li)\n",
    "Li[1:4] = [200,300,500]\n",
    "print(Li)"
   ]
  },
  {
   "cell_type": "markdown",
   "id": "c3f03b33",
   "metadata": {},
   "source": [
    "### Add items to list\n",
    "\n",
    "## append, extend, insert\n"
   ]
  },
  {
   "cell_type": "code",
   "execution_count": 30,
   "id": "31e7b323",
   "metadata": {},
   "outputs": [
    {
     "name": "stdout",
     "output_type": "stream",
     "text": [
      "[1, 2, 34, 'Akshat']\n"
     ]
    }
   ],
   "source": [
    "print(Li)"
   ]
  },
  {
   "cell_type": "code",
   "execution_count": 32,
   "id": "6594ce55",
   "metadata": {},
   "outputs": [
    {
     "name": "stdout",
     "output_type": "stream",
     "text": [
      "[1, 2, 34, 'Akshat', 'Python', 'Python']\n",
      "<class 'list'>\n"
     ]
    }
   ],
   "source": [
    "Li.append('Python')\n",
    "print(Li)\n",
    "print(type(Li))"
   ]
  },
  {
   "cell_type": "code",
   "execution_count": 34,
   "id": "b9c7ff9c",
   "metadata": {},
   "outputs": [
    {
     "name": "stdout",
     "output_type": "stream",
     "text": [
      "[1, 2, 34, 'Akshat', 'Python', 'Python', [1001, 2], [1001, 2]]\n"
     ]
    }
   ],
   "source": [
    "Li.append([1001,2]) # adds only one item at last of the list\n",
    "print(Li)"
   ]
  },
  {
   "cell_type": "code",
   "execution_count": 29,
   "id": "bef62fa4",
   "metadata": {},
   "outputs": [],
   "source": [
    "Li.append('Kevin')"
   ]
  },
  {
   "cell_type": "code",
   "execution_count": 35,
   "id": "37b56626",
   "metadata": {},
   "outputs": [
    {
     "data": {
      "text/plain": [
       "[1, 2, 34, 'Akshat', 'Python', 'Python', [1001, 2], [1001, 2]]"
      ]
     },
     "execution_count": 35,
     "metadata": {},
     "output_type": "execute_result"
    }
   ],
   "source": [
    "Li"
   ]
  },
  {
   "cell_type": "code",
   "execution_count": 36,
   "id": "a59f74b1",
   "metadata": {},
   "outputs": [],
   "source": [
    "Li.extend((1,2,3))"
   ]
  },
  {
   "cell_type": "code",
   "execution_count": 37,
   "id": "6d50e308",
   "metadata": {},
   "outputs": [
    {
     "data": {
      "text/plain": [
       "[1, 2, 34, 'Akshat', 'Python', 'Python', [1001, 2], [1001, 2], 1, 2, 3]"
      ]
     },
     "execution_count": 37,
     "metadata": {},
     "output_type": "execute_result"
    }
   ],
   "source": [
    "Li"
   ]
  },
  {
   "cell_type": "code",
   "execution_count": 38,
   "id": "58251520",
   "metadata": {},
   "outputs": [
    {
     "name": "stdout",
     "output_type": "stream",
     "text": [
      "[1, 5, 2, 34, 'Akshat', 'Python', 'Python', [1001, 2], [1001, 2], 1, 2, 3]\n"
     ]
    }
   ],
   "source": [
    "Li.insert(1, 5)\n",
    "print(Li)"
   ]
  },
  {
   "cell_type": "code",
   "execution_count": 39,
   "id": "b7a97d9f",
   "metadata": {},
   "outputs": [
    {
     "name": "stdout",
     "output_type": "stream",
     "text": [
      "[1, 5, 'Mumbai', 2, 34, 'Akshat', 'Python', 'Python', [1001, 2], [1001, 2], 1, 2, 3]\n"
     ]
    }
   ],
   "source": [
    "Li.insert(2, 'Mumbai')\n",
    "print(Li)"
   ]
  },
  {
   "cell_type": "markdown",
   "id": "4d9ae25d",
   "metadata": {},
   "source": [
    "### Use Case- Add their names into a list"
   ]
  },
  {
   "cell_type": "code",
   "execution_count": 48,
   "id": "f4169805",
   "metadata": {},
   "outputs": [
    {
     "name": "stdout",
     "output_type": "stream",
     "text": [
      "Enter your name\n",
      "Akshat\n",
      "Enter your name\n",
      "Himanshu\n",
      "Enter your name\n",
      "Harshit\n",
      "Enter your name\n",
      "Python\n",
      "Enter your name\n",
      "India\n",
      "['Akshat', 'Himanshu', 'Harshit', 'Python', 'India']\n"
     ]
    }
   ],
   "source": [
    "name  = []\n",
    "\n",
    "for i in range(1,6):\n",
    "    user_input = input(\"Enter your name\\n\")\n",
    "    name.append(user_input)\n",
    "    \n",
    "print(name)"
   ]
  },
  {
   "cell_type": "code",
   "execution_count": 50,
   "id": "bd03da06",
   "metadata": {},
   "outputs": [
    {
     "data": {
      "text/plain": [
       "list"
      ]
     },
     "execution_count": 50,
     "metadata": {},
     "output_type": "execute_result"
    }
   ],
   "source": [
    "l = list(\"Akshat\")\n",
    "type(l)"
   ]
  },
  {
   "cell_type": "code",
   "execution_count": 51,
   "id": "dd95381b",
   "metadata": {},
   "outputs": [
    {
     "name": "stdout",
     "output_type": "stream",
     "text": [
      "Enter nameAkshat\n",
      "['A', 'k', 's', 'h', 'a', 't']\n"
     ]
    }
   ],
   "source": [
    "l = list(input(\"Enter name\"))\n",
    "print(l)"
   ]
  },
  {
   "cell_type": "code",
   "execution_count": null,
   "id": "ee2792d7",
   "metadata": {},
   "outputs": [],
   "source": []
  },
  {
   "cell_type": "code",
   "execution_count": null,
   "id": "868002b8",
   "metadata": {},
   "outputs": [],
   "source": []
  },
  {
   "cell_type": "code",
   "execution_count": 32,
   "id": "46e8c7e3",
   "metadata": {},
   "outputs": [
    {
     "name": "stdout",
     "output_type": "stream",
     "text": [
      "1\n",
      "2\n",
      "34\n",
      "5\n"
     ]
    }
   ],
   "source": [
    "for i in [1,2,34,5]:\n",
    "    print(i)"
   ]
  },
  {
   "cell_type": "code",
   "execution_count": 33,
   "id": "81bd77a8",
   "metadata": {},
   "outputs": [
    {
     "name": "stdout",
     "output_type": "stream",
     "text": [
      "[1, 200, 300, 500, 6, [1001, 2], 'Kevin']\n",
      "[1, 200, 300, 500, 6, [1001, 2], 'Kevin', [1, 2]]\n"
     ]
    },
    {
     "ename": "TypeError",
     "evalue": "list.append() takes exactly one argument (2 given)",
     "output_type": "error",
     "traceback": [
      "\u001b[1;31m---------------------------------------------------------------------------\u001b[0m",
      "\u001b[1;31mTypeError\u001b[0m                                 Traceback (most recent call last)",
      "Cell \u001b[1;32mIn[33], line 5\u001b[0m\n\u001b[0;32m      3\u001b[0m Li\u001b[38;5;241m.\u001b[39mappend([\u001b[38;5;241m1\u001b[39m,\u001b[38;5;241m2\u001b[39m])\n\u001b[0;32m      4\u001b[0m \u001b[38;5;28mprint\u001b[39m(Li)\n\u001b[1;32m----> 5\u001b[0m Li\u001b[38;5;241m.\u001b[39mappend(\u001b[38;5;241m1\u001b[39m,\u001b[38;5;241m2\u001b[39m) \u001b[38;5;66;03m# gives an error because append takes only one argument.\u001b[39;00m\n\u001b[0;32m      6\u001b[0m Li\u001b[38;5;241m.\u001b[39mappend(\u001b[38;5;241m2\u001b[39m)\n\u001b[0;32m      7\u001b[0m \u001b[38;5;28mprint\u001b[39m(Li)\n",
      "\u001b[1;31mTypeError\u001b[0m: list.append() takes exactly one argument (2 given)"
     ]
    }
   ],
   "source": [
    "print(Li)\n",
    "\n",
    "Li.append([1,2])\n",
    "print(Li)\n",
    "Li.append(1,2) # gives an error because append takes only one argument.\n",
    "Li.append(2)\n",
    "print(Li)"
   ]
  },
  {
   "cell_type": "code",
   "execution_count": 34,
   "id": "8b54167c",
   "metadata": {},
   "outputs": [
    {
     "ename": "TypeError",
     "evalue": "list.append() takes exactly one argument (2 given)",
     "output_type": "error",
     "traceback": [
      "\u001b[1;31m---------------------------------------------------------------------------\u001b[0m",
      "\u001b[1;31mTypeError\u001b[0m                                 Traceback (most recent call last)",
      "Cell \u001b[1;32mIn[34], line 6\u001b[0m\n\u001b[0;32m      4\u001b[0m Li\u001b[38;5;241m.\u001b[39mappend([\u001b[38;5;241m1\u001b[39m,\u001b[38;5;241m2\u001b[39m])\n\u001b[0;32m      5\u001b[0m Li\n\u001b[1;32m----> 6\u001b[0m Li\u001b[38;5;241m.\u001b[39mappend(\u001b[38;5;241m1\u001b[39m,\u001b[38;5;241m2\u001b[39m) \u001b[38;5;66;03m# gives an error because append takes only one argument.\u001b[39;00m\n\u001b[0;32m      7\u001b[0m Li\u001b[38;5;241m.\u001b[39mappend(\u001b[38;5;241m2\u001b[39m)\n",
      "\u001b[1;31mTypeError\u001b[0m: list.append() takes exactly one argument (2 given)"
     ]
    }
   ],
   "source": [
    "\n",
    "Li\n",
    "Li.append(1001) # adds only one item at last of the list\n",
    "Li\n",
    "Li.append([1,2])\n",
    "Li\n",
    "Li.append(1,2) # gives an error because append takes only one argument.\n",
    "Li.append(2)\n"
   ]
  },
  {
   "cell_type": "code",
   "execution_count": 35,
   "id": "d1a0e826",
   "metadata": {},
   "outputs": [
    {
     "name": "stdout",
     "output_type": "stream",
     "text": [
      "[1, 200, 300, 500, 6, [1001, 2], 'Kevin', [1, 2], 1001, [1, 2]]\n",
      "[1, 200, 300, 500, 6, [1001, 2], 'Kevin', [1, 2], 1001, [1, 2], 4000, 6000, 8000]\n"
     ]
    }
   ],
   "source": [
    "print(Li)\n",
    "# add multiple items at last to a list\n",
    "Li.extend([4000,6000,8000])\n",
    "print(Li)"
   ]
  },
  {
   "cell_type": "code",
   "execution_count": null,
   "id": "575d73f7",
   "metadata": {},
   "outputs": [],
   "source": []
  },
  {
   "cell_type": "code",
   "execution_count": 36,
   "id": "45ac879d",
   "metadata": {},
   "outputs": [
    {
     "data": {
      "text/plain": [
       "[1,\n",
       " 200,\n",
       " 300,\n",
       " 500,\n",
       " 6,\n",
       " [1001, 2],\n",
       " 'Kevin',\n",
       " [1, 2],\n",
       " 1001,\n",
       " [1, 2],\n",
       " 4000,\n",
       " 6000,\n",
       " 8000]"
      ]
     },
     "execution_count": 36,
     "metadata": {},
     "output_type": "execute_result"
    }
   ],
   "source": [
    "Li"
   ]
  },
  {
   "cell_type": "code",
   "execution_count": 37,
   "id": "a3807582",
   "metadata": {},
   "outputs": [
    {
     "name": "stdout",
     "output_type": "stream",
     "text": [
      "[1, 200, 300, 500, 6, [1001, 2], 'Kevin', [1, 2], 1001, [1, 2], 4000, 6000, 8000, 'G', 'o', 'a']\n",
      "[1, 200, 300, 500, 6, [1001, 2], 'Kevin', [1, 2], 1001, [1, 2], 4000, 6000, 8000, 'G', 'o', 'a', 'Mumbai']\n"
     ]
    }
   ],
   "source": [
    "Li.extend('Goa')  # focus that if only 1 item is passed in extend func - it converts into individual letters\n",
    "print(Li)\n",
    "Li.extend(['Mumbai']) # add Mumbai as it is at the last of the list\n",
    "print(Li)"
   ]
  },
  {
   "cell_type": "code",
   "execution_count": 38,
   "id": "38756396",
   "metadata": {},
   "outputs": [
    {
     "data": {
      "text/plain": [
       "[1,\n",
       " 200,\n",
       " 300,\n",
       " 500,\n",
       " 6,\n",
       " [1001, 2],\n",
       " 'Kevin',\n",
       " [1, 2],\n",
       " 1001,\n",
       " [1, 2],\n",
       " 4000,\n",
       " 6000,\n",
       " 8000,\n",
       " 'G',\n",
       " 'o',\n",
       " 'a',\n",
       " 'Mumbai']"
      ]
     },
     "execution_count": 38,
     "metadata": {},
     "output_type": "execute_result"
    }
   ],
   "source": [
    "Li"
   ]
  },
  {
   "cell_type": "code",
   "execution_count": 43,
   "id": "9c7a9063",
   "metadata": {},
   "outputs": [
    {
     "name": "stdout",
     "output_type": "stream",
     "text": [
      "[1, 'Nice', 200, 300, 500, 6, [1001, 2], 'Kevin', [1, 2], 1001, [1, 2], 4000, 6000, 8000, 'G', 'o', 'a', 'Mumbai']\n"
     ]
    }
   ],
   "source": [
    "print(Li)"
   ]
  },
  {
   "cell_type": "code",
   "execution_count": 44,
   "id": "2814b7e7",
   "metadata": {},
   "outputs": [],
   "source": [
    "Li.insert(3, 'Lilian')"
   ]
  },
  {
   "cell_type": "code",
   "execution_count": 45,
   "id": "82646857",
   "metadata": {},
   "outputs": [
    {
     "name": "stdout",
     "output_type": "stream",
     "text": [
      "[1, 'Nice', 200, 'Lilian', 300, 500, 6, [1001, 2], 'Kevin', [1, 2], 1001, [1, 2], 4000, 6000, 8000, 'G', 'o', 'a', 'Mumbai']\n"
     ]
    }
   ],
   "source": [
    "print(Li)"
   ]
  },
  {
   "cell_type": "code",
   "execution_count": 39,
   "id": "fecfce02",
   "metadata": {},
   "outputs": [
    {
     "data": {
      "text/plain": [
       "[1,\n",
       " 'Nice',\n",
       " 200,\n",
       " 300,\n",
       " 500,\n",
       " 6,\n",
       " [1001, 2],\n",
       " 'Kevin',\n",
       " [1, 2],\n",
       " 1001,\n",
       " [1, 2],\n",
       " 4000,\n",
       " 6000,\n",
       " 8000,\n",
       " 'G',\n",
       " 'o',\n",
       " 'a',\n",
       " 'Mumbai']"
      ]
     },
     "execution_count": 39,
     "metadata": {},
     "output_type": "execute_result"
    }
   ],
   "source": [
    "# insert anywhere in the list by telling the index position\n",
    "\n",
    "Li.insert(1, 'Nice')\n",
    "Li\n",
    "# Li.insert(1, ['Nice', 'Adam', 'Mike'])\n",
    "# Li.insert(0, 'Mike')"
   ]
  },
  {
   "cell_type": "code",
   "execution_count": 40,
   "id": "8c3ee2be",
   "metadata": {},
   "outputs": [
    {
     "data": {
      "text/plain": [
       "[1,\n",
       " 'Nice',\n",
       " 200,\n",
       " 300,\n",
       " 500,\n",
       " 6,\n",
       " [1001, 2],\n",
       " 'Kevin',\n",
       " [1, 2],\n",
       " 1001,\n",
       " [1, 2],\n",
       " 4000,\n",
       " 6000,\n",
       " 8000,\n",
       " 'G',\n",
       " 'o',\n",
       " 'a',\n",
       " 'Mumbai']"
      ]
     },
     "execution_count": 40,
     "metadata": {},
     "output_type": "execute_result"
    }
   ],
   "source": [
    "Li"
   ]
  },
  {
   "cell_type": "markdown",
   "id": "5135612e",
   "metadata": {},
   "source": [
    "### Delete from list"
   ]
  },
  {
   "cell_type": "code",
   "execution_count": 41,
   "id": "9b62f9d8",
   "metadata": {},
   "outputs": [
    {
     "name": "stdout",
     "output_type": "stream",
     "text": [
      "[1, 5, 'Mumbai', 2, 34, 'Akshat', 'Python', 'Python', [1001, 2], [1001, 2], 1, 2, 3]\n"
     ]
    }
   ],
   "source": [
    "# del Li\n",
    "print(Li)"
   ]
  },
  {
   "cell_type": "code",
   "execution_count": 42,
   "id": "cba6d33c",
   "metadata": {},
   "outputs": [
    {
     "name": "stdout",
     "output_type": "stream",
     "text": [
      "[1, 5, 2, 34, 'Akshat', 'Python', 'Python', [1001, 2], [1001, 2], 1, 2, 3]\n"
     ]
    }
   ],
   "source": [
    "# del Li\n",
    "# print(Li)"
   ]
  },
  {
   "cell_type": "code",
   "execution_count": 21,
   "id": "0318d3e4",
   "metadata": {},
   "outputs": [
    {
     "data": {
      "text/plain": [
       "[2, 4, [1001, 2], 'G', 'a']"
      ]
     },
     "execution_count": 21,
     "metadata": {},
     "output_type": "execute_result"
    }
   ],
   "source": [
    "Li[2::2]"
   ]
  },
  {
   "cell_type": "code",
   "execution_count": 22,
   "id": "f9eda07a",
   "metadata": {},
   "outputs": [
    {
     "data": {
      "text/plain": [
       "[1, 'Nice', 2, 3, 4, 6, [1001, 2], 'Kevin', 'G', 'o', 'a', 'Mumbai']"
      ]
     },
     "execution_count": 22,
     "metadata": {},
     "output_type": "execute_result"
    }
   ],
   "source": [
    "Li"
   ]
  },
  {
   "cell_type": "code",
   "execution_count": 23,
   "id": "7bcad936",
   "metadata": {},
   "outputs": [
    {
     "name": "stdout",
     "output_type": "stream",
     "text": [
      "[1, 'Nice', 2, 3, 4, 6, [1001, 2], 'Kevin', 'G', 'o', 'a', 'Mumbai']\n",
      "[1, 'Nice', 2, 3, 4, 6, [1001, 2], 'Kevin', 'G', 'o', 'a']\n",
      "[1, 'Nice', 2, 3, 4, 6, [1001, 2], 'Kevin']\n"
     ]
    }
   ],
   "source": [
    "print(Li)\n",
    "# del keyword deletes the element at given index\n",
    "del Li[-1]\n",
    "print(Li)\n",
    "\n",
    "del Li[-3:] # from -3 till end\n",
    "print(Li)\n"
   ]
  },
  {
   "cell_type": "code",
   "execution_count": 24,
   "id": "ab5fdb32",
   "metadata": {},
   "outputs": [
    {
     "data": {
      "text/plain": [
       "[1, 'Nice', 2, 3, 4, 6, [1001, 2], 'Kevin', 4000]"
      ]
     },
     "execution_count": 24,
     "metadata": {},
     "output_type": "execute_result"
    }
   ],
   "source": [
    "Li.append(4000)\n",
    "Li"
   ]
  },
  {
   "cell_type": "code",
   "execution_count": 43,
   "id": "26902c31",
   "metadata": {},
   "outputs": [
    {
     "name": "stdout",
     "output_type": "stream",
     "text": [
      "[1, 5, 2, 34, 'Akshat', 'Python', 'Python', [1001, 2], [1001, 2], 1, 2, 3]\n"
     ]
    }
   ],
   "source": [
    "print(Li)"
   ]
  },
  {
   "cell_type": "code",
   "execution_count": 44,
   "id": "e1c054a4",
   "metadata": {},
   "outputs": [],
   "source": [
    "Li.remove('Python')"
   ]
  },
  {
   "cell_type": "code",
   "execution_count": 45,
   "id": "6cfbbd36",
   "metadata": {},
   "outputs": [
    {
     "name": "stdout",
     "output_type": "stream",
     "text": [
      "[1, 5, 2, 34, 'Akshat', 'Python', [1001, 2], [1001, 2], 1, 2, 3]\n"
     ]
    }
   ],
   "source": [
    "print(Li)"
   ]
  },
  {
   "cell_type": "code",
   "execution_count": 47,
   "id": "1eed9a56",
   "metadata": {},
   "outputs": [
    {
     "data": {
      "text/plain": [
       "['Mike', 1, 'Nice', 200, 300, 500, 6, 1001, [1001, 2], 6000, 8000]"
      ]
     },
     "execution_count": 47,
     "metadata": {},
     "output_type": "execute_result"
    }
   ],
   "source": [
    "Li.remove(['Nice', 'Adam', 'Mike'])  # Remove first occurrence of value.\n",
    "Li"
   ]
  },
  {
   "cell_type": "code",
   "execution_count": null,
   "id": "464645e9",
   "metadata": {},
   "outputs": [],
   "source": [
    "\n",
    "# Remove - when we don't know the index position but we know the element to be removed\n",
    "Li \n",
    "Li.remove('Nice') # it shows error if the element is not present in the list\n",
    "Li\n"
   ]
  },
  {
   "cell_type": "code",
   "execution_count": 22,
   "id": "f405dcce",
   "metadata": {},
   "outputs": [
    {
     "name": "stdout",
     "output_type": "stream",
     "text": [
      "[1, 1, 2, 3, 4]\n",
      "[1, 2, 3, 4]\n"
     ]
    }
   ],
   "source": [
    "x = [1,1,2,3,4]\n",
    "print(x)\n",
    "x.remove(1)\n",
    "print(x)"
   ]
  },
  {
   "cell_type": "code",
   "execution_count": 29,
   "id": "2154c649",
   "metadata": {},
   "outputs": [
    {
     "data": {
      "text/plain": [
       "[]"
      ]
     },
     "execution_count": 29,
     "metadata": {},
     "output_type": "execute_result"
    }
   ],
   "source": [
    "# 4 ways -  del, remove, pop, clear\n",
    "\n",
    "\n",
    "\n",
    "# del Li[-1]\n",
    "# pop - deletes the element at last\n",
    "Li\n",
    "Li.pop()\n",
    "Li\n",
    "\n",
    "# clear() - empties the list\n",
    "l\n",
    "l.clear()\n",
    "l"
   ]
  },
  {
   "cell_type": "code",
   "execution_count": 46,
   "id": "f868bfe0",
   "metadata": {},
   "outputs": [],
   "source": [
    "del Li"
   ]
  },
  {
   "cell_type": "code",
   "execution_count": 47,
   "id": "81ac0e8a",
   "metadata": {},
   "outputs": [
    {
     "ename": "NameError",
     "evalue": "name 'Li' is not defined",
     "output_type": "error",
     "traceback": [
      "\u001b[1;31m---------------------------------------------------------------------------\u001b[0m",
      "\u001b[1;31mNameError\u001b[0m                                 Traceback (most recent call last)",
      "Cell \u001b[1;32mIn[47], line 1\u001b[0m\n\u001b[1;32m----> 1\u001b[0m Li\n",
      "\u001b[1;31mNameError\u001b[0m: name 'Li' is not defined"
     ]
    }
   ],
   "source": [
    "Li"
   ]
  },
  {
   "cell_type": "markdown",
   "id": "39f4cb3b",
   "metadata": {},
   "source": [
    "### Operations in List"
   ]
  },
  {
   "cell_type": "code",
   "execution_count": 52,
   "id": "36d99541",
   "metadata": {},
   "outputs": [
    {
     "data": {
      "text/plain": [
       "[1, 2, 3, 4, 3, 'Adam']"
      ]
     },
     "execution_count": 52,
     "metadata": {},
     "output_type": "execute_result"
    }
   ],
   "source": [
    "n = [1,2,3,4]\n",
    "m = [3,'Adam']\n",
    "\n",
    "# joining in lists\n",
    "n+m  # concatenation - it creates a new list altogether - neither m nor n is updated.\n"
   ]
  },
  {
   "cell_type": "code",
   "execution_count": 33,
   "id": "f21a09a7",
   "metadata": {},
   "outputs": [
    {
     "name": "stdout",
     "output_type": "stream",
     "text": [
      "[3, 'Adam', 3, 'Adam', 3, 'Adam', 3, 'Adam', 3, 'Adam']\n",
      "[1, 2, 3, 4, 1, 2, 3, 4, 1, 2, 3, 4]\n"
     ]
    }
   ],
   "source": [
    "\n",
    "# list multiplication\n",
    "print(m*5)\n",
    "print(n*3)"
   ]
  },
  {
   "cell_type": "code",
   "execution_count": 52,
   "id": "b247d2d7",
   "metadata": {},
   "outputs": [
    {
     "data": {
      "text/plain": [
       "'python python python '"
      ]
     },
     "execution_count": 52,
     "metadata": {},
     "output_type": "execute_result"
    }
   ],
   "source": [
    "a='python '\n",
    "a*3"
   ]
  },
  {
   "cell_type": "code",
   "execution_count": 6,
   "id": "f748a978",
   "metadata": {},
   "outputs": [
    {
     "name": "stdout",
     "output_type": "stream",
     "text": [
      "1\n",
      "2\n",
      "3\n",
      "4\n",
      "[[1, 2, 3], [['Adam', 'Mike'], ['x', 4.5]]]\n",
      "[1, 2, 3]\n",
      "[['Adam', 'Mike'], ['x', 4.5]]\n"
     ]
    },
    {
     "data": {
      "text/plain": [
       "False"
      ]
     },
     "execution_count": 6,
     "metadata": {},
     "output_type": "execute_result"
    }
   ],
   "source": [
    "\n",
    "\n",
    "\n",
    "# loops in list\n",
    "for i in n:\n",
    "    print(i)\n",
    "\n",
    "# list_3D\n",
    "for j in list_3D:\n",
    "    print(j)\n",
    "\n",
    "\n",
    "# membership operator\n",
    "3 in list_3D\n",
    "\n",
    "[1,2,3] in list_3D\n",
    "([[1,2,3]]) in list_3D\n",
    "\n",
    "[[[1,2,3]]] in list_3D\n",
    "\n",
    "for i in list_3D:\n",
    "    for j in i:\n",
    "        print(j)\n",
    "\n",
    "\n",
    "(['Adam', 'Mike'], ['x', 4.5]) in list_3D"
   ]
  },
  {
   "cell_type": "code",
   "execution_count": 53,
   "id": "82951419",
   "metadata": {},
   "outputs": [
    {
     "data": {
      "text/plain": [
       "['Mike', 1, 'Nice', 200, 300, 500, 6, 1001, [1001, 2], 6000, 8000]"
      ]
     },
     "execution_count": 53,
     "metadata": {},
     "output_type": "execute_result"
    }
   ],
   "source": [
    "Li"
   ]
  },
  {
   "cell_type": "code",
   "execution_count": 57,
   "id": "4db11e67",
   "metadata": {},
   "outputs": [
    {
     "data": {
      "text/plain": [
       "True"
      ]
     },
     "execution_count": 57,
     "metadata": {},
     "output_type": "execute_result"
    }
   ],
   "source": [
    "[1001,2] in Li"
   ]
  },
  {
   "cell_type": "code",
   "execution_count": 54,
   "id": "2572de10",
   "metadata": {},
   "outputs": [],
   "source": [
    "Li = [3,67,2,1,75,98,34, 34, 34]\n",
    "Li.sort()"
   ]
  },
  {
   "cell_type": "code",
   "execution_count": 55,
   "id": "38885c8b",
   "metadata": {},
   "outputs": [
    {
     "data": {
      "text/plain": [
       "[1, 2, 3, 34, 34, 34, 67, 75, 98]"
      ]
     },
     "execution_count": 55,
     "metadata": {},
     "output_type": "execute_result"
    }
   ],
   "source": [
    "Li"
   ]
  },
  {
   "cell_type": "code",
   "execution_count": 57,
   "id": "dac8ba23",
   "metadata": {},
   "outputs": [
    {
     "name": "stdout",
     "output_type": "stream",
     "text": [
      "[1, 2, 3, 34, 34, 34, 67, 75, 98]\n",
      "[3, 67, 2, 1, 75, 98, 34, 34, 34]\n"
     ]
    }
   ],
   "source": [
    "Li = [3,67,2,1,75,98,34, 34, 34]\n",
    "print(sorted(Li))\n",
    "print(Li)"
   ]
  },
  {
   "cell_type": "markdown",
   "id": "d3b3f7df",
   "metadata": {},
   "source": [
    "### functions in List"
   ]
  },
  {
   "cell_type": "code",
   "execution_count": 61,
   "id": "a053fdbf",
   "metadata": {},
   "outputs": [
    {
     "data": {
      "text/plain": [
       "[98, 75, 67, 34, 34, 34, 3, 2, 1]"
      ]
     },
     "execution_count": 61,
     "metadata": {},
     "output_type": "execute_result"
    }
   ],
   "source": [
    "\n",
    "Li = [3,67,2,1,75,98,34, 34, 34]\n",
    "type(Li)\n",
    "len(Li)\n",
    "min(Li)\n",
    "max(Li)\n",
    "sorted(Li) # default = ascending\n",
    "sorted(Li, reverse=True) # descending\n",
    "\n",
    "Li\n",
    "# sorted is not a permanent operation - original list still remains same\n",
    "# sort is another function which is a permanent operation\n",
    "\n",
    "Li\n",
    "Li.sort()\n",
    "Li\n",
    "Li.sort(reverse=True)\n",
    "Li\n",
    "\n"
   ]
  },
  {
   "cell_type": "code",
   "execution_count": 62,
   "id": "351b71ae",
   "metadata": {},
   "outputs": [
    {
     "data": {
      "text/plain": [
       "2"
      ]
     },
     "execution_count": 62,
     "metadata": {},
     "output_type": "execute_result"
    }
   ],
   "source": [
    "# Index in List\n",
    "Li.index(67)  # li is the list in which we want to get the index of 5000"
   ]
  },
  {
   "cell_type": "code",
   "execution_count": 59,
   "id": "344a44ff",
   "metadata": {},
   "outputs": [
    {
     "ename": "ValueError",
     "evalue": "34 is not in list",
     "output_type": "error",
     "traceback": [
      "\u001b[1;31m---------------------------------------------------------------------------\u001b[0m",
      "\u001b[1;31mValueError\u001b[0m                                Traceback (most recent call last)",
      "Cell \u001b[1;32mIn[59], line 1\u001b[0m\n\u001b[1;32m----> 1\u001b[0m Li\u001b[38;5;241m.\u001b[39mindex(\u001b[38;5;241m34\u001b[39m)\n",
      "\u001b[1;31mValueError\u001b[0m: 34 is not in list"
     ]
    }
   ],
   "source": [
    "Li.index(34)"
   ]
  },
  {
   "cell_type": "code",
   "execution_count": null,
   "id": "f11fba9b",
   "metadata": {},
   "outputs": [],
   "source": []
  },
  {
   "cell_type": "code",
   "execution_count": 8,
   "id": "0693edcc",
   "metadata": {},
   "outputs": [
    {
     "data": {
      "text/plain": [
       "'Adam Is A Good Man'"
      ]
     },
     "execution_count": 8,
     "metadata": {},
     "output_type": "execute_result"
    }
   ],
   "source": [
    "\n",
    "# Quick exercise\n",
    "\n",
    "str = \"Adam is a good man\"\n",
    "str\n",
    "str.title()\n",
    "# w/o using title function let's do the same thing - "
   ]
  },
  {
   "cell_type": "code",
   "execution_count": 16,
   "id": "647c750d",
   "metadata": {},
   "outputs": [
    {
     "name": "stdout",
     "output_type": "stream",
     "text": [
      "Adam\n",
      "Is\n",
      "A\n",
      "Good\n",
      "Man\n",
      "Adam Is A Good Man\n",
      "final string is Adam Is A Good Man\n"
     ]
    }
   ],
   "source": [
    "\n",
    "str.split() # now it is a list of each word - string to list\n",
    "str[0]\n",
    "str\n",
    "s = str.split()\n",
    "s\n",
    "\n",
    "for i in s:\n",
    "    print(i.capitalize())\n",
    "\n",
    "# Now let's convert it back to string\n",
    "new_list = []\n",
    "for i in s:\n",
    "    new_list.append(i.capitalize())\n",
    "\n",
    "new_list\n",
    "print(\" \".join(new_list))\n",
    "\n",
    "print(f\"final string is {' '.join(new_list)}\")"
   ]
  },
  {
   "cell_type": "code",
   "execution_count": 17,
   "id": "7d077292",
   "metadata": {},
   "outputs": [],
   "source": [
    "# Now we have our title function task achieved w/o it"
   ]
  },
  {
   "cell_type": "code",
   "execution_count": null,
   "id": "e91154a6",
   "metadata": {},
   "outputs": [],
   "source": []
  },
  {
   "cell_type": "code",
   "execution_count": 18,
   "id": "b56d0194",
   "metadata": {},
   "outputs": [
    {
     "data": {
      "text/plain": [
       "'abc'"
      ]
     },
     "execution_count": 18,
     "metadata": {},
     "output_type": "execute_result"
    }
   ],
   "source": [
    "# Exercise 2:\n",
    "s = \"abc@gamil.com\"\n",
    "# find the characters before @\n",
    "position = s.find(\"@\")\n",
    "position\n",
    "s[0:position]\n",
    "\n",
    "# way 2\n",
    "s.split(\"@\")\n",
    "s.split(\"@\")[0]"
   ]
  },
  {
   "cell_type": "code",
   "execution_count": null,
   "id": "969e3073",
   "metadata": {},
   "outputs": [],
   "source": []
  },
  {
   "cell_type": "code",
   "execution_count": 19,
   "id": "69f7894f",
   "metadata": {},
   "outputs": [
    {
     "name": "stdout",
     "output_type": "stream",
     "text": [
      "[1, 2, 4, 3, 5, 6]\n"
     ]
    },
    {
     "data": {
      "text/plain": [
       "{1, 2, 3, 4, 5, 6}"
      ]
     },
     "execution_count": 19,
     "metadata": {},
     "output_type": "execute_result"
    }
   ],
   "source": [
    "# Exercise 3: remove dups from a list\n",
    "l = [1,2,4,1,3,5,6,3,1,2]\n",
    "l\n",
    "# way 1 \n",
    "l1 = [] # empty list\n",
    "for i in l:\n",
    "    if i not in l1:\n",
    "        l1.append(i)\n",
    "\n",
    "print(l1)\n",
    "\n",
    "# way 2\n",
    "set(l)"
   ]
  },
  {
   "cell_type": "code",
   "execution_count": null,
   "id": "71850728",
   "metadata": {},
   "outputs": [],
   "source": []
  },
  {
   "cell_type": "code",
   "execution_count": null,
   "id": "d2f31c3f",
   "metadata": {},
   "outputs": [],
   "source": []
  },
  {
   "cell_type": "markdown",
   "id": "7a6cffb3",
   "metadata": {},
   "source": [
    "## List comprehensions"
   ]
  },
  {
   "cell_type": "code",
   "execution_count": 58,
   "id": "c9dc6ce4",
   "metadata": {},
   "outputs": [
    {
     "data": {
      "text/plain": [
       "[2, 4, 6, 8, 10]"
      ]
     },
     "execution_count": 58,
     "metadata": {},
     "output_type": "execute_result"
    }
   ],
   "source": [
    "Li = [1,2,3,4,5,6,7,8,9,10]\n",
    "\n",
    "l = [i for i in Li if i%2==0]\n",
    "l"
   ]
  },
  {
   "cell_type": "code",
   "execution_count": null,
   "id": "7c2851c2",
   "metadata": {},
   "outputs": [],
   "source": []
  }
 ],
 "metadata": {
  "kernelspec": {
   "display_name": "Python 3 (ipykernel)",
   "language": "python",
   "name": "python3"
  },
  "language_info": {
   "codemirror_mode": {
    "name": "ipython",
    "version": 3
   },
   "file_extension": ".py",
   "mimetype": "text/x-python",
   "name": "python",
   "nbconvert_exporter": "python",
   "pygments_lexer": "ipython3",
   "version": "3.11.5"
  }
 },
 "nbformat": 4,
 "nbformat_minor": 5
}
