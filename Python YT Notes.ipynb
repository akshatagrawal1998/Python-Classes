{
 "cells": [
  {
   "cell_type": "markdown",
   "id": "472992d8",
   "metadata": {},
   "source": [
    "## Python Tutorial"
   ]
  },
  {
   "cell_type": "code",
   "execution_count": null,
   "id": "4da76653",
   "metadata": {},
   "outputs": [],
   "source": []
  },
  {
   "cell_type": "code",
   "execution_count": 3,
   "id": "df49ce00",
   "metadata": {},
   "outputs": [
    {
     "name": "stdout",
     "output_type": "stream",
     "text": [
      "5\n",
      "<class 'int'>\n",
      "140735413326760\n"
     ]
    }
   ],
   "source": [
    "# int a = 5\n",
    "a = 5 # dynamic typing \n",
    "print(a)\n",
    "print(type(a))\n",
    "print(id(a))"
   ]
  },
  {
   "cell_type": "code",
   "execution_count": 4,
   "id": "f87b2efc",
   "metadata": {},
   "outputs": [
    {
     "name": "stdout",
     "output_type": "stream",
     "text": [
      "Python\n",
      "<class 'str'>\n",
      "140735412069200\n"
     ]
    }
   ],
   "source": [
    "x = 'Python'\n",
    "print(x)\n",
    "print(type(x))\n",
    "print(id(x))"
   ]
  },
  {
   "cell_type": "code",
   "execution_count": 5,
   "id": "e209d19b",
   "metadata": {},
   "outputs": [
    {
     "name": "stdout",
     "output_type": "stream",
     "text": [
      "5\n",
      "<class 'int'>\n",
      "140735413326760\n",
      "5\n",
      "<class 'str'>\n",
      "2280545686704\n",
      "5.0\n",
      "<class 'float'>\n",
      "2280528951280\n"
     ]
    }
   ],
   "source": [
    "# type casting - change the type from one to another\n",
    "\n",
    "a = 5\n",
    "b = str(a)  # '5'\n",
    "c = float(a)\n",
    "\n",
    "print(a)\n",
    "print(type(a))\n",
    "print(id(a))\n",
    "\n",
    "print(b)\n",
    "print(type(b))\n",
    "print(id(b))\n",
    "\n",
    "print(c)\n",
    "print(type(c))\n",
    "print(id(c))"
   ]
  },
  {
   "cell_type": "code",
   "execution_count": 6,
   "id": "d73b1b48",
   "metadata": {},
   "outputs": [
    {
     "ename": "ValueError",
     "evalue": "invalid literal for int() with base 10: 'Akshat'",
     "output_type": "error",
     "traceback": [
      "\u001b[1;31m---------------------------------------------------------------------------\u001b[0m",
      "\u001b[1;31mValueError\u001b[0m                                Traceback (most recent call last)",
      "Cell \u001b[1;32mIn[6], line 2\u001b[0m\n\u001b[0;32m      1\u001b[0m s \u001b[38;5;241m=\u001b[39m \u001b[38;5;124m'\u001b[39m\u001b[38;5;124mAkshat\u001b[39m\u001b[38;5;124m'\u001b[39m\n\u001b[1;32m----> 2\u001b[0m \u001b[38;5;28mprint\u001b[39m(\u001b[38;5;28mint\u001b[39m(s))\n\u001b[0;32m      4\u001b[0m \u001b[38;5;28mprint\u001b[39m(\u001b[38;5;28mfloat\u001b[39m(s))\n",
      "\u001b[1;31mValueError\u001b[0m: invalid literal for int() with base 10: 'Akshat'"
     ]
    }
   ],
   "source": [
    "s = 'Akshat'\n",
    "print(int(s))\n",
    "\n",
    "print(float(s))"
   ]
  },
  {
   "cell_type": "code",
   "execution_count": 7,
   "id": "0c58c70c",
   "metadata": {},
   "outputs": [
    {
     "data": {
      "text/plain": [
       "int"
      ]
     },
     "execution_count": 7,
     "metadata": {},
     "output_type": "execute_result"
    }
   ],
   "source": [
    "# Datatypes - type of data stored in a variable\n",
    "\n",
    "x=5\n",
    "type(x)"
   ]
  },
  {
   "cell_type": "markdown",
   "id": "c4ee8438",
   "metadata": {},
   "source": [
    "# Strings in Python"
   ]
  },
  {
   "cell_type": "code",
   "execution_count": 101,
   "id": "2af13593",
   "metadata": {},
   "outputs": [],
   "source": [
    "x = 'Ak'"
   ]
  },
  {
   "cell_type": "code",
   "execution_count": 102,
   "id": "ac188587",
   "metadata": {},
   "outputs": [
    {
     "data": {
      "text/plain": [
       "3"
      ]
     },
     "execution_count": 102,
     "metadata": {},
     "output_type": "execute_result"
    }
   ],
   "source": [
    "x.count('')"
   ]
  },
  {
   "cell_type": "code",
   "execution_count": 97,
   "id": "d1aeca16",
   "metadata": {},
   "outputs": [
    {
     "data": {
      "text/plain": [
       "9"
      ]
     },
     "execution_count": 97,
     "metadata": {},
     "output_type": "execute_result"
    }
   ],
   "source": [
    "len(x)"
   ]
  },
  {
   "cell_type": "code",
   "execution_count": 92,
   "id": "42c7f39c",
   "metadata": {},
   "outputs": [
    {
     "data": {
      "text/plain": [
       "6"
      ]
     },
     "execution_count": 92,
     "metadata": {},
     "output_type": "execute_result"
    }
   ],
   "source": [
    "x.count('a')"
   ]
  },
  {
   "cell_type": "code",
   "execution_count": 9,
   "id": "36ab0861",
   "metadata": {},
   "outputs": [
    {
     "data": {
      "text/plain": [
       "str"
      ]
     },
     "execution_count": 9,
     "metadata": {},
     "output_type": "execute_result"
    }
   ],
   "source": [
    "y = \"\"\"Akshat is a boy. \n",
    "        He is a Data Analyst\"\"\"\n",
    "\n",
    "type(y)"
   ]
  },
  {
   "cell_type": "code",
   "execution_count": 21,
   "id": "609824f3",
   "metadata": {},
   "outputs": [
    {
     "name": "stdout",
     "output_type": "stream",
     "text": [
      "n\n",
      "chi\n"
     ]
    }
   ],
   "source": [
    "m = \"Akshat's profession is Teaching\"\n",
    "type(m)\n",
    "\n",
    "print(m[-2])\n",
    "\n",
    "print(m[-5:-2])"
   ]
  },
  {
   "cell_type": "code",
   "execution_count": 14,
   "id": "8f7e37bd",
   "metadata": {},
   "outputs": [
    {
     "name": "stdout",
     "output_type": "stream",
     "text": [
      "r\n"
     ]
    }
   ],
   "source": [
    "print(m[10])"
   ]
  },
  {
   "cell_type": "code",
   "execution_count": 15,
   "id": "f606f2a6",
   "metadata": {},
   "outputs": [
    {
     "name": "stdout",
     "output_type": "stream",
     "text": [
      "shat'\n"
     ]
    }
   ],
   "source": [
    "print(m[2:7]) # slicing -> substring "
   ]
  },
  {
   "cell_type": "code",
   "execution_count": 16,
   "id": "242f7cee",
   "metadata": {},
   "outputs": [
    {
     "name": "stdout",
     "output_type": "stream",
     "text": [
      "sa' rfs\n"
     ]
    }
   ],
   "source": [
    "print(m[2:16:2])"
   ]
  },
  {
   "cell_type": "code",
   "execution_count": 17,
   "id": "adea3e56",
   "metadata": {},
   "outputs": [
    {
     "name": "stdout",
     "output_type": "stream",
     "text": [
      "st oso\n"
     ]
    }
   ],
   "source": [
    "print(m[2:20:3])"
   ]
  },
  {
   "cell_type": "code",
   "execution_count": 19,
   "id": "14bf78f4",
   "metadata": {},
   "outputs": [
    {
     "name": "stdout",
     "output_type": "stream",
     "text": [
      "shat's profession is Teaching\n",
      "Akshat's professi\n",
      "Akshat's professi\n"
     ]
    }
   ],
   "source": [
    "print(m[2:])\n",
    "\n",
    "print(m[:17])\n",
    "\n",
    "print(m[0:17])"
   ]
  },
  {
   "cell_type": "code",
   "execution_count": 23,
   "id": "29ade599",
   "metadata": {},
   "outputs": [
    {
     "ename": "TypeError",
     "evalue": "'str' object does not support item assignment",
     "output_type": "error",
     "traceback": [
      "\u001b[1;31m---------------------------------------------------------------------------\u001b[0m",
      "\u001b[1;31mTypeError\u001b[0m                                 Traceback (most recent call last)",
      "Cell \u001b[1;32mIn[23], line 2\u001b[0m\n\u001b[0;32m      1\u001b[0m x \u001b[38;5;241m=\u001b[39m \u001b[38;5;124m'\u001b[39m\u001b[38;5;124mPython\u001b[39m\u001b[38;5;124m'\u001b[39m\n\u001b[1;32m----> 2\u001b[0m x[\u001b[38;5;241m0\u001b[39m] \u001b[38;5;241m=\u001b[39m \u001b[38;5;124m'\u001b[39m\u001b[38;5;124mX\u001b[39m\u001b[38;5;124m'\u001b[39m\n\u001b[0;32m      3\u001b[0m \u001b[38;5;28mprint\u001b[39m(x)\n",
      "\u001b[1;31mTypeError\u001b[0m: 'str' object does not support item assignment"
     ]
    }
   ],
   "source": [
    "x = 'Python'\n",
    "x[0] = 'X'\n",
    "print(x)"
   ]
  },
  {
   "cell_type": "code",
   "execution_count": 29,
   "id": "fa05258f",
   "metadata": {},
   "outputs": [
    {
     "name": "stdout",
     "output_type": "stream",
     "text": [
      "akshat\n"
     ]
    }
   ],
   "source": [
    "x = 'Akshat'\n",
    "print(x.lower())"
   ]
  },
  {
   "cell_type": "code",
   "execution_count": 27,
   "id": "37633e19",
   "metadata": {},
   "outputs": [
    {
     "name": "stdout",
     "output_type": "stream",
     "text": [
      "AKSHAT\n"
     ]
    }
   ],
   "source": [
    "x = x.upper()\n",
    "print(x)"
   ]
  },
  {
   "cell_type": "code",
   "execution_count": 26,
   "id": "4c022e2c",
   "metadata": {},
   "outputs": [
    {
     "data": {
      "text/plain": [
       "'Akshat'"
      ]
     },
     "execution_count": 26,
     "metadata": {},
     "output_type": "execute_result"
    }
   ],
   "source": [
    "x"
   ]
  },
  {
   "cell_type": "code",
   "execution_count": 28,
   "id": "18989d00",
   "metadata": {},
   "outputs": [
    {
     "name": "stdout",
     "output_type": "stream",
     "text": [
      "python\n",
      "python\n"
     ]
    }
   ],
   "source": [
    "y = \"python\"\n",
    "print(y)\n",
    "y.upper()\n",
    "print(y)"
   ]
  },
  {
   "cell_type": "code",
   "execution_count": 30,
   "id": "8bf4d38a",
   "metadata": {},
   "outputs": [
    {
     "data": {
      "text/plain": [
       "\"Akshat'S Profession Is Teaching\""
      ]
     },
     "execution_count": 30,
     "metadata": {},
     "output_type": "execute_result"
    }
   ],
   "source": [
    "m = \"Akshat's profession is Teaching\"\n",
    "m.title()"
   ]
  },
  {
   "cell_type": "code",
   "execution_count": 31,
   "id": "95558595",
   "metadata": {},
   "outputs": [
    {
     "data": {
      "text/plain": [
       "\"Akshat's profession is teaching\""
      ]
     },
     "execution_count": 31,
     "metadata": {},
     "output_type": "execute_result"
    }
   ],
   "source": [
    "m.capitalize()"
   ]
  },
  {
   "cell_type": "code",
   "execution_count": 36,
   "id": "e8b717a7",
   "metadata": {},
   "outputs": [
    {
     "data": {
      "text/plain": [
       "-1"
      ]
     },
     "execution_count": 36,
     "metadata": {},
     "output_type": "execute_result"
    }
   ],
   "source": [
    "m.find('x')"
   ]
  },
  {
   "cell_type": "code",
   "execution_count": 39,
   "id": "2ea87c65",
   "metadata": {},
   "outputs": [
    {
     "data": {
      "text/plain": [
       "[\"Akshat's\", 'profession', 'is', 'Teaching']"
      ]
     },
     "execution_count": 39,
     "metadata": {},
     "output_type": "execute_result"
    }
   ],
   "source": [
    "m.split()"
   ]
  },
  {
   "cell_type": "code",
   "execution_count": 40,
   "id": "873fa82c",
   "metadata": {},
   "outputs": [
    {
     "data": {
      "text/plain": [
       "'Akshat    is  a data   analyst'"
      ]
     },
     "execution_count": 40,
     "metadata": {},
     "output_type": "execute_result"
    }
   ],
   "source": [
    "x = 'Akshat    is  a data   analyst   '\n",
    "x.strip()"
   ]
  },
  {
   "cell_type": "markdown",
   "id": "b50b5fa7",
   "metadata": {},
   "source": [
    "## User Input"
   ]
  },
  {
   "cell_type": "code",
   "execution_count": 44,
   "id": "c58df21e",
   "metadata": {},
   "outputs": [
    {
     "name": "stdout",
     "output_type": "stream",
     "text": [
      "11\n"
     ]
    }
   ],
   "source": [
    "a = 5\n",
    "b = 6\n",
    "print(a+b)"
   ]
  },
  {
   "cell_type": "code",
   "execution_count": 56,
   "id": "c5c4c2c7",
   "metadata": {},
   "outputs": [
    {
     "name": "stdout",
     "output_type": "stream",
     "text": [
      "Enter a number \n",
      "7\n",
      "Enter a number \n",
      "8\n",
      "7\n",
      "<class 'int'>\n",
      "8.0\n",
      "<class 'int'>\n",
      "<class 'float'>\n",
      "You have entered  7 and 8.0\n",
      "You have entered 7 and 8.0\n",
      "You have entered 7 and 8.0\n"
     ]
    }
   ],
   "source": [
    "a = int(input(\"Enter a number \\n\")) # default type is string\n",
    "b = float(input(\"Enter a number \\n\"))\n",
    "\n",
    "print(a)\n",
    "print(type(a))\n",
    "\n",
    "print(b)\n",
    "print(type(int(b)))\n",
    "print(type(b))\n",
    "\n",
    "print(\"You have entered \",a, \"and\", b)\n",
    "\n",
    "print(f\"You have entered {a} and {b}\")\n",
    "\n",
    "d = f\"You have entered {a} and {b}\"\n",
    "print(d)"
   ]
  },
  {
   "cell_type": "code",
   "execution_count": 52,
   "id": "5b2aab05",
   "metadata": {},
   "outputs": [
    {
     "name": "stdout",
     "output_type": "stream",
     "text": [
      "Enter first name akshat\n",
      "Enter last name agrawal\n",
      "akshat agrawal\n"
     ]
    }
   ],
   "source": [
    "x = input(\"Enter first name \")\n",
    "y = input(\"Enter last name \")\n",
    "\n",
    "print(x+\" \"+y)"
   ]
  },
  {
   "cell_type": "code",
   "execution_count": null,
   "id": "de9092df",
   "metadata": {},
   "outputs": [],
   "source": []
  },
  {
   "cell_type": "markdown",
   "id": "c13b90cd",
   "metadata": {},
   "source": [
    "## Operators"
   ]
  },
  {
   "cell_type": "code",
   "execution_count": 57,
   "id": "afe2a3ad",
   "metadata": {},
   "outputs": [
    {
     "name": "stdout",
     "output_type": "stream",
     "text": [
      "13\n",
      "7\n",
      "30\n",
      "1000\n",
      "3.3333333333333335\n",
      "1\n",
      "3\n"
     ]
    }
   ],
   "source": [
    "a = 10\n",
    "b = 3\n",
    "\n",
    "print(a+b)\n",
    "print(a-b)\n",
    "print(a*b)\n",
    "\n",
    "print(a**b)\n",
    "print(10/3)\n",
    "\n",
    "print(10%3)\n",
    "print(10//3)"
   ]
  },
  {
   "cell_type": "code",
   "execution_count": null,
   "id": "1f1bd3f2",
   "metadata": {},
   "outputs": [],
   "source": []
  },
  {
   "cell_type": "code",
   "execution_count": 59,
   "id": "9aa94244",
   "metadata": {},
   "outputs": [
    {
     "name": "stdout",
     "output_type": "stream",
     "text": [
      "14\n"
     ]
    }
   ],
   "source": [
    "a = 4 # assignment\n",
    "a = a+5\n",
    "\n",
    "a += 5  \n",
    "print(a)"
   ]
  },
  {
   "cell_type": "code",
   "execution_count": 61,
   "id": "7d18146c",
   "metadata": {},
   "outputs": [
    {
     "name": "stdout",
     "output_type": "stream",
     "text": [
      "True\n",
      "True\n",
      "False\n",
      "False\n",
      "True\n",
      "False\n"
     ]
    }
   ],
   "source": [
    "print(a > b)\n",
    "\n",
    "print(a>=b)\n",
    "\n",
    "print(a<b)\n",
    "print(a<= b)\n",
    "\n",
    "\n",
    "print(a!=b)\n",
    "print(a == b) # == is for comparision, = is for assignment "
   ]
  },
  {
   "cell_type": "code",
   "execution_count": 62,
   "id": "9ff7eaf3",
   "metadata": {},
   "outputs": [
    {
     "data": {
      "text/plain": [
       "\"Akshat's profession is Teaching\""
      ]
     },
     "execution_count": 62,
     "metadata": {},
     "output_type": "execute_result"
    }
   ],
   "source": [
    "m "
   ]
  },
  {
   "cell_type": "code",
   "execution_count": 65,
   "id": "42bc158f",
   "metadata": {},
   "outputs": [
    {
     "data": {
      "text/plain": [
       "True"
      ]
     },
     "execution_count": 65,
     "metadata": {},
     "output_type": "execute_result"
    }
   ],
   "source": [
    "'iss' not in m"
   ]
  },
  {
   "cell_type": "code",
   "execution_count": 68,
   "id": "391a7e4d",
   "metadata": {},
   "outputs": [
    {
     "name": "stdout",
     "output_type": "stream",
     "text": [
      "Enter marks in English 76\n",
      "Enter your attendance 89\n",
      "Pass\n"
     ]
    }
   ],
   "source": [
    "# and, or, not\n",
    "\n",
    "# if you score above 75 in English and your attendance is above 80 then Pass otherwise Fail\n",
    "\n",
    "eng_marks = float(input(\"Enter marks in English \"))\n",
    "attendance = int(input(\"Enter your attendance \"))\n",
    "\n",
    "if eng_marks >= 75 and attendance >= 80:\n",
    "    print(\"Pass\")\n",
    "else:\n",
    "    print(\"Fail\")\n"
   ]
  },
  {
   "cell_type": "code",
   "execution_count": 67,
   "id": "fb19902e",
   "metadata": {},
   "outputs": [
    {
     "data": {
      "text/plain": [
       "False"
      ]
     },
     "execution_count": 67,
     "metadata": {},
     "output_type": "execute_result"
    }
   ],
   "source": [
    "not(10>5)"
   ]
  },
  {
   "cell_type": "code",
   "execution_count": 72,
   "id": "57ab5f59",
   "metadata": {},
   "outputs": [
    {
     "name": "stdout",
     "output_type": "stream",
     "text": [
      "140735413326792\n",
      "140735413326824\n",
      "False\n",
      "True\n",
      "False\n"
     ]
    }
   ],
   "source": [
    "a= 6\n",
    "b = 7\n",
    "\n",
    "print(id(a))\n",
    "print(id(b))\n",
    "\n",
    "print(a is b) # identity operators compares by their address \n",
    "\n",
    "print(a is not b)\n",
    "print(id(a) == id(b))"
   ]
  },
  {
   "cell_type": "code",
   "execution_count": 73,
   "id": "0657bbdb",
   "metadata": {},
   "outputs": [
    {
     "name": "stdout",
     "output_type": "stream",
     "text": [
      "140735413326760\n",
      "140735413326760\n",
      "True\n",
      "False\n"
     ]
    }
   ],
   "source": [
    "a = 5\n",
    "b = a\n",
    "\n",
    "print(id(a))\n",
    "print(id(b))\n",
    "\n",
    "print(a is b) # identity operators compares by their address \n",
    "\n",
    "print(a is not b)"
   ]
  },
  {
   "cell_type": "code",
   "execution_count": null,
   "id": "c50f9315",
   "metadata": {},
   "outputs": [],
   "source": []
  },
  {
   "cell_type": "code",
   "execution_count": null,
   "id": "f49a5e65",
   "metadata": {},
   "outputs": [],
   "source": []
  },
  {
   "cell_type": "code",
   "execution_count": 77,
   "id": "9f3439ab",
   "metadata": {},
   "outputs": [
    {
     "name": "stdout",
     "output_type": "stream",
     "text": [
      "Enter your age 12\n"
     ]
    }
   ],
   "source": [
    "age = int(input(\"Enter your age \"))\n",
    "if age >= 18:\n",
    "    print(\"Inside IF\")\n",
    "    print(\"Allowed to vote\")"
   ]
  },
  {
   "cell_type": "code",
   "execution_count": 78,
   "id": "fd811b3d",
   "metadata": {},
   "outputs": [
    {
     "name": "stdout",
     "output_type": "stream",
     "text": [
      "Enter your age 12\n",
      "Not allowed to vote\n"
     ]
    }
   ],
   "source": [
    "age = int(input(\"Enter your age \"))\n",
    "if age >= 18:\n",
    "    print(\"Inside IF\")\n",
    "    print(\"Allowed to vote\")\n",
    "    \n",
    "else: \n",
    "    print(\"Not allowed to vote\")"
   ]
  },
  {
   "cell_type": "markdown",
   "id": "b12862c7",
   "metadata": {},
   "source": [
    "marks > 90 - 'A+'\n",
    "\n",
    "marks between 70 to 90 then 'B+'\n",
    "marks between 35 to 70 then 'C+'\n",
    "\n",
    "marks < 35 - Fail"
   ]
  },
  {
   "cell_type": "code",
   "execution_count": 85,
   "id": "93498c6d",
   "metadata": {},
   "outputs": [
    {
     "name": "stdout",
     "output_type": "stream",
     "text": [
      "Enter your marks akshat\n"
     ]
    },
    {
     "ename": "ValueError",
     "evalue": "could not convert string to float: 'akshat'",
     "output_type": "error",
     "traceback": [
      "\u001b[1;31m---------------------------------------------------------------------------\u001b[0m",
      "\u001b[1;31mValueError\u001b[0m                                Traceback (most recent call last)",
      "Cell \u001b[1;32mIn[85], line 1\u001b[0m\n\u001b[1;32m----> 1\u001b[0m marks \u001b[38;5;241m=\u001b[39m \u001b[38;5;28mfloat\u001b[39m(\u001b[38;5;28minput\u001b[39m(\u001b[38;5;124m\"\u001b[39m\u001b[38;5;124mEnter your marks \u001b[39m\u001b[38;5;124m\"\u001b[39m))\n\u001b[0;32m      3\u001b[0m \u001b[38;5;28;01mif\u001b[39;00m marks \u001b[38;5;241m>\u001b[39m\u001b[38;5;241m=\u001b[39m \u001b[38;5;241m90\u001b[39m:\n\u001b[0;32m      4\u001b[0m     \u001b[38;5;28mprint\u001b[39m(\u001b[38;5;124m\"\u001b[39m\u001b[38;5;124mYour grade is A+ as your marks is \u001b[39m\u001b[38;5;124m\"\u001b[39m, marks)\n",
      "\u001b[1;31mValueError\u001b[0m: could not convert string to float: 'akshat'"
     ]
    }
   ],
   "source": [
    "marks = float(input(\"Enter your marks \"))\n",
    "\n",
    "if marks >= 90:\n",
    "    print(\"Your grade is A+ as your marks is \", marks)\n",
    "    \n",
    "elif (70 < marks <= 90):\n",
    "    print(\"Your grade is B+ as your marks is \", marks)\n",
    "\n",
    "elif (marks > 35 and marks <= 70) :\n",
    "    print(\"Your grade is C+ as your marks is \", marks)\n",
    "    \n",
    "else:\n",
    "    print(\"Fail\")"
   ]
  },
  {
   "cell_type": "code",
   "execution_count": null,
   "id": "0ec0cd68",
   "metadata": {},
   "outputs": [],
   "source": []
  },
  {
   "cell_type": "code",
   "execution_count": 90,
   "id": "99c647fb",
   "metadata": {},
   "outputs": [
    {
     "name": "stdout",
     "output_type": "stream",
     "text": [
      "Enter your marks 34\n",
      "Fail\n"
     ]
    }
   ],
   "source": [
    "marks = float(input(\"Enter your marks \"))\n",
    "\n",
    "if marks <= 100:\n",
    "    \n",
    "    if marks >= 90:\n",
    "        print(\"Your grade is A+ as your marks is \", marks)\n",
    "\n",
    "    elif (70 < marks <= 90):\n",
    "        print(\"Your grade is B+ as your marks is \", marks)\n",
    "\n",
    "    elif (marks > 35 and marks <= 70) :\n",
    "        print(\"Your grade is C+ as your marks is \", marks)\n",
    "\n",
    "    else:\n",
    "        print(\"Fail\")\n",
    "        \n",
    "else :\n",
    "    print(\"Marks can't be above 100\")"
   ]
  },
  {
   "cell_type": "code",
   "execution_count": 103,
   "id": "be8431c7",
   "metadata": {},
   "outputs": [
    {
     "name": "stdout",
     "output_type": "stream",
     "text": [
      "140735413326760\n",
      "140735413326760\n"
     ]
    }
   ],
   "source": [
    "a = 5\n",
    "b = a\n",
    "\n",
    "print(id(a))\n",
    "print(id(b))"
   ]
  },
  {
   "cell_type": "code",
   "execution_count": 104,
   "id": "a05f84fb",
   "metadata": {},
   "outputs": [
    {
     "name": "stdout",
     "output_type": "stream",
     "text": [
      "2\n",
      "4\n",
      "6\n",
      "8\n",
      "10\n",
      "12\n",
      "14\n",
      "16\n",
      "18\n",
      "20\n",
      "22\n",
      "26\n",
      "28\n",
      "30\n",
      "32\n",
      "34\n",
      "36\n",
      "38\n",
      "40\n",
      "42\n",
      "44\n",
      "46\n",
      "48\n",
      "50\n",
      "52\n",
      "54\n",
      "56\n",
      "58\n",
      "60\n",
      "62\n",
      "64\n",
      "66\n",
      "68\n",
      "70\n",
      "72\n",
      "74\n",
      "76\n",
      "78\n",
      "80\n",
      "82\n",
      "84\n",
      "86\n",
      "88\n",
      "90\n",
      "92\n",
      "94\n",
      "96\n",
      "98\n",
      "100\n"
     ]
    }
   ],
   "source": [
    "for i in range(1,101):\n",
    "    if i % 2 == 0:\n",
    "        if i == 24:\n",
    "            continue\n",
    "        print(i)"
   ]
  },
  {
   "cell_type": "code",
   "execution_count": 107,
   "id": "e647a67f",
   "metadata": {},
   "outputs": [
    {
     "name": "stdout",
     "output_type": "stream",
     "text": [
      "2\n",
      "4\n",
      "6\n",
      "8\n",
      "10\n",
      "12\n",
      "14\n",
      "16\n",
      "18\n",
      "20\n",
      "22\n",
      "24\n",
      "26\n",
      "28\n",
      "30\n",
      "32\n",
      "34\n",
      "36\n",
      "38\n",
      "40\n",
      "42\n",
      "44\n",
      "46\n",
      "48\n",
      "50\n",
      "52\n",
      "54\n",
      "56\n",
      "58\n",
      "60\n",
      "62\n",
      "64\n",
      "66\n",
      "68\n",
      "70\n",
      "72\n",
      "74\n",
      "76\n",
      "78\n",
      "80\n",
      "82\n",
      "84\n",
      "86\n",
      "88\n",
      "90\n",
      "92\n",
      "94\n",
      "96\n",
      "98\n",
      "100\n"
     ]
    }
   ],
   "source": [
    "i = 1\n",
    "while i<=100:\n",
    "    i+=1\n",
    "    if i%2 == 0:\n",
    "        print(i)\n",
    "    if i == 24:\n",
    "        continue\n",
    "    "
   ]
  },
  {
   "cell_type": "code",
   "execution_count": null,
   "id": "54cf0e16",
   "metadata": {},
   "outputs": [],
   "source": []
  }
 ],
 "metadata": {
  "kernelspec": {
   "display_name": "Python 3 (ipykernel)",
   "language": "python",
   "name": "python3"
  },
  "language_info": {
   "codemirror_mode": {
    "name": "ipython",
    "version": 3
   },
   "file_extension": ".py",
   "mimetype": "text/x-python",
   "name": "python",
   "nbconvert_exporter": "python",
   "pygments_lexer": "ipython3",
   "version": "3.11.5"
  }
 },
 "nbformat": 4,
 "nbformat_minor": 5
}
