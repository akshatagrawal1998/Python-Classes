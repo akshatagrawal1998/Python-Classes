{
 "cells": [
  {
   "cell_type": "code",
   "execution_count": null,
   "id": "4f324178",
   "metadata": {},
   "outputs": [],
   "source": []
  },
  {
   "cell_type": "code",
   "execution_count": 5,
   "id": "01cfe0f6",
   "metadata": {},
   "outputs": [
    {
     "name": "stdout",
     "output_type": "stream",
     "text": [
      "[1, 2, 3, 4, 5, 6, 7, 8, 9]\n"
     ]
    }
   ],
   "source": [
    "print(list(range(1,10,1)))"
   ]
  },
  {
   "cell_type": "code",
   "execution_count": 6,
   "id": "40ff95ae",
   "metadata": {},
   "outputs": [
    {
     "name": "stdout",
     "output_type": "stream",
     "text": [
      "[1, 3, 5, 7, 9]\n"
     ]
    }
   ],
   "source": [
    "print(list(range(1,10,2)))"
   ]
  },
  {
   "cell_type": "code",
   "execution_count": 7,
   "id": "234742db",
   "metadata": {},
   "outputs": [
    {
     "name": "stdout",
     "output_type": "stream",
     "text": [
      "[1, 4, 7, 10, 13, 16, 19]\n"
     ]
    }
   ],
   "source": [
    "print(list(range(1,20,3)))"
   ]
  },
  {
   "cell_type": "code",
   "execution_count": 8,
   "id": "9261aa4b",
   "metadata": {},
   "outputs": [
    {
     "name": "stdout",
     "output_type": "stream",
     "text": [
      "1\n",
      "2\n",
      "3\n",
      "4\n",
      "5\n",
      "6\n",
      "7\n",
      "8\n",
      "9\n"
     ]
    }
   ],
   "source": [
    "for i in range(1,10):\n",
    "    print(i)"
   ]
  },
  {
   "cell_type": "code",
   "execution_count": 12,
   "id": "d3aa9c39",
   "metadata": {},
   "outputs": [
    {
     "name": "stdout",
     "output_type": "stream",
     "text": [
      "Even Numbers from 1 to 20 are:\n",
      "\n",
      "2\n",
      "Even Numbers from 1 to 20 are:\n",
      "\n",
      "4\n",
      "Even Numbers from 1 to 20 are:\n",
      "\n",
      "6\n",
      "Even Numbers from 1 to 20 are:\n",
      "\n",
      "8\n",
      "Even Numbers from 1 to 20 are:\n",
      "\n",
      "10\n",
      "Even Numbers from 1 to 20 are:\n",
      "\n",
      "12\n",
      "Even Numbers from 1 to 20 are:\n",
      "\n",
      "14\n",
      "Even Numbers from 1 to 20 are:\n",
      "\n",
      "16\n",
      "Even Numbers from 1 to 20 are:\n",
      "\n",
      "18\n",
      "Even Numbers from 1 to 20 are:\n",
      "\n",
      "20\n"
     ]
    }
   ],
   "source": [
    "for i in range(1,21):\n",
    "    if i%2==0:\n",
    "        print(\"Even Numbers from 1 to 20 are:\\n\")\n",
    "        print(i)"
   ]
  },
  {
   "cell_type": "code",
   "execution_count": null,
   "id": "784c569f",
   "metadata": {},
   "outputs": [],
   "source": []
  }
 ],
 "metadata": {
  "kernelspec": {
   "display_name": "Python 3 (ipykernel)",
   "language": "python",
   "name": "python3"
  },
  "language_info": {
   "codemirror_mode": {
    "name": "ipython",
    "version": 3
   },
   "file_extension": ".py",
   "mimetype": "text/x-python",
   "name": "python",
   "nbconvert_exporter": "python",
   "pygments_lexer": "ipython3",
   "version": "3.11.5"
  }
 },
 "nbformat": 4,
 "nbformat_minor": 5
}
