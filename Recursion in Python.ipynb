{
 "cells": [
  {
   "cell_type": "code",
   "execution_count": null,
   "id": "3110a3a8",
   "metadata": {},
   "outputs": [],
   "source": []
  },
  {
   "cell_type": "markdown",
   "id": "b9b05277",
   "metadata": {},
   "source": [
    "## Recursion in Python\n",
    "\n",
    "### Example code for Recursion"
   ]
  },
  {
   "cell_type": "code",
   "execution_count": null,
   "id": "a11e4725",
   "metadata": {},
   "outputs": [],
   "source": []
  },
  {
   "cell_type": "code",
   "execution_count": null,
   "id": "d09e9059",
   "metadata": {},
   "outputs": [],
   "source": [
    "def func(param):\n",
    "    \n",
    "    param+=1\n",
    "    ..\n",
    "    func(param-1)\n",
    "    return func(param-1)"
   ]
  },
  {
   "cell_type": "code",
   "execution_count": 3,
   "id": "56cb032f",
   "metadata": {},
   "outputs": [],
   "source": [
    "# factorial \n",
    "\"\"\"\n",
    "7! = 7*6*5*4*3*2*1\n",
    "   = 7*6!\n",
    "   = 7*6*5!\n",
    "   = 7*6*5*4!\n",
    "   = 7*6*5*4*3!\n",
    "   = 7*6*5*4*3*2!\n",
    "   = = 7*6*5*4*3*2*1!\n",
    "\"\"\"\n",
    "\n",
    "def factorial(n):\n",
    "    if n==1 or n==0:\n",
    "        return 1\n",
    "    else:\n",
    "        return n*factorial(n-1)\n",
    "\n"
   ]
  },
  {
   "cell_type": "code",
   "execution_count": 4,
   "id": "9b6add7c",
   "metadata": {},
   "outputs": [
    {
     "data": {
      "text/plain": [
       "5040"
      ]
     },
     "execution_count": 4,
     "metadata": {},
     "output_type": "execute_result"
    }
   ],
   "source": [
    "factorial(7)"
   ]
  },
  {
   "cell_type": "code",
   "execution_count": null,
   "id": "009fa0c7",
   "metadata": {},
   "outputs": [],
   "source": []
  },
  {
   "cell_type": "code",
   "execution_count": 10,
   "id": "40b7cef0",
   "metadata": {},
   "outputs": [],
   "source": [
    "#  5! = 5*4*3*2*1\n",
    "\n",
    "# 6! = 6*5*4*3*2*1\n",
    "# 6! = 6*5!\n",
    "# 6! = 6*5*4!  =  6*5*4*3!  = 6*5*4*3*2!   == 6*5*4*3*2*1!\n",
    "\n",
    "# 1!= 1*1 = 1, \n",
    "# also 0! = 1"
   ]
  },
  {
   "cell_type": "code",
   "execution_count": 16,
   "id": "f4b81685",
   "metadata": {},
   "outputs": [
    {
     "name": "stdout",
     "output_type": "stream",
     "text": [
      "5040\n"
     ]
    }
   ],
   "source": [
    "# Factorial Calculation:\n",
    "# factorial - 7 = 7*6*5*4*3*2*1  = 7*factorial(6) = 7*6*factorial(5) = 7*6*5*factorial(4)\n",
    "# factorial 0 = 1\n",
    "\n",
    "def fact(n):\n",
    "    if n == 0:\n",
    "        return 1\n",
    "    else:\n",
    "        return n * fact(n - 1)\n",
    "\n",
    "print(fact(7))"
   ]
  },
  {
   "cell_type": "code",
   "execution_count": null,
   "id": "22016dff",
   "metadata": {},
   "outputs": [],
   "source": []
  },
  {
   "cell_type": "code",
   "execution_count": 4,
   "id": "ff388fc3",
   "metadata": {},
   "outputs": [
    {
     "name": "stdout",
     "output_type": "stream",
     "text": [
      "8\n"
     ]
    }
   ],
   "source": [
    "# Fibonacci Sequence:\n",
    "\n",
    "def fibonacci(n):\n",
    "    if n <= 1:\n",
    "        return n\n",
    "    else:\n",
    "        return fibonacci(n - 1) + fibonacci(n - 2)\n",
    "\n",
    "print(fibonacci(6))"
   ]
  },
  {
   "cell_type": "code",
   "execution_count": 19,
   "id": "9cf6af71",
   "metadata": {},
   "outputs": [
    {
     "name": "stdout",
     "output_type": "stream",
     "text": [
      "2\n",
      "[5, 8, 23, 6]\n",
      "<class 'list'>\n"
     ]
    }
   ],
   "source": [
    "l = [2,5,8,23,6]\n",
    "print(l[0])\n",
    "print(l[1:])\n",
    "print(type(l))"
   ]
  },
  {
   "cell_type": "code",
   "execution_count": 7,
   "id": "22d023a2",
   "metadata": {},
   "outputs": [
    {
     "name": "stdout",
     "output_type": "stream",
     "text": [
      "The sum of elements of the list is 21\n"
     ]
    }
   ],
   "source": [
    "sum = 0\n",
    "for i in [1,2,3,4,5,6]:\n",
    "    sum = sum + i\n",
    "    \n",
    "print(\"The sum of elements of the list is\", sum)"
   ]
  },
  {
   "cell_type": "code",
   "execution_count": null,
   "id": "a2eabb44",
   "metadata": {},
   "outputs": [],
   "source": []
  },
  {
   "cell_type": "code",
   "execution_count": 6,
   "id": "b3b1e2ff",
   "metadata": {},
   "outputs": [
    {
     "name": "stdout",
     "output_type": "stream",
     "text": [
      "51\n"
     ]
    }
   ],
   "source": [
    "# Sum of a List:\n",
    "\n",
    "def sum_list(lst):\n",
    "    if not lst:\n",
    "        return 0\n",
    "    else:\n",
    "        return lst[0] + sum_list(lst[1:])   # 1+sum_list([2,3,4,5])  => 1+2+[sum_list([3,4,5])] => 1+2+3+sum_list([4,5])\n",
    "\n",
    "print(sum_list([1, 2, 3, 40, 5]))"
   ]
  },
  {
   "cell_type": "code",
   "execution_count": 2,
   "id": "09692143",
   "metadata": {},
   "outputs": [
    {
     "name": "stdout",
     "output_type": "stream",
     "text": [
      "8\n"
     ]
    }
   ],
   "source": [
    "# Power Calculation:\n",
    "\n",
    "def power(base, exponent):\n",
    "    if exponent == 0:\n",
    "        return 1\n",
    "    else:\n",
    "        return base * power(base, exponent - 1)\n",
    "\n",
    "print(power(2, 3)) "
   ]
  },
  {
   "cell_type": "code",
   "execution_count": 6,
   "id": "8e871b81",
   "metadata": {},
   "outputs": [
    {
     "name": "stdout",
     "output_type": "stream",
     "text": [
      "olleh\n"
     ]
    }
   ],
   "source": [
    "# String Reversal:\n",
    "\n",
    "def reverse_string(s):\n",
    "    if len(s) == 0:\n",
    "        return s\n",
    "    else:\n",
    "        return reverse_string(s[1:]) + s[0]\n",
    "\n",
    "print(reverse_string(\"hello\")) "
   ]
  },
  {
   "cell_type": "code",
   "execution_count": 7,
   "id": "2650d69c",
   "metadata": {},
   "outputs": [
    {
     "name": "stdout",
     "output_type": "stream",
     "text": [
      "5\n"
     ]
    }
   ],
   "source": [
    "# Counting Digits:\n",
    "\n",
    "def count_digits(n):\n",
    "    if n == 0:\n",
    "        return 0\n",
    "    else:\n",
    "        return 1 + count_digits(n // 10)\n",
    "\n",
    "print(count_digits(12345))"
   ]
  },
  {
   "cell_type": "code",
   "execution_count": 8,
   "id": "e7817d4a",
   "metadata": {},
   "outputs": [
    {
     "name": "stdout",
     "output_type": "stream",
     "text": [
      "15\n"
     ]
    }
   ],
   "source": [
    "# Sum of Digits:\n",
    "\n",
    "def sum_of_digits(n):\n",
    "    if n == 0:\n",
    "        return 0\n",
    "    else:\n",
    "        return n % 10 + sum_of_digits(n // 10)\n",
    "\n",
    "print(sum_of_digits(12345))"
   ]
  },
  {
   "cell_type": "code",
   "execution_count": 9,
   "id": "ec87697c",
   "metadata": {},
   "outputs": [
    {
     "name": "stdout",
     "output_type": "stream",
     "text": [
      "True\n"
     ]
    }
   ],
   "source": [
    "# Palindrome Check:\n",
    "\n",
    "def is_palindrome(s):\n",
    "    if len(s) <= 1:\n",
    "        return True\n",
    "    if s[0] != s[-1]:\n",
    "        return False\n",
    "    return is_palindrome(s[1:-1])\n",
    "\n",
    "print(is_palindrome(\"radar\"))"
   ]
  },
  {
   "cell_type": "code",
   "execution_count": null,
   "id": "b3cc4553",
   "metadata": {},
   "outputs": [],
   "source": []
  },
  {
   "cell_type": "markdown",
   "id": "18636603",
   "metadata": {},
   "source": [
    "## Below are few more examples. Try to understand and practice them as well!"
   ]
  },
  {
   "cell_type": "code",
   "execution_count": null,
   "id": "e73d9337",
   "metadata": {},
   "outputs": [],
   "source": [
    "#  Greatest Common Divisor (GCD):\n",
    "\n",
    "def gcd(a, b):\n",
    "    if b == 0:\n",
    "        return a\n",
    "    else:\n",
    "        return gcd(b, a % b)\n",
    "\n",
    "print(gcd(48, 18))  # Output: 6\n",
    "\n",
    "  # Output: 5\n",
    "\n",
    "\n",
    "  # Output: 15\n",
    "\n",
    "\n",
    "# Binary Search:\n",
    "\n",
    "def binary_search(arr, target, low, high):\n",
    "    if low > high:\n",
    "        return -1\n",
    "    mid = (low + high) // 2\n",
    "    if arr[mid] == target:\n",
    "        return mid\n",
    "    elif arr[mid] < target:\n",
    "        return binary_search(arr, target, mid + 1, high)\n",
    "    else:\n",
    "        return binary_search(arr, target, low, mid - 1)\n",
    "\n",
    "arr = [1, 2, 3, 4, 5, 6, 7, 8, 9]\n",
    "print(binary_search(arr, 6, 0, len(arr) - 1))  \n",
    " \n",
    "\n",
    "\n",
    "# Permutations:\n",
    "\n",
    "def permutations(s):\n",
    "    if len(s) == 1:\n",
    "        return [s]\n",
    "    perms = []\n",
    "    for i, char in enumerate(s):\n",
    "        remaining = s[:i] + s[i+1:]\n",
    "        for perm in permutations(remaining):\n",
    "            perms.append(char + perm)\n",
    "    return perms\n",
    "\n",
    "print(permutations(\"abc\"))\n",
    "\n",
    "\n",
    "# Ackermann Function:\n",
    "\n",
    "\n",
    "def ackermann(m, n):\n",
    "    if m == 0:\n",
    "        return n + 1\n",
    "    if n == 0:\n",
    "        return ackermann(m - 1, 1)\n",
    "    return ackermann(m - 1, ackermann(m, n - 1))\n",
    "\n",
    "print(ackermann(3, 4))\n",
    "\n",
    "# Recursive Factorial with Memoization:\n",
    "\n",
    "def factorial(n, memo={}):\n",
    "    if n in memo:\n",
    "        return memo[n]\n",
    "    if n == 0:\n",
    "        return 1\n",
    "    else:\n",
    "        result = n * factorial(n - 1, memo)\n",
    "        memo[n] = result\n",
    "        return result\n",
    "\n",
    "print(factorial(5)) \n",
    "\n",
    "\n",
    "# Recursive List Flattening:\n",
    "\n",
    "def flatten_list(lst):\n",
    "    flat = []\n",
    "    for item in lst:\n",
    "        if isinstance(item, list):\n",
    "            flat.extend(flatten_list(item))\n",
    "        else:\n",
    "            flat.append(item)\n",
    "    return flat\n",
    "\n",
    "nested_list = [1, [2, 3, [4, 5]], 6, [7, 8]]\n",
    "print(flatten_list(nested_list))\n"
   ]
  },
  {
   "cell_type": "code",
   "execution_count": null,
   "id": "3da44498",
   "metadata": {},
   "outputs": [],
   "source": []
  },
  {
   "cell_type": "code",
   "execution_count": null,
   "id": "55612ac1",
   "metadata": {},
   "outputs": [],
   "source": []
  }
 ],
 "metadata": {
  "kernelspec": {
   "display_name": "Python 3 (ipykernel)",
   "language": "python",
   "name": "python3"
  },
  "language_info": {
   "codemirror_mode": {
    "name": "ipython",
    "version": 3
   },
   "file_extension": ".py",
   "mimetype": "text/x-python",
   "name": "python",
   "nbconvert_exporter": "python",
   "pygments_lexer": "ipython3",
   "version": "3.11.5"
  }
 },
 "nbformat": 4,
 "nbformat_minor": 5
}
